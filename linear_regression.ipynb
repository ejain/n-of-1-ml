{
 "cells": [
  {
   "cell_type": "code",
   "execution_count": 1,
   "metadata": {},
   "outputs": [
    {
     "name": "stderr",
     "output_type": "stream",
     "text": [
      "Using TensorFlow backend.\n"
     ]
    }
   ],
   "source": [
    "import numpy as np\n",
    "import pandas as pd\n",
    "import keras\n",
    "import altair as alt\n",
    "\n",
    "from datetime import datetime\n",
    "from sklearn.linear_model import LinearRegression\n",
    "from sklearn import preprocessing\n",
    "from keras.models import Sequential\n",
    "from keras.layers import Dense"
   ]
  },
  {
   "cell_type": "code",
   "execution_count": 2,
   "metadata": {},
   "outputs": [
    {
     "data": {
      "text/html": [
       "<div>\n",
       "<style scoped>\n",
       "    .dataframe tbody tr th:only-of-type {\n",
       "        vertical-align: middle;\n",
       "    }\n",
       "\n",
       "    .dataframe tbody tr th {\n",
       "        vertical-align: top;\n",
       "    }\n",
       "\n",
       "    .dataframe thead th {\n",
       "        text-align: right;\n",
       "    }\n",
       "</style>\n",
       "<table border=\"1\" class=\"dataframe\">\n",
       "  <thead>\n",
       "    <tr style=\"text-align: right;\">\n",
       "      <th></th>\n",
       "      <th>percentage</th>\n",
       "      <th>weight</th>\n",
       "    </tr>\n",
       "  </thead>\n",
       "  <tbody>\n",
       "    <tr>\n",
       "      <th>0</th>\n",
       "      <td>13.096</td>\n",
       "      <td>73.00</td>\n",
       "    </tr>\n",
       "    <tr>\n",
       "      <th>1</th>\n",
       "      <td>12.846</td>\n",
       "      <td>71.80</td>\n",
       "    </tr>\n",
       "    <tr>\n",
       "      <th>2</th>\n",
       "      <td>13.669</td>\n",
       "      <td>71.45</td>\n",
       "    </tr>\n",
       "    <tr>\n",
       "      <th>3</th>\n",
       "      <td>12.693</td>\n",
       "      <td>71.00</td>\n",
       "    </tr>\n",
       "    <tr>\n",
       "      <th>4</th>\n",
       "      <td>13.438</td>\n",
       "      <td>71.45</td>\n",
       "    </tr>\n",
       "  </tbody>\n",
       "</table>\n",
       "</div>"
      ],
      "text/plain": [
       "   percentage  weight\n",
       "0      13.096   73.00\n",
       "1      12.846   71.80\n",
       "2      13.669   71.45\n",
       "3      12.693   71.00\n",
       "4      13.438   71.45"
      ]
     },
     "execution_count": 2,
     "metadata": {},
     "output_type": "execute_result"
    }
   ],
   "source": [
    "df = pd.read_csv('data/weight.csv', usecols=[ 1, 3 ]).rename(columns = { 'weight.@value' : 'weight' }).dropna()\n",
    "df.head()"
   ]
  },
  {
   "cell_type": "code",
   "execution_count": 3,
   "metadata": {},
   "outputs": [
    {
     "data": {
      "text/html": [
       "<div>\n",
       "<style scoped>\n",
       "    .dataframe tbody tr th:only-of-type {\n",
       "        vertical-align: middle;\n",
       "    }\n",
       "\n",
       "    .dataframe tbody tr th {\n",
       "        vertical-align: top;\n",
       "    }\n",
       "\n",
       "    .dataframe thead th {\n",
       "        text-align: right;\n",
       "    }\n",
       "</style>\n",
       "<table border=\"1\" class=\"dataframe\">\n",
       "  <thead>\n",
       "    <tr style=\"text-align: right;\">\n",
       "      <th></th>\n",
       "      <th>percentage</th>\n",
       "      <th>weight</th>\n",
       "      <th>weight_scaled</th>\n",
       "      <th>percentage_scaled</th>\n",
       "    </tr>\n",
       "  </thead>\n",
       "  <tbody>\n",
       "    <tr>\n",
       "      <th>0</th>\n",
       "      <td>13.096</td>\n",
       "      <td>73.00</td>\n",
       "      <td>0.461538</td>\n",
       "      <td>0.480678</td>\n",
       "    </tr>\n",
       "    <tr>\n",
       "      <th>1</th>\n",
       "      <td>12.846</td>\n",
       "      <td>71.80</td>\n",
       "      <td>0.319527</td>\n",
       "      <td>0.439915</td>\n",
       "    </tr>\n",
       "    <tr>\n",
       "      <th>2</th>\n",
       "      <td>13.669</td>\n",
       "      <td>71.45</td>\n",
       "      <td>0.278107</td>\n",
       "      <td>0.574107</td>\n",
       "    </tr>\n",
       "    <tr>\n",
       "      <th>3</th>\n",
       "      <td>12.693</td>\n",
       "      <td>71.00</td>\n",
       "      <td>0.224852</td>\n",
       "      <td>0.414968</td>\n",
       "    </tr>\n",
       "    <tr>\n",
       "      <th>4</th>\n",
       "      <td>13.438</td>\n",
       "      <td>71.45</td>\n",
       "      <td>0.278107</td>\n",
       "      <td>0.536442</td>\n",
       "    </tr>\n",
       "  </tbody>\n",
       "</table>\n",
       "</div>"
      ],
      "text/plain": [
       "   percentage  weight  weight_scaled  percentage_scaled\n",
       "0      13.096   73.00       0.461538           0.480678\n",
       "1      12.846   71.80       0.319527           0.439915\n",
       "2      13.669   71.45       0.278107           0.574107\n",
       "3      12.693   71.00       0.224852           0.414968\n",
       "4      13.438   71.45       0.278107           0.536442"
      ]
     },
     "execution_count": 3,
     "metadata": {},
     "output_type": "execute_result"
    }
   ],
   "source": [
    "X_scaler = preprocessing.MinMaxScaler()\n",
    "Y_scaler = preprocessing.MinMaxScaler()\n",
    "\n",
    "df['weight_scaled'] = X_scaler.fit_transform(df[['weight']])\n",
    "df['percentage_scaled'] = Y_scaler.fit_transform(df[['percentage']])\n",
    "df.head()"
   ]
  },
  {
   "cell_type": "code",
   "execution_count": 4,
   "metadata": {},
   "outputs": [
    {
     "name": "stdout",
     "output_type": "stream",
     "text": [
      "Train on 1491 samples, validate on 373 samples\n",
      "Epoch 1/50\n",
      "1491/1491 [==============================] - 0s 88us/step - loss: 0.1736 - val_loss: 0.4195\n",
      "Epoch 2/50\n",
      "1491/1491 [==============================] - 0s 16us/step - loss: 0.1457 - val_loss: 0.3695\n",
      "Epoch 3/50\n",
      "1491/1491 [==============================] - 0s 21us/step - loss: 0.1227 - val_loss: 0.3236\n",
      "Epoch 4/50\n",
      "1491/1491 [==============================] - 0s 19us/step - loss: 0.1021 - val_loss: 0.2813\n",
      "Epoch 5/50\n",
      "1491/1491 [==============================] - 0s 19us/step - loss: 0.0840 - val_loss: 0.2420\n",
      "Epoch 6/50\n",
      "1491/1491 [==============================] - 0s 18us/step - loss: 0.0679 - val_loss: 0.2060\n",
      "Epoch 7/50\n",
      "1491/1491 [==============================] - 0s 19us/step - loss: 0.0542 - val_loss: 0.1744\n",
      "Epoch 8/50\n",
      "1491/1491 [==============================] - 0s 19us/step - loss: 0.0427 - val_loss: 0.1443\n",
      "Epoch 9/50\n",
      "1491/1491 [==============================] - 0s 17us/step - loss: 0.0332 - val_loss: 0.1184\n",
      "Epoch 10/50\n",
      "1491/1491 [==============================] - 0s 21us/step - loss: 0.0259 - val_loss: 0.0955\n",
      "Epoch 11/50\n",
      "1491/1491 [==============================] - 0s 18us/step - loss: 0.0207 - val_loss: 0.0764\n",
      "Epoch 12/50\n",
      "1491/1491 [==============================] - 0s 19us/step - loss: 0.0174 - val_loss: 0.0609\n",
      "Epoch 13/50\n",
      "1491/1491 [==============================] - 0s 17us/step - loss: 0.0157 - val_loss: 0.0509\n",
      "Epoch 14/50\n",
      "1491/1491 [==============================] - 0s 17us/step - loss: 0.0148 - val_loss: 0.0448\n",
      "Epoch 15/50\n",
      "1491/1491 [==============================] - 0s 17us/step - loss: 0.0142 - val_loss: 0.0432\n",
      "Epoch 16/50\n",
      "1491/1491 [==============================] - 0s 19us/step - loss: 0.0136 - val_loss: 0.0414\n",
      "Epoch 17/50\n",
      "1491/1491 [==============================] - 0s 18us/step - loss: 0.0129 - val_loss: 0.0388\n",
      "Epoch 18/50\n",
      "1491/1491 [==============================] - 0s 19us/step - loss: 0.0123 - val_loss: 0.0359\n",
      "Epoch 19/50\n",
      "1491/1491 [==============================] - 0s 17us/step - loss: 0.0118 - val_loss: 0.0353\n",
      "Epoch 20/50\n",
      "1491/1491 [==============================] - 0s 18us/step - loss: 0.0113 - val_loss: 0.0325\n",
      "Epoch 21/50\n",
      "1491/1491 [==============================] - 0s 19us/step - loss: 0.0109 - val_loss: 0.0304\n",
      "Epoch 22/50\n",
      "1491/1491 [==============================] - 0s 20us/step - loss: 0.0104 - val_loss: 0.0296\n",
      "Epoch 23/50\n",
      "1491/1491 [==============================] - 0s 19us/step - loss: 0.0100 - val_loss: 0.0283\n",
      "Epoch 24/50\n",
      "1491/1491 [==============================] - 0s 19us/step - loss: 0.0096 - val_loss: 0.0264\n",
      "Epoch 25/50\n",
      "1491/1491 [==============================] - 0s 18us/step - loss: 0.0093 - val_loss: 0.0253\n",
      "Epoch 26/50\n",
      "1491/1491 [==============================] - 0s 20us/step - loss: 0.0090 - val_loss: 0.0242\n",
      "Epoch 27/50\n",
      "1491/1491 [==============================] - 0s 18us/step - loss: 0.0087 - val_loss: 0.0223\n",
      "Epoch 28/50\n",
      "1491/1491 [==============================] - 0s 17us/step - loss: 0.0084 - val_loss: 0.0230\n",
      "Epoch 29/50\n",
      "1491/1491 [==============================] - 0s 20us/step - loss: 0.0082 - val_loss: 0.0225\n",
      "Epoch 30/50\n",
      "1491/1491 [==============================] - 0s 23us/step - loss: 0.0080 - val_loss: 0.0201\n",
      "Epoch 31/50\n",
      "1491/1491 [==============================] - 0s 21us/step - loss: 0.0079 - val_loss: 0.0193\n",
      "Epoch 32/50\n",
      "1491/1491 [==============================] - 0s 17us/step - loss: 0.0077 - val_loss: 0.0205\n",
      "Epoch 33/50\n",
      "1491/1491 [==============================] - 0s 15us/step - loss: 0.0076 - val_loss: 0.0184\n",
      "Epoch 34/50\n",
      "1491/1491 [==============================] - 0s 19us/step - loss: 0.0075 - val_loss: 0.0181\n",
      "Epoch 35/50\n",
      "1491/1491 [==============================] - 0s 18us/step - loss: 0.0074 - val_loss: 0.0172\n",
      "Epoch 36/50\n",
      "1491/1491 [==============================] - 0s 21us/step - loss: 0.0074 - val_loss: 0.0168\n",
      "Epoch 37/50\n",
      "1491/1491 [==============================] - 0s 17us/step - loss: 0.0073 - val_loss: 0.0164\n",
      "Epoch 38/50\n",
      "1491/1491 [==============================] - 0s 20us/step - loss: 0.0073 - val_loss: 0.0164\n",
      "Epoch 39/50\n",
      "1491/1491 [==============================] - 0s 19us/step - loss: 0.0072 - val_loss: 0.0158\n",
      "Epoch 40/50\n",
      "1491/1491 [==============================] - 0s 22us/step - loss: 0.0072 - val_loss: 0.0156\n",
      "Epoch 41/50\n",
      "1491/1491 [==============================] - 0s 15us/step - loss: 0.0072 - val_loss: 0.0150\n",
      "Epoch 42/50\n",
      "1491/1491 [==============================] - 0s 19us/step - loss: 0.0072 - val_loss: 0.0152\n",
      "Epoch 43/50\n",
      "1491/1491 [==============================] - 0s 19us/step - loss: 0.0072 - val_loss: 0.0153\n",
      "Epoch 44/50\n",
      "1491/1491 [==============================] - 0s 15us/step - loss: 0.0072 - val_loss: 0.0154\n",
      "Epoch 45/50\n",
      "1491/1491 [==============================] - 0s 20us/step - loss: 0.0071 - val_loss: 0.0144\n",
      "Epoch 46/50\n",
      "1491/1491 [==============================] - 0s 20us/step - loss: 0.0071 - val_loss: 0.0146\n",
      "Epoch 47/50\n",
      "1491/1491 [==============================] - 0s 15us/step - loss: 0.0071 - val_loss: 0.0149\n",
      "Epoch 48/50\n",
      "1491/1491 [==============================] - 0s 17us/step - loss: 0.0071 - val_loss: 0.0147\n",
      "Epoch 49/50\n",
      "1491/1491 [==============================] - 0s 17us/step - loss: 0.0071 - val_loss: 0.0142\n",
      "Epoch 50/50\n",
      "1491/1491 [==============================] - 0s 16us/step - loss: 0.0071 - val_loss: 0.0139\n"
     ]
    },
    {
     "data": {
      "text/plain": [
       "<keras.callbacks.History at 0x12860b86f60>"
      ]
     },
     "execution_count": 4,
     "metadata": {},
     "output_type": "execute_result"
    }
   ],
   "source": [
    "model = Sequential()\n",
    "model.add(Dense(input_dim = 1, kernel_initializer = \"normal\", activation = \"linear\", units = 1))\n",
    "model.compile(loss = \"mean_squared_error\", optimizer = \"rmsprop\")\n",
    "model.fit(df['weight_scaled'], df['percentage_scaled'], epochs = 50, batch_size = 64, validation_split = 0.2, verbose = True)"
   ]
  },
  {
   "cell_type": "code",
   "execution_count": 5,
   "metadata": {},
   "outputs": [
    {
     "data": {
      "text/html": [
       "<div>\n",
       "<style scoped>\n",
       "    .dataframe tbody tr th:only-of-type {\n",
       "        vertical-align: middle;\n",
       "    }\n",
       "\n",
       "    .dataframe tbody tr th {\n",
       "        vertical-align: top;\n",
       "    }\n",
       "\n",
       "    .dataframe thead th {\n",
       "        text-align: right;\n",
       "    }\n",
       "</style>\n",
       "<table border=\"1\" class=\"dataframe\">\n",
       "  <thead>\n",
       "    <tr style=\"text-align: right;\">\n",
       "      <th></th>\n",
       "      <th>percentage</th>\n",
       "      <th>weight</th>\n",
       "      <th>weight_scaled</th>\n",
       "      <th>percentage_scaled</th>\n",
       "      <th>percentage_tf</th>\n",
       "    </tr>\n",
       "  </thead>\n",
       "  <tbody>\n",
       "    <tr>\n",
       "      <th>0</th>\n",
       "      <td>13.096</td>\n",
       "      <td>73.00</td>\n",
       "      <td>0.461538</td>\n",
       "      <td>0.480678</td>\n",
       "      <td>13.072135</td>\n",
       "    </tr>\n",
       "    <tr>\n",
       "      <th>1</th>\n",
       "      <td>12.846</td>\n",
       "      <td>71.80</td>\n",
       "      <td>0.319527</td>\n",
       "      <td>0.439915</td>\n",
       "      <td>12.356209</td>\n",
       "    </tr>\n",
       "    <tr>\n",
       "      <th>2</th>\n",
       "      <td>13.669</td>\n",
       "      <td>71.45</td>\n",
       "      <td>0.278107</td>\n",
       "      <td>0.574107</td>\n",
       "      <td>12.147397</td>\n",
       "    </tr>\n",
       "    <tr>\n",
       "      <th>3</th>\n",
       "      <td>12.693</td>\n",
       "      <td>71.00</td>\n",
       "      <td>0.224852</td>\n",
       "      <td>0.414968</td>\n",
       "      <td>11.878925</td>\n",
       "    </tr>\n",
       "    <tr>\n",
       "      <th>4</th>\n",
       "      <td>13.438</td>\n",
       "      <td>71.45</td>\n",
       "      <td>0.278107</td>\n",
       "      <td>0.536442</td>\n",
       "      <td>12.147397</td>\n",
       "    </tr>\n",
       "  </tbody>\n",
       "</table>\n",
       "</div>"
      ],
      "text/plain": [
       "   percentage  weight  weight_scaled  percentage_scaled  percentage_tf\n",
       "0      13.096   73.00       0.461538           0.480678      13.072135\n",
       "1      12.846   71.80       0.319527           0.439915      12.356209\n",
       "2      13.669   71.45       0.278107           0.574107      12.147397\n",
       "3      12.693   71.00       0.224852           0.414968      11.878925\n",
       "4      13.438   71.45       0.278107           0.536442      12.147397"
      ]
     },
     "execution_count": 5,
     "metadata": {},
     "output_type": "execute_result"
    }
   ],
   "source": [
    "(slope, intercept) = [weight[0].flatten()[0] for weight in model.get_weights()]\n",
    "df['percentage_tf'] = Y_scaler.inverse_transform(X_scaler.transform([df.weight]) * slope + intercept)[0]\n",
    "df.head()"
   ]
  },
  {
   "cell_type": "code",
   "execution_count": 6,
   "metadata": {},
   "outputs": [
    {
     "data": {
      "text/html": [
       "<div>\n",
       "<style scoped>\n",
       "    .dataframe tbody tr th:only-of-type {\n",
       "        vertical-align: middle;\n",
       "    }\n",
       "\n",
       "    .dataframe tbody tr th {\n",
       "        vertical-align: top;\n",
       "    }\n",
       "\n",
       "    .dataframe thead th {\n",
       "        text-align: right;\n",
       "    }\n",
       "</style>\n",
       "<table border=\"1\" class=\"dataframe\">\n",
       "  <thead>\n",
       "    <tr style=\"text-align: right;\">\n",
       "      <th></th>\n",
       "      <th>percentage</th>\n",
       "      <th>weight</th>\n",
       "      <th>weight_scaled</th>\n",
       "      <th>percentage_scaled</th>\n",
       "      <th>percentage_tf</th>\n",
       "      <th>percentage_np</th>\n",
       "    </tr>\n",
       "  </thead>\n",
       "  <tbody>\n",
       "    <tr>\n",
       "      <th>0</th>\n",
       "      <td>13.096</td>\n",
       "      <td>73.00</td>\n",
       "      <td>0.461538</td>\n",
       "      <td>0.480678</td>\n",
       "      <td>13.072135</td>\n",
       "      <td>13.143897</td>\n",
       "    </tr>\n",
       "    <tr>\n",
       "      <th>1</th>\n",
       "      <td>12.846</td>\n",
       "      <td>71.80</td>\n",
       "      <td>0.319527</td>\n",
       "      <td>0.439915</td>\n",
       "      <td>12.356209</td>\n",
       "      <td>12.370352</td>\n",
       "    </tr>\n",
       "    <tr>\n",
       "      <th>2</th>\n",
       "      <td>13.669</td>\n",
       "      <td>71.45</td>\n",
       "      <td>0.278107</td>\n",
       "      <td>0.574107</td>\n",
       "      <td>12.147397</td>\n",
       "      <td>12.144735</td>\n",
       "    </tr>\n",
       "    <tr>\n",
       "      <th>3</th>\n",
       "      <td>12.693</td>\n",
       "      <td>71.00</td>\n",
       "      <td>0.224852</td>\n",
       "      <td>0.414968</td>\n",
       "      <td>11.878925</td>\n",
       "      <td>11.854656</td>\n",
       "    </tr>\n",
       "    <tr>\n",
       "      <th>4</th>\n",
       "      <td>13.438</td>\n",
       "      <td>71.45</td>\n",
       "      <td>0.278107</td>\n",
       "      <td>0.536442</td>\n",
       "      <td>12.147397</td>\n",
       "      <td>12.144735</td>\n",
       "    </tr>\n",
       "  </tbody>\n",
       "</table>\n",
       "</div>"
      ],
      "text/plain": [
       "   percentage  weight  weight_scaled  percentage_scaled  percentage_tf  \\\n",
       "0      13.096   73.00       0.461538           0.480678      13.072135   \n",
       "1      12.846   71.80       0.319527           0.439915      12.356209   \n",
       "2      13.669   71.45       0.278107           0.574107      12.147397   \n",
       "3      12.693   71.00       0.224852           0.414968      11.878925   \n",
       "4      13.438   71.45       0.278107           0.536442      12.147397   \n",
       "\n",
       "   percentage_np  \n",
       "0      13.143897  \n",
       "1      12.370352  \n",
       "2      12.144735  \n",
       "3      11.854656  \n",
       "4      12.144735  "
      ]
     },
     "execution_count": 6,
     "metadata": {},
     "output_type": "execute_result"
    }
   ],
   "source": [
    "(slope, intercept) = np.polyfit(df.weight.values, df.percentage.values, 1)\n",
    "df['percentage_np'] = df.weight * slope + intercept\n",
    "df.head()"
   ]
  },
  {
   "cell_type": "code",
   "execution_count": 7,
   "metadata": {},
   "outputs": [
    {
     "data": {
      "application/vnd.vegalite.v2+json": {
       "$schema": "https://vega.github.io/schema/vega-lite/v2.6.0.json",
       "config": {
        "view": {
         "height": 300,
         "width": 400
        }
       },
       "datasets": {
        "data-407bab02fab6fb2925ca0e20e467bbe8": [
         {
          "percentage": 13.095999999999998,
          "percentage_np": 13.143897216122625,
          "percentage_scaled": 0.4806782977335724,
          "percentage_tf": 13.072134999862085,
          "weight": 73,
          "weight_scaled": 0.4615384615384617
         },
         {
          "percentage": 12.845999999999998,
          "percentage_np": 12.370352470644896,
          "percentage_scaled": 0.43991521278330326,
          "percentage_tf": 12.356209100469334,
          "weight": 71.8,
          "weight_scaled": 0.3195266272189361
         },
         {
          "percentage": 13.669,
          "percentage_np": 12.144735253213895,
          "percentage_scaled": 0.5741072884395895,
          "percentage_tf": 12.147397379813116,
          "weight": 71.45,
          "weight_scaled": 0.27810650887574084
         },
         {
          "percentage": 12.693,
          "percentage_np": 11.854655973659746,
          "percentage_scaled": 0.4149682047937391,
          "percentage_tf": 11.87892516754083,
          "weight": 71,
          "weight_scaled": 0.22485207100591786
         },
         {
          "percentage": 13.437999999999999,
          "percentage_np": 12.144735253213895,
          "percentage_scaled": 0.5364421979455403,
          "percentage_tf": 12.147397379813116,
          "weight": 71.45,
          "weight_scaled": 0.27810650887574084
         },
         {
          "percentage": 12.918,
          "percentage_np": 12.660431750199045,
          "percentage_scaled": 0.45165498124898096,
          "percentage_tf": 12.624681312741613,
          "weight": 72.25,
          "weight_scaled": 0.3727810650887573
         },
         {
          "percentage": 12.302,
          "percentage_np": 12.724893812322186,
          "percentage_scaled": 0.3512147399315182,
          "percentage_tf": 12.684341804357677,
          "weight": 72.35,
          "weight_scaled": 0.384615384615385
         },
         {
          "percentage": 13.12,
          "percentage_np": 12.660431750199045,
          "percentage_scaled": 0.48459155388879815,
          "percentage_tf": 12.624681312741613,
          "weight": 72.25,
          "weight_scaled": 0.3727810650887573
         },
         {
          "percentage": 12.939,
          "percentage_np": 12.628200719137475,
          "percentage_scaled": 0.4550790803848035,
          "percentage_tf": 12.594851066933588,
          "weight": 72.2,
          "weight_scaled": 0.3668639053254452
         },
         {
          "percentage": 12.606,
          "percentage_np": 12.467045563829615,
          "percentage_scaled": 0.4007826512310453,
          "percentage_tf": 12.445699837893425,
          "weight": 71.95,
          "weight_scaled": 0.3372781065088759
         },
         {
          "percentage": 13.235999999999999,
          "percentage_np": 12.434814532768044,
          "percentage_scaled": 0.5035056253057231,
          "percentage_tf": 12.4158695920854,
          "weight": 71.9,
          "weight_scaled": 0.3313609467455638
         },
         {
          "percentage": 13.41,
          "percentage_np": 12.467045563829615,
          "percentage_scaled": 0.5318767324311107,
          "percentage_tf": 12.445699837893425,
          "weight": 71.95,
          "weight_scaled": 0.3372781065088759
         },
         {
          "percentage": 12.314,
          "percentage_np": 12.563738657014326,
          "percentage_scaled": 0.35317136800913107,
          "percentage_tf": 12.535190575317515,
          "weight": 72.1,
          "weight_scaled": 0.3550295857988157
         },
         {
          "percentage": 13.667,
          "percentage_np": 12.467045563829615,
          "percentage_scaled": 0.5737811837599869,
          "percentage_tf": 12.445699837893425,
          "weight": 71.95,
          "weight_scaled": 0.3372781065088759
         },
         {
          "percentage": 12.907,
          "percentage_np": 12.789355874445334,
          "percentage_scaled": 0.44986140551116915,
          "percentage_tf": 12.744002295973743,
          "weight": 72.45,
          "weight_scaled": 0.39644970414201275
         },
         {
          "percentage": 14.224,
          "percentage_np": 12.241428346398607,
          "percentage_scaled": 0.6646013370291868,
          "percentage_tf": 12.236888117237203,
          "weight": 71.6,
          "weight_scaled": 0.29585798816568065
         },
         {
          "percentage": 13.578,
          "percentage_np": 12.144735253213895,
          "percentage_scaled": 0.5592695255176914,
          "percentage_tf": 12.147397379813116,
          "weight": 71.45,
          "weight_scaled": 0.27810650887574084
         },
         {
          "percentage": 12.785,
          "percentage_np": 12.886048967630046,
          "percentage_scaled": 0.4299690200554378,
          "percentage_tf": 12.833493033397831,
          "weight": 72.6,
          "weight_scaled": 0.41420118343195256
         },
         {
          "percentage": 12.981,
          "percentage_np": 12.370352470644896,
          "percentage_scaled": 0.461927278656449,
          "percentage_tf": 12.356209100469334,
          "weight": 71.8,
          "weight_scaled": 0.3195266272189361
         },
         {
          "percentage": 13.23,
          "percentage_np": 12.563738657014326,
          "percentage_scaled": 0.5025273112669171,
          "percentage_tf": 12.535190575317515,
          "weight": 72.1,
          "weight_scaled": 0.3550295857988157
         },
         {
          "percentage": 12.722999999999999,
          "percentage_np": 12.434814532768044,
          "percentage_scaled": 0.41985977498777083,
          "percentage_tf": 12.4158695920854,
          "weight": 71.9,
          "weight_scaled": 0.3313609467455638
         },
         {
          "percentage": 13.408,
          "percentage_np": 12.209197315337036,
          "percentage_scaled": 0.5315506277515085,
          "percentage_tf": 12.207057871429171,
          "weight": 71.55,
          "weight_scaled": 0.2899408284023668
         },
         {
          "percentage": 13.582,
          "percentage_np": 12.434814532768044,
          "percentage_scaled": 0.5599217348768957,
          "percentage_tf": 12.4158695920854,
          "weight": 71.9,
          "weight_scaled": 0.3313609467455638
         },
         {
          "percentage": 13.130999999999998,
          "percentage_np": 12.595969688075904,
          "percentage_scaled": 0.48638512962660996,
          "percentage_tf": 12.565020821125556,
          "weight": 72.15,
          "weight_scaled": 0.36094674556213135
         },
         {
          "percentage": 13.392999999999999,
          "percentage_np": 12.628200719137475,
          "percentage_scaled": 0.529104842654492,
          "percentage_tf": 12.594851066933588,
          "weight": 72.2,
          "weight_scaled": 0.3668639053254452
         },
         {
          "percentage": 12.878,
          "percentage_np": 12.821586905506905,
          "percentage_scaled": 0.44513288765693804,
          "percentage_tf": 12.773832541781776,
          "weight": 72.5,
          "weight_scaled": 0.4023668639053266
         },
         {
          "percentage": 13.399000000000001,
          "percentage_np": 12.724893812322186,
          "percentage_scaled": 0.5300831566932989,
          "percentage_tf": 12.684341804357677,
          "weight": 72.35,
          "weight_scaled": 0.384615384615385
         },
         {
          "percentage": 13.027999999999999,
          "percentage_np": 12.531507625952756,
          "percentage_scaled": 0.46959073862709944,
          "percentage_tf": 12.50536032950949,
          "weight": 72.05,
          "weight_scaled": 0.34911242603550363
         },
         {
          "percentage": 12.162,
          "percentage_np": 12.692662781260616,
          "percentage_scaled": 0.3283874123593675,
          "percentage_tf": 12.654511558549645,
          "weight": 72.3,
          "weight_scaled": 0.37869822485207116
         },
         {
          "percentage": 12.609000000000002,
          "percentage_np": 12.402583501706467,
          "percentage_scaled": 0.40127180825044895,
          "percentage_tf": 12.386039346277359,
          "weight": 71.85,
          "weight_scaled": 0.3254437869822482
         },
         {
          "percentage": 12.974,
          "percentage_np": 12.144735253213895,
          "percentage_scaled": 0.4607859122778415,
          "percentage_tf": 12.147397379813116,
          "weight": 71.45,
          "weight_scaled": 0.27810650887574084
         },
         {
          "percentage": 12.571,
          "percentage_np": 12.370352470644896,
          "percentage_scaled": 0.3950758193380077,
          "percentage_tf": 12.356209100469334,
          "weight": 71.8,
          "weight_scaled": 0.3195266272189361
         },
         {
          "percentage": 12.984000000000002,
          "percentage_np": 11.629038756228745,
          "percentage_scaled": 0.4624164356758522,
          "percentage_tf": 11.67011344688461,
          "weight": 70.65,
          "weight_scaled": 0.1834319526627226
         },
         {
          "percentage": 13.439,
          "percentage_np": 11.854655973659746,
          "percentage_scaled": 0.5366052502853418,
          "percentage_tf": 11.87892516754083,
          "weight": 71,
          "weight_scaled": 0.22485207100591786
         },
         {
          "percentage": 12.239,
          "percentage_np": 12.241428346398607,
          "percentage_scaled": 0.34094244252405037,
          "percentage_tf": 12.236888117237203,
          "weight": 71.6,
          "weight_scaled": 0.29585798816568065
         },
         {
          "percentage": 13.234000000000002,
          "percentage_np": 11.951349066844465,
          "percentage_scaled": 0.5031795206261214,
          "percentage_tf": 11.968415904964928,
          "weight": 71.15,
          "weight_scaled": 0.24260355029585945
         },
         {
          "percentage": 12.809000000000001,
          "percentage_np": 11.757962880475027,
          "percentage_scaled": 0.433882276210664,
          "percentage_tf": 11.789434430116732,
          "weight": 70.85,
          "weight_scaled": 0.20710059171597628
         },
         {
          "percentage": 12.588,
          "percentage_np": 11.500114631982456,
          "percentage_scaled": 0.39784770911462597,
          "percentage_tf": 11.550792463652488,
          "weight": 70.45,
          "weight_scaled": 0.15976331360946894
         },
         {
          "percentage": 11.642999999999999,
          "percentage_np": 11.951349066844465,
          "percentage_scaled": 0.24376324800260885,
          "percentage_tf": 11.968415904964928,
          "weight": 71.15,
          "weight_scaled": 0.24260355029585945
         },
         {
          "percentage": 11.948,
          "percentage_np": 11.725731849413457,
          "percentage_scaled": 0.29349421164193723,
          "percentage_tf": 11.7596041843087,
          "weight": 70.8,
          "weight_scaled": 0.20118343195266242
         },
         {
          "percentage": 12.658,
          "percentage_np": 11.757962880475027,
          "percentage_scaled": 0.4092613729007011,
          "percentage_tf": 11.789434430116732,
          "weight": 70.85,
          "weight_scaled": 0.20710059171597628
         },
         {
          "percentage": 12.571,
          "percentage_np": 11.919118035782887,
          "percentage_scaled": 0.3950758193380077,
          "percentage_tf": 11.938585659156885,
          "weight": 71.1,
          "weight_scaled": 0.2366863905325438
         },
         {
          "percentage": 13.005,
          "percentage_np": 11.629038756228745,
          "percentage_scaled": 0.46584053481167476,
          "percentage_tf": 11.67011344688461,
          "weight": 70.65,
          "weight_scaled": 0.1834319526627226
         },
         {
          "percentage": 12.467,
          "percentage_np": 11.274497414551448,
          "percentage_scaled": 0.3781183759986957,
          "percentage_tf": 11.34198074299626,
          "weight": 70.1,
          "weight_scaled": 0.1183431952662719
         },
         {
          "percentage": 12.172,
          "percentage_np": 11.886887004721316,
          "percentage_scaled": 0.33001793575737826,
          "percentage_tf": 11.908755413348862,
          "weight": 71.05,
          "weight_scaled": 0.23076923076923173
         },
         {
          "percentage": 12.814,
          "percentage_np": 11.532345663044026,
          "percentage_scaled": 0.43469753790966936,
          "percentage_tf": 11.580622709460512,
          "weight": 70.5,
          "weight_scaled": 0.16568047337278102
         },
         {
          "percentage": 12.798,
          "percentage_np": 11.596807725167167,
          "percentage_scaled": 0.43208870047285175,
          "percentage_tf": 11.640283201076576,
          "weight": 70.6,
          "weight_scaled": 0.17751479289940875
         },
         {
          "percentage": 12.564,
          "percentage_np": 11.661269787290315,
          "percentage_scaled": 0.3939344529594002,
          "percentage_tf": 11.699943692692642,
          "weight": 70.7,
          "weight_scaled": 0.18934911242603647
         },
         {
          "percentage": 12.808,
          "percentage_np": 11.435652569859307,
          "percentage_scaled": 0.4337192238708625,
          "percentage_tf": 11.491131972036413,
          "weight": 70.35,
          "weight_scaled": 0.14792899408283944
         },
         {
          "percentage": 12.285,
          "percentage_np": 11.242266383489877,
          "percentage_scaled": 0.34844285015489995,
          "percentage_tf": 11.312150497188236,
          "weight": 70.05,
          "weight_scaled": 0.11242603550295982
         },
         {
          "percentage": 12.589,
          "percentage_np": 11.951349066844465,
          "percentage_scaled": 0.39801076145442704,
          "percentage_tf": 11.968415904964928,
          "weight": 71.15,
          "weight_scaled": 0.24260355029585945
         },
         {
          "percentage": 12.946,
          "percentage_np": 11.822424942598175,
          "percentage_scaled": 0.456220446763411,
          "percentage_tf": 11.849094921732798,
          "weight": 70.95,
          "weight_scaled": 0.218934911242604
         },
         {
          "percentage": 12.790999999999999,
          "percentage_np": 12.338121439583325,
          "percentage_scaled": 0.43094733409424424,
          "percentage_tf": 12.326378854661302,
          "weight": 71.75,
          "weight_scaled": 0.31360946745562224
         },
         {
          "percentage": 13.183,
          "percentage_np": 12.048042160029176,
          "percentage_scaled": 0.4948638512962662,
          "percentage_tf": 12.057906642389018,
          "weight": 71.3,
          "weight_scaled": 0.26035502958579926
         },
         {
          "percentage": 12.81,
          "percentage_np": 12.048042160029176,
          "percentage_scaled": 0.43404532855046507,
          "percentage_tf": 12.057906642389018,
          "weight": 71.3,
          "weight_scaled": 0.26035502958579926
         },
         {
          "percentage": 12.642999999999999,
          "percentage_np": 11.371190507736166,
          "percentage_scaled": 0.406815587803685,
          "percentage_tf": 11.431471480420358,
          "weight": 70.25,
          "weight_scaled": 0.1360946745562135
         },
         {
          "percentage": 12.446,
          "percentage_np": 11.564576694105597,
          "percentage_scaled": 0.37469427686287315,
          "percentage_tf": 11.610452955268544,
          "weight": 70.55,
          "weight_scaled": 0.17159763313609488
         },
         {
          "percentage": 12.125,
          "percentage_np": 12.209197315337036,
          "percentage_scaled": 0.3223544757867276,
          "percentage_tf": 12.207057871429171,
          "weight": 71.55,
          "weight_scaled": 0.2899408284023668
         },
         {
          "percentage": 12.83,
          "percentage_np": 12.112504222152324,
          "percentage_scaled": 0.43730637534648653,
          "percentage_tf": 12.117567134005082,
          "weight": 71.4,
          "weight_scaled": 0.272189349112427
         },
         {
          "percentage": 12.65,
          "percentage_np": 12.305890408521755,
          "percentage_scaled": 0.4079569541822925,
          "percentage_tf": 12.29654860885327,
          "weight": 71.7,
          "weight_scaled": 0.3076923076923084
         },
         {
          "percentage": 12.857999999999999,
          "percentage_np": 11.886887004721316,
          "percentage_scaled": 0.44187184086091613,
          "percentage_tf": 11.908755413348862,
          "weight": 71.05,
          "weight_scaled": 0.23076923076923173
         },
         {
          "percentage": 11.571,
          "percentage_np": 11.822424942598175,
          "percentage_scaled": 0.23202347953693137,
          "percentage_tf": 11.849094921732798,
          "weight": 70.95,
          "weight_scaled": 0.218934911242604
         },
         {
          "percentage": 12.214,
          "percentage_np": 11.790193911536605,
          "percentage_scaled": 0.33686613402902355,
          "percentage_tf": 11.819264675924773,
          "weight": 70.9,
          "weight_scaled": 0.21301775147929192
         },
         {
          "percentage": 12.488,
          "percentage_np": 12.048042160029176,
          "percentage_scaled": 0.3815424751345182,
          "percentage_tf": 12.057906642389018,
          "weight": 71.3,
          "weight_scaled": 0.26035502958579926
         },
         {
          "percentage": 12.110999999999999,
          "percentage_np": 11.951349066844465,
          "percentage_scaled": 0.32007174302951236,
          "percentage_tf": 11.968415904964928,
          "weight": 71.15,
          "weight_scaled": 0.24260355029585945
         },
         {
          "percentage": 12.812000000000001,
          "percentage_np": 11.435652569859307,
          "percentage_scaled": 0.4343714332300672,
          "percentage_tf": 11.491131972036413,
          "weight": 70.35,
          "weight_scaled": 0.14792899408283944
         },
         {
          "percentage": 12.539000000000001,
          "percentage_np": 12.402583501706467,
          "percentage_scaled": 0.3898581444643734,
          "percentage_tf": 12.386039346277359,
          "weight": 71.85,
          "weight_scaled": 0.3254437869822482
         },
         {
          "percentage": 12.114,
          "percentage_np": 11.757962880475027,
          "percentage_scaled": 0.320560900048916,
          "percentage_tf": 11.789434430116732,
          "weight": 70.85,
          "weight_scaled": 0.20710059171597628
         },
         {
          "percentage": 11.927999999999999,
          "percentage_np": 11.338959476674596,
          "percentage_scaled": 0.29023316484591555,
          "percentage_tf": 11.401641234612324,
          "weight": 70.2,
          "weight_scaled": 0.13017751479289963
         },
         {
          "percentage": 12.107999999999999,
          "percentage_np": 11.951349066844465,
          "percentage_scaled": 0.31958258601010914,
          "percentage_tf": 11.968415904964928,
          "weight": 71.15,
          "weight_scaled": 0.24260355029585945
         },
         {
          "percentage": 12.273,
          "percentage_np": 11.983580097906035,
          "percentage_scaled": 0.3464862220772871,
          "percentage_tf": 11.99824615077296,
          "weight": 71.2,
          "weight_scaled": 0.2485207100591733
         },
         {
          "percentage": 12.046,
          "percentage_np": 11.757962880475027,
          "percentage_scaled": 0.3094733409424426,
          "percentage_tf": 11.789434430116732,
          "weight": 70.85,
          "weight_scaled": 0.20710059171597628
         },
         {
          "percentage": 11.635,
          "percentage_np": 11.951349066844465,
          "percentage_scaled": 0.24245882928420026,
          "percentage_tf": 11.968415904964928,
          "weight": 71.15,
          "weight_scaled": 0.24260355029585945
         },
         {
          "percentage": 12.359000000000002,
          "percentage_np": 11.500114631982456,
          "percentage_scaled": 0.3605087233001798,
          "percentage_tf": 11.550792463652488,
          "weight": 70.45,
          "weight_scaled": 0.15976331360946894
         },
         {
          "percentage": 11.912,
          "percentage_np": 11.532345663044026,
          "percentage_scaled": 0.2876243274090986,
          "percentage_tf": 11.580622709460512,
          "weight": 70.5,
          "weight_scaled": 0.16568047337278102
         },
         {
          "percentage": 11.914000000000001,
          "percentage_np": 11.725731849413457,
          "percentage_scaled": 0.28795043208870075,
          "percentage_tf": 11.7596041843087,
          "weight": 70.8,
          "weight_scaled": 0.20118343195266242
         },
         {
          "percentage": 11.779000000000002,
          "percentage_np": 11.564576694105597,
          "percentage_scaled": 0.26593836621555567,
          "percentage_tf": 11.610452955268544,
          "weight": 70.55,
          "weight_scaled": 0.17159763313609488
         },
         {
          "percentage": 12.13,
          "percentage_np": 11.629038756228745,
          "percentage_scaled": 0.3231697374857332,
          "percentage_tf": 11.67011344688461,
          "weight": 70.65,
          "weight_scaled": 0.1834319526627226
         },
         {
          "percentage": 11.975999999999999,
          "percentage_np": 11.854655973659746,
          "percentage_scaled": 0.29805967715636705,
          "percentage_tf": 11.87892516754083,
          "weight": 71,
          "weight_scaled": 0.22485207100591786
         },
         {
          "percentage": 12.193,
          "percentage_np": 11.532345663044026,
          "percentage_scaled": 0.3334420348932008,
          "percentage_tf": 11.580622709460512,
          "weight": 70.5,
          "weight_scaled": 0.16568047337278102
         },
         {
          "percentage": 12.402999999999999,
          "percentage_np": 11.854655973659746,
          "percentage_scaled": 0.36768302625142657,
          "percentage_tf": 11.87892516754083,
          "weight": 71,
          "weight_scaled": 0.22485207100591786
         },
         {
          "percentage": 12.677,
          "percentage_np": 11.532345663044026,
          "percentage_scaled": 0.41235936735692147,
          "percentage_tf": 11.580622709460512,
          "weight": 70.5,
          "weight_scaled": 0.16568047337278102
         },
         {
          "percentage": 12.380999999999998,
          "percentage_np": 11.500114631982456,
          "percentage_scaled": 0.36409587477580296,
          "percentage_tf": 11.550792463652488,
          "weight": 70.45,
          "weight_scaled": 0.15976331360946894
         },
         {
          "percentage": 12.992,
          "percentage_np": 11.757962880475027,
          "percentage_scaled": 0.4637208543942608,
          "percentage_tf": 11.789434430116732,
          "weight": 70.85,
          "weight_scaled": 0.20710059171597628
         },
         {
          "percentage": 12.376,
          "percentage_np": 11.919118035782887,
          "percentage_scaled": 0.3632806130767976,
          "percentage_tf": 11.938585659156885,
          "weight": 71.1,
          "weight_scaled": 0.2366863905325438
         },
         {
          "percentage": 11.796,
          "percentage_np": 12.402583501706467,
          "percentage_scaled": 0.26871025599217346,
          "percentage_tf": 12.386039346277359,
          "weight": 71.85,
          "weight_scaled": 0.3254437869822482
         },
         {
          "percentage": 12.568,
          "percentage_np": 12.338121439583325,
          "percentage_scaled": 0.3945866623186045,
          "percentage_tf": 12.326378854661302,
          "weight": 71.75,
          "weight_scaled": 0.31360946745562224
         },
         {
          "percentage": 12.895,
          "percentage_np": 12.144735253213895,
          "percentage_scaled": 0.4479047774335563,
          "percentage_tf": 12.147397379813116,
          "weight": 71.45,
          "weight_scaled": 0.27810650887574084
         },
         {
          "percentage": 12.975999999999999,
          "percentage_np": 11.886887004721316,
          "percentage_scaled": 0.4611120169574432,
          "percentage_tf": 11.908755413348862,
          "weight": 71.05,
          "weight_scaled": 0.23076923076923173
         },
         {
          "percentage": 12.429,
          "percentage_np": 12.015811128967606,
          "percentage_scaled": 0.3719223870862549,
          "percentage_tf": 12.028076396580984,
          "weight": 71.25,
          "weight_scaled": 0.2544378698224854
         },
         {
          "percentage": 12.245999999999999,
          "percentage_np": 12.112504222152324,
          "percentage_scaled": 0.34208380890265766,
          "percentage_tf": 12.117567134005082,
          "weight": 71.4,
          "weight_scaled": 0.272189349112427
         },
         {
          "percentage": 12.012,
          "percentage_np": 11.854655973659746,
          "percentage_scaled": 0.3039295613892061,
          "percentage_tf": 11.87892516754083,
          "weight": 71,
          "weight_scaled": 0.22485207100591786
         },
         {
          "percentage": 11.927,
          "percentage_np": 11.693500818351886,
          "percentage_scaled": 0.2900701125061145,
          "percentage_tf": 11.729773938500674,
          "weight": 70.75,
          "weight_scaled": 0.19526627218935033
         },
         {
          "percentage": 10.78,
          "percentage_np": 12.080273191090747,
          "percentage_scaled": 0.10304907875428015,
          "percentage_tf": 12.08773688819705,
          "weight": 71.35,
          "weight_scaled": 0.2662721893491131
         },
         {
          "percentage": 11.54,
          "percentage_np": 12.080273191090747,
          "percentage_scaled": 0.22696885700309788,
          "percentage_tf": 12.08773688819705,
          "weight": 71.35,
          "weight_scaled": 0.2662721893491131
         },
         {
          "percentage": 11.742,
          "percentage_np": 12.241428346398607,
          "percentage_scaled": 0.25990542964291574,
          "percentage_tf": 12.236888117237203,
          "weight": 71.6,
          "weight_scaled": 0.29585798816568065
         },
         {
          "percentage": 12.231,
          "percentage_np": 12.209197315337036,
          "percentage_scaled": 0.3396380238056418,
          "percentage_tf": 12.207057871429171,
          "weight": 71.55,
          "weight_scaled": 0.2899408284023668
         },
         {
          "percentage": 12.485,
          "percentage_np": 12.305890408521755,
          "percentage_scaled": 0.381053318115115,
          "percentage_tf": 12.29654860885327,
          "weight": 71.7,
          "weight_scaled": 0.3076923076923084
         },
         {
          "percentage": 12.632,
          "percentage_np": 12.402583501706467,
          "percentage_scaled": 0.4050220120658732,
          "percentage_tf": 12.386039346277359,
          "weight": 71.85,
          "weight_scaled": 0.3254437869822482
         },
         {
          "percentage": 12.205,
          "percentage_np": 12.112504222152324,
          "percentage_scaled": 0.33539866297081367,
          "percentage_tf": 12.117567134005082,
          "weight": 71.4,
          "weight_scaled": 0.272189349112427
         },
         {
          "percentage": 12.18,
          "percentage_np": 12.402583501706467,
          "percentage_scaled": 0.33132235447578684,
          "percentage_tf": 12.386039346277359,
          "weight": 71.85,
          "weight_scaled": 0.3254437869822482
         },
         {
          "percentage": 11.841,
          "percentage_np": 12.370352470644896,
          "percentage_scaled": 0.27604761128322197,
          "percentage_tf": 12.356209100469334,
          "weight": 71.8,
          "weight_scaled": 0.3195266272189361
         },
         {
          "percentage": 11.719000000000001,
          "percentage_np": 12.273659377460184,
          "percentage_scaled": 0.25615522582749084,
          "percentage_tf": 12.266718363045248,
          "weight": 71.65,
          "weight_scaled": 0.3017751479289963
         },
         {
          "percentage": 11.665,
          "percentage_np": 12.338121439583325,
          "percentage_scaled": 0.24735039947823245,
          "percentage_tf": 12.326378854661302,
          "weight": 71.75,
          "weight_scaled": 0.31360946745562224
         },
         {
          "percentage": 11.432,
          "percentage_np": 12.015811128967606,
          "percentage_scaled": 0.209359204304582,
          "percentage_tf": 12.028076396580984,
          "weight": 71.25,
          "weight_scaled": 0.2544378698224854
         },
         {
          "percentage": 12.401,
          "percentage_np": 12.273659377460184,
          "percentage_scaled": 0.36735692157182487,
          "percentage_tf": 12.266718363045248,
          "weight": 71.65,
          "weight_scaled": 0.3017751479289963
         },
         {
          "percentage": 12.100999999999999,
          "percentage_np": 11.919118035782887,
          "percentage_scaled": 0.3184412196315016,
          "percentage_tf": 11.938585659156885,
          "weight": 71.1,
          "weight_scaled": 0.2366863905325438
         },
         {
          "percentage": 12.187999999999999,
          "percentage_np": 11.983580097906035,
          "percentage_scaled": 0.3326267731941952,
          "percentage_tf": 11.99824615077296,
          "weight": 71.2,
          "weight_scaled": 0.2485207100591733
         },
         {
          "percentage": 12.337,
          "percentage_np": 11.951349066844465,
          "percentage_scaled": 0.35692157182455575,
          "percentage_tf": 11.968415904964928,
          "weight": 71.15,
          "weight_scaled": 0.24260355029585945
         },
         {
          "percentage": 12.366,
          "percentage_np": 11.983580097906035,
          "percentage_scaled": 0.36165008967878687,
          "percentage_tf": 11.99824615077296,
          "weight": 71.2,
          "weight_scaled": 0.2485207100591733
         },
         {
          "percentage": 12.425999999999998,
          "percentage_np": 12.209197315337036,
          "percentage_scaled": 0.37143323006685125,
          "percentage_tf": 12.207057871429171,
          "weight": 71.55,
          "weight_scaled": 0.2899408284023668
         },
         {
          "percentage": 12.661,
          "percentage_np": 12.015811128967606,
          "percentage_scaled": 0.4097505299201043,
          "percentage_tf": 12.028076396580984,
          "weight": 71.25,
          "weight_scaled": 0.2544378698224854
         },
         {
          "percentage": 12.052999999999999,
          "percentage_np": 12.176966284275466,
          "percentage_scaled": 0.3106147073210501,
          "percentage_tf": 12.177227625621148,
          "weight": 71.5,
          "weight_scaled": 0.2840236686390547
         },
         {
          "percentage": 12.069,
          "percentage_np": 12.112504222152324,
          "percentage_scaled": 0.3132235447578675,
          "percentage_tf": 12.117567134005082,
          "weight": 71.4,
          "weight_scaled": 0.272189349112427
         },
         {
          "percentage": 12.466,
          "percentage_np": 12.080273191090747,
          "percentage_scaled": 0.3779553236588946,
          "percentage_tf": 12.08773688819705,
          "weight": 71.35,
          "weight_scaled": 0.2662721893491131
         },
         {
          "percentage": 12.306,
          "percentage_np": 11.951349066844465,
          "percentage_scaled": 0.3518669492907225,
          "percentage_tf": 11.968415904964928,
          "weight": 71.15,
          "weight_scaled": 0.24260355029585945
         },
         {
          "percentage": 12.290999999999999,
          "percentage_np": 11.886887004721316,
          "percentage_scaled": 0.34942116419370595,
          "percentage_tf": 11.908755413348862,
          "weight": 71.05,
          "weight_scaled": 0.23076923076923173
         },
         {
          "percentage": 12.65,
          "percentage_np": 12.273659377460184,
          "percentage_scaled": 0.4079569541822925,
          "percentage_tf": 12.266718363045248,
          "weight": 71.65,
          "weight_scaled": 0.3017751479289963
         },
         {
          "percentage": 11.700999999999999,
          "percentage_np": 12.112504222152324,
          "percentage_scaled": 0.2532202837110711,
          "percentage_tf": 12.117567134005082,
          "weight": 71.4,
          "weight_scaled": 0.272189349112427
         },
         {
          "percentage": 11.597999999999999,
          "percentage_np": 11.951349066844465,
          "percentage_scaled": 0.23642589271156034,
          "percentage_tf": 11.968415904964928,
          "weight": 71.15,
          "weight_scaled": 0.24260355029585945
         },
         {
          "percentage": 11.654000000000002,
          "percentage_np": 12.305890408521755,
          "percentage_scaled": 0.2455568237404211,
          "percentage_tf": 12.29654860885327,
          "weight": 71.7,
          "weight_scaled": 0.3076923076923084
         },
         {
          "percentage": 12.472000000000001,
          "percentage_np": 11.854655973659746,
          "percentage_scaled": 0.3789336376977015,
          "percentage_tf": 11.87892516754083,
          "weight": 71,
          "weight_scaled": 0.22485207100591786
         },
         {
          "percentage": 12.522,
          "percentage_np": 11.854655973659746,
          "percentage_scaled": 0.38708625468775515,
          "percentage_tf": 11.87892516754083,
          "weight": 71,
          "weight_scaled": 0.22485207100591786
         },
         {
          "percentage": 11.876,
          "percentage_np": 11.983580097906035,
          "percentage_scaled": 0.28175444317625953,
          "percentage_tf": 11.99824615077296,
          "weight": 71.2,
          "weight_scaled": 0.2485207100591733
         },
         {
          "percentage": 11.83,
          "percentage_np": 12.692662781260616,
          "percentage_scaled": 0.27425403554541017,
          "percentage_tf": 12.654511558549645,
          "weight": 72.3,
          "weight_scaled": 0.37869822485207116
         },
         {
          "percentage": 11.366,
          "percentage_np": 12.370352470644896,
          "percentage_scaled": 0.19859774987771073,
          "percentage_tf": 12.356209100469334,
          "weight": 71.8,
          "weight_scaled": 0.3195266272189361
         },
         {
          "percentage": 12.297,
          "percentage_np": 12.176966284275466,
          "percentage_scaled": 0.35039947823251283,
          "percentage_tf": 12.177227625621148,
          "weight": 71.5,
          "weight_scaled": 0.2840236686390547
         },
         {
          "percentage": 12.333,
          "percentage_np": 12.080273191090747,
          "percentage_scaled": 0.35626936246535146,
          "percentage_tf": 12.08773688819705,
          "weight": 71.35,
          "weight_scaled": 0.2662721893491131
         },
         {
          "percentage": 12.159,
          "percentage_np": 11.886887004721316,
          "percentage_scaled": 0.3278982553399643,
          "percentage_tf": 11.908755413348862,
          "weight": 71.05,
          "weight_scaled": 0.23076923076923173
         },
         {
          "percentage": 12.261,
          "percentage_np": 12.209197315337036,
          "percentage_scaled": 0.344529593999674,
          "percentage_tf": 12.207057871429171,
          "weight": 71.55,
          "weight_scaled": 0.2899408284023668
         },
         {
          "percentage": 11.724,
          "percentage_np": 12.048042160029176,
          "percentage_scaled": 0.2569704875264962,
          "percentage_tf": 12.057906642389018,
          "weight": 71.3,
          "weight_scaled": 0.26035502958579926
         },
         {
          "percentage": 11.952,
          "percentage_np": 12.176966284275466,
          "percentage_scaled": 0.2941464210011415,
          "percentage_tf": 12.177227625621148,
          "weight": 71.5,
          "weight_scaled": 0.2840236686390547
         },
         {
          "percentage": 11.618,
          "percentage_np": 12.112504222152324,
          "percentage_scaled": 0.23968693950758202,
          "percentage_tf": 12.117567134005082,
          "weight": 71.4,
          "weight_scaled": 0.272189349112427
         },
         {
          "percentage": 11.919,
          "percentage_np": 11.983580097906035,
          "percentage_scaled": 0.2887656937877061,
          "percentage_tf": 11.99824615077296,
          "weight": 71.2,
          "weight_scaled": 0.2485207100591733
         },
         {
          "percentage": 11.77,
          "percentage_np": 11.596807725167167,
          "percentage_scaled": 0.26447089515734556,
          "percentage_tf": 11.640283201076576,
          "weight": 70.6,
          "weight_scaled": 0.17751479289940875
         },
         {
          "percentage": 11.728,
          "percentage_np": 11.822424942598175,
          "percentage_scaled": 0.2576226968857003,
          "percentage_tf": 11.849094921732798,
          "weight": 70.95,
          "weight_scaled": 0.218934911242604
         },
         {
          "percentage": 11.754000000000001,
          "percentage_np": 11.564576694105597,
          "percentage_scaled": 0.2618620577205286,
          "percentage_tf": 11.610452955268544,
          "weight": 70.55,
          "weight_scaled": 0.17159763313609488
         },
         {
          "percentage": 11.364,
          "percentage_np": 11.564576694105597,
          "percentage_scaled": 0.1982716451981088,
          "percentage_tf": 11.610452955268544,
          "weight": 70.55,
          "weight_scaled": 0.17159763313609488
         },
         {
          "percentage": 11.172,
          "percentage_np": 11.435652569859307,
          "percentage_scaled": 0.16696559595630212,
          "percentage_tf": 11.491131972036413,
          "weight": 70.35,
          "weight_scaled": 0.14792899408283944
         },
         {
          "percentage": 11.62,
          "percentage_np": 11.403421538797737,
          "percentage_scaled": 0.24001304418718417,
          "percentage_tf": 11.46130172622839,
          "weight": 70.3,
          "weight_scaled": 0.14201183431952735
         },
         {
          "percentage": 11.078,
          "percentage_np": 11.371190507736166,
          "percentage_scaled": 0.1516386760150008,
          "percentage_tf": 11.431471480420358,
          "weight": 70.25,
          "weight_scaled": 0.1360946745562135
         },
         {
          "percentage": 10.798,
          "percentage_np": 11.564576694105597,
          "percentage_scaled": 0.10598402087069969,
          "percentage_tf": 11.610452955268544,
          "weight": 70.55,
          "weight_scaled": 0.17159763313609488
         },
         {
          "percentage": 10.985,
          "percentage_np": 10.952187103935728,
          "percentage_scaled": 0.1364748084135008,
          "percentage_tf": 11.04367828491595,
          "weight": 69.6,
          "weight_scaled": 0.05917159763313684
         },
         {
          "percentage": 11.217,
          "percentage_np": 10.823262979689446,
          "percentage_scaled": 0.17430295124735062,
          "percentage_tf": 10.924357301683829,
          "weight": 69.4,
          "weight_scaled": 0.03550295857988317
         },
         {
          "percentage": 11.389000000000001,
          "percentage_np": 11.242266383489877,
          "percentage_scaled": 0.20234795369313585,
          "percentage_tf": 11.312150497188236,
          "weight": 70.05,
          "weight_scaled": 0.11242603550295982
         },
         {
          "percentage": 11.712,
          "percentage_np": 11.467883600920885,
          "percentage_scaled": 0.2550138594488831,
          "percentage_tf": 11.520962217844454,
          "weight": 70.4,
          "weight_scaled": 0.15384615384615508
         },
         {
          "percentage": 11.925999999999998,
          "percentage_np": 11.532345663044026,
          "percentage_scaled": 0.2899070601663132,
          "percentage_tf": 11.580622709460512,
          "weight": 70.5,
          "weight_scaled": 0.16568047337278102
         },
         {
          "percentage": 11.334000000000001,
          "percentage_np": 11.048880197120447,
          "percentage_scaled": 0.1933800750040766,
          "percentage_tf": 11.133169022340047,
          "weight": 69.75,
          "weight_scaled": 0.07692307692307843
         },
         {
          "percentage": 11.485999999999999,
          "percentage_np": 11.177804321366736,
          "percentage_scaled": 0.2181640306538397,
          "percentage_tf": 11.25249000557217,
          "weight": 69.95,
          "weight_scaled": 0.1005917159763321
         },
         {
          "percentage": 10.148,
          "percentage_np": 11.564576694105597,
          "percentage_scaled": 0,
          "percentage_tf": 11.610452955268544,
          "weight": 70.55,
          "weight_scaled": 0.17159763313609488
         },
         {
          "percentage": 10.782,
          "percentage_np": 11.532345663044026,
          "percentage_scaled": 0.1033751834338823,
          "percentage_tf": 11.580622709460512,
          "weight": 70.5,
          "weight_scaled": 0.16568047337278102
         },
         {
          "percentage": 11.177999999999999,
          "percentage_np": 11.338959476674596,
          "percentage_scaled": 0.16794390999510833,
          "percentage_tf": 11.401641234612324,
          "weight": 70.2,
          "weight_scaled": 0.13017751479289963
         },
         {
          "percentage": 11.117,
          "percentage_np": 11.177804321366736,
          "percentage_scaled": 0.1579977172672431,
          "percentage_tf": 11.25249000557217,
          "weight": 69.95,
          "weight_scaled": 0.1005917159763321
         },
         {
          "percentage": 10.979000000000001,
          "percentage_np": 11.596807725167167,
          "percentage_scaled": 0.13549649437469458,
          "percentage_tf": 11.640283201076576,
          "weight": 70.6,
          "weight_scaled": 0.17751479289940875
         },
         {
          "percentage": 11.222000000000001,
          "percentage_np": 11.532345663044026,
          "percentage_scaled": 0.175118212946356,
          "percentage_tf": 11.580622709460512,
          "weight": 70.5,
          "weight_scaled": 0.16568047337278102
         },
         {
          "percentage": 10.573,
          "percentage_np": 11.693500818351886,
          "percentage_scaled": 0.06929724441545759,
          "percentage_tf": 11.729773938500674,
          "weight": 70.75,
          "weight_scaled": 0.19526627218935033
         },
         {
          "percentage": 11.133,
          "percentage_np": 11.854655973659746,
          "percentage_scaled": 0.16060655470406004,
          "percentage_tf": 11.87892516754083,
          "weight": 71,
          "weight_scaled": 0.22485207100591786
         },
         {
          "percentage": 11.13,
          "percentage_np": 11.661269787290315,
          "percentage_scaled": 0.16011739768465705,
          "percentage_tf": 11.699943692692642,
          "weight": 70.7,
          "weight_scaled": 0.18934911242603647
         },
         {
          "percentage": 11.564,
          "percentage_np": 11.403421538797737,
          "percentage_scaled": 0.23088211315832385,
          "percentage_tf": 11.46130172622839,
          "weight": 70.3,
          "weight_scaled": 0.14201183431952735
         },
         {
          "percentage": 11.573,
          "percentage_np": 11.242266383489877,
          "percentage_scaled": 0.23234958421653373,
          "percentage_tf": 11.312150497188236,
          "weight": 70.05,
          "weight_scaled": 0.11242603550295982
         },
         {
          "percentage": 11.677999999999999,
          "percentage_np": 11.274497414551448,
          "percentage_scaled": 0.2494700798956464,
          "percentage_tf": 11.34198074299626,
          "weight": 70.1,
          "weight_scaled": 0.1183431952662719
         },
         {
          "percentage": 11.062000000000001,
          "percentage_np": 11.210035352428307,
          "percentage_scaled": 0.14902983857818386,
          "percentage_tf": 11.282320251380202,
          "weight": 70,
          "weight_scaled": 0.10650887573964596
         },
         {
          "percentage": 10.684000000000001,
          "percentage_np": 11.725731849413457,
          "percentage_scaled": 0.08739605413337714,
          "percentage_tf": 11.7596041843087,
          "weight": 70.8,
          "weight_scaled": 0.20118343195266242
         },
         {
          "percentage": 10.530999999999999,
          "percentage_np": 11.532345663044026,
          "percentage_scaled": 0.06244904614381208,
          "percentage_tf": 11.580622709460512,
          "weight": 70.5,
          "weight_scaled": 0.16568047337278102
         },
         {
          "percentage": 10.636,
          "percentage_np": 11.242266383489877,
          "percentage_scaled": 0.0795695418229252,
          "percentage_tf": 11.312150497188236,
          "weight": 70.05,
          "weight_scaled": 0.11242603550295982
         },
         {
          "percentage": 11.356,
          "percentage_np": 11.145573290305165,
          "percentage_scaled": 0.1969672264797,
          "percentage_tf": 11.222659759764145,
          "weight": 69.9,
          "weight_scaled": 0.09467455621302001
         },
         {
          "percentage": 10.67,
          "percentage_np": 10.629876793320008,
          "percentage_scaled": 0.0851133213761619,
          "percentage_tf": 10.745375826835632,
          "weight": 69.1,
          "weight_scaled": 0
         },
         {
          "percentage": 11.043,
          "percentage_np": 11.210035352428307,
          "percentage_scaled": 0.14593184412196303,
          "percentage_tf": 11.282320251380202,
          "weight": 70,
          "weight_scaled": 0.10650887573964596
         },
         {
          "percentage": 10.975,
          "percentage_np": 11.725731849413457,
          "percentage_scaled": 0.13484428501549006,
          "percentage_tf": 11.7596041843087,
          "weight": 70.8,
          "weight_scaled": 0.20118343195266242
         },
         {
          "percentage": 11.23,
          "percentage_np": 11.435652569859307,
          "percentage_scaled": 0.17642263166476457,
          "percentage_tf": 11.491131972036413,
          "weight": 70.35,
          "weight_scaled": 0.14792899408283944
         },
         {
          "percentage": 11.302,
          "percentage_np": 11.564576694105597,
          "percentage_scaled": 0.18816240013044183,
          "percentage_tf": 11.610452955268544,
          "weight": 70.55,
          "weight_scaled": 0.17159763313609488
         },
         {
          "percentage": 11.249,
          "percentage_np": 12.144735253213895,
          "percentage_scaled": 0.17952062612098496,
          "percentage_tf": 12.147397379813116,
          "weight": 71.45,
          "weight_scaled": 0.27810650887574084
         },
         {
          "percentage": 11.22,
          "percentage_np": 11.338959476674596,
          "percentage_scaled": 0.17479210826675384,
          "percentage_tf": 11.401641234612324,
          "weight": 70.2,
          "weight_scaled": 0.13017751479289963
         },
         {
          "percentage": 11.917,
          "percentage_np": 11.661269787290315,
          "percentage_scaled": 0.28843958910810374,
          "percentage_tf": 11.699943692692642,
          "weight": 70.7,
          "weight_scaled": 0.18934911242603647
         },
         {
          "percentage": 11.075,
          "percentage_np": 11.048880197120447,
          "percentage_scaled": 0.1511495189955976,
          "percentage_tf": 11.133169022340047,
          "weight": 69.75,
          "weight_scaled": 0.07692307692307843
         },
         {
          "percentage": 11.09,
          "percentage_np": 11.500114631982456,
          "percentage_scaled": 0.1535953040926139,
          "percentage_tf": 11.550792463652488,
          "weight": 70.45,
          "weight_scaled": 0.15976331360946894
         },
         {
          "percentage": 11.415,
          "percentage_np": 11.500114631982456,
          "percentage_scaled": 0.20658731452796353,
          "percentage_tf": 11.550792463652488,
          "weight": 70.45,
          "weight_scaled": 0.15976331360946894
         },
         {
          "percentage": 10.966,
          "percentage_np": 11.403421538797737,
          "percentage_scaled": 0.13337681395728018,
          "percentage_tf": 11.46130172622839,
          "weight": 70.3,
          "weight_scaled": 0.14201183431952735
         },
         {
          "percentage": 11.173,
          "percentage_np": 11.210035352428307,
          "percentage_scaled": 0.1671286482961032,
          "percentage_tf": 11.282320251380202,
          "weight": 70,
          "weight_scaled": 0.10650887573964596
         },
         {
          "percentage": 10.965,
          "percentage_np": 11.048880197120447,
          "percentage_scaled": 0.13321376161747933,
          "percentage_tf": 11.133169022340047,
          "weight": 69.75,
          "weight_scaled": 0.07692307692307843
         },
         {
          "percentage": 11.134,
          "percentage_np": 11.274497414551448,
          "percentage_scaled": 0.16076960704386134,
          "percentage_tf": 11.34198074299626,
          "weight": 70.1,
          "weight_scaled": 0.1183431952662719
         },
         {
          "percentage": 10.885,
          "percentage_np": 11.048880197120447,
          "percentage_scaled": 0.12016957443339327,
          "percentage_tf": 11.133169022340047,
          "weight": 69.75,
          "weight_scaled": 0.07692307692307843
         },
         {
          "percentage": 10.767000000000001,
          "percentage_np": 11.338959476674596,
          "percentage_scaled": 0.10092939833686643,
          "percentage_tf": 11.401641234612324,
          "weight": 70.2,
          "weight_scaled": 0.13017751479289963
         },
         {
          "percentage": 10.987,
          "percentage_np": 11.210035352428307,
          "percentage_scaled": 0.13680091309310294,
          "percentage_tf": 11.282320251380202,
          "weight": 70,
          "weight_scaled": 0.10650887573964596
         },
         {
          "percentage": 11.300999999999998,
          "percentage_np": 11.306728445613025,
          "percentage_scaled": 0.18799934779064054,
          "percentage_tf": 11.3718109888043,
          "weight": 70.15,
          "weight_scaled": 0.12426035502958754
         },
         {
          "percentage": 11.192,
          "percentage_np": 11.274497414551448,
          "percentage_scaled": 0.17022664275232358,
          "percentage_tf": 11.34198074299626,
          "weight": 70.1,
          "weight_scaled": 0.1183431952662719
         },
         {
          "percentage": 10.536,
          "percentage_np": 11.242266383489877,
          "percentage_scaled": 0.06326430784281767,
          "percentage_tf": 11.312150497188236,
          "weight": 70.05,
          "weight_scaled": 0.11242603550295982
         },
         {
          "percentage": 11.169,
          "percentage_np": 11.113342259243588,
          "percentage_scaled": 0.1664764389368989,
          "percentage_tf": 11.192829513956104,
          "weight": 69.85,
          "weight_scaled": 0.08875739644970437
         },
         {
          "percentage": 11.434000000000001,
          "percentage_np": 11.113342259243588,
          "percentage_scaled": 0.20968530898418414,
          "percentage_tf": 11.192829513956104,
          "weight": 69.85,
          "weight_scaled": 0.08875739644970437
         },
         {
          "percentage": 11.504000000000001,
          "percentage_np": 11.661269787290315,
          "percentage_scaled": 0.22109897277025947,
          "percentage_tf": 11.699943692692642,
          "weight": 70.7,
          "weight_scaled": 0.18934911242603647
         },
         {
          "percentage": 11.776,
          "percentage_np": 11.757962880475027,
          "percentage_scaled": 0.265449209196152,
          "percentage_tf": 11.789434430116732,
          "weight": 70.85,
          "weight_scaled": 0.20710059171597628
         },
         {
          "percentage": 11.687000000000001,
          "percentage_np": 11.854655973659746,
          "percentage_scaled": 0.2509375509538565,
          "percentage_tf": 11.87892516754083,
          "weight": 71,
          "weight_scaled": 0.22485207100591786
         },
         {
          "percentage": 11.225,
          "percentage_np": 11.113342259243588,
          "percentage_scaled": 0.17560736996575899,
          "percentage_tf": 11.192829513956104,
          "weight": 69.85,
          "weight_scaled": 0.08875739644970437
         },
         {
          "percentage": 11.505,
          "percentage_np": 11.371190507736166,
          "percentage_scaled": 0.22126202511006055,
          "percentage_tf": 11.431471480420358,
          "weight": 70.25,
          "weight_scaled": 0.1360946745562135
         },
         {
          "percentage": 11.257,
          "percentage_np": 11.274497414551448,
          "percentage_scaled": 0.18082504483939355,
          "percentage_tf": 11.34198074299626,
          "weight": 70.1,
          "weight_scaled": 0.1183431952662719
         },
         {
          "percentage": 11.022,
          "percentage_np": 11.500114631982456,
          "percentage_scaled": 0.14250774498614072,
          "percentage_tf": 11.550792463652488,
          "weight": 70.45,
          "weight_scaled": 0.15976331360946894
         },
         {
          "percentage": 10.954,
          "percentage_np": 11.564576694105597,
          "percentage_scaled": 0.13142018587966753,
          "percentage_tf": 11.610452955268544,
          "weight": 70.55,
          "weight_scaled": 0.17159763313609488
         },
         {
          "percentage": 11.270999999999999,
          "percentage_np": 11.661269787290315,
          "percentage_scaled": 0.18310777759660835,
          "percentage_tf": 11.699943692692642,
          "weight": 70.7,
          "weight_scaled": 0.18934911242603647
         },
         {
          "percentage": 10.475,
          "percentage_np": 11.145573290305165,
          "percentage_scaled": 0.05331811511495199,
          "percentage_tf": 11.222659759764145,
          "weight": 69.9,
          "weight_scaled": 0.09467455621302001
         },
         {
          "percentage": 10.593,
          "percentage_np": 11.274497414551448,
          "percentage_scaled": 0.07255829121147905,
          "percentage_tf": 11.34198074299626,
          "weight": 70.1,
          "weight_scaled": 0.1183431952662719
         },
         {
          "percentage": 10.59,
          "percentage_np": 11.145573290305165,
          "percentage_scaled": 0.07206913419207561,
          "percentage_tf": 11.222659759764145,
          "weight": 69.9,
          "weight_scaled": 0.09467455621302001
         },
         {
          "percentage": 10.648,
          "percentage_np": 11.210035352428307,
          "percentage_scaled": 0.08152616990053807,
          "percentage_tf": 11.282320251380202,
          "weight": 70,
          "weight_scaled": 0.10650887573964596
         },
         {
          "percentage": 11.012,
          "percentage_np": 11.210035352428307,
          "percentage_scaled": 0.14087722158812999,
          "percentage_tf": 11.282320251380202,
          "weight": 70,
          "weight_scaled": 0.10650887573964596
         },
         {
          "percentage": 10.22,
          "percentage_np": 10.791031948627868,
          "percentage_scaled": 0.011739768465677702,
          "percentage_tf": 10.894527055875786,
          "weight": 69.35,
          "weight_scaled": 0.029585798816567532
         },
         {
          "percentage": 11.084000000000001,
          "percentage_np": 12.241428346398607,
          "percentage_scaled": 0.1526169900538077,
          "percentage_tf": 12.236888117237203,
          "weight": 71.6,
          "weight_scaled": 0.29585798816568065
         },
         {
          "percentage": 11.107000000000001,
          "percentage_np": 12.241428346398607,
          "percentage_scaled": 0.15636719386923237,
          "percentage_tf": 12.236888117237203,
          "weight": 71.6,
          "weight_scaled": 0.29585798816568065
         },
         {
          "percentage": 10.908,
          "percentage_np": 12.112504222152324,
          "percentage_scaled": 0.12391977824881795,
          "percentage_tf": 12.117567134005082,
          "weight": 71.4,
          "weight_scaled": 0.272189349112427
         },
         {
          "percentage": 10.539000000000001,
          "percentage_np": 12.144735253213895,
          "percentage_scaled": 0.06375346486222111,
          "percentage_tf": 12.147397379813116,
          "weight": 71.45,
          "weight_scaled": 0.27810650887574084
         },
         {
          "percentage": 11.722999999999999,
          "percentage_np": 11.983580097906035,
          "percentage_scaled": 0.2568074351866949,
          "percentage_tf": 11.99824615077296,
          "weight": 71.2,
          "weight_scaled": 0.2485207100591733
         },
         {
          "percentage": 11.739,
          "percentage_np": 11.790193911536605,
          "percentage_scaled": 0.2594162726235123,
          "percentage_tf": 11.819264675924773,
          "weight": 70.9,
          "weight_scaled": 0.21301775147929192
         },
         {
          "percentage": 11.732999999999999,
          "percentage_np": 11.757962880475027,
          "percentage_scaled": 0.25843795858470564,
          "percentage_tf": 11.789434430116732,
          "weight": 70.85,
          "weight_scaled": 0.20710059171597628
         },
         {
          "percentage": 11.151,
          "percentage_np": 11.790193911536605,
          "percentage_scaled": 0.16354149682047936,
          "percentage_tf": 11.819264675924773,
          "weight": 70.9,
          "weight_scaled": 0.21301775147929192
         },
         {
          "percentage": 11.540999999999999,
          "percentage_np": 11.564576694105597,
          "percentage_scaled": 0.22713190934289895,
          "percentage_tf": 11.610452955268544,
          "weight": 70.55,
          "weight_scaled": 0.17159763313609488
         },
         {
          "percentage": 11.459000000000001,
          "percentage_np": 11.790193911536605,
          "percentage_scaled": 0.21376161747921119,
          "percentage_tf": 11.819264675924773,
          "weight": 70.9,
          "weight_scaled": 0.21301775147929192
         },
         {
          "percentage": 11.305,
          "percentage_np": 11.951349066844465,
          "percentage_scaled": 0.18865155714984505,
          "percentage_tf": 11.968415904964928,
          "weight": 71.15,
          "weight_scaled": 0.24260355029585945
         },
         {
          "percentage": 11.677999999999999,
          "percentage_np": 12.015811128967606,
          "percentage_scaled": 0.2494700798956464,
          "percentage_tf": 12.028076396580984,
          "weight": 71.25,
          "weight_scaled": 0.2544378698224854
         },
         {
          "percentage": 11.162,
          "percentage_np": 12.305890408521755,
          "percentage_scaled": 0.16533507255829138,
          "percentage_tf": 12.29654860885327,
          "weight": 71.7,
          "weight_scaled": 0.3076923076923084
         },
         {
          "percentage": 11.79,
          "percentage_np": 12.434814532768044,
          "percentage_scaled": 0.267731941953367,
          "percentage_tf": 12.4158695920854,
          "weight": 71.9,
          "weight_scaled": 0.3313609467455638
         },
         {
          "percentage": 12.173,
          "percentage_np": 12.144735253213895,
          "percentage_scaled": 0.33018098809717933,
          "percentage_tf": 12.147397379813116,
          "weight": 71.45,
          "weight_scaled": 0.27810650887574084
         },
         {
          "percentage": 12.09,
          "percentage_np": 11.983580097906035,
          "percentage_scaled": 0.31664764389369005,
          "percentage_tf": 11.99824615077296,
          "weight": 71.2,
          "weight_scaled": 0.2485207100591733
         },
         {
          "percentage": 11.069,
          "percentage_np": 12.144735253213895,
          "percentage_scaled": 0.15017120495679137,
          "percentage_tf": 12.147397379813116,
          "weight": 71.45,
          "weight_scaled": 0.27810650887574084
         },
         {
          "percentage": 11.895,
          "percentage_np": 12.209197315337036,
          "percentage_scaled": 0.28485243763248014,
          "percentage_tf": 12.207057871429171,
          "weight": 71.55,
          "weight_scaled": 0.2899408284023668
         },
         {
          "percentage": 12.022,
          "percentage_np": 12.176966284275466,
          "percentage_scaled": 0.30556008478721686,
          "percentage_tf": 12.177227625621148,
          "weight": 71.5,
          "weight_scaled": 0.2840236686390547
         },
         {
          "percentage": 12.154000000000002,
          "percentage_np": 11.790193911536605,
          "percentage_scaled": 0.32708299364095916,
          "percentage_tf": 11.819264675924773,
          "weight": 70.9,
          "weight_scaled": 0.21301775147929192
         },
         {
          "percentage": 11.818,
          "percentage_np": 12.048042160029176,
          "percentage_scaled": 0.2722974074677973,
          "percentage_tf": 12.057906642389018,
          "weight": 71.3,
          "weight_scaled": 0.26035502958579926
         },
         {
          "percentage": 12.013,
          "percentage_np": 12.112504222152324,
          "percentage_scaled": 0.3040926137290072,
          "percentage_tf": 12.117567134005082,
          "weight": 71.4,
          "weight_scaled": 0.272189349112427
         },
         {
          "percentage": 11.839,
          "percentage_np": 12.015811128967606,
          "percentage_scaled": 0.27572150660362005,
          "percentage_tf": 12.028076396580984,
          "weight": 71.25,
          "weight_scaled": 0.2544378698224854
         },
         {
          "percentage": 11.449000000000002,
          "percentage_np": 12.015811128967606,
          "percentage_scaled": 0.21213109408120046,
          "percentage_tf": 12.028076396580984,
          "weight": 71.25,
          "weight_scaled": 0.2544378698224854
         },
         {
          "percentage": 11.752,
          "percentage_np": 12.531507625952756,
          "percentage_scaled": 0.26153595304092625,
          "percentage_tf": 12.50536032950949,
          "weight": 72.05,
          "weight_scaled": 0.34911242603550363
         },
         {
          "percentage": 11.527999999999999,
          "percentage_np": 11.854655973659746,
          "percentage_scaled": 0.225012228925485,
          "percentage_tf": 11.87892516754083,
          "weight": 71,
          "weight_scaled": 0.22485207100591786
         },
         {
          "percentage": 11.702,
          "percentage_np": 11.693500818351886,
          "percentage_scaled": 0.2533833360508724,
          "percentage_tf": 11.729773938500674,
          "weight": 70.75,
          "weight_scaled": 0.19526627218935033
         },
         {
          "percentage": 11.529000000000002,
          "percentage_np": 11.854655973659746,
          "percentage_scaled": 0.22517528126528652,
          "percentage_tf": 11.87892516754083,
          "weight": 71,
          "weight_scaled": 0.22485207100591786
         },
         {
          "percentage": 11.56,
          "percentage_np": 11.886887004721316,
          "percentage_scaled": 0.23022990379911978,
          "percentage_tf": 11.908755413348862,
          "weight": 71.05,
          "weight_scaled": 0.23076923076923173
         },
         {
          "percentage": 11.123,
          "percentage_np": 11.886887004721316,
          "percentage_scaled": 0.15897603130604931,
          "percentage_tf": 11.908755413348862,
          "weight": 71.05,
          "weight_scaled": 0.23076923076923173
         },
         {
          "percentage": 11.568,
          "percentage_np": 11.532345663044026,
          "percentage_scaled": 0.23153432251752815,
          "percentage_tf": 11.580622709460512,
          "weight": 70.5,
          "weight_scaled": 0.16568047337278102
         },
         {
          "percentage": 10.890999999999998,
          "percentage_np": 11.693500818351886,
          "percentage_scaled": 0.12114788847219948,
          "percentage_tf": 11.729773938500674,
          "weight": 70.75,
          "weight_scaled": 0.19526627218935033
         },
         {
          "percentage": 11.769,
          "percentage_np": 12.209197315337036,
          "percentage_scaled": 0.2643078428175445,
          "percentage_tf": 12.207057871429171,
          "weight": 71.55,
          "weight_scaled": 0.2899408284023668
         },
         {
          "percentage": 11.705,
          "percentage_np": 11.693500818351886,
          "percentage_scaled": 0.2538724930702756,
          "percentage_tf": 11.729773938500674,
          "weight": 70.75,
          "weight_scaled": 0.19526627218935033
         },
         {
          "percentage": 11.821,
          "percentage_np": 11.435652569859307,
          "percentage_scaled": 0.2727865644872005,
          "percentage_tf": 11.491131972036413,
          "weight": 70.35,
          "weight_scaled": 0.14792899408283944
         },
         {
          "percentage": 10.454,
          "percentage_np": 12.338121439583325,
          "percentage_scaled": 0.04989401597912946,
          "percentage_tf": 12.326378854661302,
          "weight": 71.75,
          "weight_scaled": 0.31360946745562224
         },
         {
          "percentage": 11.075999999999999,
          "percentage_np": 11.725731849413457,
          "percentage_scaled": 0.15131257133539866,
          "percentage_tf": 11.7596041843087,
          "weight": 70.8,
          "weight_scaled": 0.20118343195266242
         },
         {
          "percentage": 11.163,
          "percentage_np": 11.790193911536605,
          "percentage_scaled": 0.16549812489809246,
          "percentage_tf": 11.819264675924773,
          "weight": 70.9,
          "weight_scaled": 0.21301775147929192
         },
         {
          "percentage": 10.915999999999999,
          "percentage_np": 11.854655973659746,
          "percentage_scaled": 0.1252241969672263,
          "percentage_tf": 11.87892516754083,
          "weight": 71,
          "weight_scaled": 0.22485207100591786
         },
         {
          "percentage": 11.179,
          "percentage_np": 11.725731849413457,
          "percentage_scaled": 0.16810696233490963,
          "percentage_tf": 11.7596041843087,
          "weight": 70.8,
          "weight_scaled": 0.20118343195266242
         },
         {
          "percentage": 11.34,
          "percentage_np": 11.629038756228745,
          "percentage_scaled": 0.19435838904288283,
          "percentage_tf": 11.67011344688461,
          "weight": 70.65,
          "weight_scaled": 0.1834319526627226
         },
         {
          "percentage": 11.892999999999999,
          "percentage_np": 11.725731849413457,
          "percentage_scaled": 0.28452633295287777,
          "percentage_tf": 11.7596041843087,
          "weight": 70.8,
          "weight_scaled": 0.20118343195266242
         },
         {
          "percentage": 12.036,
          "percentage_np": 11.919118035782887,
          "percentage_scaled": 0.3078428175444319,
          "percentage_tf": 11.938585659156885,
          "weight": 71.1,
          "weight_scaled": 0.2366863905325438
         },
         {
          "percentage": 11.777999999999999,
          "percentage_np": 11.919118035782887,
          "percentage_scaled": 0.2657753138757539,
          "percentage_tf": 11.938585659156885,
          "weight": 71.1,
          "weight_scaled": 0.2366863905325438
         },
         {
          "percentage": 11.443,
          "percentage_np": 11.919118035782887,
          "percentage_scaled": 0.21115278004239357,
          "percentage_tf": 11.938585659156885,
          "weight": 71.1,
          "weight_scaled": 0.2366863905325438
         },
         {
          "percentage": 11.365,
          "percentage_np": 11.919118035782887,
          "percentage_scaled": 0.19843469753790988,
          "percentage_tf": 11.938585659156885,
          "weight": 71.1,
          "weight_scaled": 0.2366863905325438
         },
         {
          "percentage": 11.581,
          "percentage_np": 11.564576694105597,
          "percentage_scaled": 0.2336540029349421,
          "percentage_tf": 11.610452955268544,
          "weight": 70.55,
          "weight_scaled": 0.17159763313609488
         },
         {
          "percentage": 11.832,
          "percentage_np": 11.790193911536605,
          "percentage_scaled": 0.27458014022501254,
          "percentage_tf": 11.819264675924773,
          "weight": 70.9,
          "weight_scaled": 0.21301775147929192
         },
         {
          "percentage": 12.488,
          "percentage_np": 12.080273191090747,
          "percentage_scaled": 0.3815424751345182,
          "percentage_tf": 12.08773688819705,
          "weight": 71.35,
          "weight_scaled": 0.2662721893491131
         },
         {
          "percentage": 11.635,
          "percentage_np": 11.177804321366736,
          "percentage_scaled": 0.24245882928420026,
          "percentage_tf": 11.25249000557217,
          "weight": 69.95,
          "weight_scaled": 0.1005917159763321
         },
         {
          "percentage": 11.968,
          "percentage_np": 11.822424942598175,
          "percentage_scaled": 0.2967552584379587,
          "percentage_tf": 11.849094921732798,
          "weight": 70.95,
          "weight_scaled": 0.218934911242604
         },
         {
          "percentage": 10.929,
          "percentage_np": 11.564576694105597,
          "percentage_scaled": 0.1273438773846407,
          "percentage_tf": 11.610452955268544,
          "weight": 70.55,
          "weight_scaled": 0.17159763313609488
         },
         {
          "percentage": 11.18,
          "percentage_np": 12.338121439583325,
          "percentage_scaled": 0.1682700146747107,
          "percentage_tf": 12.326378854661302,
          "weight": 71.75,
          "weight_scaled": 0.31360946745562224
         },
         {
          "percentage": 11.401,
          "percentage_np": 11.532345663044026,
          "percentage_scaled": 0.2043045817707485,
          "percentage_tf": 11.580622709460512,
          "weight": 70.5,
          "weight_scaled": 0.16568047337278102
         },
         {
          "percentage": 11.818,
          "percentage_np": 11.596807725167167,
          "percentage_scaled": 0.2722974074677973,
          "percentage_tf": 11.640283201076576,
          "weight": 70.6,
          "weight_scaled": 0.17751479289940875
         },
         {
          "percentage": 11.327,
          "percentage_np": 11.306728445613025,
          "percentage_scaled": 0.19223870862546888,
          "percentage_tf": 11.3718109888043,
          "weight": 70.15,
          "weight_scaled": 0.12426035502958754
         },
         {
          "percentage": 11.124,
          "percentage_np": 11.661269787290315,
          "percentage_scaled": 0.1591390836458506,
          "percentage_tf": 11.699943692692642,
          "weight": 70.7,
          "weight_scaled": 0.18934911242603647
         },
         {
          "percentage": 11.492,
          "percentage_np": 11.371190507736166,
          "percentage_scaled": 0.2191423446926466,
          "percentage_tf": 11.431471480420358,
          "weight": 70.25,
          "weight_scaled": 0.1360946745562135
         },
         {
          "percentage": 11.345999999999998,
          "percentage_np": 11.629038756228745,
          "percentage_scaled": 0.19533670308168904,
          "percentage_tf": 11.67011344688461,
          "weight": 70.65,
          "weight_scaled": 0.1834319526627226
         },
         {
          "percentage": 11.038,
          "percentage_np": 11.596807725167167,
          "percentage_scaled": 0.14511658242295788,
          "percentage_tf": 11.640283201076576,
          "weight": 70.6,
          "weight_scaled": 0.17751479289940875
         },
         {
          "percentage": 11.422,
          "percentage_np": 11.500114631982456,
          "percentage_scaled": 0.20772868090657126,
          "percentage_tf": 11.550792463652488,
          "weight": 70.45,
          "weight_scaled": 0.15976331360946894
         },
         {
          "percentage": 10.884,
          "percentage_np": 11.177804321366736,
          "percentage_scaled": 0.1200065220935922,
          "percentage_tf": 11.25249000557217,
          "weight": 69.95,
          "weight_scaled": 0.1005917159763321
         },
         {
          "percentage": 11.297,
          "percentage_np": 10.984418134997306,
          "percentage_scaled": 0.1873471384314367,
          "percentage_tf": 11.073508530723982,
          "weight": 69.65,
          "weight_scaled": 0.0650887573964507
         },
         {
          "percentage": 11.339,
          "percentage_np": 11.338959476674596,
          "percentage_scaled": 0.19419533670308176,
          "percentage_tf": 11.401641234612324,
          "weight": 70.2,
          "weight_scaled": 0.13017751479289963
         },
         {
          "percentage": 11.634,
          "percentage_np": 11.435652569859307,
          "percentage_scaled": 0.2422957769443994,
          "percentage_tf": 11.491131972036413,
          "weight": 70.35,
          "weight_scaled": 0.14792899408283944
         },
         {
          "percentage": 11.147,
          "percentage_np": 11.145573290305165,
          "percentage_scaled": 0.1628892874612753,
          "percentage_tf": 11.222659759764145,
          "weight": 69.9,
          "weight_scaled": 0.09467455621302001
         },
         {
          "percentage": 11.003,
          "percentage_np": 11.048880197120447,
          "percentage_scaled": 0.13940975052992033,
          "percentage_tf": 11.133169022340047,
          "weight": 69.75,
          "weight_scaled": 0.07692307692307843
         },
         {
          "percentage": 10.911,
          "percentage_np": 11.177804321366736,
          "percentage_scaled": 0.12440893526822117,
          "percentage_tf": 11.25249000557217,
          "weight": 69.95,
          "weight_scaled": 0.1005917159763321
         },
         {
          "percentage": 10.950999999999999,
          "percentage_np": 11.371190507736166,
          "percentage_scaled": 0.1309310288602641,
          "percentage_tf": 11.431471480420358,
          "weight": 70.25,
          "weight_scaled": 0.1360946745562135
         },
         {
          "percentage": 10.857999999999999,
          "percentage_np": 11.403421538797737,
          "percentage_scaled": 0.11576716125876385,
          "percentage_tf": 11.46130172622839,
          "weight": 70.3,
          "weight_scaled": 0.14201183431952735
         },
         {
          "percentage": 10.407,
          "percentage_np": 11.081111228182017,
          "percentage_scaled": 0.0422305560084788,
          "percentage_tf": 11.162999268148072,
          "weight": 69.8,
          "weight_scaled": 0.08284023668639051
         },
         {
          "percentage": 10.644,
          "percentage_np": 11.629038756228745,
          "percentage_scaled": 0.08087396054133378,
          "percentage_tf": 11.67011344688461,
          "weight": 70.65,
          "weight_scaled": 0.1834319526627226
         },
         {
          "percentage": 10.215,
          "percentage_np": 11.629038756228745,
          "percentage_scaled": 0.010924506766672115,
          "percentage_tf": 11.67011344688461,
          "weight": 70.65,
          "weight_scaled": 0.1834319526627226
         },
         {
          "percentage": 10.331,
          "percentage_np": 11.532345663044026,
          "percentage_scaled": 0.02983857818359703,
          "percentage_tf": 11.580622709460512,
          "weight": 70.5,
          "weight_scaled": 0.16568047337278102
         },
         {
          "percentage": 10.731,
          "percentage_np": 11.371190507736166,
          "percentage_scaled": 0.09505951410402735,
          "percentage_tf": 11.431471480420358,
          "weight": 70.25,
          "weight_scaled": 0.1360946745562135
         },
         {
          "percentage": 10.827,
          "percentage_np": 11.661269787290315,
          "percentage_scaled": 0.11071253872493081,
          "percentage_tf": 11.699943692692642,
          "weight": 70.7,
          "weight_scaled": 0.18934911242603647
         },
         {
          "percentage": 11.368,
          "percentage_np": 11.338959476674596,
          "percentage_scaled": 0.1989238545573131,
          "percentage_tf": 11.401641234612324,
          "weight": 70.2,
          "weight_scaled": 0.13017751479289963
         },
         {
          "percentage": 10.575,
          "percentage_np": 11.661269787290315,
          "percentage_scaled": 0.06962334909505952,
          "percentage_tf": 11.699943692692642,
          "weight": 70.7,
          "weight_scaled": 0.18934911242603647
         },
         {
          "percentage": 11.157,
          "percentage_np": 11.274497414551448,
          "percentage_scaled": 0.16451981085928602,
          "percentage_tf": 11.34198074299626,
          "weight": 70.1,
          "weight_scaled": 0.1183431952662719
         },
         {
          "percentage": 11.45,
          "percentage_np": 11.371190507736166,
          "percentage_scaled": 0.21229414642100108,
          "percentage_tf": 11.431471480420358,
          "weight": 70.25,
          "weight_scaled": 0.1360946745562135
         },
         {
          "percentage": 11.404000000000002,
          "percentage_np": 11.177804321366736,
          "percentage_scaled": 0.20479373879015195,
          "percentage_tf": 11.25249000557217,
          "weight": 69.95,
          "weight_scaled": 0.1005917159763321
         },
         {
          "percentage": 11.110999999999999,
          "percentage_np": 11.532345663044026,
          "percentage_scaled": 0.15701940322843622,
          "percentage_tf": 11.580622709460512,
          "weight": 70.5,
          "weight_scaled": 0.16568047337278102
         },
         {
          "percentage": 11.249,
          "percentage_np": 11.596807725167167,
          "percentage_scaled": 0.17952062612098496,
          "percentage_tf": 11.640283201076576,
          "weight": 70.6,
          "weight_scaled": 0.17751479289940875
         },
         {
          "percentage": 11.434000000000001,
          "percentage_np": 11.403421538797737,
          "percentage_scaled": 0.20968530898418414,
          "percentage_tf": 11.46130172622839,
          "weight": 70.3,
          "weight_scaled": 0.14201183431952735
         },
         {
          "percentage": 11.782,
          "percentage_np": 11.306728445613025,
          "percentage_scaled": 0.26642752323495844,
          "percentage_tf": 11.3718109888043,
          "weight": 70.15,
          "weight_scaled": 0.12426035502958754
         },
         {
          "percentage": 11.589,
          "percentage_np": 11.532345663044026,
          "percentage_scaled": 0.2349584216533509,
          "percentage_tf": 11.580622709460512,
          "weight": 70.5,
          "weight_scaled": 0.16568047337278102
         },
         {
          "percentage": 11.382,
          "percentage_np": 11.629038756228745,
          "percentage_scaled": 0.20120658731452812,
          "percentage_tf": 11.67011344688461,
          "weight": 70.65,
          "weight_scaled": 0.1834319526627226
         },
         {
          "percentage": 11.105,
          "percentage_np": 11.790193911536605,
          "percentage_scaled": 0.15604108918963,
          "percentage_tf": 11.819264675924773,
          "weight": 70.9,
          "weight_scaled": 0.21301775147929192
         },
         {
          "percentage": 11.202,
          "percentage_np": 11.757962880475027,
          "percentage_scaled": 0.1718571661503343,
          "percentage_tf": 11.789434430116732,
          "weight": 70.85,
          "weight_scaled": 0.20710059171597628
         },
         {
          "percentage": 11.257,
          "percentage_np": 11.629038756228745,
          "percentage_scaled": 0.18082504483939355,
          "percentage_tf": 11.67011344688461,
          "weight": 70.65,
          "weight_scaled": 0.1834319526627226
         },
         {
          "percentage": 11.439,
          "percentage_np": 11.306728445613025,
          "percentage_scaled": 0.2105005706831895,
          "percentage_tf": 11.3718109888043,
          "weight": 70.15,
          "weight_scaled": 0.12426035502958754
         },
         {
          "percentage": 11.187999999999999,
          "percentage_np": 11.177804321366736,
          "percentage_scaled": 0.16957443339311906,
          "percentage_tf": 11.25249000557217,
          "weight": 69.95,
          "weight_scaled": 0.1005917159763321
         },
         {
          "percentage": 11.218,
          "percentage_np": 11.306728445613025,
          "percentage_scaled": 0.17446600358715147,
          "percentage_tf": 11.3718109888043,
          "weight": 70.15,
          "weight_scaled": 0.12426035502958754
         },
         {
          "percentage": 11.529000000000002,
          "percentage_np": 11.371190507736166,
          "percentage_scaled": 0.22517528126528652,
          "percentage_tf": 11.431471480420358,
          "weight": 70.25,
          "weight_scaled": 0.1360946745562135
         },
         {
          "percentage": 11.561,
          "percentage_np": 11.757962880475027,
          "percentage_scaled": 0.23039295613892063,
          "percentage_tf": 11.789434430116732,
          "weight": 70.85,
          "weight_scaled": 0.20710059171597628
         },
         {
          "percentage": 11.56,
          "percentage_np": 11.500114631982456,
          "percentage_scaled": 0.23022990379911978,
          "percentage_tf": 11.550792463652488,
          "weight": 70.45,
          "weight_scaled": 0.15976331360946894
         },
         {
          "percentage": 11.687000000000001,
          "percentage_np": 11.403421538797737,
          "percentage_scaled": 0.2509375509538565,
          "percentage_tf": 11.46130172622839,
          "weight": 70.3,
          "weight_scaled": 0.14201183431952735
         },
         {
          "percentage": 11.49,
          "percentage_np": 11.306728445613025,
          "percentage_scaled": 0.21881624001304423,
          "percentage_tf": 11.3718109888043,
          "weight": 70.15,
          "weight_scaled": 0.12426035502958754
         },
         {
          "percentage": 11.814,
          "percentage_np": 11.145573290305165,
          "percentage_scaled": 0.271645198108593,
          "percentage_tf": 11.222659759764145,
          "weight": 69.9,
          "weight_scaled": 0.09467455621302001
         },
         {
          "percentage": 11.652000000000001,
          "percentage_np": 11.693500818351886,
          "percentage_scaled": 0.24523071906081872,
          "percentage_tf": 11.729773938500674,
          "weight": 70.75,
          "weight_scaled": 0.19526627218935033
         },
         {
          "percentage": 11.589,
          "percentage_np": 11.757962880475027,
          "percentage_scaled": 0.2349584216533509,
          "percentage_tf": 11.789434430116732,
          "weight": 70.85,
          "weight_scaled": 0.20710059171597628
         },
         {
          "percentage": 11.539000000000001,
          "percentage_np": 12.080273191090747,
          "percentage_scaled": 0.22680580466329725,
          "percentage_tf": 12.08773688819705,
          "weight": 71.35,
          "weight_scaled": 0.2662721893491131
         },
         {
          "percentage": 12.093,
          "percentage_np": 11.725731849413457,
          "percentage_scaled": 0.31713680091309326,
          "percentage_tf": 11.7596041843087,
          "weight": 70.8,
          "weight_scaled": 0.20118343195266242
         },
         {
          "percentage": 11.55,
          "percentage_np": 11.822424942598175,
          "percentage_scaled": 0.22859938040110905,
          "percentage_tf": 11.849094921732798,
          "weight": 70.95,
          "weight_scaled": 0.218934911242604
         },
         {
          "percentage": 11.933,
          "percentage_np": 11.693500818351886,
          "percentage_scaled": 0.2910484265449209,
          "percentage_tf": 11.729773938500674,
          "weight": 70.75,
          "weight_scaled": 0.19526627218935033
         },
         {
          "percentage": 11.857999999999999,
          "percentage_np": 11.693500818351886,
          "percentage_scaled": 0.2788195010598402,
          "percentage_tf": 11.729773938500674,
          "weight": 70.75,
          "weight_scaled": 0.19526627218935033
         },
         {
          "percentage": 12.043,
          "percentage_np": 11.725731849413457,
          "percentage_scaled": 0.3089841839230394,
          "percentage_tf": 11.7596041843087,
          "weight": 70.8,
          "weight_scaled": 0.20118343195266242
         },
         {
          "percentage": 11.341,
          "percentage_np": 11.790193911536605,
          "percentage_scaled": 0.1945214413826839,
          "percentage_tf": 11.819264675924773,
          "weight": 70.9,
          "weight_scaled": 0.21301775147929192
         },
         {
          "percentage": 12.047,
          "percentage_np": 11.983580097906035,
          "percentage_scaled": 0.3096363932822439,
          "percentage_tf": 11.99824615077296,
          "weight": 71.2,
          "weight_scaled": 0.2485207100591733
         },
         {
          "percentage": 12.444,
          "percentage_np": 12.015811128967606,
          "percentage_scaled": 0.374368172183271,
          "percentage_tf": 12.028076396580984,
          "weight": 71.25,
          "weight_scaled": 0.2544378698224854
         },
         {
          "percentage": 12.172,
          "percentage_np": 11.725731849413457,
          "percentage_scaled": 0.33001793575737826,
          "percentage_tf": 11.7596041843087,
          "weight": 70.8,
          "weight_scaled": 0.20118343195266242
         },
         {
          "percentage": 12.047,
          "percentage_np": 11.177804321366736,
          "percentage_scaled": 0.3096363932822439,
          "percentage_tf": 11.25249000557217,
          "weight": 69.95,
          "weight_scaled": 0.1005917159763321
         },
         {
          "percentage": 11.99,
          "percentage_np": 11.822424942598175,
          "percentage_scaled": 0.3003424099135825,
          "percentage_tf": 11.849094921732798,
          "weight": 70.95,
          "weight_scaled": 0.218934911242604
         },
         {
          "percentage": 11.625,
          "percentage_np": 11.790193911536605,
          "percentage_scaled": 0.24082830588618953,
          "percentage_tf": 11.819264675924773,
          "weight": 70.9,
          "weight_scaled": 0.21301775147929192
         },
         {
          "percentage": 11.689,
          "percentage_np": 11.725731849413457,
          "percentage_scaled": 0.2512636556334584,
          "percentage_tf": 11.7596041843087,
          "weight": 70.8,
          "weight_scaled": 0.20118343195266242
         },
         {
          "percentage": 11.519,
          "percentage_np": 11.403421538797737,
          "percentage_scaled": 0.22354475786727557,
          "percentage_tf": 11.46130172622839,
          "weight": 70.3,
          "weight_scaled": 0.14201183431952735
         },
         {
          "percentage": 11.968,
          "percentage_np": 12.112504222152324,
          "percentage_scaled": 0.2967552584379587,
          "percentage_tf": 12.117567134005082,
          "weight": 71.4,
          "weight_scaled": 0.272189349112427
         },
         {
          "percentage": 11.257,
          "percentage_np": 11.725731849413457,
          "percentage_scaled": 0.18082504483939355,
          "percentage_tf": 11.7596041843087,
          "weight": 70.8,
          "weight_scaled": 0.20118343195266242
         },
         {
          "percentage": 11.652999999999999,
          "percentage_np": 11.242266383489877,
          "percentage_scaled": 0.24539377140061958,
          "percentage_tf": 11.312150497188236,
          "weight": 70.05,
          "weight_scaled": 0.11242603550295982
         },
         {
          "percentage": 12.012,
          "percentage_np": 11.919118035782887,
          "percentage_scaled": 0.3039295613892061,
          "percentage_tf": 11.938585659156885,
          "weight": 71.1,
          "weight_scaled": 0.2366863905325438
         },
         {
          "percentage": 11.767000000000001,
          "percentage_np": 11.725731849413457,
          "percentage_scaled": 0.26398173813794257,
          "percentage_tf": 11.7596041843087,
          "weight": 70.8,
          "weight_scaled": 0.20118343195266242
         },
         {
          "percentage": 11.585999999999999,
          "percentage_np": 11.467883600920885,
          "percentage_scaled": 0.23446926463394746,
          "percentage_tf": 11.520962217844454,
          "weight": 70.4,
          "weight_scaled": 0.15384615384615508
         },
         {
          "percentage": 11.620999999999999,
          "percentage_np": 11.629038756228745,
          "percentage_scaled": 0.24017609652698502,
          "percentage_tf": 11.67011344688461,
          "weight": 70.65,
          "weight_scaled": 0.1834319526627226
         },
         {
          "percentage": 11.294,
          "percentage_np": 11.951349066844465,
          "percentage_scaled": 0.18685798141203347,
          "percentage_tf": 11.968415904964928,
          "weight": 71.15,
          "weight_scaled": 0.24260355029585945
         },
         {
          "percentage": 11.727,
          "percentage_np": 11.532345663044026,
          "percentage_scaled": 0.2574596445458994,
          "percentage_tf": 11.580622709460512,
          "weight": 70.5,
          "weight_scaled": 0.16568047337278102
         },
         {
          "percentage": 12.061,
          "percentage_np": 11.564576694105597,
          "percentage_scaled": 0.3119191260394587,
          "percentage_tf": 11.610452955268544,
          "weight": 70.55,
          "weight_scaled": 0.17159763313609488
         },
         {
          "percentage": 12.112,
          "percentage_np": 11.564576694105597,
          "percentage_scaled": 0.32023479536931365,
          "percentage_tf": 11.610452955268544,
          "weight": 70.55,
          "weight_scaled": 0.17159763313609488
         },
         {
          "percentage": 11.779000000000002,
          "percentage_np": 11.435652569859307,
          "percentage_scaled": 0.26593836621555567,
          "percentage_tf": 11.491131972036413,
          "weight": 70.35,
          "weight_scaled": 0.14792899408283944
         },
         {
          "percentage": 12.515,
          "percentage_np": 12.660431750199045,
          "percentage_scaled": 0.38594488830914764,
          "percentage_tf": 12.624681312741613,
          "weight": 72.25,
          "weight_scaled": 0.3727810650887573
         },
         {
          "percentage": 12.683,
          "percentage_np": 12.692662781260616,
          "percentage_scaled": 0.41333768139572835,
          "percentage_tf": 12.654511558549645,
          "weight": 72.3,
          "weight_scaled": 0.37869822485207116
         },
         {
          "percentage": 12.155999999999999,
          "percentage_np": 12.628200719137475,
          "percentage_scaled": 0.32740909832056087,
          "percentage_tf": 12.594851066933588,
          "weight": 72.2,
          "weight_scaled": 0.3668639053254452
         },
         {
          "percentage": 12.414000000000001,
          "percentage_np": 12.724893812322186,
          "percentage_scaled": 0.3694766019892388,
          "percentage_tf": 12.684341804357677,
          "weight": 72.35,
          "weight_scaled": 0.384615384615385
         },
         {
          "percentage": 12.65,
          "percentage_np": 12.853817936568475,
          "percentage_scaled": 0.4079569541822925,
          "percentage_tf": 12.803662787589799,
          "weight": 72.55,
          "weight_scaled": 0.4082840236686387
         },
         {
          "percentage": 12.717,
          "percentage_np": 12.950511029753194,
          "percentage_scaled": 0.41888146094896483,
          "percentage_tf": 12.893153525013895,
          "weight": 72.7,
          "weight_scaled": 0.4260355029585803
         },
         {
          "percentage": 13.187000000000001,
          "percentage_np": 12.918279998691624,
          "percentage_scaled": 0.49551606065547094,
          "percentage_tf": 12.863323279205874,
          "weight": 72.65,
          "weight_scaled": 0.4201183431952682
         },
         {
          "percentage": 12.43,
          "percentage_np": 13.208359278245766,
          "percentage_scaled": 0.372085439426056,
          "percentage_tf": 13.13179549147815,
          "weight": 73.1,
          "weight_scaled": 0.4733727810650894
         },
         {
          "percentage": 12.467,
          "percentage_np": 12.950511029753194,
          "percentage_scaled": 0.3781183759986957,
          "percentage_tf": 12.893153525013895,
          "weight": 72.7,
          "weight_scaled": 0.4260355029585803
         },
         {
          "percentage": 13.002,
          "percentage_np": 12.789355874445334,
          "percentage_scaled": 0.46535137779227154,
          "percentage_tf": 12.744002295973743,
          "weight": 72.45,
          "weight_scaled": 0.39644970414201275
         },
         {
          "percentage": 13.342,
          "percentage_np": 13.014973091876335,
          "percentage_scaled": 0.5207891733246373,
          "percentage_tf": 12.952814016629961,
          "weight": 72.8,
          "weight_scaled": 0.437869822485208
         },
         {
          "percentage": 12.758,
          "percentage_np": 13.047204122937906,
          "percentage_scaled": 0.42556660688080883,
          "percentage_tf": 12.982644262437987,
          "weight": 72.85,
          "weight_scaled": 0.4437869822485201
         },
         {
          "percentage": 13.167,
          "percentage_np": 13.176128247184195,
          "percentage_scaled": 0.49225501385944903,
          "percentage_tf": 13.101965245670117,
          "weight": 73.05,
          "weight_scaled": 0.46745562130177554
         },
         {
          "percentage": 13.484000000000002,
          "percentage_np": 12.853817936568475,
          "percentage_scaled": 0.5439426055763905,
          "percentage_tf": 12.803662787589799,
          "weight": 72.55,
          "weight_scaled": 0.4082840236686387
         },
         {
          "percentage": 13.318,
          "percentage_np": 12.853817936568475,
          "percentage_scaled": 0.5168759171694115,
          "percentage_tf": 12.803662787589799,
          "weight": 72.55,
          "weight_scaled": 0.4082840236686387
         },
         {
          "percentage": 13.275,
          "percentage_np": 12.757124843383764,
          "percentage_scaled": 0.5098646665579654,
          "percentage_tf": 12.714172050165711,
          "weight": 72.4,
          "weight_scaled": 0.3905325443786989
         },
         {
          "percentage": 13.023,
          "percentage_np": 13.143897216122625,
          "percentage_scaled": 0.46877547692809407,
          "percentage_tf": 13.072134999862085,
          "weight": 73,
          "weight_scaled": 0.4615384615384617
         },
         {
          "percentage": 13.249,
          "percentage_np": 13.401745464615203,
          "percentage_scaled": 0.5056253057231375,
          "percentage_tf": 13.310776966326346,
          "weight": 73.4,
          "weight_scaled": 0.5088757396449726
         },
         {
          "percentage": 12.248,
          "percentage_np": 12.950511029753194,
          "percentage_scaled": 0.34240991358226003,
          "percentage_tf": 12.893153525013895,
          "weight": 72.7,
          "weight_scaled": 0.4260355029585803
         },
         {
          "percentage": 12.558,
          "percentage_np": 12.982742060814765,
          "percentage_scaled": 0.3929561389205938,
          "percentage_tf": 12.92298377082193,
          "weight": 72.75,
          "weight_scaled": 0.43195266272189414
         },
         {
          "percentage": 12.415999999999999,
          "percentage_np": 13.433976495676774,
          "percentage_scaled": 0.3698027066688405,
          "percentage_tf": 13.34060721213437,
          "weight": 73.45,
          "weight_scaled": 0.5147928994082847
         },
         {
          "percentage": 12.52,
          "percentage_np": 13.208359278245766,
          "percentage_scaled": 0.38676015000815256,
          "percentage_tf": 13.13179549147815,
          "weight": 73.1,
          "weight_scaled": 0.4733727810650894
         },
         {
          "percentage": 12.696,
          "percentage_np": 13.272821340368914,
          "percentage_scaled": 0.4154573618131423,
          "percentage_tf": 13.191455983094215,
          "weight": 73.2,
          "weight_scaled": 0.4852071005917171
         },
         {
          "percentage": 12.845,
          "percentage_np": 13.369514433553626,
          "percentage_scaled": 0.4397521604435026,
          "percentage_tf": 13.280946720518305,
          "weight": 73.35,
          "weight_scaled": 0.5029585798816569
         },
         {
          "percentage": 13.181,
          "percentage_np": 13.272821340368914,
          "percentage_scaled": 0.49453774661666405,
          "percentage_tf": 13.191455983094215,
          "weight": 73.2,
          "weight_scaled": 0.4852071005917171
         },
         {
          "percentage": 12.91,
          "percentage_np": 13.466207526738344,
          "percentage_scaled": 0.4503505625305724,
          "percentage_tf": 13.370437457942403,
          "weight": 73.5,
          "weight_scaled": 0.5207100591715985
         },
         {
          "percentage": 12.677,
          "percentage_np": 12.789355874445334,
          "percentage_scaled": 0.41235936735692147,
          "percentage_tf": 12.744002295973743,
          "weight": 72.45,
          "weight_scaled": 0.39644970414201275
         },
         {
          "percentage": 13.023,
          "percentage_np": 12.886048967630046,
          "percentage_scaled": 0.46877547692809407,
          "percentage_tf": 12.833493033397831,
          "weight": 72.6,
          "weight_scaled": 0.41420118343195256
         },
         {
          "percentage": 12.925999999999998,
          "percentage_np": 12.789355874445334,
          "percentage_scaled": 0.45295939996738954,
          "percentage_tf": 12.744002295973743,
          "weight": 72.45,
          "weight_scaled": 0.39644970414201275
         },
         {
          "percentage": 12.087,
          "percentage_np": 12.660431750199045,
          "percentage_scaled": 0.3161584868742868,
          "percentage_tf": 12.624681312741613,
          "weight": 72.25,
          "weight_scaled": 0.3727810650887573
         },
         {
          "percentage": 11.904000000000002,
          "percentage_np": 12.757124843383764,
          "percentage_scaled": 0.28631990869069,
          "percentage_tf": 12.714172050165711,
          "weight": 72.4,
          "weight_scaled": 0.3905325443786989
         },
         {
          "percentage": 12.034,
          "percentage_np": 13.047204122937906,
          "percentage_scaled": 0.30751671286482973,
          "percentage_tf": 12.982644262437987,
          "weight": 72.85,
          "weight_scaled": 0.4437869822485201
         },
         {
          "percentage": 11.937000000000001,
          "percentage_np": 12.821586905506905,
          "percentage_scaled": 0.2917006359041254,
          "percentage_tf": 12.773832541781776,
          "weight": 72.5,
          "weight_scaled": 0.4023668639053266
         },
         {
          "percentage": 12.38,
          "percentage_np": 12.821586905506905,
          "percentage_scaled": 0.36393282243600233,
          "percentage_tf": 12.773832541781776,
          "weight": 72.5,
          "weight_scaled": 0.4023668639053266
         },
         {
          "percentage": 12.408,
          "percentage_np": 12.595969688075904,
          "percentage_scaled": 0.36849828795043194,
          "percentage_tf": 12.565020821125556,
          "weight": 72.15,
          "weight_scaled": 0.36094674556213135
         },
         {
          "percentage": 12.575999999999999,
          "percentage_np": 12.628200719137475,
          "percentage_scaled": 0.39589108103701265,
          "percentage_tf": 12.594851066933588,
          "weight": 72.2,
          "weight_scaled": 0.3668639053254452
         },
         {
          "percentage": 13.442,
          "percentage_np": 12.595969688075904,
          "percentage_scaled": 0.537094407304745,
          "percentage_tf": 12.565020821125556,
          "weight": 72.15,
          "weight_scaled": 0.36094674556213135
         },
         {
          "percentage": 12.638,
          "percentage_np": 12.499276594891185,
          "percentage_scaled": 0.4060003261046796,
          "percentage_tf": 12.475530083701457,
          "weight": 72,
          "weight_scaled": 0.34319526627218977
         },
         {
          "percentage": 13.132,
          "percentage_np": 13.047204122937906,
          "percentage_scaled": 0.4865481819664115,
          "percentage_tf": 12.982644262437987,
          "weight": 72.85,
          "weight_scaled": 0.4437869822485201
         },
         {
          "percentage": 12.654000000000002,
          "percentage_np": 12.789355874445334,
          "percentage_scaled": 0.40860916354149723,
          "percentage_tf": 12.744002295973743,
          "weight": 72.45,
          "weight_scaled": 0.39644970414201275
         },
         {
          "percentage": 12.741,
          "percentage_np": 12.821586905506905,
          "percentage_scaled": 0.4227947171041906,
          "percentage_tf": 12.773832541781776,
          "weight": 72.5,
          "weight_scaled": 0.4023668639053266
         },
         {
          "percentage": 12.921,
          "percentage_np": 13.176128247184195,
          "percentage_scaled": 0.4521441382683842,
          "percentage_tf": 13.101965245670117,
          "weight": 73.05,
          "weight_scaled": 0.46745562130177554
         },
         {
          "percentage": 13.024000000000001,
          "percentage_np": 13.079435153999484,
          "percentage_scaled": 0.46893852926789514,
          "percentage_tf": 13.012474508246028,
          "weight": 72.9,
          "weight_scaled": 0.44970414201183573
         },
         {
          "percentage": 12.89,
          "percentage_np": 13.143897216122625,
          "percentage_scaled": 0.4470895157345509,
          "percentage_tf": 13.072134999862085,
          "weight": 73,
          "weight_scaled": 0.4615384615384617
         },
         {
          "percentage": 12.623,
          "percentage_np": 13.369514433553626,
          "percentage_scaled": 0.4035545410076635,
          "percentage_tf": 13.280946720518305,
          "weight": 73.35,
          "weight_scaled": 0.5029585798816569
         },
         {
          "percentage": 12.890999999999998,
          "percentage_np": 13.143897216122625,
          "percentage_scaled": 0.44725256807435154,
          "percentage_tf": 13.072134999862085,
          "weight": 73,
          "weight_scaled": 0.4615384615384617
         },
         {
          "percentage": 12.940999999999999,
          "percentage_np": 13.401745464615203,
          "percentage_scaled": 0.45540518506440564,
          "percentage_tf": 13.310776966326346,
          "weight": 73.4,
          "weight_scaled": 0.5088757396449726
         },
         {
          "percentage": 13.093,
          "percentage_np": 13.498438557799915,
          "percentage_scaled": 0.4801891407141692,
          "percentage_tf": 13.400267703750435,
          "weight": 73.55,
          "weight_scaled": 0.5266272189349124
         },
         {
          "percentage": 13.17,
          "percentage_np": 13.369514433553626,
          "percentage_scaled": 0.49274417087885225,
          "percentage_tf": 13.280946720518305,
          "weight": 73.35,
          "weight_scaled": 0.5029585798816569
         },
         {
          "percentage": 13.405999999999999,
          "percentage_np": 12.982742060814765,
          "percentage_scaled": 0.5312245230719059,
          "percentage_tf": 12.92298377082193,
          "weight": 72.75,
          "weight_scaled": 0.43195266272189414
         },
         {
          "percentage": 13.467,
          "percentage_np": 13.014973091876335,
          "percentage_scaled": 0.5411707157997718,
          "percentage_tf": 12.952814016629961,
          "weight": 72.8,
          "weight_scaled": 0.437869822485208
         },
         {
          "percentage": 13.013,
          "percentage_np": 13.627362682046204,
          "percentage_scaled": 0.46714495353008334,
          "percentage_tf": 13.519588686982557,
          "weight": 73.75,
          "weight_scaled": 0.550295857988166
         },
         {
          "percentage": 13.49,
          "percentage_np": 13.756286806292493,
          "percentage_scaled": 0.5449209196151965,
          "percentage_tf": 13.638909670214687,
          "weight": 73.95,
          "weight_scaled": 0.5739644970414215
         },
         {
          "percentage": 13.37,
          "percentage_np": 13.111666185061054,
          "percentage_scaled": 0.5253546388390673,
          "percentage_tf": 13.04230475405406,
          "weight": 72.95,
          "weight_scaled": 0.4556213017751496
         },
         {
          "percentage": 13.503,
          "percentage_np": 13.530669588861485,
          "percentage_scaled": 0.5470406000326105,
          "percentage_tf": 13.430097949558458,
          "weight": 73.6,
          "weight_scaled": 0.5325443786982245
         },
         {
          "percentage": 14.075999999999999,
          "percentage_np": 13.111666185061054,
          "percentage_scaled": 0.6404695907386271,
          "percentage_tf": 13.04230475405406,
          "weight": 72.95,
          "weight_scaled": 0.4556213017751496
         },
         {
          "percentage": 14.315999999999999,
          "percentage_np": 12.918279998691624,
          "percentage_scaled": 0.6796021522908855,
          "percentage_tf": 12.863323279205874,
          "weight": 72.65,
          "weight_scaled": 0.4201183431952682
         },
         {
          "percentage": 13.93,
          "percentage_np": 13.079435153999484,
          "percentage_scaled": 0.61666394912767,
          "percentage_tf": 13.012474508246028,
          "weight": 72.9,
          "weight_scaled": 0.44970414201183573
         },
         {
          "percentage": 12.812999999999999,
          "percentage_np": 13.691824744169338,
          "percentage_scaled": 0.43453448556986785,
          "percentage_tf": 13.579249178598614,
          "weight": 73.85,
          "weight_scaled": 0.562130177514792
         },
         {
          "percentage": 13.167,
          "percentage_np": 13.724055775230923,
          "percentage_scaled": 0.49225501385944903,
          "percentage_tf": 13.609079424406653,
          "weight": 73.9,
          "weight_scaled": 0.5680473372781076
         },
         {
          "percentage": 13.275,
          "percentage_np": 13.562900619923063,
          "percentage_scaled": 0.5098646665579654,
          "percentage_tf": 13.459928195366501,
          "weight": 73.65,
          "weight_scaled": 0.5384615384615401
         },
         {
          "percentage": 13.186,
          "percentage_np": 13.208359278245766,
          "percentage_scaled": 0.4953530083156694,
          "percentage_tf": 13.13179549147815,
          "weight": 73.1,
          "weight_scaled": 0.4733727810650894
         },
         {
          "percentage": 13.265999999999998,
          "percentage_np": 13.433976495676774,
          "percentage_scaled": 0.5083971954997553,
          "percentage_tf": 13.34060721213437,
          "weight": 73.45,
          "weight_scaled": 0.5147928994082847
         },
         {
          "percentage": 12.987,
          "percentage_np": 13.595131650984634,
          "percentage_scaled": 0.46290559269525544,
          "percentage_tf": 13.489758441174523,
          "weight": 73.7,
          "weight_scaled": 0.5443786982248522
         },
         {
          "percentage": 13.618,
          "percentage_np": 13.852979899477198,
          "percentage_scaled": 0.5657916191097343,
          "percentage_tf": 13.728400407638777,
          "weight": 74.1,
          "weight_scaled": 0.5917159763313613
         },
         {
          "percentage": 13.442,
          "percentage_np": 13.885210930538783,
          "percentage_scaled": 0.537094407304745,
          "percentage_tf": 13.758230653446809,
          "weight": 74.15,
          "weight_scaled": 0.5976331360946752
         },
         {
          "percentage": 13.485999999999999,
          "percentage_np": 13.627362682046204,
          "percentage_scaled": 0.5442687102559922,
          "percentage_tf": 13.519588686982557,
          "weight": 73.75,
          "weight_scaled": 0.550295857988166
         },
         {
          "percentage": 13.993,
          "percentage_np": 13.466207526738344,
          "percentage_scaled": 0.626936246535138,
          "percentage_tf": 13.370437457942403,
          "weight": 73.5,
          "weight_scaled": 0.5207100591715985
         },
         {
          "percentage": 13.253,
          "percentage_np": 13.627362682046204,
          "percentage_scaled": 0.5062775150823418,
          "percentage_tf": 13.519588686982557,
          "weight": 73.75,
          "weight_scaled": 0.550295857988166
         },
         {
          "percentage": 13.435,
          "percentage_np": 13.724055775230923,
          "percentage_scaled": 0.5359530409261375,
          "percentage_tf": 13.609079424406653,
          "weight": 73.9,
          "weight_scaled": 0.5680473372781076
         },
         {
          "percentage": 13.498,
          "percentage_np": 13.788517837354064,
          "percentage_scaled": 0.5462253383336051,
          "percentage_tf": 13.66873991602271,
          "weight": 74,
          "weight_scaled": 0.5798816568047336
         },
         {
          "percentage": 13.503,
          "percentage_np": 13.466207526738344,
          "percentage_scaled": 0.5470406000326105,
          "percentage_tf": 13.370437457942403,
          "weight": 73.5,
          "weight_scaled": 0.5207100591715985
         },
         {
          "percentage": 13.285,
          "percentage_np": 13.659593713107775,
          "percentage_scaled": 0.5114951899559761,
          "percentage_tf": 13.549418932790589,
          "weight": 73.8,
          "weight_scaled": 0.5562130177514799
         },
         {
          "percentage": 13.062999999999999,
          "percentage_np": 13.369514433553626,
          "percentage_scaled": 0.475297570520137,
          "percentage_tf": 13.280946720518305,
          "weight": 73.35,
          "weight_scaled": 0.5029585798816569
         },
         {
          "percentage": 13.529000000000002,
          "percentage_np": 13.433976495676774,
          "percentage_scaled": 0.5512799608674388,
          "percentage_tf": 13.34060721213437,
          "weight": 73.45,
          "weight_scaled": 0.5147928994082847
         },
         {
          "percentage": 13.062999999999999,
          "percentage_np": 13.369514433553626,
          "percentage_scaled": 0.475297570520137,
          "percentage_tf": 13.280946720518305,
          "weight": 73.35,
          "weight_scaled": 0.5029585798816569
         },
         {
          "percentage": 13.027000000000001,
          "percentage_np": 13.788517837354064,
          "percentage_scaled": 0.46942768628729836,
          "percentage_tf": 13.66873991602271,
          "weight": 74,
          "weight_scaled": 0.5798816568047336
         },
         {
          "percentage": 13.696,
          "percentage_np": 13.369514433553626,
          "percentage_scaled": 0.5785097016142184,
          "percentage_tf": 13.280946720518305,
          "weight": 73.35,
          "weight_scaled": 0.5029585798816569
         },
         {
          "percentage": 13.982999999999999,
          "percentage_np": 13.595131650984634,
          "percentage_scaled": 0.6253057231371268,
          "percentage_tf": 13.489758441174523,
          "weight": 73.7,
          "weight_scaled": 0.5443786982248522
         },
         {
          "percentage": 13.33,
          "percentage_np": 13.981904023723487,
          "percentage_scaled": 0.5188325452470244,
          "percentage_tf": 13.8477213908709,
          "weight": 74.3,
          "weight_scaled": 0.615384615384615
         },
         {
          "percentage": 13.481,
          "percentage_np": 14.433138458585496,
          "percentage_scaled": 0.5434534485569869,
          "percentage_tf": 14.265344832183347,
          "weight": 75,
          "weight_scaled": 0.6982248520710073
         },
         {
          "percentage": 13.437000000000001,
          "percentage_np": 13.691824744169338,
          "percentage_scaled": 0.5362791456057396,
          "percentage_tf": 13.579249178598614,
          "weight": 73.85,
          "weight_scaled": 0.562130177514792
         },
         {
          "percentage": 13.385,
          "percentage_np": 13.401745464615203,
          "percentage_scaled": 0.5278004239360834,
          "percentage_tf": 13.310776966326346,
          "weight": 73.4,
          "weight_scaled": 0.5088757396449726
         },
         {
          "percentage": 13.7,
          "percentage_np": 13.176128247184195,
          "percentage_scaled": 0.5791619109734223,
          "percentage_tf": 13.101965245670117,
          "weight": 73.05,
          "weight_scaled": 0.46745562130177554
         },
         {
          "percentage": 13.517999999999999,
          "percentage_np": 13.595131650984634,
          "percentage_scaled": 0.5494863851296266,
          "percentage_tf": 13.489758441174523,
          "weight": 73.7,
          "weight_scaled": 0.5443786982248522
         },
         {
          "percentage": 13.784,
          "percentage_np": 13.627362682046204,
          "percentage_scaled": 0.5928583075167133,
          "percentage_tf": 13.519588686982557,
          "weight": 73.75,
          "weight_scaled": 0.550295857988166
         },
         {
          "percentage": 13.645999999999999,
          "percentage_np": 13.724055775230923,
          "percentage_scaled": 0.5703570846241643,
          "percentage_tf": 13.609079424406653,
          "weight": 73.9,
          "weight_scaled": 0.5680473372781076
         },
         {
          "percentage": 12.97,
          "percentage_np": 14.271983303277636,
          "percentage_scaled": 0.4601337029186372,
          "percentage_tf": 14.116193603143183,
          "weight": 74.75,
          "weight_scaled": 0.668639053254438
         },
         {
          "percentage": 13.607000000000001,
          "percentage_np": 14.014135054785058,
          "percentage_scaled": 0.5639980433719229,
          "percentage_tf": 13.877551636678932,
          "weight": 74.35,
          "weight_scaled": 0.6213017751479288
         },
         {
          "percentage": 13.484000000000002,
          "percentage_np": 13.917441961600353,
          "percentage_scaled": 0.5439426055763905,
          "percentage_tf": 13.788060899254843,
          "weight": 74.2,
          "weight_scaled": 0.603550295857989
         },
         {
          "percentage": 14.232000000000001,
          "percentage_np": 13.659593713107775,
          "percentage_scaled": 0.6659057557475954,
          "percentage_tf": 13.549418932790589,
          "weight": 73.8,
          "weight_scaled": 0.5562130177514799
         },
         {
          "percentage": 13.929,
          "percentage_np": 13.562900619923063,
          "percentage_scaled": 0.6165008967878689,
          "percentage_tf": 13.459928195366501,
          "weight": 73.65,
          "weight_scaled": 0.5384615384615401
         },
         {
          "percentage": 13.972000000000001,
          "percentage_np": 13.691824744169338,
          "percentage_scaled": 0.6235121473993155,
          "percentage_tf": 13.579249178598614,
          "weight": 73.85,
          "weight_scaled": 0.562130177514792
         },
         {
          "percentage": 14.210999999999999,
          "percentage_np": 13.724055775230923,
          "percentage_scaled": 0.6624816566117724,
          "percentage_tf": 13.609079424406653,
          "weight": 73.9,
          "weight_scaled": 0.5680473372781076
         },
         {
          "percentage": 13.780999999999999,
          "percentage_np": 13.530669588861485,
          "percentage_scaled": 0.5923691504973096,
          "percentage_tf": 13.430097949558458,
          "weight": 73.6,
          "weight_scaled": 0.5325443786982245
         },
         {
          "percentage": 13.475999999999999,
          "percentage_np": 13.724055775230923,
          "percentage_scaled": 0.5426381868579815,
          "percentage_tf": 13.609079424406653,
          "weight": 73.9,
          "weight_scaled": 0.5680473372781076
         },
         {
          "percentage": 13.128,
          "percentage_np": 14.175290210092918,
          "percentage_scaled": 0.4858959726072072,
          "percentage_tf": 14.026702865719084,
          "weight": 74.6,
          "weight_scaled": 0.6508875739644964
         },
         {
          "percentage": 13.267999999999999,
          "percentage_np": 14.562062582831786,
          "percentage_scaled": 0.5087233001793574,
          "percentage_tf": 14.384665815415469,
          "weight": 75.2,
          "weight_scaled": 0.7218934911242609
         },
         {
          "percentage": 13.663,
          "percentage_np": 13.498438557799915,
          "percentage_scaled": 0.573128974400783,
          "percentage_tf": 13.400267703750435,
          "weight": 73.55,
          "weight_scaled": 0.5266272189349124
         },
         {
          "percentage": 13.505,
          "percentage_np": 13.369514433553626,
          "percentage_scaled": 0.547366704712213,
          "percentage_tf": 13.280946720518305,
          "weight": 73.35,
          "weight_scaled": 0.5029585798816569
         },
         {
          "percentage": 13.534,
          "percentage_np": 13.691824744169338,
          "percentage_scaled": 0.5520952225664442,
          "percentage_tf": 13.579249178598614,
          "weight": 73.85,
          "weight_scaled": 0.562130177514792
         },
         {
          "percentage": 13.280999999999999,
          "percentage_np": 14.078597116908213,
          "percentage_scaled": 0.5108429805967714,
          "percentage_tf": 13.937212128294998,
          "weight": 74.45,
          "weight_scaled": 0.6331360946745566
         },
         {
          "percentage": 12.772,
          "percentage_np": 13.691824744169338,
          "percentage_scaled": 0.42784933963802385,
          "percentage_tf": 13.579249178598614,
          "weight": 73.85,
          "weight_scaled": 0.562130177514792
         },
         {
          "percentage": 13.302,
          "percentage_np": 13.724055775230923,
          "percentage_scaled": 0.5142670797325943,
          "percentage_tf": 13.609079424406653,
          "weight": 73.9,
          "weight_scaled": 0.5680473372781076
         },
         {
          "percentage": 13.823,
          "percentage_np": 13.369514433553626,
          "percentage_scaled": 0.5992173487689552,
          "percentage_tf": 13.280946720518305,
          "weight": 73.35,
          "weight_scaled": 0.5029585798816569
         },
         {
          "percentage": 13.98,
          "percentage_np": 13.724055775230923,
          "percentage_scaled": 0.6248165661177241,
          "percentage_tf": 13.609079424406653,
          "weight": 73.9,
          "weight_scaled": 0.5680473372781076
         },
         {
          "percentage": 13.638,
          "percentage_np": 13.917441961600353,
          "percentage_scaled": 0.5690526659057558,
          "percentage_tf": 13.788060899254843,
          "weight": 74.2,
          "weight_scaled": 0.603550295857989
         },
         {
          "percentage": 13.635,
          "percentage_np": 13.852979899477198,
          "percentage_scaled": 0.5685635088863525,
          "percentage_tf": 13.728400407638777,
          "weight": 74.1,
          "weight_scaled": 0.5917159763313613
         },
         {
          "percentage": 13.552999999999999,
          "percentage_np": 14.014135054785058,
          "percentage_scaled": 0.5551932170226641,
          "percentage_tf": 13.877551636678932,
          "weight": 74.35,
          "weight_scaled": 0.6213017751479288
         },
         {
          "percentage": 13.585,
          "percentage_np": 13.562900619923063,
          "percentage_scaled": 0.5604108918962989,
          "percentage_tf": 13.459928195366501,
          "weight": 73.65,
          "weight_scaled": 0.5384615384615401
         },
         {
          "percentage": 13.772,
          "percentage_np": 13.691824744169338,
          "percentage_scaled": 0.5909016794391,
          "percentage_tf": 13.579249178598614,
          "weight": 73.85,
          "weight_scaled": 0.562130177514792
         },
         {
          "percentage": 13.652999999999999,
          "percentage_np": 13.369514433553626,
          "percentage_scaled": 0.5714984510027719,
          "percentage_tf": 13.280946720518305,
          "weight": 73.35,
          "weight_scaled": 0.5029585798816569
         },
         {
          "percentage": 13.911,
          "percentage_np": 13.369514433553626,
          "percentage_scaled": 0.6135659546714496,
          "percentage_tf": 13.280946720518305,
          "weight": 73.35,
          "weight_scaled": 0.5029585798816569
         },
         {
          "percentage": 13.72,
          "percentage_np": 13.756286806292493,
          "percentage_scaled": 0.5824229577694442,
          "percentage_tf": 13.638909670214687,
          "weight": 73.95,
          "weight_scaled": 0.5739644970414215
         },
         {
          "percentage": 13.883,
          "percentage_np": 13.981904023723487,
          "percentage_scaled": 0.6090004891570195,
          "percentage_tf": 13.8477213908709,
          "weight": 74.3,
          "weight_scaled": 0.615384615384615
         },
         {
          "percentage": 13.92,
          "percentage_np": 14.110828147969784,
          "percentage_scaled": 0.6150334257296592,
          "percentage_tf": 13.96704237410303,
          "weight": 74.5,
          "weight_scaled": 0.6390532544378704
         },
         {
          "percentage": 14.262,
          "percentage_np": 13.852979899477198,
          "percentage_scaled": 0.6707973259416276,
          "percentage_tf": 13.728400407638777,
          "weight": 74.1,
          "weight_scaled": 0.5917159763313613
         },
         {
          "percentage": 13.925,
          "percentage_np": 13.724055775230923,
          "percentage_scaled": 0.615848687428665,
          "percentage_tf": 13.609079424406653,
          "weight": 73.9,
          "weight_scaled": 0.5680473372781076
         },
         {
          "percentage": 13.931,
          "percentage_np": 13.788517837354064,
          "percentage_scaled": 0.616827001467471,
          "percentage_tf": 13.66873991602271,
          "weight": 74,
          "weight_scaled": 0.5798816568047336
         },
         {
          "percentage": 13.671,
          "percentage_np": 13.885210930538783,
          "percentage_scaled": 0.5744333931191912,
          "percentage_tf": 13.758230653446809,
          "weight": 74.15,
          "weight_scaled": 0.5976331360946752
         },
         {
          "percentage": 14.015,
          "percentage_np": 14.175290210092918,
          "percentage_scaled": 0.6305233980107616,
          "percentage_tf": 14.026702865719084,
          "weight": 74.6,
          "weight_scaled": 0.6508875739644964
         },
         {
          "percentage": 13.755999999999998,
          "percentage_np": 13.820748868415635,
          "percentage_scaled": 0.5882928420022828,
          "percentage_tf": 13.698570161830744,
          "weight": 74.05,
          "weight_scaled": 0.5857988165680474
         },
         {
          "percentage": 13.249,
          "percentage_np": 13.724055775230923,
          "percentage_scaled": 0.5056253057231375,
          "percentage_tf": 13.609079424406653,
          "weight": 73.9,
          "weight_scaled": 0.5680473372781076
         },
         {
          "percentage": 13.372,
          "percentage_np": 13.401745464615203,
          "percentage_scaled": 0.5256807435186694,
          "percentage_tf": 13.310776966326346,
          "weight": 73.4,
          "weight_scaled": 0.5088757396449726
         },
         {
          "percentage": 13.174000000000001,
          "percentage_np": 13.433976495676774,
          "percentage_scaled": 0.493396380238057,
          "percentage_tf": 13.34060721213437,
          "weight": 73.45,
          "weight_scaled": 0.5147928994082847
         },
         {
          "percentage": 13.501,
          "percentage_np": 13.530669588861485,
          "percentage_scaled": 0.5467144953530083,
          "percentage_tf": 13.430097949558458,
          "weight": 73.6,
          "weight_scaled": 0.5325443786982245
         },
         {
          "percentage": 13.421,
          "percentage_np": 13.627362682046204,
          "percentage_scaled": 0.5336703081689225,
          "percentage_tf": 13.519588686982557,
          "weight": 73.75,
          "weight_scaled": 0.550295857988166
         },
         {
          "percentage": 13.324000000000002,
          "percentage_np": 13.498438557799915,
          "percentage_scaled": 0.5178542312082184,
          "percentage_tf": 13.400267703750435,
          "weight": 73.55,
          "weight_scaled": 0.5266272189349124
         },
         {
          "percentage": 13.163,
          "percentage_np": 13.724055775230923,
          "percentage_scaled": 0.49160280450024474,
          "percentage_tf": 13.609079424406653,
          "weight": 73.9,
          "weight_scaled": 0.5680473372781076
         },
         {
          "percentage": 13.248,
          "percentage_np": 13.659593713107775,
          "percentage_scaled": 0.505462253383336,
          "percentage_tf": 13.549418932790589,
          "weight": 73.8,
          "weight_scaled": 0.5562130177514799
         },
         {
          "percentage": 13.07,
          "percentage_np": 13.595131650984634,
          "percentage_scaled": 0.4764389368987445,
          "percentage_tf": 13.489758441174523,
          "weight": 73.7,
          "weight_scaled": 0.5443786982248522
         },
         {
          "percentage": 13.087,
          "percentage_np": 13.401745464615203,
          "percentage_scaled": 0.47921082667536274,
          "percentage_tf": 13.310776966326346,
          "weight": 73.4,
          "weight_scaled": 0.5088757396449726
         },
         {
          "percentage": 13.774000000000001,
          "percentage_np": 13.369514433553626,
          "percentage_scaled": 0.5912277841187026,
          "percentage_tf": 13.280946720518305,
          "weight": 73.35,
          "weight_scaled": 0.5029585798816569
         },
         {
          "percentage": 13.157,
          "percentage_np": 12.982742060814765,
          "percentage_scaled": 0.4906244904614383,
          "percentage_tf": 12.92298377082193,
          "weight": 72.75,
          "weight_scaled": 0.43195266272189414
         },
         {
          "percentage": 13.603,
          "percentage_np": 13.369514433553626,
          "percentage_scaled": 0.5633458340127182,
          "percentage_tf": 13.280946720518305,
          "weight": 73.35,
          "weight_scaled": 0.5029585798816569
         },
         {
          "percentage": 12.77,
          "percentage_np": 13.369514433553626,
          "percentage_scaled": 0.4275232349584217,
          "percentage_tf": 13.280946720518305,
          "weight": 73.35,
          "weight_scaled": 0.5029585798816569
         },
         {
          "percentage": 12.662,
          "percentage_np": 13.530669588861485,
          "percentage_scaled": 0.4099135822599058,
          "percentage_tf": 13.430097949558458,
          "weight": 73.6,
          "weight_scaled": 0.5325443786982245
         },
         {
          "percentage": 12.602,
          "percentage_np": 13.466207526738344,
          "percentage_scaled": 0.400130441871841,
          "percentage_tf": 13.370437457942403,
          "weight": 73.5,
          "weight_scaled": 0.5207100591715985
         },
         {
          "percentage": 12.343,
          "percentage_np": 13.562900619923063,
          "percentage_scaled": 0.3578998858633622,
          "percentage_tf": 13.459928195366501,
          "weight": 73.65,
          "weight_scaled": 0.5384615384615401
         },
         {
          "percentage": 13.405,
          "percentage_np": 13.143897216122625,
          "percentage_scaled": 0.5310614707321049,
          "percentage_tf": 13.072134999862085,
          "weight": 73,
          "weight_scaled": 0.4615384615384617
         },
         {
          "percentage": 13.103,
          "percentage_np": 12.982742060814765,
          "percentage_scaled": 0.4818196641121799,
          "percentage_tf": 12.92298377082193,
          "weight": 72.75,
          "weight_scaled": 0.43195266272189414
         },
         {
          "percentage": 12.869000000000002,
          "percentage_np": 12.531507625952756,
          "percentage_scaled": 0.4436654165987284,
          "percentage_tf": 12.50536032950949,
          "weight": 72.05,
          "weight_scaled": 0.34911242603550363
         },
         {
          "percentage": 13.102,
          "percentage_np": 13.208359278245766,
          "percentage_scaled": 0.4816566117723793,
          "percentage_tf": 13.13179549147815,
          "weight": 73.1,
          "weight_scaled": 0.4733727810650894
         },
         {
          "percentage": 12.65,
          "percentage_np": 13.240590309307343,
          "percentage_scaled": 0.4079569541822925,
          "percentage_tf": 13.161625737286183,
          "weight": 73.15,
          "weight_scaled": 0.47928994082840326
         },
         {
          "percentage": 12.394,
          "percentage_np": 13.240590309307343,
          "percentage_scaled": 0.36621555519321736,
          "percentage_tf": 13.161625737286183,
          "weight": 73.15,
          "weight_scaled": 0.47928994082840326
         },
         {
          "percentage": 12.59,
          "percentage_np": 13.176128247184195,
          "percentage_scaled": 0.3981738137942281,
          "percentage_tf": 13.101965245670117,
          "weight": 73.05,
          "weight_scaled": 0.46745562130177554
         },
         {
          "percentage": 12.864,
          "percentage_np": 13.433976495676774,
          "percentage_scaled": 0.442850154899723,
          "percentage_tf": 13.34060721213437,
          "weight": 73.45,
          "weight_scaled": 0.5147928994082847
         },
         {
          "percentage": 13.165999999999999,
          "percentage_np": 13.627362682046204,
          "percentage_scaled": 0.4920919615196475,
          "percentage_tf": 13.519588686982557,
          "weight": 73.75,
          "weight_scaled": 0.550295857988166
         },
         {
          "percentage": 13.257,
          "percentage_np": 13.305052371430484,
          "percentage_scaled": 0.506929724441546,
          "percentage_tf": 13.221286228902247,
          "weight": 73.25,
          "weight_scaled": 0.491124260355031
         },
         {
          "percentage": 13.547,
          "percentage_np": 13.337283402492055,
          "percentage_scaled": 0.5542149029838581,
          "percentage_tf": 13.251116474710273,
          "weight": 73.3,
          "weight_scaled": 0.49704142011834307
         },
         {
          "percentage": 11.824000000000002,
          "percentage_np": 13.047204122937906,
          "percentage_scaled": 0.27327572150660395,
          "percentage_tf": 12.982644262437987,
          "weight": 72.85,
          "weight_scaled": 0.4437869822485201
         },
         {
          "percentage": 12.459000000000001,
          "percentage_np": 12.918279998691624,
          "percentage_scaled": 0.37681395728028755,
          "percentage_tf": 12.863323279205874,
          "weight": 72.65,
          "weight_scaled": 0.4201183431952682
         },
         {
          "percentage": 12.952,
          "percentage_np": 13.079435153999484,
          "percentage_scaled": 0.45719876080221744,
          "percentage_tf": 13.012474508246028,
          "weight": 72.9,
          "weight_scaled": 0.44970414201183573
         },
         {
          "percentage": 12.128,
          "percentage_np": 12.950511029753194,
          "percentage_scaled": 0.3228436328061308,
          "percentage_tf": 12.893153525013895,
          "weight": 72.7,
          "weight_scaled": 0.4260355029585803
         },
         {
          "percentage": 12.942,
          "percentage_np": 13.272821340368914,
          "percentage_scaled": 0.4555682374042067,
          "percentage_tf": 13.191455983094215,
          "weight": 73.2,
          "weight_scaled": 0.4852071005917171
         },
         {
          "percentage": 13.225999999999999,
          "percentage_np": 13.014973091876335,
          "percentage_scaled": 0.5018751019077123,
          "percentage_tf": 12.952814016629961,
          "weight": 72.8,
          "weight_scaled": 0.437869822485208
         },
         {
          "percentage": 12.464,
          "percentage_np": 12.950511029753194,
          "percentage_scaled": 0.37762921897929247,
          "percentage_tf": 12.893153525013895,
          "weight": 72.7,
          "weight_scaled": 0.4260355029585803
         },
         {
          "percentage": 12.894,
          "percentage_np": 13.047204122937906,
          "percentage_scaled": 0.4477417250937552,
          "percentage_tf": 12.982644262437987,
          "weight": 72.85,
          "weight_scaled": 0.4437869822485201
         },
         {
          "percentage": 12.876,
          "percentage_np": 13.143897216122625,
          "percentage_scaled": 0.4448067829773359,
          "percentage_tf": 13.072134999862085,
          "weight": 73,
          "weight_scaled": 0.4615384615384617
         },
         {
          "percentage": 13.133,
          "percentage_np": 13.498438557799915,
          "percentage_scaled": 0.4867112343062121,
          "percentage_tf": 13.400267703750435,
          "weight": 73.55,
          "weight_scaled": 0.5266272189349124
         },
         {
          "percentage": 12.931,
          "percentage_np": 13.498438557799915,
          "percentage_scaled": 0.4537746616663949,
          "percentage_tf": 13.400267703750435,
          "weight": 73.55,
          "weight_scaled": 0.5266272189349124
         },
         {
          "percentage": 13.052999999999999,
          "percentage_np": 13.208359278245766,
          "percentage_scaled": 0.47366704712212626,
          "percentage_tf": 13.13179549147815,
          "weight": 73.1,
          "weight_scaled": 0.4733727810650894
         },
         {
          "percentage": 13.195,
          "percentage_np": 13.208359278245766,
          "percentage_scaled": 0.4968204793738791,
          "percentage_tf": 13.13179549147815,
          "weight": 73.1,
          "weight_scaled": 0.4733727810650894
         },
         {
          "percentage": 12.68,
          "percentage_np": 13.143897216122625,
          "percentage_scaled": 0.4128485243763247,
          "percentage_tf": 13.072134999862085,
          "weight": 73,
          "weight_scaled": 0.4615384615384617
         },
         {
          "percentage": 13.443,
          "percentage_np": 13.143897216122625,
          "percentage_scaled": 0.5372574596445461,
          "percentage_tf": 13.072134999862085,
          "weight": 73,
          "weight_scaled": 0.4615384615384617
         },
         {
          "percentage": 12.61,
          "percentage_np": 13.401745464615203,
          "percentage_scaled": 0.4014348605902496,
          "percentage_tf": 13.310776966326346,
          "weight": 73.4,
          "weight_scaled": 0.5088757396449726
         },
         {
          "percentage": 13.193,
          "percentage_np": 13.176128247184195,
          "percentage_scaled": 0.49649437469427693,
          "percentage_tf": 13.101965245670117,
          "weight": 73.05,
          "weight_scaled": 0.46745562130177554
         },
         {
          "percentage": 13.001,
          "percentage_np": 13.240590309307343,
          "percentage_scaled": 0.46518832545247046,
          "percentage_tf": 13.161625737286183,
          "weight": 73.15,
          "weight_scaled": 0.47928994082840326
         },
         {
          "percentage": 13.03,
          "percentage_np": 13.240590309307343,
          "percentage_scaled": 0.4699168433067016,
          "percentage_tf": 13.161625737286183,
          "weight": 73.15,
          "weight_scaled": 0.47928994082840326
         },
         {
          "percentage": 12.421,
          "percentage_np": 13.047204122937906,
          "percentage_scaled": 0.3706179683678459,
          "percentage_tf": 12.982644262437987,
          "weight": 72.85,
          "weight_scaled": 0.4437869822485201
         },
         {
          "percentage": 12.788,
          "percentage_np": 12.821586905506905,
          "percentage_scaled": 0.430458177074841,
          "percentage_tf": 12.773832541781776,
          "weight": 72.5,
          "weight_scaled": 0.4023668639053266
         },
         {
          "percentage": 13.015,
          "percentage_np": 13.079435153999484,
          "percentage_scaled": 0.4674710582096855,
          "percentage_tf": 13.012474508246028,
          "weight": 72.9,
          "weight_scaled": 0.44970414201183573
         },
         {
          "percentage": 12.868,
          "percentage_np": 13.337283402492055,
          "percentage_scaled": 0.4435023642589273,
          "percentage_tf": 13.251116474710273,
          "weight": 73.3,
          "weight_scaled": 0.49704142011834307
         },
         {
          "percentage": 13.235,
          "percentage_np": 13.272821340368914,
          "percentage_scaled": 0.503342572965922,
          "percentage_tf": 13.191455983094215,
          "weight": 73.2,
          "weight_scaled": 0.4852071005917171
         },
         {
          "percentage": 13.172,
          "percentage_np": 12.982742060814765,
          "percentage_scaled": 0.4930702755584544,
          "percentage_tf": 12.92298377082193,
          "weight": 72.75,
          "weight_scaled": 0.43195266272189414
         },
         {
          "percentage": 12.895999999999999,
          "percentage_np": 12.789355874445334,
          "percentage_scaled": 0.44806782977335735,
          "percentage_tf": 12.744002295973743,
          "weight": 72.45,
          "weight_scaled": 0.39644970414201275
         },
         {
          "percentage": 12.568,
          "percentage_np": 12.595969688075904,
          "percentage_scaled": 0.3945866623186045,
          "percentage_tf": 12.565020821125556,
          "weight": 72.15,
          "weight_scaled": 0.36094674556213135
         },
         {
          "percentage": 12.437999999999999,
          "percentage_np": 12.886048967630046,
          "percentage_scaled": 0.3733898581444641,
          "percentage_tf": 12.833493033397831,
          "weight": 72.6,
          "weight_scaled": 0.41420118343195256
         },
         {
          "percentage": 12.549000000000001,
          "percentage_np": 12.886048967630046,
          "percentage_scaled": 0.3914886678623841,
          "percentage_tf": 12.833493033397831,
          "weight": 72.6,
          "weight_scaled": 0.41420118343195256
         },
         {
          "percentage": 12.677,
          "percentage_np": 12.789355874445334,
          "percentage_scaled": 0.41235936735692147,
          "percentage_tf": 12.744002295973743,
          "weight": 72.45,
          "weight_scaled": 0.39644970414201275
         },
         {
          "percentage": 12.417,
          "percentage_np": 12.950511029753194,
          "percentage_scaled": 0.36996575900864204,
          "percentage_tf": 12.893153525013895,
          "weight": 72.7,
          "weight_scaled": 0.4260355029585803
         },
         {
          "percentage": 12.325999999999999,
          "percentage_np": 12.853817936568475,
          "percentage_scaled": 0.35512799608674395,
          "percentage_tf": 12.803662787589799,
          "weight": 72.55,
          "weight_scaled": 0.4082840236686387
         },
         {
          "percentage": 12.606,
          "percentage_np": 13.208359278245766,
          "percentage_scaled": 0.4007826512310453,
          "percentage_tf": 13.13179549147815,
          "weight": 73.1,
          "weight_scaled": 0.4733727810650894
         },
         {
          "percentage": 12.895999999999999,
          "percentage_np": 13.272821340368914,
          "percentage_scaled": 0.44806782977335735,
          "percentage_tf": 13.191455983094215,
          "weight": 73.2,
          "weight_scaled": 0.4852071005917171
         },
         {
          "percentage": 11.867,
          "percentage_np": 13.111666185061054,
          "percentage_scaled": 0.2802869721180501,
          "percentage_tf": 13.04230475405406,
          "weight": 72.95,
          "weight_scaled": 0.4556213017751496
         },
         {
          "percentage": 12.558,
          "percentage_np": 13.337283402492055,
          "percentage_scaled": 0.3929561389205938,
          "percentage_tf": 13.251116474710273,
          "weight": 73.3,
          "weight_scaled": 0.49704142011834307
         },
         {
          "percentage": 11.776,
          "percentage_np": 12.886048967630046,
          "percentage_scaled": 0.265449209196152,
          "percentage_tf": 12.833493033397831,
          "weight": 72.6,
          "weight_scaled": 0.41420118343195256
         },
         {
          "percentage": 12.706,
          "percentage_np": 13.014973091876335,
          "percentage_scaled": 0.41708788521115303,
          "percentage_tf": 12.952814016629961,
          "weight": 72.8,
          "weight_scaled": 0.437869822485208
         },
         {
          "percentage": 12.591,
          "percentage_np": 12.982742060814765,
          "percentage_scaled": 0.3983368661340292,
          "percentage_tf": 12.92298377082193,
          "weight": 72.75,
          "weight_scaled": 0.43195266272189414
         },
         {
          "percentage": 12.741,
          "percentage_np": 13.079435153999484,
          "percentage_scaled": 0.4227947171041906,
          "percentage_tf": 13.012474508246028,
          "weight": 72.9,
          "weight_scaled": 0.44970414201183573
         },
         {
          "percentage": 12.472000000000001,
          "percentage_np": 12.886048967630046,
          "percentage_scaled": 0.3789336376977015,
          "percentage_tf": 12.833493033397831,
          "weight": 72.6,
          "weight_scaled": 0.41420118343195256
         },
         {
          "percentage": 12.773,
          "percentage_np": 12.853817936568475,
          "percentage_scaled": 0.4280123919778249,
          "percentage_tf": 12.803662787589799,
          "weight": 72.55,
          "weight_scaled": 0.4082840236686387
         },
         {
          "percentage": 13.477,
          "percentage_np": 12.918279998691624,
          "percentage_scaled": 0.5428012391977826,
          "percentage_tf": 12.863323279205874,
          "weight": 72.65,
          "weight_scaled": 0.4201183431952682
         },
         {
          "percentage": 13.353,
          "percentage_np": 13.014973091876335,
          "percentage_scaled": 0.5225827490624491,
          "percentage_tf": 12.952814016629961,
          "weight": 72.8,
          "weight_scaled": 0.437869822485208
         },
         {
          "percentage": 13.318,
          "percentage_np": 13.176128247184195,
          "percentage_scaled": 0.5168759171694115,
          "percentage_tf": 13.101965245670117,
          "weight": 73.05,
          "weight_scaled": 0.46745562130177554
         },
         {
          "percentage": 12.452,
          "percentage_np": 13.498438557799915,
          "percentage_scaled": 0.3756725909016796,
          "percentage_tf": 13.400267703750435,
          "weight": 73.55,
          "weight_scaled": 0.5266272189349124
         },
         {
          "percentage": 12.544,
          "percentage_np": 13.047204122937906,
          "percentage_scaled": 0.39067340616337876,
          "percentage_tf": 12.982644262437987,
          "weight": 72.85,
          "weight_scaled": 0.4437869822485201
         },
         {
          "percentage": 12.776,
          "percentage_np": 13.659593713107775,
          "percentage_scaled": 0.42850154899722814,
          "percentage_tf": 13.549418932790589,
          "weight": 73.8,
          "weight_scaled": 0.5562130177514799
         },
         {
          "percentage": 12.888,
          "percentage_np": 13.111666185061054,
          "percentage_scaled": 0.44676341105494877,
          "percentage_tf": 13.04230475405406,
          "weight": 72.95,
          "weight_scaled": 0.4556213017751496
         },
         {
          "percentage": 12.595,
          "percentage_np": 12.370352470644896,
          "percentage_scaled": 0.3989890754932335,
          "percentage_tf": 12.356209100469334,
          "weight": 71.8,
          "weight_scaled": 0.3195266272189361
         },
         {
          "percentage": 12.491,
          "percentage_np": 12.563738657014326,
          "percentage_scaled": 0.38203163215392144,
          "percentage_tf": 12.535190575317515,
          "weight": 72.1,
          "weight_scaled": 0.3550295857988157
         },
         {
          "percentage": 12.517000000000001,
          "percentage_np": 13.047204122937906,
          "percentage_scaled": 0.3862709929887498,
          "percentage_tf": 12.982644262437987,
          "weight": 72.85,
          "weight_scaled": 0.4437869822485201
         },
         {
          "percentage": 12.017999999999999,
          "percentage_np": 13.208359278245766,
          "percentage_scaled": 0.30490787542801234,
          "percentage_tf": 13.13179549147815,
          "weight": 73.1,
          "weight_scaled": 0.4733727810650894
         },
         {
          "percentage": 11.345,
          "percentage_np": 12.434814532768044,
          "percentage_scaled": 0.19517365074188842,
          "percentage_tf": 12.4158695920854,
          "weight": 71.9,
          "weight_scaled": 0.3313609467455638
         },
         {
          "percentage": 12.334000000000001,
          "percentage_np": 12.595969688075904,
          "percentage_scaled": 0.356432414805153,
          "percentage_tf": 12.565020821125556,
          "weight": 72.15,
          "weight_scaled": 0.36094674556213135
         },
         {
          "percentage": 12.206,
          "percentage_np": 12.660431750199045,
          "percentage_scaled": 0.33556171531061474,
          "percentage_tf": 12.624681312741613,
          "weight": 72.25,
          "weight_scaled": 0.3727810650887573
         },
         {
          "percentage": 12.802999999999999,
          "percentage_np": 12.821586905506905,
          "percentage_scaled": 0.4329039621718571,
          "percentage_tf": 12.773832541781776,
          "weight": 72.5,
          "weight_scaled": 0.4023668639053266
         },
         {
          "percentage": 12.489,
          "percentage_np": 12.531507625952756,
          "percentage_scaled": 0.3817055274743193,
          "percentage_tf": 12.50536032950949,
          "weight": 72.05,
          "weight_scaled": 0.34911242603550363
         },
         {
          "percentage": 12.502,
          "percentage_np": 12.434814532768044,
          "percentage_scaled": 0.3838252078917337,
          "percentage_tf": 12.4158695920854,
          "weight": 71.9,
          "weight_scaled": 0.3313609467455638
         },
         {
          "percentage": 11.774000000000001,
          "percentage_np": 12.402583501706467,
          "percentage_scaled": 0.2651231045165501,
          "percentage_tf": 12.386039346277359,
          "weight": 71.85,
          "weight_scaled": 0.3254437869822482
         },
         {
          "percentage": 11.514000000000001,
          "percentage_np": 12.499276594891185,
          "percentage_scaled": 0.2227294961682702,
          "percentage_tf": 12.475530083701457,
          "weight": 72,
          "weight_scaled": 0.34319526627218977
         },
         {
          "percentage": 11.617,
          "percentage_np": 12.853817936568475,
          "percentage_scaled": 0.23952388716778117,
          "percentage_tf": 12.803662787589799,
          "weight": 72.55,
          "weight_scaled": 0.4082840236686387
         },
         {
          "percentage": 12.532,
          "percentage_np": 12.628200719137475,
          "percentage_scaled": 0.3887167780857659,
          "percentage_tf": 12.594851066933588,
          "weight": 72.2,
          "weight_scaled": 0.3668639053254452
         },
         {
          "percentage": 12.36,
          "percentage_np": 12.370352470644896,
          "percentage_scaled": 0.36067177563998043,
          "percentage_tf": 12.356209100469334,
          "weight": 71.8,
          "weight_scaled": 0.3195266272189361
         },
         {
          "percentage": 12.583,
          "percentage_np": 12.595969688075904,
          "percentage_scaled": 0.3970324474156206,
          "percentage_tf": 12.565020821125556,
          "weight": 72.15,
          "weight_scaled": 0.36094674556213135
         },
         {
          "percentage": 11.921,
          "percentage_np": 12.499276594891185,
          "percentage_scaled": 0.28909179846730804,
          "percentage_tf": 12.475530083701457,
          "weight": 72,
          "weight_scaled": 0.34319526627218977
         },
         {
          "percentage": 13.203,
          "percentage_np": 12.563738657014326,
          "percentage_scaled": 0.49812489809228766,
          "percentage_tf": 12.535190575317515,
          "weight": 72.1,
          "weight_scaled": 0.3550295857988157
         },
         {
          "percentage": 12.225999999999999,
          "percentage_np": 11.919118035782887,
          "percentage_scaled": 0.3388227621066362,
          "percentage_tf": 11.938585659156885,
          "weight": 71.1,
          "weight_scaled": 0.2366863905325438
         },
         {
          "percentage": 12.2,
          "percentage_np": 12.563738657014326,
          "percentage_scaled": 0.3345834012718083,
          "percentage_tf": 12.535190575317515,
          "weight": 72.1,
          "weight_scaled": 0.3550295857988157
         },
         {
          "percentage": 12.433,
          "percentage_np": 12.692662781260616,
          "percentage_scaled": 0.3725745964454592,
          "percentage_tf": 12.654511558549645,
          "weight": 72.3,
          "weight_scaled": 0.37869822485207116
         },
         {
          "percentage": 12.507,
          "percentage_np": 13.208359278245766,
          "percentage_scaled": 0.3846404695907386,
          "percentage_tf": 13.13179549147815,
          "weight": 73.1,
          "weight_scaled": 0.4733727810650894
         },
         {
          "percentage": 12.448,
          "percentage_np": 12.821586905506905,
          "percentage_scaled": 0.3750203815424753,
          "percentage_tf": 12.773832541781776,
          "weight": 72.5,
          "weight_scaled": 0.4023668639053266
         },
         {
          "percentage": 12.077,
          "percentage_np": 12.434814532768044,
          "percentage_scaled": 0.3145279634762761,
          "percentage_tf": 12.4158695920854,
          "weight": 71.9,
          "weight_scaled": 0.3313609467455638
         },
         {
          "percentage": 12.087,
          "percentage_np": 12.305890408521755,
          "percentage_scaled": 0.3161584868742868,
          "percentage_tf": 12.29654860885327,
          "weight": 71.7,
          "weight_scaled": 0.3076923076923084
         },
         {
          "percentage": 12.14,
          "percentage_np": 12.499276594891185,
          "percentage_scaled": 0.3248002608837439,
          "percentage_tf": 12.475530083701457,
          "weight": 72,
          "weight_scaled": 0.34319526627218977
         },
         {
          "percentage": 12.186,
          "percentage_np": 12.660431750199045,
          "percentage_scaled": 0.3323006685145933,
          "percentage_tf": 12.624681312741613,
          "weight": 72.25,
          "weight_scaled": 0.3727810650887573
         },
         {
          "percentage": 12.26,
          "percentage_np": 12.853817936568475,
          "percentage_scaled": 0.3443665416598729,
          "percentage_tf": 12.803662787589799,
          "weight": 72.55,
          "weight_scaled": 0.4082840236686387
         },
         {
          "percentage": 12.755,
          "percentage_np": 13.079435153999484,
          "percentage_scaled": 0.4250774498614056,
          "percentage_tf": 13.012474508246028,
          "weight": 72.9,
          "weight_scaled": 0.44970414201183573
         },
         {
          "percentage": 13.319,
          "percentage_np": 12.724893812322186,
          "percentage_scaled": 0.5170389695092126,
          "percentage_tf": 12.684341804357677,
          "weight": 72.35,
          "weight_scaled": 0.384615384615385
         },
         {
          "percentage": 13.445,
          "percentage_np": 12.982742060814765,
          "percentage_scaled": 0.5375835643241482,
          "percentage_tf": 12.92298377082193,
          "weight": 72.75,
          "weight_scaled": 0.43195266272189414
         },
         {
          "percentage": 13.093,
          "percentage_np": 12.531507625952756,
          "percentage_scaled": 0.4801891407141692,
          "percentage_tf": 12.50536032950949,
          "weight": 72.05,
          "weight_scaled": 0.34911242603550363
         },
         {
          "percentage": 12.883,
          "percentage_np": 12.950511029753194,
          "percentage_scaled": 0.4459481493559434,
          "percentage_tf": 12.893153525013895,
          "weight": 72.7,
          "weight_scaled": 0.4260355029585803
         },
         {
          "percentage": 12.792,
          "percentage_np": 12.886048967630046,
          "percentage_scaled": 0.4311103864340453,
          "percentage_tf": 12.833493033397831,
          "weight": 72.6,
          "weight_scaled": 0.41420118343195256
         },
         {
          "percentage": 12.534,
          "percentage_np": 13.111666185061054,
          "percentage_scaled": 0.389042882765368,
          "percentage_tf": 13.04230475405406,
          "weight": 72.95,
          "weight_scaled": 0.4556213017751496
         },
         {
          "percentage": 12.58,
          "percentage_np": 12.724893812322186,
          "percentage_scaled": 0.3965432903962174,
          "percentage_tf": 12.684341804357677,
          "weight": 72.35,
          "weight_scaled": 0.384615384615385
         },
         {
          "percentage": 12.162,
          "percentage_np": 12.660431750199045,
          "percentage_scaled": 0.3283874123593675,
          "percentage_tf": 12.624681312741613,
          "weight": 72.25,
          "weight_scaled": 0.3727810650887573
         },
         {
          "percentage": 12.187999999999999,
          "percentage_np": 12.241428346398607,
          "percentage_scaled": 0.3326267731941952,
          "percentage_tf": 12.236888117237203,
          "weight": 71.6,
          "weight_scaled": 0.29585798816568065
         },
         {
          "percentage": 12.636,
          "percentage_np": 12.370352470644896,
          "percentage_scaled": 0.4056742214250775,
          "percentage_tf": 12.356209100469334,
          "weight": 71.8,
          "weight_scaled": 0.3195266272189361
         },
         {
          "percentage": 12.77,
          "percentage_np": 12.370352470644896,
          "percentage_scaled": 0.4275232349584217,
          "percentage_tf": 12.356209100469334,
          "weight": 71.8,
          "weight_scaled": 0.3195266272189361
         },
         {
          "percentage": 12.594000000000001,
          "percentage_np": 12.434814532768044,
          "percentage_scaled": 0.3988260231534324,
          "percentage_tf": 12.4158695920854,
          "weight": 71.9,
          "weight_scaled": 0.3313609467455638
         },
         {
          "percentage": 12.237,
          "percentage_np": 12.209197315337036,
          "percentage_scaled": 0.3406163378444482,
          "percentage_tf": 12.207057871429171,
          "weight": 71.55,
          "weight_scaled": 0.2899408284023668
         },
         {
          "percentage": 12.1,
          "percentage_np": 12.176966284275466,
          "percentage_scaled": 0.3182781672917008,
          "percentage_tf": 12.177227625621148,
          "weight": 71.5,
          "weight_scaled": 0.2840236686390547
         },
         {
          "percentage": 11.864,
          "percentage_np": 12.015811128967606,
          "percentage_scaled": 0.2797978150986469,
          "percentage_tf": 12.028076396580984,
          "weight": 71.25,
          "weight_scaled": 0.2544378698224854
         },
         {
          "percentage": 11.574000000000002,
          "percentage_np": 12.434814532768044,
          "percentage_scaled": 0.23251263655633503,
          "percentage_tf": 12.4158695920854,
          "weight": 71.9,
          "weight_scaled": 0.3313609467455638
         },
         {
          "percentage": 12.295,
          "percentage_np": 12.402583501706467,
          "percentage_scaled": 0.3500733735529107,
          "percentage_tf": 12.386039346277359,
          "weight": 71.85,
          "weight_scaled": 0.3254437869822482
         },
         {
          "percentage": 12.607999999999999,
          "percentage_np": 12.209197315337036,
          "percentage_scaled": 0.40110875591064743,
          "percentage_tf": 12.207057871429171,
          "weight": 71.55,
          "weight_scaled": 0.2899408284023668
         },
         {
          "percentage": 12.520999999999999,
          "percentage_np": 12.305890408521755,
          "percentage_scaled": 0.38692320234795363,
          "percentage_tf": 12.29654860885327,
          "weight": 71.7,
          "weight_scaled": 0.3076923076923084
         },
         {
          "percentage": 11.779000000000002,
          "percentage_np": 13.240590309307343,
          "percentage_scaled": 0.26593836621555567,
          "percentage_tf": 13.161625737286183,
          "weight": 73.15,
          "weight_scaled": 0.47928994082840326
         },
         {
          "percentage": 11.436,
          "percentage_np": 13.305052371430484,
          "percentage_scaled": 0.21001141366378606,
          "percentage_tf": 13.221286228902247,
          "weight": 73.25,
          "weight_scaled": 0.491124260355031
         },
         {
          "percentage": 12.571,
          "percentage_np": 13.143897216122625,
          "percentage_scaled": 0.3950758193380077,
          "percentage_tf": 13.072134999862085,
          "weight": 73,
          "weight_scaled": 0.4615384615384617
         },
         {
          "percentage": 12.569,
          "percentage_np": 12.595969688075904,
          "percentage_scaled": 0.3947497146584056,
          "percentage_tf": 12.565020821125556,
          "weight": 72.15,
          "weight_scaled": 0.36094674556213135
         },
         {
          "percentage": 12.842,
          "percentage_np": 13.014973091876335,
          "percentage_scaled": 0.4392630034240994,
          "percentage_tf": 12.952814016629961,
          "weight": 72.8,
          "weight_scaled": 0.437869822485208
         },
         {
          "percentage": 13.284,
          "percentage_np": 12.789355874445334,
          "percentage_scaled": 0.511332137616175,
          "percentage_tf": 12.744002295973743,
          "weight": 72.45,
          "weight_scaled": 0.39644970414201275
         },
         {
          "percentage": 12.679,
          "percentage_np": 12.595969688075904,
          "percentage_scaled": 0.41268547203652406,
          "percentage_tf": 12.565020821125556,
          "weight": 72.15,
          "weight_scaled": 0.36094674556213135
         },
         {
          "percentage": 13.216,
          "percentage_np": 13.079435153999484,
          "percentage_scaled": 0.5002445785097016,
          "percentage_tf": 13.012474508246028,
          "weight": 72.9,
          "weight_scaled": 0.44970414201183573
         },
         {
          "percentage": 13.274000000000001,
          "percentage_np": 12.724893812322186,
          "percentage_scaled": 0.5097016142181643,
          "percentage_tf": 12.684341804357677,
          "weight": 72.35,
          "weight_scaled": 0.384615384615385
         },
         {
          "percentage": 13.335,
          "percentage_np": 12.757124843383764,
          "percentage_scaled": 0.5196478069460297,
          "percentage_tf": 12.714172050165711,
          "weight": 72.4,
          "weight_scaled": 0.3905325443786989
         },
         {
          "percentage": 12.849,
          "percentage_np": 12.467045563829615,
          "percentage_scaled": 0.4404043698027069,
          "percentage_tf": 12.445699837893425,
          "weight": 71.95,
          "weight_scaled": 0.3372781065088759
         },
         {
          "percentage": 13.097999999999999,
          "percentage_np": 12.370352470644896,
          "percentage_scaled": 0.48100440241317455,
          "percentage_tf": 12.356209100469334,
          "weight": 71.8,
          "weight_scaled": 0.3195266272189361
         },
         {
          "percentage": 12.138,
          "percentage_np": 12.209197315337036,
          "percentage_scaled": 0.32447415620414155,
          "percentage_tf": 12.207057871429171,
          "weight": 71.55,
          "weight_scaled": 0.2899408284023668
         },
         {
          "percentage": 12.436,
          "percentage_np": 12.402583501706467,
          "percentage_scaled": 0.3730637534648624,
          "percentage_tf": 12.386039346277359,
          "weight": 71.85,
          "weight_scaled": 0.3254437869822482
         },
         {
          "percentage": 12.722999999999999,
          "percentage_np": 12.918279998691624,
          "percentage_scaled": 0.41985977498777083,
          "percentage_tf": 12.863323279205874,
          "weight": 72.65,
          "weight_scaled": 0.4201183431952682
         },
         {
          "percentage": 12.745999999999999,
          "percentage_np": 12.338121439583325,
          "percentage_scaled": 0.42360997880319595,
          "percentage_tf": 12.326378854661302,
          "weight": 71.75,
          "weight_scaled": 0.31360946745562224
         },
         {
          "percentage": 12.805,
          "percentage_np": 12.112504222152324,
          "percentage_scaled": 0.43323006685145926,
          "percentage_tf": 12.117567134005082,
          "weight": 71.4,
          "weight_scaled": 0.272189349112427
         },
         {
          "percentage": 12.479000000000001,
          "percentage_np": 11.822424942598175,
          "percentage_scaled": 0.38007500407630856,
          "percentage_tf": 11.849094921732798,
          "weight": 70.95,
          "weight_scaled": 0.218934911242604
         },
         {
          "percentage": 11.892999999999999,
          "percentage_np": 12.144735253213895,
          "percentage_scaled": 0.28452633295287777,
          "percentage_tf": 12.147397379813116,
          "weight": 71.45,
          "weight_scaled": 0.27810650887574084
         },
         {
          "percentage": 12.257,
          "percentage_np": 11.983580097906035,
          "percentage_scaled": 0.3438773846404697,
          "percentage_tf": 11.99824615077296,
          "weight": 71.2,
          "weight_scaled": 0.2485207100591733
         },
         {
          "percentage": 12.200999999999999,
          "percentage_np": 11.725731849413457,
          "percentage_scaled": 0.33474645361160915,
          "percentage_tf": 11.7596041843087,
          "weight": 70.8,
          "weight_scaled": 0.20118343195266242
         },
         {
          "percentage": 12.289000000000001,
          "percentage_np": 12.305890408521755,
          "percentage_scaled": 0.34909505951410424,
          "percentage_tf": 12.29654860885327,
          "weight": 71.7,
          "weight_scaled": 0.3076923076923084
         },
         {
          "percentage": 12.604000000000001,
          "percentage_np": 12.144735253213895,
          "percentage_scaled": 0.40045654655144314,
          "percentage_tf": 12.147397379813116,
          "weight": 71.45,
          "weight_scaled": 0.27810650887574084
         },
         {
          "percentage": 12.517999999999999,
          "percentage_np": 12.241428346398607,
          "percentage_scaled": 0.3864340453285504,
          "percentage_tf": 12.236888117237203,
          "weight": 71.6,
          "weight_scaled": 0.29585798816568065
         },
         {
          "percentage": 12.3,
          "percentage_np": 12.370352470644896,
          "percentage_scaled": 0.35088863525191605,
          "percentage_tf": 12.356209100469334,
          "weight": 71.8,
          "weight_scaled": 0.3195266272189361
         },
         {
          "percentage": 12.35,
          "percentage_np": 12.048042160029176,
          "percentage_scaled": 0.3590412522419697,
          "percentage_tf": 12.057906642389018,
          "weight": 71.3,
          "weight_scaled": 0.26035502958579926
         },
         {
          "percentage": 12.152999999999999,
          "percentage_np": 12.112504222152324,
          "percentage_scaled": 0.32691994130115765,
          "percentage_tf": 12.117567134005082,
          "weight": 71.4,
          "weight_scaled": 0.272189349112427
         },
         {
          "percentage": 12.062999999999999,
          "percentage_np": 12.048042160029176,
          "percentage_scaled": 0.31224523071906085,
          "percentage_tf": 12.057906642389018,
          "weight": 71.3,
          "weight_scaled": 0.26035502958579926
         },
         {
          "percentage": 12.427999999999999,
          "percentage_np": 12.499276594891185,
          "percentage_scaled": 0.3717593347464534,
          "percentage_tf": 12.475530083701457,
          "weight": 72,
          "weight_scaled": 0.34319526627218977
         },
         {
          "percentage": 12.064,
          "percentage_np": 12.209197315337036,
          "percentage_scaled": 0.3124082830588619,
          "percentage_tf": 12.207057871429171,
          "weight": 71.55,
          "weight_scaled": 0.2899408284023668
         },
         {
          "percentage": 12.182,
          "percentage_np": 11.854655973659746,
          "percentage_scaled": 0.331648459155389,
          "percentage_tf": 11.87892516754083,
          "weight": 71,
          "weight_scaled": 0.22485207100591786
         },
         {
          "percentage": 12.194,
          "percentage_np": 11.790193911536605,
          "percentage_scaled": 0.3336050872330021,
          "percentage_tf": 11.819264675924773,
          "weight": 70.9,
          "weight_scaled": 0.21301775147929192
         },
         {
          "percentage": 12.107999999999999,
          "percentage_np": 11.532345663044026,
          "percentage_scaled": 0.31958258601010914,
          "percentage_tf": 11.580622709460512,
          "weight": 70.5,
          "weight_scaled": 0.16568047337278102
         },
         {
          "percentage": 12.347999999999999,
          "percentage_np": 11.790193911536605,
          "percentage_scaled": 0.35871514756236755,
          "percentage_tf": 11.819264675924773,
          "weight": 70.9,
          "weight_scaled": 0.21301775147929192
         },
         {
          "percentage": 11.817,
          "percentage_np": 11.822424942598175,
          "percentage_scaled": 0.2721343551279962,
          "percentage_tf": 11.849094921732798,
          "weight": 70.95,
          "weight_scaled": 0.218934911242604
         },
         {
          "percentage": 11.595,
          "percentage_np": 11.725731849413457,
          "percentage_scaled": 0.23593673569215734,
          "percentage_tf": 11.7596041843087,
          "weight": 70.8,
          "weight_scaled": 0.20118343195266242
         },
         {
          "percentage": 11.76,
          "percentage_np": 11.790193911536605,
          "percentage_scaled": 0.26284037175933483,
          "percentage_tf": 11.819264675924773,
          "weight": 70.9,
          "weight_scaled": 0.21301775147929192
         },
         {
          "percentage": 11.869000000000002,
          "percentage_np": 11.693500818351886,
          "percentage_scaled": 0.28061307679765246,
          "percentage_tf": 11.729773938500674,
          "weight": 70.75,
          "weight_scaled": 0.19526627218935033
         },
         {
          "percentage": 11.644,
          "percentage_np": 11.467883600920885,
          "percentage_scaled": 0.24392630034241014,
          "percentage_tf": 11.520962217844454,
          "weight": 70.4,
          "weight_scaled": 0.15384615384615508
         },
         {
          "percentage": 11.411,
          "percentage_np": 11.210035352428307,
          "percentage_scaled": 0.20593510516875924,
          "percentage_tf": 11.282320251380202,
          "weight": 70,
          "weight_scaled": 0.10650887573964596
         },
         {
          "percentage": 11.867,
          "percentage_np": 11.564576694105597,
          "percentage_scaled": 0.2802869721180501,
          "percentage_tf": 11.610452955268544,
          "weight": 70.55,
          "weight_scaled": 0.17159763313609488
         },
         {
          "percentage": 11.705,
          "percentage_np": 11.757962880475027,
          "percentage_scaled": 0.2538724930702756,
          "percentage_tf": 11.789434430116732,
          "weight": 70.85,
          "weight_scaled": 0.20710059171597628
         },
         {
          "percentage": 11.998,
          "percentage_np": 11.693500818351886,
          "percentage_scaled": 0.3016468286319909,
          "percentage_tf": 11.729773938500674,
          "weight": 70.75,
          "weight_scaled": 0.19526627218935033
         },
         {
          "percentage": 11.558,
          "percentage_np": 11.790193911536605,
          "percentage_scaled": 0.22990379911951742,
          "percentage_tf": 11.819264675924773,
          "weight": 70.9,
          "weight_scaled": 0.21301775147929192
         },
         {
          "percentage": 11.915,
          "percentage_np": 11.661269787290315,
          "percentage_scaled": 0.2881134844285016,
          "percentage_tf": 11.699943692692642,
          "weight": 70.7,
          "weight_scaled": 0.18934911242603647
         },
         {
          "percentage": 12.129000000000001,
          "percentage_np": 11.822424942598175,
          "percentage_scaled": 0.3230066851459321,
          "percentage_tf": 11.849094921732798,
          "weight": 70.95,
          "weight_scaled": 0.218934911242604
         },
         {
          "percentage": 11.995,
          "percentage_np": 11.564576694105597,
          "percentage_scaled": 0.30115767161258766,
          "percentage_tf": 11.610452955268544,
          "weight": 70.55,
          "weight_scaled": 0.17159763313609488
         },
         {
          "percentage": 12.343,
          "percentage_np": 11.371190507736166,
          "percentage_scaled": 0.3578998858633622,
          "percentage_tf": 11.431471480420358,
          "weight": 70.25,
          "weight_scaled": 0.1360946745562135
         },
         {
          "percentage": 12.072000000000001,
          "percentage_np": 11.467883600920885,
          "percentage_scaled": 0.31371270177727073,
          "percentage_tf": 11.520962217844454,
          "weight": 70.4,
          "weight_scaled": 0.15384615384615508
         },
         {
          "percentage": 11.765,
          "percentage_np": 11.790193911536605,
          "percentage_scaled": 0.2636556334583404,
          "percentage_tf": 11.819264675924773,
          "weight": 70.9,
          "weight_scaled": 0.21301775147929192
         },
         {
          "percentage": 11.937999999999999,
          "percentage_np": 11.532345663044026,
          "percentage_scaled": 0.2918636882439263,
          "percentage_tf": 11.580622709460512,
          "weight": 70.5,
          "weight_scaled": 0.16568047337278102
         },
         {
          "percentage": 11.964,
          "percentage_np": 11.338959476674596,
          "percentage_scaled": 0.2961030490787544,
          "percentage_tf": 11.401641234612324,
          "weight": 70.2,
          "weight_scaled": 0.13017751479289963
         },
         {
          "percentage": 11.671,
          "percentage_np": 11.693500818351886,
          "percentage_scaled": 0.2483287135170389,
          "percentage_tf": 11.729773938500674,
          "weight": 70.75,
          "weight_scaled": 0.19526627218935033
         },
         {
          "percentage": 11.093,
          "percentage_np": 11.081111228182017,
          "percentage_scaled": 0.15408446111201712,
          "percentage_tf": 11.162999268148072,
          "weight": 69.8,
          "weight_scaled": 0.08284023668639051
         },
         {
          "percentage": 11.511,
          "percentage_np": 11.403421538797737,
          "percentage_scaled": 0.22224033914886676,
          "percentage_tf": 11.46130172622839,
          "weight": 70.3,
          "weight_scaled": 0.14201183431952735
         },
         {
          "percentage": 11.255,
          "percentage_np": 11.629038756228745,
          "percentage_scaled": 0.18049894015979162,
          "percentage_tf": 11.67011344688461,
          "weight": 70.65,
          "weight_scaled": 0.1834319526627226
         },
         {
          "percentage": 11.235999999999999,
          "percentage_np": 11.274497414551448,
          "percentage_scaled": 0.1774009457035708,
          "percentage_tf": 11.34198074299626,
          "weight": 70.1,
          "weight_scaled": 0.1183431952662719
         },
         {
          "percentage": 11.687000000000001,
          "percentage_np": 11.306728445613025,
          "percentage_scaled": 0.2509375509538565,
          "percentage_tf": 11.3718109888043,
          "weight": 70.15,
          "weight_scaled": 0.12426035502958754
         },
         {
          "percentage": 11.84,
          "percentage_np": 11.145573290305165,
          "percentage_scaled": 0.2758845589434209,
          "percentage_tf": 11.222659759764145,
          "weight": 69.9,
          "weight_scaled": 0.09467455621302001
         },
         {
          "percentage": 12.001,
          "percentage_np": 11.274497414551448,
          "percentage_scaled": 0.3021359856513941,
          "percentage_tf": 11.34198074299626,
          "weight": 70.1,
          "weight_scaled": 0.1183431952662719
         },
         {
          "percentage": 11.979000000000001,
          "percentage_np": 11.113342259243588,
          "percentage_scaled": 0.2985488341757707,
          "percentage_tf": 11.192829513956104,
          "weight": 69.85,
          "weight_scaled": 0.08875739644970437
         },
         {
          "percentage": 11.845999999999998,
          "percentage_np": 11.435652569859307,
          "percentage_scaled": 0.2768628729822271,
          "percentage_tf": 11.491131972036413,
          "weight": 70.35,
          "weight_scaled": 0.14792899408283944
         },
         {
          "percentage": 11.837,
          "percentage_np": 12.015811128967606,
          "percentage_scaled": 0.2753954019240177,
          "percentage_tf": 12.028076396580984,
          "weight": 71.25,
          "weight_scaled": 0.2544378698224854
         },
         {
          "percentage": 11.708,
          "percentage_np": 12.209197315337036,
          "percentage_scaled": 0.25436165008967904,
          "percentage_tf": 12.207057871429171,
          "weight": 71.55,
          "weight_scaled": 0.2899408284023668
         },
         {
          "percentage": 11.386,
          "percentage_np": 11.629038756228745,
          "percentage_scaled": 0.2018587966737322,
          "percentage_tf": 11.67011344688461,
          "weight": 70.65,
          "weight_scaled": 0.1834319526627226
         },
         {
          "percentage": 11.337,
          "percentage_np": 11.500114631982456,
          "percentage_scaled": 0.1938692320234796,
          "percentage_tf": 11.550792463652488,
          "weight": 70.45,
          "weight_scaled": 0.15976331360946894
         },
         {
          "percentage": 11.609000000000002,
          "percentage_np": 11.177804321366736,
          "percentage_scaled": 0.23821946844937258,
          "percentage_tf": 11.25249000557217,
          "weight": 69.95,
          "weight_scaled": 0.1005917159763321
         },
         {
          "percentage": 11.205,
          "percentage_np": 11.016649166058876,
          "percentage_scaled": 0.17234632316973753,
          "percentage_tf": 11.103338776532015,
          "weight": 69.7,
          "weight_scaled": 0.07100591715976456
         },
         {
          "percentage": 11.083,
          "percentage_np": 11.113342259243588,
          "percentage_scaled": 0.1524539377140064,
          "percentage_tf": 11.192829513956104,
          "weight": 69.85,
          "weight_scaled": 0.08875739644970437
         },
         {
          "percentage": 11.343,
          "percentage_np": 11.661269787290315,
          "percentage_scaled": 0.19484754606228605,
          "percentage_tf": 11.699943692692642,
          "weight": 70.7,
          "weight_scaled": 0.18934911242603647
         },
         {
          "percentage": 11.651,
          "percentage_np": 11.338959476674596,
          "percentage_scaled": 0.24506766672101743,
          "percentage_tf": 11.401641234612324,
          "weight": 70.2,
          "weight_scaled": 0.13017751479289963
         },
         {
          "percentage": 11.373,
          "percentage_np": 11.306728445613025,
          "percentage_scaled": 0.19973911625631824,
          "percentage_tf": 11.3718109888043,
          "weight": 70.15,
          "weight_scaled": 0.12426035502958754
         },
         {
          "percentage": 10.948,
          "percentage_np": 11.274497414551448,
          "percentage_scaled": 0.1304418718408611,
          "percentage_tf": 11.34198074299626,
          "weight": 70.1,
          "weight_scaled": 0.1183431952662719
         },
         {
          "percentage": 11.174000000000001,
          "percentage_np": 11.081111228182017,
          "percentage_scaled": 0.16729170063590448,
          "percentage_tf": 11.162999268148072,
          "weight": 69.8,
          "weight_scaled": 0.08284023668639051
         },
         {
          "percentage": 10.710999999999999,
          "percentage_np": 11.854655973659746,
          "percentage_scaled": 0.09179846730800567,
          "percentage_tf": 11.87892516754083,
          "weight": 71,
          "weight_scaled": 0.22485207100591786
         },
         {
          "percentage": 11.524000000000001,
          "percentage_np": 11.951349066844465,
          "percentage_scaled": 0.22436001956628093,
          "percentage_tf": 11.968415904964928,
          "weight": 71.15,
          "weight_scaled": 0.24260355029585945
         },
         {
          "percentage": 11.467,
          "percentage_np": 12.112504222152324,
          "percentage_scaled": 0.21506603619761955,
          "percentage_tf": 12.117567134005082,
          "weight": 71.4,
          "weight_scaled": 0.272189349112427
         },
         {
          "percentage": 11.694,
          "percentage_np": 12.241428346398607,
          "percentage_scaled": 0.252078917332464,
          "percentage_tf": 12.236888117237203,
          "weight": 71.6,
          "weight_scaled": 0.29585798816568065
         },
         {
          "percentage": 11.773,
          "percentage_np": 12.467045563829615,
          "percentage_scaled": 0.2649600521767488,
          "percentage_tf": 12.445699837893425,
          "weight": 71.95,
          "weight_scaled": 0.3372781065088759
         },
         {
          "percentage": 11.18,
          "percentage_np": 12.112504222152324,
          "percentage_scaled": 0.1682700146747107,
          "percentage_tf": 12.117567134005082,
          "weight": 71.4,
          "weight_scaled": 0.272189349112427
         },
         {
          "percentage": 12.004000000000001,
          "percentage_np": 12.176966284275466,
          "percentage_scaled": 0.30262514267079776,
          "percentage_tf": 12.177227625621148,
          "weight": 71.5,
          "weight_scaled": 0.2840236686390547
         },
         {
          "percentage": 12.645999999999999,
          "percentage_np": 12.531507625952756,
          "percentage_scaled": 0.4073047448230882,
          "percentage_tf": 12.50536032950949,
          "weight": 72.05,
          "weight_scaled": 0.34911242603550363
         },
         {
          "percentage": 11.841,
          "percentage_np": 12.144735253213895,
          "percentage_scaled": 0.27604761128322197,
          "percentage_tf": 12.147397379813116,
          "weight": 71.45,
          "weight_scaled": 0.27810650887574084
         },
         {
          "percentage": 11.357999999999999,
          "percentage_np": 12.305890408521755,
          "percentage_scaled": 0.19729333115930214,
          "percentage_tf": 12.29654860885327,
          "weight": 71.7,
          "weight_scaled": 0.3076923076923084
         },
         {
          "percentage": 11.299000000000001,
          "percentage_np": 12.241428346398607,
          "percentage_scaled": 0.18767324311103906,
          "percentage_tf": 12.236888117237203,
          "weight": 71.6,
          "weight_scaled": 0.29585798816568065
         },
         {
          "percentage": 11.948,
          "percentage_np": 12.338121439583325,
          "percentage_scaled": 0.29349421164193723,
          "percentage_tf": 12.326378854661302,
          "weight": 71.75,
          "weight_scaled": 0.31360946745562224
         },
         {
          "percentage": 11.677999999999999,
          "percentage_np": 12.305890408521755,
          "percentage_scaled": 0.2494700798956464,
          "percentage_tf": 12.29654860885327,
          "weight": 71.7,
          "weight_scaled": 0.3076923076923084
         },
         {
          "percentage": 12.133,
          "percentage_np": 12.144735253213895,
          "percentage_scaled": 0.3236588945051362,
          "percentage_tf": 12.147397379813116,
          "weight": 71.45,
          "weight_scaled": 0.27810650887574084
         },
         {
          "percentage": 12.169,
          "percentage_np": 12.048042160029176,
          "percentage_scaled": 0.32952877873797504,
          "percentage_tf": 12.057906642389018,
          "weight": 71.3,
          "weight_scaled": 0.26035502958579926
         },
         {
          "percentage": 11.487,
          "percentage_np": 12.241428346398607,
          "percentage_scaled": 0.218327082993641,
          "percentage_tf": 12.236888117237203,
          "weight": 71.6,
          "weight_scaled": 0.29585798816568065
         },
         {
          "percentage": 12.044,
          "percentage_np": 12.080273191090747,
          "percentage_scaled": 0.30914723626284046,
          "percentage_tf": 12.08773688819705,
          "weight": 71.35,
          "weight_scaled": 0.2662721893491131
         },
         {
          "percentage": 11.934000000000001,
          "percentage_np": 12.048042160029176,
          "percentage_scaled": 0.2912114788847222,
          "percentage_tf": 12.057906642389018,
          "weight": 71.3,
          "weight_scaled": 0.26035502958579926
         },
         {
          "percentage": 12.065999999999999,
          "percentage_np": 12.402583501706467,
          "percentage_scaled": 0.31273438773846407,
          "percentage_tf": 12.386039346277359,
          "weight": 71.85,
          "weight_scaled": 0.3254437869822482
         },
         {
          "percentage": 12.01,
          "percentage_np": 12.628200719137475,
          "percentage_scaled": 0.30360345670960376,
          "percentage_tf": 12.594851066933588,
          "weight": 72.2,
          "weight_scaled": 0.3668639053254452
         },
         {
          "percentage": 12.32,
          "percentage_np": 11.886887004721316,
          "percentage_scaled": 0.3541496820479375,
          "percentage_tf": 11.908755413348862,
          "weight": 71.05,
          "weight_scaled": 0.23076923076923173
         },
         {
          "percentage": 12.743,
          "percentage_np": 12.434814532768044,
          "percentage_scaled": 0.42312082178379273,
          "percentage_tf": 12.4158695920854,
          "weight": 71.9,
          "weight_scaled": 0.3313609467455638
         },
         {
          "percentage": 12.4,
          "percentage_np": 12.015811128967606,
          "percentage_scaled": 0.3671938692320238,
          "percentage_tf": 12.028076396580984,
          "weight": 71.25,
          "weight_scaled": 0.2544378698224854
         },
         {
          "percentage": 12.242,
          "percentage_np": 12.499276594891185,
          "percentage_scaled": 0.3414315995434538,
          "percentage_tf": 12.475530083701457,
          "weight": 72,
          "weight_scaled": 0.34319526627218977
         },
         {
          "percentage": 12.091,
          "percentage_np": 12.370352470644896,
          "percentage_scaled": 0.3168106962334909,
          "percentage_tf": 12.356209100469334,
          "weight": 71.8,
          "weight_scaled": 0.3195266272189361
         },
         {
          "percentage": 12.207,
          "percentage_np": 12.434814532768044,
          "percentage_scaled": 0.33572476765041603,
          "percentage_tf": 12.4158695920854,
          "weight": 71.9,
          "weight_scaled": 0.3313609467455638
         },
         {
          "percentage": 11.804,
          "percentage_np": 12.434814532768044,
          "percentage_scaled": 0.27001467471058227,
          "percentage_tf": 12.4158695920854,
          "weight": 71.9,
          "weight_scaled": 0.3313609467455638
         },
         {
          "percentage": 11.673,
          "percentage_np": 12.467045563829615,
          "percentage_scaled": 0.24865481819664126,
          "percentage_tf": 12.445699837893425,
          "weight": 71.95,
          "weight_scaled": 0.3372781065088759
         },
         {
          "percentage": 12.123,
          "percentage_np": 12.402583501706467,
          "percentage_scaled": 0.32202837110712546,
          "percentage_tf": 12.386039346277359,
          "weight": 71.85,
          "weight_scaled": 0.3254437869822482
         },
         {
          "percentage": 12.433,
          "percentage_np": 12.176966284275466,
          "percentage_scaled": 0.3725745964454592,
          "percentage_tf": 12.177227625621148,
          "weight": 71.5,
          "weight_scaled": 0.2840236686390547
         },
         {
          "percentage": 11.953,
          "percentage_np": 11.983580097906035,
          "percentage_scaled": 0.2943094733409424,
          "percentage_tf": 11.99824615077296,
          "weight": 71.2,
          "weight_scaled": 0.2485207100591733
         },
         {
          "percentage": 11.775,
          "percentage_np": 12.402583501706467,
          "percentage_scaled": 0.26528615685635115,
          "percentage_tf": 12.386039346277359,
          "weight": 71.85,
          "weight_scaled": 0.3254437869822482
         },
         {
          "percentage": 12.145999999999999,
          "percentage_np": 12.886048967630046,
          "percentage_scaled": 0.32577857492255013,
          "percentage_tf": 12.833493033397831,
          "weight": 72.6,
          "weight_scaled": 0.41420118343195256
         },
         {
          "percentage": 12.050999999999998,
          "percentage_np": 12.724893812322186,
          "percentage_scaled": 0.31028860264144775,
          "percentage_tf": 12.684341804357677,
          "weight": 72.35,
          "weight_scaled": 0.384615384615385
         },
         {
          "percentage": 12.013,
          "percentage_np": 12.370352470644896,
          "percentage_scaled": 0.3040926137290072,
          "percentage_tf": 12.356209100469334,
          "weight": 71.8,
          "weight_scaled": 0.3195266272189361
         },
         {
          "percentage": 12.527999999999999,
          "percentage_np": 12.112504222152324,
          "percentage_scaled": 0.38806456872656114,
          "percentage_tf": 12.117567134005082,
          "weight": 71.4,
          "weight_scaled": 0.272189349112427
         },
         {
          "percentage": 12.83,
          "percentage_np": 12.789355874445334,
          "percentage_scaled": 0.43730637534648653,
          "percentage_tf": 12.744002295973743,
          "weight": 72.45,
          "weight_scaled": 0.39644970414201275
         },
         {
          "percentage": 12.429,
          "percentage_np": 12.660431750199045,
          "percentage_scaled": 0.3719223870862549,
          "percentage_tf": 12.624681312741613,
          "weight": 72.25,
          "weight_scaled": 0.3727810650887573
         },
         {
          "percentage": 12.345,
          "percentage_np": 12.918279998691624,
          "percentage_scaled": 0.35822599054296433,
          "percentage_tf": 12.863323279205874,
          "weight": 72.65,
          "weight_scaled": 0.4201183431952682
         },
         {
          "percentage": 12.475,
          "percentage_np": 12.821586905506905,
          "percentage_scaled": 0.3794227947171043,
          "percentage_tf": 12.773832541781776,
          "weight": 72.5,
          "weight_scaled": 0.4023668639053266
         },
         {
          "percentage": 12.314,
          "percentage_np": 12.595969688075904,
          "percentage_scaled": 0.35317136800913107,
          "percentage_tf": 12.565020821125556,
          "weight": 72.15,
          "weight_scaled": 0.36094674556213135
         },
         {
          "percentage": 12.744000000000002,
          "percentage_np": 12.757124843383764,
          "percentage_scaled": 0.42328387412359425,
          "percentage_tf": 12.714172050165711,
          "weight": 72.4,
          "weight_scaled": 0.3905325443786989
         },
         {
          "percentage": 13.059000000000001,
          "percentage_np": 12.499276594891185,
          "percentage_scaled": 0.47464536116093314,
          "percentage_tf": 12.475530083701457,
          "weight": 72,
          "weight_scaled": 0.34319526627218977
         },
         {
          "percentage": 12.572000000000001,
          "percentage_np": 12.692662781260616,
          "percentage_scaled": 0.3952388716778088,
          "percentage_tf": 12.654511558549645,
          "weight": 72.3,
          "weight_scaled": 0.37869822485207116
         },
         {
          "percentage": 12.114,
          "percentage_np": 12.499276594891185,
          "percentage_scaled": 0.320560900048916,
          "percentage_tf": 12.475530083701457,
          "weight": 72,
          "weight_scaled": 0.34319526627218977
         },
         {
          "percentage": 12.463,
          "percentage_np": 12.692662781260616,
          "percentage_scaled": 0.3774661666394914,
          "percentage_tf": 12.654511558549645,
          "weight": 72.3,
          "weight_scaled": 0.37869822485207116
         },
         {
          "percentage": 12.615,
          "percentage_np": 12.595969688075904,
          "percentage_scaled": 0.40225012228925494,
          "percentage_tf": 12.565020821125556,
          "weight": 72.15,
          "weight_scaled": 0.36094674556213135
         },
         {
          "percentage": 12.349,
          "percentage_np": 12.434814532768044,
          "percentage_scaled": 0.3588781999021686,
          "percentage_tf": 12.4158695920854,
          "weight": 71.9,
          "weight_scaled": 0.3313609467455638
         },
         {
          "percentage": 12.672,
          "percentage_np": 12.434814532768044,
          "percentage_scaled": 0.41154410565791655,
          "percentage_tf": 12.4158695920854,
          "weight": 71.9,
          "weight_scaled": 0.3313609467455638
         },
         {
          "percentage": 12.606,
          "percentage_np": 12.982742060814765,
          "percentage_scaled": 0.4007826512310453,
          "percentage_tf": 12.92298377082193,
          "weight": 72.75,
          "weight_scaled": 0.43195266272189414
         },
         {
          "percentage": 12.269,
          "percentage_np": 12.950511029753194,
          "percentage_scaled": 0.3458340127180828,
          "percentage_tf": 12.893153525013895,
          "weight": 72.7,
          "weight_scaled": 0.4260355029585803
         },
         {
          "percentage": 12.347000000000001,
          "percentage_np": 12.886048967630046,
          "percentage_scaled": 0.3585520952225669,
          "percentage_tf": 12.833493033397831,
          "weight": 72.6,
          "weight_scaled": 0.41420118343195256
         },
         {
          "percentage": 12.192,
          "percentage_np": 12.692662781260616,
          "percentage_scaled": 0.3332789825533997,
          "percentage_tf": 12.654511558549645,
          "weight": 72.3,
          "weight_scaled": 0.37869822485207116
         },
         {
          "percentage": 13.004000000000001,
          "percentage_np": 12.628200719137475,
          "percentage_scaled": 0.4656774824718737,
          "percentage_tf": 12.594851066933588,
          "weight": 72.2,
          "weight_scaled": 0.3668639053254452
         },
         {
          "percentage": 12.39,
          "percentage_np": 13.079435153999484,
          "percentage_scaled": 0.36556334583401306,
          "percentage_tf": 13.012474508246028,
          "weight": 72.9,
          "weight_scaled": 0.44970414201183573
         },
         {
          "percentage": 12.359000000000002,
          "percentage_np": 13.014973091876335,
          "percentage_scaled": 0.3605087233001798,
          "percentage_tf": 12.952814016629961,
          "weight": 72.8,
          "weight_scaled": 0.437869822485208
         },
         {
          "percentage": 12.779000000000002,
          "percentage_np": 13.014973091876335,
          "percentage_scaled": 0.4289907060166318,
          "percentage_tf": 12.952814016629961,
          "weight": 72.8,
          "weight_scaled": 0.437869822485208
         },
         {
          "percentage": 12.924000000000001,
          "percentage_np": 12.821586905506905,
          "percentage_scaled": 0.45263329528778784,
          "percentage_tf": 12.773832541781776,
          "weight": 72.5,
          "weight_scaled": 0.4023668639053266
         },
         {
          "percentage": 12.967,
          "percentage_np": 12.563738657014326,
          "percentage_scaled": 0.459644545899234,
          "percentage_tf": 12.535190575317515,
          "weight": 72.1,
          "weight_scaled": 0.3550295857988157
         },
         {
          "percentage": 12.493,
          "percentage_np": 12.467045563829615,
          "percentage_scaled": 0.3823577368335236,
          "percentage_tf": 12.445699837893425,
          "weight": 71.95,
          "weight_scaled": 0.3372781065088759
         },
         {
          "percentage": 12.59,
          "percentage_np": 12.402583501706467,
          "percentage_scaled": 0.3981738137942281,
          "percentage_tf": 12.386039346277359,
          "weight": 71.85,
          "weight_scaled": 0.3254437869822482
         },
         {
          "percentage": 12.76,
          "percentage_np": 12.305890408521755,
          "percentage_scaled": 0.425892711560411,
          "percentage_tf": 12.29654860885327,
          "weight": 71.7,
          "weight_scaled": 0.3076923076923084
         },
         {
          "percentage": 12.477,
          "percentage_np": 12.757124843383764,
          "percentage_scaled": 0.3797488993967064,
          "percentage_tf": 12.714172050165711,
          "weight": 72.4,
          "weight_scaled": 0.3905325443786989
         },
         {
          "percentage": 12.456,
          "percentage_np": 13.176128247184195,
          "percentage_scaled": 0.3763248002608839,
          "percentage_tf": 13.101965245670117,
          "weight": 73.05,
          "weight_scaled": 0.46745562130177554
         },
         {
          "percentage": 12.104000000000001,
          "percentage_np": 12.918279998691624,
          "percentage_scaled": 0.3189303766509053,
          "percentage_tf": 12.863323279205874,
          "weight": 72.65,
          "weight_scaled": 0.4201183431952682
         },
         {
          "percentage": 12.132,
          "percentage_np": 12.595969688075904,
          "percentage_scaled": 0.3234958421653351,
          "percentage_tf": 12.565020821125556,
          "weight": 72.15,
          "weight_scaled": 0.36094674556213135
         },
         {
          "percentage": 12.414000000000001,
          "percentage_np": 12.467045563829615,
          "percentage_scaled": 0.3694766019892388,
          "percentage_tf": 12.445699837893425,
          "weight": 71.95,
          "weight_scaled": 0.3372781065088759
         },
         {
          "percentage": 12.762,
          "percentage_np": 12.821586905506905,
          "percentage_scaled": 0.4262188162400131,
          "percentage_tf": 12.773832541781776,
          "weight": 72.5,
          "weight_scaled": 0.4023668639053266
         },
         {
          "percentage": 12.187000000000001,
          "percentage_np": 12.886048967630046,
          "percentage_scaled": 0.3324637208543946,
          "percentage_tf": 12.833493033397831,
          "weight": 72.6,
          "weight_scaled": 0.41420118343195256
         },
         {
          "percentage": 12.662,
          "percentage_np": 12.918279998691624,
          "percentage_scaled": 0.4099135822599058,
          "percentage_tf": 12.863323279205874,
          "weight": 72.65,
          "weight_scaled": 0.4201183431952682
         },
         {
          "percentage": 13.052999999999999,
          "percentage_np": 12.724893812322186,
          "percentage_scaled": 0.47366704712212626,
          "percentage_tf": 12.684341804357677,
          "weight": 72.35,
          "weight_scaled": 0.384615384615385
         },
         {
          "percentage": 11.202,
          "percentage_np": 12.112504222152324,
          "percentage_scaled": 0.1718571661503343,
          "percentage_tf": 12.117567134005082,
          "weight": 71.4,
          "weight_scaled": 0.272189349112427
         },
         {
          "percentage": 12.719000000000001,
          "percentage_np": 12.692662781260616,
          "percentage_scaled": 0.419207565628567,
          "percentage_tf": 12.654511558549645,
          "weight": 72.3,
          "weight_scaled": 0.37869822485207116
         },
         {
          "percentage": 13.003,
          "percentage_np": 12.757124843383764,
          "percentage_scaled": 0.4655144301320726,
          "percentage_tf": 12.714172050165711,
          "weight": 72.4,
          "weight_scaled": 0.3905325443786989
         },
         {
          "percentage": 13.554,
          "percentage_np": 12.918279998691624,
          "percentage_scaled": 0.5553562693624656,
          "percentage_tf": 12.863323279205874,
          "weight": 72.65,
          "weight_scaled": 0.4201183431952682
         },
         {
          "percentage": 13.549000000000001,
          "percentage_np": 12.886048967630046,
          "percentage_scaled": 0.5545410076634603,
          "percentage_tf": 12.833493033397831,
          "weight": 72.6,
          "weight_scaled": 0.41420118343195256
         },
         {
          "percentage": 12.092,
          "percentage_np": 13.627362682046204,
          "percentage_scaled": 0.3169737485732922,
          "percentage_tf": 13.519588686982557,
          "weight": 73.75,
          "weight_scaled": 0.550295857988166
         },
         {
          "percentage": 12.657,
          "percentage_np": 13.143897216122625,
          "percentage_scaled": 0.4090983205609,
          "percentage_tf": 13.072134999862085,
          "weight": 73,
          "weight_scaled": 0.4615384615384617
         },
         {
          "percentage": 12.793,
          "percentage_np": 12.821586905506905,
          "percentage_scaled": 0.4312734387738464,
          "percentage_tf": 12.773832541781776,
          "weight": 72.5,
          "weight_scaled": 0.4023668639053266
         },
         {
          "percentage": 12.860999999999999,
          "percentage_np": 12.918279998691624,
          "percentage_scaled": 0.44236099788031935,
          "percentage_tf": 12.863323279205874,
          "weight": 72.65,
          "weight_scaled": 0.4201183431952682
         },
         {
          "percentage": 12.54,
          "percentage_np": 13.079435153999484,
          "percentage_scaled": 0.390021196804174,
          "percentage_tf": 13.012474508246028,
          "weight": 72.9,
          "weight_scaled": 0.44970414201183573
         },
         {
          "percentage": 12.807,
          "percentage_np": 13.240590309307343,
          "percentage_scaled": 0.43355617153106185,
          "percentage_tf": 13.161625737286183,
          "weight": 73.15,
          "weight_scaled": 0.47928994082840326
         },
         {
          "percentage": 12.998,
          "percentage_np": 13.143897216122625,
          "percentage_scaled": 0.46469916843306724,
          "percentage_tf": 13.072134999862085,
          "weight": 73,
          "weight_scaled": 0.4615384615384617
         },
         {
          "percentage": 13.099,
          "percentage_np": 12.821586905506905,
          "percentage_scaled": 0.48116745475297606,
          "percentage_tf": 12.773832541781776,
          "weight": 72.5,
          "weight_scaled": 0.4023668639053266
         },
         {
          "percentage": 12.575999999999999,
          "percentage_np": 13.143897216122625,
          "percentage_scaled": 0.39589108103701265,
          "percentage_tf": 13.072134999862085,
          "weight": 73,
          "weight_scaled": 0.4615384615384617
         },
         {
          "percentage": 12.765,
          "percentage_np": 12.273659377460184,
          "percentage_scaled": 0.42670797325941634,
          "percentage_tf": 12.266718363045248,
          "weight": 71.65,
          "weight_scaled": 0.3017751479289963
         },
         {
          "percentage": 12.923,
          "percentage_np": 12.144735253213895,
          "percentage_scaled": 0.4524702429479863,
          "percentage_tf": 12.147397379813116,
          "weight": 71.45,
          "weight_scaled": 0.27810650887574084
         },
         {
          "percentage": 12.597000000000001,
          "percentage_np": 12.370352470644896,
          "percentage_scaled": 0.3993151801728356,
          "percentage_tf": 12.356209100469334,
          "weight": 71.8,
          "weight_scaled": 0.3195266272189361
         },
         {
          "percentage": 12.585999999999999,
          "percentage_np": 12.660431750199045,
          "percentage_scaled": 0.3975216044350234,
          "percentage_tf": 12.624681312741613,
          "weight": 72.25,
          "weight_scaled": 0.3727810650887573
         },
         {
          "percentage": 12.93,
          "percentage_np": 12.434814532768044,
          "percentage_scaled": 0.45361160932659383,
          "percentage_tf": 12.4158695920854,
          "weight": 71.9,
          "weight_scaled": 0.3313609467455638
         },
         {
          "percentage": 12.29,
          "percentage_np": 12.467045563829615,
          "percentage_scaled": 0.3492581118539049,
          "percentage_tf": 12.445699837893425,
          "weight": 71.95,
          "weight_scaled": 0.3372781065088759
         },
         {
          "percentage": 13.138,
          "percentage_np": 12.531507625952756,
          "percentage_scaled": 0.4875264960052179,
          "percentage_tf": 12.50536032950949,
          "weight": 72.05,
          "weight_scaled": 0.34911242603550363
         },
         {
          "percentage": 11.690999999999999,
          "percentage_np": 11.338959476674596,
          "percentage_scaled": 0.25158976031306035,
          "percentage_tf": 11.401641234612324,
          "weight": 70.2,
          "weight_scaled": 0.13017751479289963
         },
         {
          "percentage": 12.765,
          "percentage_np": 12.402583501706467,
          "percentage_scaled": 0.42670797325941634,
          "percentage_tf": 12.386039346277359,
          "weight": 71.85,
          "weight_scaled": 0.3254437869822482
         },
         {
          "percentage": 12.401,
          "percentage_np": 12.692662781260616,
          "percentage_scaled": 0.36735692157182487,
          "percentage_tf": 12.654511558549645,
          "weight": 72.3,
          "weight_scaled": 0.37869822485207116
         },
         {
          "percentage": 12.515,
          "percentage_np": 13.014973091876335,
          "percentage_scaled": 0.38594488830914764,
          "percentage_tf": 12.952814016629961,
          "weight": 72.8,
          "weight_scaled": 0.437869822485208
         },
         {
          "percentage": 12.945,
          "percentage_np": 12.660431750199045,
          "percentage_scaled": 0.4560573944236104,
          "percentage_tf": 12.624681312741613,
          "weight": 72.25,
          "weight_scaled": 0.3727810650887573
         },
         {
          "percentage": 12.312999999999999,
          "percentage_np": 12.628200719137475,
          "percentage_scaled": 0.35300831566933,
          "percentage_tf": 12.594851066933588,
          "weight": 72.2,
          "weight_scaled": 0.3668639053254452
         },
         {
          "percentage": 12.932,
          "percentage_np": 12.757124843383764,
          "percentage_scaled": 0.453937714006196,
          "percentage_tf": 12.714172050165711,
          "weight": 72.4,
          "weight_scaled": 0.3905325443786989
         },
         {
          "percentage": 12.863,
          "percentage_np": 12.853817936568475,
          "percentage_scaled": 0.44268710255992194,
          "percentage_tf": 12.803662787589799,
          "weight": 72.55,
          "weight_scaled": 0.4082840236686387
         },
         {
          "percentage": 13.177,
          "percentage_np": 12.918279998691624,
          "percentage_scaled": 0.49388553725745976,
          "percentage_tf": 12.863323279205874,
          "weight": 72.65,
          "weight_scaled": 0.4201183431952682
         },
         {
          "percentage": 12.859000000000002,
          "percentage_np": 12.628200719137475,
          "percentage_scaled": 0.44203489320071765,
          "percentage_tf": 12.594851066933588,
          "weight": 72.2,
          "weight_scaled": 0.3668639053254452
         },
         {
          "percentage": 13.15,
          "percentage_np": 12.918279998691624,
          "percentage_scaled": 0.4894831240828308,
          "percentage_tf": 12.863323279205874,
          "weight": 72.65,
          "weight_scaled": 0.4201183431952682
         },
         {
          "percentage": 13.234000000000002,
          "percentage_np": 13.143897216122625,
          "percentage_scaled": 0.5031795206261214,
          "percentage_tf": 13.072134999862085,
          "weight": 73,
          "weight_scaled": 0.4615384615384617
         },
         {
          "percentage": 12.838,
          "percentage_np": 12.660431750199045,
          "percentage_scaled": 0.43861079406489467,
          "percentage_tf": 12.624681312741613,
          "weight": 72.25,
          "weight_scaled": 0.3727810650887573
         },
         {
          "percentage": 12.769,
          "percentage_np": 12.563738657014326,
          "percentage_scaled": 0.42736018261862063,
          "percentage_tf": 12.535190575317515,
          "weight": 72.1,
          "weight_scaled": 0.3550295857988157
         },
         {
          "percentage": 13.002,
          "percentage_np": 12.499276594891185,
          "percentage_scaled": 0.46535137779227154,
          "percentage_tf": 12.475530083701457,
          "weight": 72,
          "weight_scaled": 0.34319526627218977
         },
         {
          "percentage": 12.18,
          "percentage_np": 12.628200719137475,
          "percentage_scaled": 0.33132235447578684,
          "percentage_tf": 12.594851066933588,
          "weight": 72.2,
          "weight_scaled": 0.3668639053254452
         },
         {
          "percentage": 12.323,
          "percentage_np": 13.014973091876335,
          "percentage_scaled": 0.3546388390673407,
          "percentage_tf": 12.952814016629961,
          "weight": 72.8,
          "weight_scaled": 0.437869822485208
         },
         {
          "percentage": 12.985,
          "percentage_np": 12.918279998691624,
          "percentage_scaled": 0.46257948801565285,
          "percentage_tf": 12.863323279205874,
          "weight": 72.65,
          "weight_scaled": 0.4201183431952682
         },
         {
          "percentage": 12.62,
          "percentage_np": 12.886048967630046,
          "percentage_scaled": 0.4030653839882603,
          "percentage_tf": 12.833493033397831,
          "weight": 72.6,
          "weight_scaled": 0.41420118343195256
         },
         {
          "percentage": 12.925999999999998,
          "percentage_np": 13.143897216122625,
          "percentage_scaled": 0.45295939996738954,
          "percentage_tf": 13.072134999862085,
          "weight": 73,
          "weight_scaled": 0.4615384615384617
         },
         {
          "percentage": 13.162,
          "percentage_np": 12.789355874445334,
          "percentage_scaled": 0.49143975216044367,
          "percentage_tf": 12.744002295973743,
          "weight": 72.45,
          "weight_scaled": 0.39644970414201275
         },
         {
          "percentage": 12.735999999999999,
          "percentage_np": 12.918279998691624,
          "percentage_scaled": 0.4219794554051852,
          "percentage_tf": 12.863323279205874,
          "weight": 72.65,
          "weight_scaled": 0.4201183431952682
         },
         {
          "percentage": 12.347000000000001,
          "percentage_np": 12.918279998691624,
          "percentage_scaled": 0.3585520952225669,
          "percentage_tf": 12.863323279205874,
          "weight": 72.65,
          "weight_scaled": 0.4201183431952682
         },
         {
          "percentage": 12.677999999999999,
          "percentage_np": 12.886048967630046,
          "percentage_scaled": 0.41252241969672254,
          "percentage_tf": 12.833493033397831,
          "weight": 72.6,
          "weight_scaled": 0.41420118343195256
         },
         {
          "percentage": 12.427999999999999,
          "percentage_np": 12.886048967630046,
          "percentage_scaled": 0.3717593347464534,
          "percentage_tf": 12.833493033397831,
          "weight": 72.6,
          "weight_scaled": 0.41420118343195256
         },
         {
          "percentage": 12.690999999999999,
          "percentage_np": 13.014973091876335,
          "percentage_scaled": 0.4146421001141365,
          "percentage_tf": 12.952814016629961,
          "weight": 72.8,
          "weight_scaled": 0.437869822485208
         },
         {
          "percentage": 12.944,
          "percentage_np": 12.789355874445334,
          "percentage_scaled": 0.4558943420838093,
          "percentage_tf": 12.744002295973743,
          "weight": 72.45,
          "weight_scaled": 0.39644970414201275
         },
         {
          "percentage": 12.981,
          "percentage_np": 12.853817936568475,
          "percentage_scaled": 0.461927278656449,
          "percentage_tf": 12.803662787589799,
          "weight": 72.55,
          "weight_scaled": 0.4082840236686387
         },
         {
          "percentage": 12.917,
          "percentage_np": 12.789355874445334,
          "percentage_scaled": 0.4514919289091799,
          "percentage_tf": 12.744002295973743,
          "weight": 72.45,
          "weight_scaled": 0.39644970414201275
         },
         {
          "percentage": 12.876,
          "percentage_np": 12.370352470644896,
          "percentage_scaled": 0.4448067829773359,
          "percentage_tf": 12.356209100469334,
          "weight": 71.8,
          "weight_scaled": 0.3195266272189361
         },
         {
          "percentage": 12.530999999999999,
          "percentage_np": 12.563738657014326,
          "percentage_scaled": 0.38855372574596436,
          "percentage_tf": 12.535190575317515,
          "weight": 72.1,
          "weight_scaled": 0.3550295857988157
         },
         {
          "percentage": 12.288,
          "percentage_np": 12.370352470644896,
          "percentage_scaled": 0.34893200717430317,
          "percentage_tf": 12.356209100469334,
          "weight": 71.8,
          "weight_scaled": 0.3195266272189361
         },
         {
          "percentage": 12.467,
          "percentage_np": 12.982742060814765,
          "percentage_scaled": 0.3781183759986957,
          "percentage_tf": 12.92298377082193,
          "weight": 72.75,
          "weight_scaled": 0.43195266272189414
         },
         {
          "percentage": 13.097999999999999,
          "percentage_np": 12.886048967630046,
          "percentage_scaled": 0.48100440241317455,
          "percentage_tf": 12.833493033397831,
          "weight": 72.6,
          "weight_scaled": 0.41420118343195256
         },
         {
          "percentage": 12.839,
          "percentage_np": 13.498438557799915,
          "percentage_scaled": 0.4387738464046962,
          "percentage_tf": 13.400267703750435,
          "weight": 73.55,
          "weight_scaled": 0.5266272189349124
         },
         {
          "percentage": 13.322000000000001,
          "percentage_np": 13.369514433553626,
          "percentage_scaled": 0.5175281265286158,
          "percentage_tf": 13.280946720518305,
          "weight": 73.35,
          "weight_scaled": 0.5029585798816569
         },
         {
          "percentage": 12.937000000000001,
          "percentage_np": 12.918279998691624,
          "percentage_scaled": 0.4547529757052018,
          "percentage_tf": 12.863323279205874,
          "weight": 72.65,
          "weight_scaled": 0.4201183431952682
         },
         {
          "percentage": 13.255999999999998,
          "percentage_np": 13.014973091876335,
          "percentage_scaled": 0.5067666721017445,
          "percentage_tf": 12.952814016629961,
          "weight": 72.8,
          "weight_scaled": 0.437869822485208
         },
         {
          "percentage": 12.469000000000001,
          "percentage_np": 12.982742060814765,
          "percentage_scaled": 0.3784444806782983,
          "percentage_tf": 12.92298377082193,
          "weight": 72.75,
          "weight_scaled": 0.43195266272189414
         },
         {
          "percentage": 13.036,
          "percentage_np": 13.047204122937906,
          "percentage_scaled": 0.470895157345508,
          "percentage_tf": 12.982644262437987,
          "weight": 72.85,
          "weight_scaled": 0.4437869822485201
         },
         {
          "percentage": 12.924000000000001,
          "percentage_np": 13.047204122937906,
          "percentage_scaled": 0.45263329528778784,
          "percentage_tf": 12.982644262437987,
          "weight": 72.85,
          "weight_scaled": 0.4437869822485201
         },
         {
          "percentage": 12.834000000000001,
          "percentage_np": 13.337283402492055,
          "percentage_scaled": 0.4379585847056908,
          "percentage_tf": 13.251116474710273,
          "weight": 73.3,
          "weight_scaled": 0.49704142011834307
         },
         {
          "percentage": 12.61,
          "percentage_np": 12.982742060814765,
          "percentage_scaled": 0.4014348605902496,
          "percentage_tf": 12.92298377082193,
          "weight": 72.75,
          "weight_scaled": 0.43195266272189414
         },
         {
          "percentage": 12.605,
          "percentage_np": 12.918279998691624,
          "percentage_scaled": 0.4006195988912442,
          "percentage_tf": 12.863323279205874,
          "weight": 72.65,
          "weight_scaled": 0.4201183431952682
         },
         {
          "percentage": 12.757,
          "percentage_np": 13.047204122937906,
          "percentage_scaled": 0.42540355454100776,
          "percentage_tf": 12.982644262437987,
          "weight": 72.85,
          "weight_scaled": 0.4437869822485201
         },
         {
          "percentage": 13.059000000000001,
          "percentage_np": 12.982742060814765,
          "percentage_scaled": 0.47464536116093314,
          "percentage_tf": 12.92298377082193,
          "weight": 72.75,
          "weight_scaled": 0.43195266272189414
         },
         {
          "percentage": 12.998,
          "percentage_np": 13.208359278245766,
          "percentage_scaled": 0.46469916843306724,
          "percentage_tf": 13.13179549147815,
          "weight": 73.1,
          "weight_scaled": 0.4733727810650894
         },
         {
          "percentage": 13.502,
          "percentage_np": 12.950511029753194,
          "percentage_scaled": 0.5468775476928098,
          "percentage_tf": 12.893153525013895,
          "weight": 72.7,
          "weight_scaled": 0.4260355029585803
         },
         {
          "percentage": 13.032,
          "percentage_np": 12.982742060814765,
          "percentage_scaled": 0.4702429479863037,
          "percentage_tf": 12.92298377082193,
          "weight": 72.75,
          "weight_scaled": 0.43195266272189414
         },
         {
          "percentage": 12.77,
          "percentage_np": 12.886048967630046,
          "percentage_scaled": 0.4275232349584217,
          "percentage_tf": 12.833493033397831,
          "weight": 72.6,
          "weight_scaled": 0.41420118343195256
         },
         {
          "percentage": 12.305,
          "percentage_np": 12.982742060814765,
          "percentage_scaled": 0.3517038969509214,
          "percentage_tf": 12.92298377082193,
          "weight": 72.75,
          "weight_scaled": 0.43195266272189414
         },
         {
          "percentage": 12.353,
          "percentage_np": 12.595969688075904,
          "percentage_scaled": 0.3595304092613729,
          "percentage_tf": 12.565020821125556,
          "weight": 72.15,
          "weight_scaled": 0.36094674556213135
         },
         {
          "percentage": 12.859000000000002,
          "percentage_np": 12.531507625952756,
          "percentage_scaled": 0.44203489320071765,
          "percentage_tf": 12.50536032950949,
          "weight": 72.05,
          "weight_scaled": 0.34911242603550363
         },
         {
          "percentage": 12.788,
          "percentage_np": 13.047204122937906,
          "percentage_scaled": 0.430458177074841,
          "percentage_tf": 12.982644262437987,
          "weight": 72.85,
          "weight_scaled": 0.4437869822485201
         },
         {
          "percentage": 13.042,
          "percentage_np": 13.047204122937906,
          "percentage_scaled": 0.47187347138431446,
          "percentage_tf": 12.982644262437987,
          "weight": 72.85,
          "weight_scaled": 0.4437869822485201
         },
         {
          "percentage": 12.717,
          "percentage_np": 12.660431750199045,
          "percentage_scaled": 0.41888146094896483,
          "percentage_tf": 12.624681312741613,
          "weight": 72.25,
          "weight_scaled": 0.3727810650887573
         },
         {
          "percentage": 12.335999999999999,
          "percentage_np": 11.983580097906035,
          "percentage_scaled": 0.3567585194847547,
          "percentage_tf": 11.99824615077296,
          "weight": 71.2,
          "weight_scaled": 0.2485207100591733
         },
         {
          "percentage": 12.315,
          "percentage_np": 12.144735253213895,
          "percentage_scaled": 0.35333442034893214,
          "percentage_tf": 12.147397379813116,
          "weight": 71.45,
          "weight_scaled": 0.27810650887574084
         },
         {
          "percentage": 11.802999999999999,
          "percentage_np": 12.499276594891185,
          "percentage_scaled": 0.269851622370781,
          "percentage_tf": 12.475530083701457,
          "weight": 72,
          "weight_scaled": 0.34319526627218977
         },
         {
          "percentage": 12.567,
          "percentage_np": 12.370352470644896,
          "percentage_scaled": 0.39442360997880344,
          "percentage_tf": 12.356209100469334,
          "weight": 71.8,
          "weight_scaled": 0.3195266272189361
         },
         {
          "percentage": 12.809000000000001,
          "percentage_np": 12.531507625952756,
          "percentage_scaled": 0.433882276210664,
          "percentage_tf": 12.50536032950949,
          "weight": 72.05,
          "weight_scaled": 0.34911242603550363
         },
         {
          "percentage": 12.179,
          "percentage_np": 12.467045563829615,
          "percentage_scaled": 0.33115930213598577,
          "percentage_tf": 12.445699837893425,
          "weight": 71.95,
          "weight_scaled": 0.3372781065088759
         },
         {
          "percentage": 11.889000000000001,
          "percentage_np": 12.531507625952756,
          "percentage_scaled": 0.2838741235936739,
          "percentage_tf": 12.50536032950949,
          "weight": 72.05,
          "weight_scaled": 0.34911242603550363
         },
         {
          "percentage": 12.408,
          "percentage_np": 13.208359278245766,
          "percentage_scaled": 0.36849828795043194,
          "percentage_tf": 13.13179549147815,
          "weight": 73.1,
          "weight_scaled": 0.4733727810650894
         },
         {
          "percentage": 12.107999999999999,
          "percentage_np": 12.853817936568475,
          "percentage_scaled": 0.31958258601010914,
          "percentage_tf": 12.803662787589799,
          "weight": 72.55,
          "weight_scaled": 0.4082840236686387
         },
         {
          "percentage": 12.06,
          "percentage_np": 12.982742060814765,
          "percentage_scaled": 0.31175607369965785,
          "percentage_tf": 12.92298377082193,
          "weight": 72.75,
          "weight_scaled": 0.43195266272189414
         },
         {
          "percentage": 11.6,
          "percentage_np": 12.305890408521755,
          "percentage_scaled": 0.2367519973911627,
          "percentage_tf": 12.29654860885327,
          "weight": 71.7,
          "weight_scaled": 0.3076923076923084
         },
         {
          "percentage": 11.132,
          "percentage_np": 12.499276594891185,
          "percentage_scaled": 0.16044350236425897,
          "percentage_tf": 12.475530083701457,
          "weight": 72,
          "weight_scaled": 0.34319526627218977
         },
         {
          "percentage": 11.53,
          "percentage_np": 13.143897216122625,
          "percentage_scaled": 0.22533833360508715,
          "percentage_tf": 13.072134999862085,
          "weight": 73,
          "weight_scaled": 0.4615384615384617
         },
         {
          "percentage": 11.501,
          "percentage_np": 12.886048967630046,
          "percentage_scaled": 0.22060981575085603,
          "percentage_tf": 12.833493033397831,
          "weight": 72.6,
          "weight_scaled": 0.41420118343195256
         },
         {
          "percentage": 11.418,
          "percentage_np": 12.886048967630046,
          "percentage_scaled": 0.20707647154736675,
          "percentage_tf": 12.833493033397831,
          "weight": 72.6,
          "weight_scaled": 0.41420118343195256
         },
         {
          "percentage": 11.126,
          "percentage_np": 12.338121439583325,
          "percentage_scaled": 0.15946518832545253,
          "percentage_tf": 12.326378854661302,
          "weight": 71.75,
          "weight_scaled": 0.31360946745562224
         },
         {
          "percentage": 11.686,
          "percentage_np": 12.338121439583325,
          "percentage_scaled": 0.2507744986140552,
          "percentage_tf": 12.326378854661302,
          "weight": 71.75,
          "weight_scaled": 0.31360946745562224
         },
         {
          "percentage": 11.77,
          "percentage_np": 12.370352470644896,
          "percentage_scaled": 0.26447089515734556,
          "percentage_tf": 12.356209100469334,
          "weight": 71.8,
          "weight_scaled": 0.3195266272189361
         },
         {
          "percentage": 11.683,
          "percentage_np": 12.595969688075904,
          "percentage_scaled": 0.250285341594652,
          "percentage_tf": 12.565020821125556,
          "weight": 72.15,
          "weight_scaled": 0.36094674556213135
         },
         {
          "percentage": 12.117,
          "percentage_np": 12.918279998691624,
          "percentage_scaled": 0.32105005706831924,
          "percentage_tf": 12.863323279205874,
          "weight": 72.65,
          "weight_scaled": 0.4201183431952682
         },
         {
          "percentage": 12.258,
          "percentage_np": 12.628200719137475,
          "percentage_scaled": 0.34404043698027054,
          "percentage_tf": 12.594851066933588,
          "weight": 72.2,
          "weight_scaled": 0.3668639053254452
         },
         {
          "percentage": 12.027000000000001,
          "percentage_np": 12.499276594891185,
          "percentage_scaled": 0.30637534648622244,
          "percentage_tf": 12.475530083701457,
          "weight": 72,
          "weight_scaled": 0.34319526627218977
         },
         {
          "percentage": 12.41,
          "percentage_np": 12.531507625952756,
          "percentage_scaled": 0.3688243926300345,
          "percentage_tf": 12.50536032950949,
          "weight": 72.05,
          "weight_scaled": 0.34911242603550363
         },
         {
          "percentage": 12.298,
          "percentage_np": 12.305890408521755,
          "percentage_scaled": 0.3505625305723139,
          "percentage_tf": 12.29654860885327,
          "weight": 71.7,
          "weight_scaled": 0.3076923076923084
         },
         {
          "percentage": 12.203,
          "percentage_np": 12.209197315337036,
          "percentage_scaled": 0.3350725582912115,
          "percentage_tf": 12.207057871429171,
          "weight": 71.55,
          "weight_scaled": 0.2899408284023668
         },
         {
          "percentage": 11.495999999999999,
          "percentage_np": 12.628200719137475,
          "percentage_scaled": 0.21979455405185044,
          "percentage_tf": 12.594851066933588,
          "weight": 72.2,
          "weight_scaled": 0.3668639053254452
         },
         {
          "percentage": 12.509,
          "percentage_np": 12.660431750199045,
          "percentage_scaled": 0.38496657427034076,
          "percentage_tf": 12.624681312741613,
          "weight": 72.25,
          "weight_scaled": 0.3727810650887573
         },
         {
          "percentage": 11.950999999999999,
          "percentage_np": 12.531507625952756,
          "percentage_scaled": 0.2939833686613402,
          "percentage_tf": 12.50536032950949,
          "weight": 72.05,
          "weight_scaled": 0.34911242603550363
         },
         {
          "percentage": 11.302999999999999,
          "percentage_np": 11.757962880475027,
          "percentage_scaled": 0.1883254524702429,
          "percentage_tf": 11.789434430116732,
          "weight": 70.85,
          "weight_scaled": 0.20710059171597628
         },
         {
          "percentage": 11.42,
          "percentage_np": 12.048042160029176,
          "percentage_scaled": 0.2074025762269689,
          "percentage_tf": 12.057906642389018,
          "weight": 71.3,
          "weight_scaled": 0.26035502958579926
         },
         {
          "percentage": 11.19,
          "percentage_np": 12.434814532768044,
          "percentage_scaled": 0.16990053807272143,
          "percentage_tf": 12.4158695920854,
          "weight": 71.9,
          "weight_scaled": 0.3313609467455638
         },
         {
          "percentage": 11.718,
          "percentage_np": 12.338121439583325,
          "percentage_scaled": 0.25599217348768954,
          "percentage_tf": 12.326378854661302,
          "weight": 71.75,
          "weight_scaled": 0.31360946745562224
         },
         {
          "percentage": 11.357000000000001,
          "percentage_np": 12.531507625952756,
          "percentage_scaled": 0.1971302788195013,
          "percentage_tf": 12.50536032950949,
          "weight": 72.05,
          "weight_scaled": 0.34911242603550363
         },
         {
          "percentage": 12.140999999999998,
          "percentage_np": 12.305890408521755,
          "percentage_scaled": 0.32496331322354455,
          "percentage_tf": 12.29654860885327,
          "weight": 71.7,
          "weight_scaled": 0.3076923076923084
         },
         {
          "percentage": 12.095999999999998,
          "percentage_np": 12.176966284275466,
          "percentage_scaled": 0.31762595793249626,
          "percentage_tf": 12.177227625621148,
          "weight": 71.5,
          "weight_scaled": 0.2840236686390547
         },
         {
          "percentage": 12.36,
          "percentage_np": 12.176966284275466,
          "percentage_scaled": 0.36067177563998043,
          "percentage_tf": 12.177227625621148,
          "weight": 71.5,
          "weight_scaled": 0.2840236686390547
         },
         {
          "percentage": 12.207,
          "percentage_np": 11.919118035782887,
          "percentage_scaled": 0.33572476765041603,
          "percentage_tf": 11.938585659156885,
          "weight": 71.1,
          "weight_scaled": 0.2366863905325438
         },
         {
          "percentage": 11.557,
          "percentage_np": 12.305890408521755,
          "percentage_scaled": 0.22974074677971656,
          "percentage_tf": 12.29654860885327,
          "weight": 71.7,
          "weight_scaled": 0.3076923076923084
         },
         {
          "percentage": 11.774000000000001,
          "percentage_np": 11.951349066844465,
          "percentage_scaled": 0.2651231045165501,
          "percentage_tf": 11.968415904964928,
          "weight": 71.15,
          "weight_scaled": 0.24260355029585945
         },
         {
          "percentage": 11.507,
          "percentage_np": 12.338121439583325,
          "percentage_scaled": 0.22158812978966247,
          "percentage_tf": 12.326378854661302,
          "weight": 71.75,
          "weight_scaled": 0.31360946745562224
         },
         {
          "percentage": 11.457,
          "percentage_np": 12.370352470644896,
          "percentage_scaled": 0.21343551279960882,
          "percentage_tf": 12.356209100469334,
          "weight": 71.8,
          "weight_scaled": 0.3195266272189361
         },
         {
          "percentage": 11.847000000000001,
          "percentage_np": 12.080273191090747,
          "percentage_scaled": 0.27702592532202863,
          "percentage_tf": 12.08773688819705,
          "weight": 71.35,
          "weight_scaled": 0.2662721893491131
         },
         {
          "percentage": 11.062000000000001,
          "percentage_np": 12.080273191090747,
          "percentage_scaled": 0.14902983857818386,
          "percentage_tf": 12.08773688819705,
          "weight": 71.35,
          "weight_scaled": 0.2662721893491131
         },
         {
          "percentage": 11.275,
          "percentage_np": 12.112504222152324,
          "percentage_scaled": 0.18375998695581308,
          "percentage_tf": 12.117567134005082,
          "weight": 71.4,
          "weight_scaled": 0.272189349112427
         },
         {
          "percentage": 11.365,
          "percentage_np": 12.595969688075904,
          "percentage_scaled": 0.19843469753790988,
          "percentage_tf": 12.565020821125556,
          "weight": 72.15,
          "weight_scaled": 0.36094674556213135
         },
         {
          "percentage": 12.127,
          "percentage_np": 12.595969688075904,
          "percentage_scaled": 0.32268058046632997,
          "percentage_tf": 12.565020821125556,
          "weight": 72.15,
          "weight_scaled": 0.36094674556213135
         },
         {
          "percentage": 12.174000000000001,
          "percentage_np": 12.821586905506905,
          "percentage_scaled": 0.3303440404369806,
          "percentage_tf": 12.773832541781776,
          "weight": 72.5,
          "weight_scaled": 0.4023668639053266
         },
         {
          "percentage": 12.434000000000001,
          "percentage_np": 12.660431750199045,
          "percentage_scaled": 0.3727376487852603,
          "percentage_tf": 12.624681312741613,
          "weight": 72.25,
          "weight_scaled": 0.3727810650887573
         },
         {
          "percentage": 11.470999999999998,
          "percentage_np": 11.661269787290315,
          "percentage_scaled": 0.21571824555682362,
          "percentage_tf": 11.699943692692642,
          "weight": 70.7,
          "weight_scaled": 0.18934911242603647
         },
         {
          "percentage": 11.565,
          "percentage_np": 11.919118035782887,
          "percentage_scaled": 0.23104516549812493,
          "percentage_tf": 11.938585659156885,
          "weight": 71.1,
          "weight_scaled": 0.2366863905325438
         },
         {
          "percentage": 11.642999999999999,
          "percentage_np": 11.919118035782887,
          "percentage_scaled": 0.24376324800260885,
          "percentage_tf": 11.938585659156885,
          "weight": 71.1,
          "weight_scaled": 0.2366863905325438
         },
         {
          "percentage": 11.706,
          "percentage_np": 12.176966284275466,
          "percentage_scaled": 0.25403554541007667,
          "percentage_tf": 12.177227625621148,
          "weight": 71.5,
          "weight_scaled": 0.2840236686390547
         },
         {
          "percentage": 11.777999999999999,
          "percentage_np": 11.951349066844465,
          "percentage_scaled": 0.2657753138757539,
          "percentage_tf": 11.968415904964928,
          "weight": 71.15,
          "weight_scaled": 0.24260355029585945
         },
         {
          "percentage": 11.869000000000002,
          "percentage_np": 12.209197315337036,
          "percentage_scaled": 0.28061307679765246,
          "percentage_tf": 12.207057871429171,
          "weight": 71.55,
          "weight_scaled": 0.2899408284023668
         },
         {
          "percentage": 11.949000000000002,
          "percentage_np": 12.209197315337036,
          "percentage_scaled": 0.2936572639817385,
          "percentage_tf": 12.207057871429171,
          "weight": 71.55,
          "weight_scaled": 0.2899408284023668
         },
         {
          "percentage": 12.064,
          "percentage_np": 12.273659377460184,
          "percentage_scaled": 0.3124082830588619,
          "percentage_tf": 12.266718363045248,
          "weight": 71.65,
          "weight_scaled": 0.3017751479289963
         },
         {
          "percentage": 12.811,
          "percentage_np": 12.434814532768044,
          "percentage_scaled": 0.4342083808902657,
          "percentage_tf": 12.4158695920854,
          "weight": 71.9,
          "weight_scaled": 0.3313609467455638
         },
         {
          "percentage": 12.259,
          "percentage_np": 11.886887004721316,
          "percentage_scaled": 0.34420348932007183,
          "percentage_tf": 11.908755413348862,
          "weight": 71.05,
          "weight_scaled": 0.23076923076923173
         },
         {
          "percentage": 12.282,
          "percentage_np": 12.305890408521755,
          "percentage_scaled": 0.34795369313549673,
          "percentage_tf": 12.29654860885327,
          "weight": 71.7,
          "weight_scaled": 0.3076923076923084
         },
         {
          "percentage": 12.029000000000002,
          "percentage_np": 12.402583501706467,
          "percentage_scaled": 0.3067014511658246,
          "percentage_tf": 12.386039346277359,
          "weight": 71.85,
          "weight_scaled": 0.3254437869822482
         },
         {
          "percentage": 12.07,
          "percentage_np": 12.305890408521755,
          "percentage_scaled": 0.3133865970976686,
          "percentage_tf": 12.29654860885327,
          "weight": 71.7,
          "weight_scaled": 0.3076923076923084
         },
         {
          "percentage": 11.838,
          "percentage_np": 11.983580097906035,
          "percentage_scaled": 0.27555845426381875,
          "percentage_tf": 11.99824615077296,
          "weight": 71.2,
          "weight_scaled": 0.2485207100591733
         },
         {
          "percentage": 12.04,
          "percentage_np": 12.273659377460184,
          "percentage_scaled": 0.30849502690363595,
          "percentage_tf": 12.266718363045248,
          "weight": 71.65,
          "weight_scaled": 0.3017751479289963
         },
         {
          "percentage": 12.210999999999999,
          "percentage_np": 12.176966284275466,
          "percentage_scaled": 0.3363769770096199,
          "percentage_tf": 12.177227625621148,
          "weight": 71.5,
          "weight_scaled": 0.2840236686390547
         },
         {
          "percentage": 12.412,
          "percentage_np": 12.273659377460184,
          "percentage_scaled": 0.36915049730963667,
          "percentage_tf": 12.266718363045248,
          "weight": 71.65,
          "weight_scaled": 0.3017751479289963
         },
         {
          "percentage": 12.200999999999999,
          "percentage_np": 12.112504222152324,
          "percentage_scaled": 0.33474645361160915,
          "percentage_tf": 12.117567134005082,
          "weight": 71.4,
          "weight_scaled": 0.272189349112427
         },
         {
          "percentage": 11.863,
          "percentage_np": 12.338121439583325,
          "percentage_scaled": 0.2796347627588456,
          "percentage_tf": 12.326378854661302,
          "weight": 71.75,
          "weight_scaled": 0.31360946745562224
         },
         {
          "percentage": 11.922,
          "percentage_np": 12.176966284275466,
          "percentage_scaled": 0.28925485080710933,
          "percentage_tf": 12.177227625621148,
          "weight": 71.5,
          "weight_scaled": 0.2840236686390547
         },
         {
          "percentage": 11.931,
          "percentage_np": 12.241428346398607,
          "percentage_scaled": 0.29072232186531877,
          "percentage_tf": 12.236888117237203,
          "weight": 71.6,
          "weight_scaled": 0.29585798816568065
         },
         {
          "percentage": 12.158,
          "percentage_np": 12.338121439583325,
          "percentage_scaled": 0.327735203000163,
          "percentage_tf": 12.326378854661302,
          "weight": 71.75,
          "weight_scaled": 0.31360946745562224
         },
         {
          "percentage": 12.113,
          "percentage_np": 12.048042160029176,
          "percentage_scaled": 0.3203978477091147,
          "percentage_tf": 12.057906642389018,
          "weight": 71.3,
          "weight_scaled": 0.26035502958579926
         },
         {
          "percentage": 12.255,
          "percentage_np": 12.273659377460184,
          "percentage_scaled": 0.34355127996086776,
          "percentage_tf": 12.266718363045248,
          "weight": 71.65,
          "weight_scaled": 0.3017751479289963
         },
         {
          "percentage": 11.63,
          "percentage_np": 12.144735253213895,
          "percentage_scaled": 0.24164356758519512,
          "percentage_tf": 12.147397379813116,
          "weight": 71.45,
          "weight_scaled": 0.27810650887574084
         },
         {
          "percentage": 12.276,
          "percentage_np": 12.080273191090747,
          "percentage_scaled": 0.3469753790966903,
          "percentage_tf": 12.08773688819705,
          "weight": 71.35,
          "weight_scaled": 0.2662721893491131
         },
         {
          "percentage": 12.304,
          "percentage_np": 11.951349066844465,
          "percentage_scaled": 0.35154084461112034,
          "percentage_tf": 11.968415904964928,
          "weight": 71.15,
          "weight_scaled": 0.24260355029585945
         },
         {
          "percentage": 12.35,
          "percentage_np": 11.919118035782887,
          "percentage_scaled": 0.3590412522419697,
          "percentage_tf": 11.938585659156885,
          "weight": 71.1,
          "weight_scaled": 0.2366863905325438
         },
         {
          "percentage": 12.235999999999999,
          "percentage_np": 12.305890408521755,
          "percentage_scaled": 0.34045328550464693,
          "percentage_tf": 12.29654860885327,
          "weight": 71.7,
          "weight_scaled": 0.3076923076923084
         },
         {
          "percentage": 11.818,
          "percentage_np": 11.983580097906035,
          "percentage_scaled": 0.2722974074677973,
          "percentage_tf": 11.99824615077296,
          "weight": 71.2,
          "weight_scaled": 0.2485207100591733
         },
         {
          "percentage": 12.197000000000001,
          "percentage_np": 12.402583501706467,
          "percentage_scaled": 0.3340942442524053,
          "percentage_tf": 12.386039346277359,
          "weight": 71.85,
          "weight_scaled": 0.3254437869822482
         },
         {
          "percentage": 12.288,
          "percentage_np": 12.724893812322186,
          "percentage_scaled": 0.34893200717430317,
          "percentage_tf": 12.684341804357677,
          "weight": 72.35,
          "weight_scaled": 0.384615384615385
         },
         {
          "percentage": 11.869000000000002,
          "percentage_np": 12.628200719137475,
          "percentage_scaled": 0.28061307679765246,
          "percentage_tf": 12.594851066933588,
          "weight": 72.2,
          "weight_scaled": 0.3668639053254452
         },
         {
          "percentage": 11.838,
          "percentage_np": 11.790193911536605,
          "percentage_scaled": 0.27555845426381875,
          "percentage_tf": 11.819264675924773,
          "weight": 70.9,
          "weight_scaled": 0.21301775147929192
         },
         {
          "percentage": 11.883,
          "percentage_np": 12.048042160029176,
          "percentage_scaled": 0.28289580955486704,
          "percentage_tf": 12.057906642389018,
          "weight": 71.3,
          "weight_scaled": 0.26035502958579926
         },
         {
          "percentage": 12.017000000000001,
          "percentage_np": 12.241428346398607,
          "percentage_scaled": 0.3047448230882117,
          "percentage_tf": 12.236888117237203,
          "weight": 71.6,
          "weight_scaled": 0.29585798816568065
         },
         {
          "percentage": 11.665,
          "percentage_np": 12.434814532768044,
          "percentage_scaled": 0.24735039947823245,
          "percentage_tf": 12.4158695920854,
          "weight": 71.9,
          "weight_scaled": 0.3313609467455638
         },
         {
          "percentage": 11.254000000000001,
          "percentage_np": 12.305890408521755,
          "percentage_scaled": 0.18033588781999055,
          "percentage_tf": 12.29654860885327,
          "weight": 71.7,
          "weight_scaled": 0.3076923076923084
         },
         {
          "percentage": 11.574000000000002,
          "percentage_np": 12.305890408521755,
          "percentage_scaled": 0.23251263655633503,
          "percentage_tf": 12.29654860885327,
          "weight": 71.7,
          "weight_scaled": 0.3076923076923084
         },
         {
          "percentage": 11.655999999999999,
          "percentage_np": 11.629038756228745,
          "percentage_scaled": 0.2458829284200228,
          "percentage_tf": 11.67011344688461,
          "weight": 70.65,
          "weight_scaled": 0.1834319526627226
         },
         {
          "percentage": 11.552999999999999,
          "percentage_np": 12.112504222152324,
          "percentage_scaled": 0.22908853742051183,
          "percentage_tf": 12.117567134005082,
          "weight": 71.4,
          "weight_scaled": 0.272189349112427
         },
         {
          "percentage": 12.019,
          "percentage_np": 12.241428346398607,
          "percentage_scaled": 0.30507092776781364,
          "percentage_tf": 12.236888117237203,
          "weight": 71.6,
          "weight_scaled": 0.29585798816568065
         },
         {
          "percentage": 12.362,
          "percentage_np": 12.402583501706467,
          "percentage_scaled": 0.3609978803195826,
          "percentage_tf": 12.386039346277359,
          "weight": 71.85,
          "weight_scaled": 0.3254437869822482
         },
         {
          "percentage": 11.982000000000001,
          "percentage_np": 12.628200719137475,
          "percentage_scaled": 0.29903799119517394,
          "percentage_tf": 12.594851066933588,
          "weight": 72.2,
          "weight_scaled": 0.3668639053254452
         },
         {
          "percentage": 12.255,
          "percentage_np": 12.402583501706467,
          "percentage_scaled": 0.34355127996086776,
          "percentage_tf": 12.386039346277359,
          "weight": 71.85,
          "weight_scaled": 0.3254437869822482
         },
         {
          "percentage": 12.11,
          "percentage_np": 11.983580097906035,
          "percentage_scaled": 0.3199086906897115,
          "percentage_tf": 11.99824615077296,
          "weight": 71.2,
          "weight_scaled": 0.2485207100591733
         },
         {
          "percentage": 11.902000000000001,
          "percentage_np": 11.983580097906035,
          "percentage_scaled": 0.28599380401108787,
          "percentage_tf": 11.99824615077296,
          "weight": 71.2,
          "weight_scaled": 0.2485207100591733
         },
         {
          "percentage": 12.085,
          "percentage_np": 12.144735253213895,
          "percentage_scaled": 0.3158323821946847,
          "percentage_tf": 12.147397379813116,
          "weight": 71.45,
          "weight_scaled": 0.27810650887574084
         },
         {
          "percentage": 11.514000000000001,
          "percentage_np": 12.209197315337036,
          "percentage_scaled": 0.2227294961682702,
          "percentage_tf": 12.207057871429171,
          "weight": 71.55,
          "weight_scaled": 0.2899408284023668
         },
         {
          "percentage": 11.931,
          "percentage_np": 12.370352470644896,
          "percentage_scaled": 0.29072232186531877,
          "percentage_tf": 12.356209100469334,
          "weight": 71.8,
          "weight_scaled": 0.3195266272189361
         },
         {
          "percentage": 12.054,
          "percentage_np": 11.951349066844465,
          "percentage_scaled": 0.3107777596608512,
          "percentage_tf": 11.968415904964928,
          "weight": 71.15,
          "weight_scaled": 0.24260355029585945
         },
         {
          "percentage": 12.227,
          "percentage_np": 12.370352470644896,
          "percentage_scaled": 0.3389858144464375,
          "percentage_tf": 12.356209100469334,
          "weight": 71.8,
          "weight_scaled": 0.3195266272189361
         },
         {
          "percentage": 11.917,
          "percentage_np": 12.241428346398607,
          "percentage_scaled": 0.28843958910810374,
          "percentage_tf": 12.236888117237203,
          "weight": 71.6,
          "weight_scaled": 0.29585798816568065
         },
         {
          "percentage": 12.62,
          "percentage_np": 12.048042160029176,
          "percentage_scaled": 0.4030653839882603,
          "percentage_tf": 12.057906642389018,
          "weight": 71.3,
          "weight_scaled": 0.26035502958579926
         },
         {
          "percentage": 11.789000000000001,
          "percentage_np": 11.306728445613025,
          "percentage_scaled": 0.2675688896135664,
          "percentage_tf": 11.3718109888043,
          "weight": 70.15,
          "weight_scaled": 0.12426035502958754
         },
         {
          "percentage": 11.446,
          "percentage_np": 11.693500818351886,
          "percentage_scaled": 0.2116419370617968,
          "percentage_tf": 11.729773938500674,
          "weight": 70.75,
          "weight_scaled": 0.19526627218935033
         },
         {
          "percentage": 11.467,
          "percentage_np": 12.241428346398607,
          "percentage_scaled": 0.21506603619761955,
          "percentage_tf": 12.236888117237203,
          "weight": 71.6,
          "weight_scaled": 0.29585798816568065
         },
         {
          "percentage": 11.356,
          "percentage_np": 12.176966284275466,
          "percentage_scaled": 0.1969672264797,
          "percentage_tf": 12.177227625621148,
          "weight": 71.5,
          "weight_scaled": 0.2840236686390547
         },
         {
          "percentage": 11.623,
          "percentage_np": 12.209197315337036,
          "percentage_scaled": 0.24050220120658738,
          "percentage_tf": 12.207057871429171,
          "weight": 71.55,
          "weight_scaled": 0.2899408284023668
         },
         {
          "percentage": 11.772,
          "percentage_np": 11.951349066844465,
          "percentage_scaled": 0.2647969998369477,
          "percentage_tf": 11.968415904964928,
          "weight": 71.15,
          "weight_scaled": 0.24260355029585945
         },
         {
          "percentage": 11.912,
          "percentage_np": 12.015811128967606,
          "percentage_scaled": 0.2876243274090986,
          "percentage_tf": 12.028076396580984,
          "weight": 71.25,
          "weight_scaled": 0.2544378698224854
         },
         {
          "percentage": 10.865,
          "percentage_np": 11.951349066844465,
          "percentage_scaled": 0.1169085276373718,
          "percentage_tf": 11.968415904964928,
          "weight": 71.15,
          "weight_scaled": 0.24260355029585945
         },
         {
          "percentage": 11.786,
          "percentage_np": 12.918279998691624,
          "percentage_scaled": 0.26707973259416273,
          "percentage_tf": 12.863323279205874,
          "weight": 72.65,
          "weight_scaled": 0.4201183431952682
         },
         {
          "percentage": 11.637,
          "percentage_np": 12.660431750199045,
          "percentage_scaled": 0.24278493396380263,
          "percentage_tf": 12.624681312741613,
          "weight": 72.25,
          "weight_scaled": 0.3727810650887573
         },
         {
          "percentage": 12.437000000000001,
          "percentage_np": 12.724893812322186,
          "percentage_scaled": 0.3732268058046635,
          "percentage_tf": 12.684341804357677,
          "weight": 72.35,
          "weight_scaled": 0.384615384615385
         },
         {
          "percentage": 12.440999999999999,
          "percentage_np": 12.531507625952756,
          "percentage_scaled": 0.37387901516386735,
          "percentage_tf": 12.50536032950949,
          "weight": 72.05,
          "weight_scaled": 0.34911242603550363
         },
         {
          "percentage": 12.11,
          "percentage_np": 12.757124843383764,
          "percentage_scaled": 0.3199086906897115,
          "percentage_tf": 12.714172050165711,
          "weight": 72.4,
          "weight_scaled": 0.3905325443786989
         },
         {
          "percentage": 12.675999999999998,
          "percentage_np": 12.467045563829615,
          "percentage_scaled": 0.4121963150171204,
          "percentage_tf": 12.445699837893425,
          "weight": 71.95,
          "weight_scaled": 0.3372781065088759
         },
         {
          "percentage": 11.8,
          "percentage_np": 12.628200719137475,
          "percentage_scaled": 0.269362465351378,
          "percentage_tf": 12.594851066933588,
          "weight": 72.2,
          "weight_scaled": 0.3668639053254452
         },
         {
          "percentage": 12.249,
          "percentage_np": 12.757124843383764,
          "percentage_scaled": 0.3425729659220611,
          "percentage_tf": 12.714172050165711,
          "weight": 72.4,
          "weight_scaled": 0.3905325443786989
         },
         {
          "percentage": 12.128,
          "percentage_np": 12.628200719137475,
          "percentage_scaled": 0.3228436328061308,
          "percentage_tf": 12.594851066933588,
          "weight": 72.2,
          "weight_scaled": 0.3668639053254452
         },
         {
          "percentage": 12.254000000000001,
          "percentage_np": 12.531507625952756,
          "percentage_scaled": 0.3433882276210667,
          "percentage_tf": 12.50536032950949,
          "weight": 72.05,
          "weight_scaled": 0.34911242603550363
         },
         {
          "percentage": 12.479000000000001,
          "percentage_np": 12.402583501706467,
          "percentage_scaled": 0.38007500407630856,
          "percentage_tf": 12.386039346277359,
          "weight": 71.85,
          "weight_scaled": 0.3254437869822482
         },
         {
          "percentage": 11.919,
          "percentage_np": 12.209197315337036,
          "percentage_scaled": 0.2887656937877061,
          "percentage_tf": 12.207057871429171,
          "weight": 71.55,
          "weight_scaled": 0.2899408284023668
         },
         {
          "percentage": 12.245,
          "percentage_np": 12.692662781260616,
          "percentage_scaled": 0.3419207565628566,
          "percentage_tf": 12.654511558549645,
          "weight": 72.3,
          "weight_scaled": 0.37869822485207116
         },
         {
          "percentage": 12.324000000000002,
          "percentage_np": 12.434814532768044,
          "percentage_scaled": 0.35480189140714224,
          "percentage_tf": 12.4158695920854,
          "weight": 71.9,
          "weight_scaled": 0.3313609467455638
         },
         {
          "percentage": 11.533,
          "percentage_np": 12.692662781260616,
          "percentage_scaled": 0.2258274906244906,
          "percentage_tf": 12.654511558549645,
          "weight": 72.3,
          "weight_scaled": 0.37869822485207116
         },
         {
          "percentage": 12.963,
          "percentage_np": 12.724893812322186,
          "percentage_scaled": 0.45899233654002924,
          "percentage_tf": 12.684341804357677,
          "weight": 72.35,
          "weight_scaled": 0.384615384615385
         },
         {
          "percentage": 12.751,
          "percentage_np": 12.789355874445334,
          "percentage_scaled": 0.4244252405022013,
          "percentage_tf": 12.744002295973743,
          "weight": 72.45,
          "weight_scaled": 0.39644970414201275
         },
         {
          "percentage": 12.630999999999998,
          "percentage_np": 12.338121439583325,
          "percentage_scaled": 0.4048589597260721,
          "percentage_tf": 12.326378854661302,
          "weight": 71.75,
          "weight_scaled": 0.31360946745562224
         },
         {
          "percentage": 12.687999999999999,
          "percentage_np": 12.080273191090747,
          "percentage_scaled": 0.4141529430947333,
          "percentage_tf": 12.08773688819705,
          "weight": 71.35,
          "weight_scaled": 0.2662721893491131
         },
         {
          "percentage": 12.261,
          "percentage_np": 12.563738657014326,
          "percentage_scaled": 0.344529593999674,
          "percentage_tf": 12.535190575317515,
          "weight": 72.1,
          "weight_scaled": 0.3550295857988157
         },
         {
          "percentage": 12.985999999999999,
          "percentage_np": 12.886048967630046,
          "percentage_scaled": 0.4627425403554539,
          "percentage_tf": 12.833493033397831,
          "weight": 72.6,
          "weight_scaled": 0.41420118343195256
         },
         {
          "percentage": 12.759,
          "percentage_np": 12.628200719137475,
          "percentage_scaled": 0.4257296592206099,
          "percentage_tf": 12.594851066933588,
          "weight": 72.2,
          "weight_scaled": 0.3668639053254452
         },
         {
          "percentage": 12.591,
          "percentage_np": 12.821586905506905,
          "percentage_scaled": 0.3983368661340292,
          "percentage_tf": 12.773832541781776,
          "weight": 72.5,
          "weight_scaled": 0.4023668639053266
         },
         {
          "percentage": 12.257,
          "percentage_np": 12.789355874445334,
          "percentage_scaled": 0.3438773846404697,
          "percentage_tf": 12.744002295973743,
          "weight": 72.45,
          "weight_scaled": 0.39644970414201275
         },
         {
          "percentage": 12.215,
          "percentage_np": 12.628200719137475,
          "percentage_scaled": 0.3370291863688244,
          "percentage_tf": 12.594851066933588,
          "weight": 72.2,
          "weight_scaled": 0.3668639053254452
         },
         {
          "percentage": 13.044,
          "percentage_np": 12.531507625952756,
          "percentage_scaled": 0.4721995760639166,
          "percentage_tf": 12.50536032950949,
          "weight": 72.05,
          "weight_scaled": 0.34911242603550363
         },
         {
          "percentage": 12.489,
          "percentage_np": 12.434814532768044,
          "percentage_scaled": 0.3817055274743193,
          "percentage_tf": 12.4158695920854,
          "weight": 71.9,
          "weight_scaled": 0.3313609467455638
         },
         {
          "percentage": 12.442,
          "percentage_np": 13.014973091876335,
          "percentage_scaled": 0.37404206750366886,
          "percentage_tf": 12.952814016629961,
          "weight": 72.8,
          "weight_scaled": 0.437869822485208
         },
         {
          "percentage": 12.665,
          "percentage_np": 12.724893812322186,
          "percentage_scaled": 0.4104027392793086,
          "percentage_tf": 12.684341804357677,
          "weight": 72.35,
          "weight_scaled": 0.384615384615385
         },
         {
          "percentage": 12.527000000000001,
          "percentage_np": 13.014973091876335,
          "percentage_scaled": 0.3879015163867605,
          "percentage_tf": 12.952814016629961,
          "weight": 72.8,
          "weight_scaled": 0.437869822485208
         },
         {
          "percentage": 12.902999999999999,
          "percentage_np": 12.660431750199045,
          "percentage_scaled": 0.44920919615196486,
          "percentage_tf": 12.624681312741613,
          "weight": 72.25,
          "weight_scaled": 0.3727810650887573
         },
         {
          "percentage": 12.897,
          "percentage_np": 12.305890408521755,
          "percentage_scaled": 0.4482308821131584,
          "percentage_tf": 12.29654860885327,
          "weight": 71.7,
          "weight_scaled": 0.3076923076923084
         },
         {
          "percentage": 12.35,
          "percentage_np": 12.595969688075904,
          "percentage_scaled": 0.3590412522419697,
          "percentage_tf": 12.565020821125556,
          "weight": 72.15,
          "weight_scaled": 0.36094674556213135
         },
         {
          "percentage": 13.167,
          "percentage_np": 12.595969688075904,
          "percentage_scaled": 0.49225501385944903,
          "percentage_tf": 12.565020821125556,
          "weight": 72.15,
          "weight_scaled": 0.36094674556213135
         },
         {
          "percentage": 12.103,
          "percentage_np": 12.918279998691624,
          "percentage_scaled": 0.318767324311104,
          "percentage_tf": 12.863323279205874,
          "weight": 72.65,
          "weight_scaled": 0.4201183431952682
         },
         {
          "percentage": 12.777000000000001,
          "percentage_np": 12.724893812322186,
          "percentage_scaled": 0.42866460133702966,
          "percentage_tf": 12.684341804357677,
          "weight": 72.35,
          "weight_scaled": 0.384615384615385
         },
         {
          "percentage": 12.686,
          "percentage_np": 12.467045563829615,
          "percentage_scaled": 0.41382683841513157,
          "percentage_tf": 12.445699837893425,
          "weight": 71.95,
          "weight_scaled": 0.3372781065088759
         },
         {
          "percentage": 12.718,
          "percentage_np": 12.499276594891185,
          "percentage_scaled": 0.4190445132887659,
          "percentage_tf": 12.475530083701457,
          "weight": 72,
          "weight_scaled": 0.34319526627218977
         },
         {
          "percentage": 12.467,
          "percentage_np": 12.918279998691624,
          "percentage_scaled": 0.3781183759986957,
          "percentage_tf": 12.863323279205874,
          "weight": 72.65,
          "weight_scaled": 0.4201183431952682
         },
         {
          "percentage": 12.547,
          "percentage_np": 12.628200719137475,
          "percentage_scaled": 0.391162563182782,
          "percentage_tf": 12.594851066933588,
          "weight": 72.2,
          "weight_scaled": 0.3668639053254452
         },
         {
          "percentage": 12.517000000000001,
          "percentage_np": 12.853817936568475,
          "percentage_scaled": 0.3862709929887498,
          "percentage_tf": 12.803662787589799,
          "weight": 72.55,
          "weight_scaled": 0.4082840236686387
         },
         {
          "percentage": 12.755,
          "percentage_np": 12.757124843383764,
          "percentage_scaled": 0.4250774498614056,
          "percentage_tf": 12.714172050165711,
          "weight": 72.4,
          "weight_scaled": 0.3905325443786989
         },
         {
          "percentage": 12.379000000000001,
          "percentage_np": 12.853817936568475,
          "percentage_scaled": 0.36376977009620126,
          "percentage_tf": 12.803662787589799,
          "weight": 72.55,
          "weight_scaled": 0.4082840236686387
         },
         {
          "percentage": 13.12,
          "percentage_np": 13.014973091876335,
          "percentage_scaled": 0.48459155388879815,
          "percentage_tf": 12.952814016629961,
          "weight": 72.8,
          "weight_scaled": 0.437869822485208
         },
         {
          "percentage": 12.776,
          "percentage_np": 12.692662781260616,
          "percentage_scaled": 0.42850154899722814,
          "percentage_tf": 12.654511558549645,
          "weight": 72.3,
          "weight_scaled": 0.37869822485207116
         },
         {
          "percentage": 12.639000000000001,
          "percentage_np": 12.950511029753194,
          "percentage_scaled": 0.40616337844448114,
          "percentage_tf": 12.893153525013895,
          "weight": 72.7,
          "weight_scaled": 0.4260355029585803
         },
         {
          "percentage": 12.792,
          "percentage_np": 12.821586905506905,
          "percentage_scaled": 0.4311103864340453,
          "percentage_tf": 12.773832541781776,
          "weight": 72.5,
          "weight_scaled": 0.4023668639053266
         },
         {
          "percentage": 13.122,
          "percentage_np": 13.014973091876335,
          "percentage_scaled": 0.48491765856840074,
          "percentage_tf": 12.952814016629961,
          "weight": 72.8,
          "weight_scaled": 0.437869822485208
         },
         {
          "percentage": 12.309000000000001,
          "percentage_np": 13.014973091876335,
          "percentage_scaled": 0.3523561063101257,
          "percentage_tf": 12.952814016629961,
          "weight": 72.8,
          "weight_scaled": 0.437869822485208
         },
         {
          "percentage": 12.762,
          "percentage_np": 12.789355874445334,
          "percentage_scaled": 0.4262188162400131,
          "percentage_tf": 12.744002295973743,
          "weight": 72.45,
          "weight_scaled": 0.39644970414201275
         },
         {
          "percentage": 12.992,
          "percentage_np": 13.111666185061054,
          "percentage_scaled": 0.4637208543942608,
          "percentage_tf": 13.04230475405406,
          "weight": 72.95,
          "weight_scaled": 0.4556213017751496
         },
         {
          "percentage": 12.4,
          "percentage_np": 13.111666185061054,
          "percentage_scaled": 0.3671938692320238,
          "percentage_tf": 13.04230475405406,
          "weight": 72.95,
          "weight_scaled": 0.4556213017751496
         },
         {
          "percentage": 12.37,
          "percentage_np": 13.079435153999484,
          "percentage_scaled": 0.36230229903799116,
          "percentage_tf": 13.012474508246028,
          "weight": 72.9,
          "weight_scaled": 0.44970414201183573
         },
         {
          "percentage": 12.997,
          "percentage_np": 12.886048967630046,
          "percentage_scaled": 0.46453611609326617,
          "percentage_tf": 12.833493033397831,
          "weight": 72.6,
          "weight_scaled": 0.41420118343195256
         },
         {
          "percentage": 13.404000000000002,
          "percentage_np": 13.014973091876335,
          "percentage_scaled": 0.5308984183923042,
          "percentage_tf": 12.952814016629961,
          "weight": 72.8,
          "weight_scaled": 0.437869822485208
         },
         {
          "percentage": 12.752,
          "percentage_np": 12.692662781260616,
          "percentage_scaled": 0.4245882928420024,
          "percentage_tf": 12.654511558549645,
          "weight": 72.3,
          "weight_scaled": 0.37869822485207116
         },
         {
          "percentage": 12.969000000000001,
          "percentage_np": 13.143897216122625,
          "percentage_scaled": 0.4599706505788361,
          "percentage_tf": 13.072134999862085,
          "weight": 73,
          "weight_scaled": 0.4615384615384617
         },
         {
          "percentage": 12.790999999999999,
          "percentage_np": 13.047204122937906,
          "percentage_scaled": 0.43094733409424424,
          "percentage_tf": 12.982644262437987,
          "weight": 72.85,
          "weight_scaled": 0.4437869822485201
         },
         {
          "percentage": 13.18,
          "percentage_np": 12.628200719137475,
          "percentage_scaled": 0.494374694276863,
          "percentage_tf": 12.594851066933588,
          "weight": 72.2,
          "weight_scaled": 0.3668639053254452
         },
         {
          "percentage": 12.734000000000002,
          "percentage_np": 12.757124843383764,
          "percentage_scaled": 0.4216533507255835,
          "percentage_tf": 12.714172050165711,
          "weight": 72.4,
          "weight_scaled": 0.3905325443786989
         },
         {
          "percentage": 13.092,
          "percentage_np": 12.757124843383764,
          "percentage_scaled": 0.48002608837436855,
          "percentage_tf": 12.714172050165711,
          "weight": 72.4,
          "weight_scaled": 0.3905325443786989
         },
         {
          "percentage": 13.154000000000002,
          "percentage_np": 12.628200719137475,
          "percentage_scaled": 0.4901353334420355,
          "percentage_tf": 12.594851066933588,
          "weight": 72.2,
          "weight_scaled": 0.3668639053254452
         },
         {
          "percentage": 12.353,
          "percentage_np": 13.272821340368914,
          "percentage_scaled": 0.3595304092613729,
          "percentage_tf": 13.191455983094215,
          "weight": 73.2,
          "weight_scaled": 0.4852071005917171
         },
         {
          "percentage": 12.558,
          "percentage_np": 12.918279998691624,
          "percentage_scaled": 0.3929561389205938,
          "percentage_tf": 12.863323279205874,
          "weight": 72.65,
          "weight_scaled": 0.4201183431952682
         },
         {
          "percentage": 12.800999999999998,
          "percentage_np": 12.628200719137475,
          "percentage_scaled": 0.43257785749225497,
          "percentage_tf": 12.594851066933588,
          "weight": 72.2,
          "weight_scaled": 0.3668639053254452
         },
         {
          "percentage": 12.681,
          "percentage_np": 12.757124843383764,
          "percentage_scaled": 0.41301157671612576,
          "percentage_tf": 12.714172050165711,
          "weight": 72.4,
          "weight_scaled": 0.3905325443786989
         },
         {
          "percentage": 13.107000000000001,
          "percentage_np": 12.660431750199045,
          "percentage_scaled": 0.48247187347138465,
          "percentage_tf": 12.624681312741613,
          "weight": 72.25,
          "weight_scaled": 0.3727810650887573
         },
         {
          "percentage": 13.113,
          "percentage_np": 12.886048967630046,
          "percentage_scaled": 0.48345018751019064,
          "percentage_tf": 12.833493033397831,
          "weight": 72.6,
          "weight_scaled": 0.41420118343195256
         },
         {
          "percentage": 12.514000000000001,
          "percentage_np": 13.047204122937906,
          "percentage_scaled": 0.38578183596934656,
          "percentage_tf": 12.982644262437987,
          "weight": 72.85,
          "weight_scaled": 0.4437869822485201
         },
         {
          "percentage": 13.152000000000001,
          "percentage_np": 13.176128247184195,
          "percentage_scaled": 0.48980922876243294,
          "percentage_tf": 13.101965245670117,
          "weight": 73.05,
          "weight_scaled": 0.46745562130177554
         },
         {
          "percentage": 13.228,
          "percentage_np": 13.401745464615203,
          "percentage_scaled": 0.5022012065873145,
          "percentage_tf": 13.310776966326346,
          "weight": 73.4,
          "weight_scaled": 0.5088757396449726
         },
         {
          "percentage": 13.642000000000001,
          "percentage_np": 13.240590309307343,
          "percentage_scaled": 0.5697048752649605,
          "percentage_tf": 13.161625737286183,
          "weight": 73.15,
          "weight_scaled": 0.47928994082840326
         },
         {
          "percentage": 13.199000000000002,
          "percentage_np": 13.079435153999484,
          "percentage_scaled": 0.4974726887330838,
          "percentage_tf": 13.012474508246028,
          "weight": 72.9,
          "weight_scaled": 0.44970414201183573
         },
         {
          "percentage": 12.620999999999999,
          "percentage_np": 13.305052371430484,
          "percentage_scaled": 0.4032284363280614,
          "percentage_tf": 13.221286228902247,
          "weight": 73.25,
          "weight_scaled": 0.491124260355031
         },
         {
          "percentage": 12.554,
          "percentage_np": 13.111666185061054,
          "percentage_scaled": 0.3923039295613895,
          "percentage_tf": 13.04230475405406,
          "weight": 72.95,
          "weight_scaled": 0.4556213017751496
         },
         {
          "percentage": 12.937999999999999,
          "percentage_np": 13.337283402492055,
          "percentage_scaled": 0.4549160280450024,
          "percentage_tf": 13.251116474710273,
          "weight": 73.3,
          "weight_scaled": 0.49704142011834307
         },
         {
          "percentage": 13.627,
          "percentage_np": 13.337283402492055,
          "percentage_scaled": 0.567259090167944,
          "percentage_tf": 13.251116474710273,
          "weight": 73.3,
          "weight_scaled": 0.49704142011834307
         },
         {
          "percentage": 13.292,
          "percentage_np": 12.918279998691624,
          "percentage_scaled": 0.5126365563345836,
          "percentage_tf": 12.863323279205874,
          "weight": 72.65,
          "weight_scaled": 0.4201183431952682
         },
         {
          "percentage": 13.440999999999999,
          "percentage_np": 12.982742060814765,
          "percentage_scaled": 0.5369313549649439,
          "percentage_tf": 12.92298377082193,
          "weight": 72.75,
          "weight_scaled": 0.43195266272189414
         },
         {
          "percentage": 12.872,
          "percentage_np": 12.886048967630046,
          "percentage_scaled": 0.4441545736181316,
          "percentage_tf": 12.833493033397831,
          "weight": 72.6,
          "weight_scaled": 0.41420118343195256
         },
         {
          "percentage": 13.177999999999999,
          "percentage_np": 12.886048967630046,
          "percentage_scaled": 0.49404858959726083,
          "percentage_tf": 12.833493033397831,
          "weight": 72.6,
          "weight_scaled": 0.41420118343195256
         },
         {
          "percentage": 12.722999999999999,
          "percentage_np": 12.789355874445334,
          "percentage_scaled": 0.41985977498777083,
          "percentage_tf": 12.744002295973743,
          "weight": 72.45,
          "weight_scaled": 0.39644970414201275
         },
         {
          "percentage": 12.602,
          "percentage_np": 13.595131650984634,
          "percentage_scaled": 0.400130441871841,
          "percentage_tf": 13.489758441174523,
          "weight": 73.7,
          "weight_scaled": 0.5443786982248522
         },
         {
          "percentage": 12.073,
          "percentage_np": 13.014973091876335,
          "percentage_scaled": 0.3138757541170718,
          "percentage_tf": 12.952814016629961,
          "weight": 72.8,
          "weight_scaled": 0.437869822485208
         },
         {
          "percentage": 12.100999999999999,
          "percentage_np": 13.014973091876335,
          "percentage_scaled": 0.3184412196315016,
          "percentage_tf": 12.952814016629961,
          "weight": 72.8,
          "weight_scaled": 0.437869822485208
         },
         {
          "percentage": 12.770999999999999,
          "percentage_np": 12.724893812322186,
          "percentage_scaled": 0.4276862872982228,
          "percentage_tf": 12.684341804357677,
          "weight": 72.35,
          "weight_scaled": 0.384615384615385
         },
         {
          "percentage": 13.078,
          "percentage_np": 12.434814532768044,
          "percentage_scaled": 0.4777433556171531,
          "percentage_tf": 12.4158695920854,
          "weight": 71.9,
          "weight_scaled": 0.3313609467455638
         },
         {
          "percentage": 13.155999999999999,
          "percentage_np": 12.724893812322186,
          "percentage_scaled": 0.4904614381216368,
          "percentage_tf": 12.684341804357677,
          "weight": 72.35,
          "weight_scaled": 0.384615384615385
         },
         {
          "percentage": 12.745,
          "percentage_np": 12.370352470644896,
          "percentage_scaled": 0.4234469264633949,
          "percentage_tf": 12.356209100469334,
          "weight": 71.8,
          "weight_scaled": 0.3195266272189361
         },
         {
          "percentage": 12.44,
          "percentage_np": 12.144735253213895,
          "percentage_scaled": 0.3737159628240667,
          "percentage_tf": 12.147397379813116,
          "weight": 71.45,
          "weight_scaled": 0.27810650887574084
         },
         {
          "percentage": 12.3,
          "percentage_np": 12.434814532768044,
          "percentage_scaled": 0.35088863525191605,
          "percentage_tf": 12.4158695920854,
          "weight": 71.9,
          "weight_scaled": 0.3313609467455638
         },
         {
          "percentage": 11.977,
          "percentage_np": 12.434814532768044,
          "percentage_scaled": 0.29822272949616835,
          "percentage_tf": 12.4158695920854,
          "weight": 71.9,
          "weight_scaled": 0.3313609467455638
         },
         {
          "percentage": 12.209000000000001,
          "percentage_np": 12.176966284275466,
          "percentage_scaled": 0.3360508723300182,
          "percentage_tf": 12.177227625621148,
          "weight": 71.5,
          "weight_scaled": 0.2840236686390547
         },
         {
          "percentage": 12.581,
          "percentage_np": 12.338121439583325,
          "percentage_scaled": 0.39670634273601846,
          "percentage_tf": 12.326378854661302,
          "weight": 71.75,
          "weight_scaled": 0.31360946745562224
         },
         {
          "percentage": 12.705,
          "percentage_np": 12.144735253213895,
          "percentage_scaled": 0.41692483287135196,
          "percentage_tf": 12.147397379813116,
          "weight": 71.45,
          "weight_scaled": 0.27810650887574084
         },
         {
          "percentage": 12.482000000000001,
          "percentage_np": 12.080273191090747,
          "percentage_scaled": 0.38056416109571223,
          "percentage_tf": 12.08773688819705,
          "weight": 71.35,
          "weight_scaled": 0.2662721893491131
         },
         {
          "percentage": 12.475999999999999,
          "percentage_np": 12.048042160029176,
          "percentage_scaled": 0.37958584705690535,
          "percentage_tf": 12.057906642389018,
          "weight": 71.3,
          "weight_scaled": 0.26035502958579926
         },
         {
          "percentage": 12.475,
          "percentage_np": 12.338121439583325,
          "percentage_scaled": 0.3794227947171043,
          "percentage_tf": 12.326378854661302,
          "weight": 71.75,
          "weight_scaled": 0.31360946745562224
         },
         {
          "percentage": 12.619000000000002,
          "percentage_np": 12.241428346398607,
          "percentage_scaled": 0.4029023316484597,
          "percentage_tf": 12.236888117237203,
          "weight": 71.6,
          "weight_scaled": 0.29585798816568065
         },
         {
          "percentage": 12.329,
          "percentage_np": 12.434814532768044,
          "percentage_scaled": 0.35561715310614717,
          "percentage_tf": 12.4158695920854,
          "weight": 71.9,
          "weight_scaled": 0.3313609467455638
         },
         {
          "percentage": 12.482000000000001,
          "percentage_np": 12.563738657014326,
          "percentage_scaled": 0.38056416109571223,
          "percentage_tf": 12.535190575317515,
          "weight": 72.1,
          "weight_scaled": 0.3550295857988157
         },
         {
          "percentage": 12.898,
          "percentage_np": 12.176966284275466,
          "percentage_scaled": 0.4483939344529595,
          "percentage_tf": 12.177227625621148,
          "weight": 71.5,
          "weight_scaled": 0.2840236686390547
         },
         {
          "percentage": 12.975999999999999,
          "percentage_np": 12.434814532768044,
          "percentage_scaled": 0.4611120169574432,
          "percentage_tf": 12.4158695920854,
          "weight": 71.9,
          "weight_scaled": 0.3313609467455638
         },
         {
          "percentage": 12.355,
          "percentage_np": 11.951349066844465,
          "percentage_scaled": 0.35985651394097506,
          "percentage_tf": 11.968415904964928,
          "weight": 71.15,
          "weight_scaled": 0.24260355029585945
         },
         {
          "percentage": 12.06,
          "percentage_np": 12.209197315337036,
          "percentage_scaled": 0.31175607369965785,
          "percentage_tf": 12.207057871429171,
          "weight": 71.55,
          "weight_scaled": 0.2899408284023668
         },
         {
          "percentage": 12.038,
          "percentage_np": 12.757124843383764,
          "percentage_scaled": 0.308168922224034,
          "percentage_tf": 12.714172050165711,
          "weight": 72.4,
          "weight_scaled": 0.3905325443786989
         },
         {
          "percentage": 12.589,
          "percentage_np": 12.757124843383764,
          "percentage_scaled": 0.39801076145442704,
          "percentage_tf": 12.714172050165711,
          "weight": 72.4,
          "weight_scaled": 0.3905325443786989
         },
         {
          "percentage": 12.134,
          "percentage_np": 12.595969688075904,
          "percentage_scaled": 0.3238219468449375,
          "percentage_tf": 12.565020821125556,
          "weight": 72.15,
          "weight_scaled": 0.36094674556213135
         },
         {
          "percentage": 13.019,
          "percentage_np": 12.370352470644896,
          "percentage_scaled": 0.4681232675688898,
          "percentage_tf": 12.356209100469334,
          "weight": 71.8,
          "weight_scaled": 0.3195266272189361
         },
         {
          "percentage": 12.873,
          "percentage_np": 12.305890408521755,
          "percentage_scaled": 0.44431762595793267,
          "percentage_tf": 12.29654860885327,
          "weight": 71.7,
          "weight_scaled": 0.3076923076923084
         },
         {
          "percentage": 12.630999999999998,
          "percentage_np": 12.144735253213895,
          "percentage_scaled": 0.4048589597260721,
          "percentage_tf": 12.147397379813116,
          "weight": 71.45,
          "weight_scaled": 0.27810650887574084
         },
         {
          "percentage": 12.231,
          "percentage_np": 12.112504222152324,
          "percentage_scaled": 0.3396380238056418,
          "percentage_tf": 12.117567134005082,
          "weight": 71.4,
          "weight_scaled": 0.272189349112427
         },
         {
          "percentage": 11.782,
          "percentage_np": 12.305890408521755,
          "percentage_scaled": 0.26642752323495844,
          "percentage_tf": 12.29654860885327,
          "weight": 71.7,
          "weight_scaled": 0.3076923076923084
         },
         {
          "percentage": 12.272,
          "percentage_np": 12.595969688075904,
          "percentage_scaled": 0.346323169737486,
          "percentage_tf": 12.565020821125556,
          "weight": 72.15,
          "weight_scaled": 0.36094674556213135
         },
         {
          "percentage": 12.419,
          "percentage_np": 12.467045563829615,
          "percentage_scaled": 0.3702918636882442,
          "percentage_tf": 12.445699837893425,
          "weight": 71.95,
          "weight_scaled": 0.3372781065088759
         },
         {
          "percentage": 12.327,
          "percentage_np": 12.209197315337036,
          "percentage_scaled": 0.355291048426545,
          "percentage_tf": 12.207057871429171,
          "weight": 71.55,
          "weight_scaled": 0.2899408284023668
         },
         {
          "percentage": 12.265999999999998,
          "percentage_np": 12.531507625952756,
          "percentage_scaled": 0.3453448556986791,
          "percentage_tf": 12.50536032950949,
          "weight": 72.05,
          "weight_scaled": 0.34911242603550363
         },
         {
          "percentage": 13.215,
          "percentage_np": 12.692662781260616,
          "percentage_scaled": 0.5000815261699005,
          "percentage_tf": 12.654511558549645,
          "weight": 72.3,
          "weight_scaled": 0.37869822485207116
         },
         {
          "percentage": 13.225,
          "percentage_np": 12.757124843383764,
          "percentage_scaled": 0.5017120495679113,
          "percentage_tf": 12.714172050165711,
          "weight": 72.4,
          "weight_scaled": 0.3905325443786989
         },
         {
          "percentage": 12.937000000000001,
          "percentage_np": 13.143897216122625,
          "percentage_scaled": 0.4547529757052018,
          "percentage_tf": 13.072134999862085,
          "weight": 73,
          "weight_scaled": 0.4615384615384617
         },
         {
          "percentage": 12.788,
          "percentage_np": 13.047204122937906,
          "percentage_scaled": 0.430458177074841,
          "percentage_tf": 12.982644262437987,
          "weight": 72.85,
          "weight_scaled": 0.4437869822485201
         },
         {
          "percentage": 12,
          "percentage_np": 12.563738657014326,
          "percentage_scaled": 0.30197293331159325,
          "percentage_tf": 12.535190575317515,
          "weight": 72.1,
          "weight_scaled": 0.3550295857988157
         },
         {
          "percentage": 12.488,
          "percentage_np": 12.370352470644896,
          "percentage_scaled": 0.3815424751345182,
          "percentage_tf": 12.356209100469334,
          "weight": 71.8,
          "weight_scaled": 0.3195266272189361
         },
         {
          "percentage": 12.633,
          "percentage_np": 12.273659377460184,
          "percentage_scaled": 0.40518506440567426,
          "percentage_tf": 12.266718363045248,
          "weight": 71.65,
          "weight_scaled": 0.3017751479289963
         },
         {
          "percentage": 12.741,
          "percentage_np": 12.144735253213895,
          "percentage_scaled": 0.4227947171041906,
          "percentage_tf": 12.147397379813116,
          "weight": 71.45,
          "weight_scaled": 0.27810650887574084
         },
         {
          "percentage": 13.189,
          "percentage_np": 12.531507625952756,
          "percentage_scaled": 0.49584216533507264,
          "percentage_tf": 12.50536032950949,
          "weight": 72.05,
          "weight_scaled": 0.34911242603550363
         },
         {
          "percentage": 12.95,
          "percentage_np": 12.402583501706467,
          "percentage_scaled": 0.4568726561226153,
          "percentage_tf": 12.386039346277359,
          "weight": 71.85,
          "weight_scaled": 0.3254437869822482
         },
         {
          "percentage": 12.495,
          "percentage_np": 12.402583501706467,
          "percentage_scaled": 0.38268384151312573,
          "percentage_tf": 12.386039346277359,
          "weight": 71.85,
          "weight_scaled": 0.3254437869822482
         },
         {
          "percentage": 12.49,
          "percentage_np": 12.209197315337036,
          "percentage_scaled": 0.38186857981412037,
          "percentage_tf": 12.207057871429171,
          "weight": 71.55,
          "weight_scaled": 0.2899408284023668
         },
         {
          "percentage": 12.432,
          "percentage_np": 12.338121439583325,
          "percentage_scaled": 0.37241154410565813,
          "percentage_tf": 12.326378854661302,
          "weight": 71.75,
          "weight_scaled": 0.31360946745562224
         },
         {
          "percentage": 11.962,
          "percentage_np": 12.209197315337036,
          "percentage_scaled": 0.29577694439915225,
          "percentage_tf": 12.207057871429171,
          "weight": 71.55,
          "weight_scaled": 0.2899408284023668
         },
         {
          "percentage": 12.255,
          "percentage_np": 12.402583501706467,
          "percentage_scaled": 0.34355127996086776,
          "percentage_tf": 12.386039346277359,
          "weight": 71.85,
          "weight_scaled": 0.3254437869822482
         },
         {
          "percentage": 12.773,
          "percentage_np": 12.628200719137475,
          "percentage_scaled": 0.4280123919778249,
          "percentage_tf": 12.594851066933588,
          "weight": 72.2,
          "weight_scaled": 0.3668639053254452
         },
         {
          "percentage": 12.53,
          "percentage_np": 12.273659377460184,
          "percentage_scaled": 0.3883906734061633,
          "percentage_tf": 12.266718363045248,
          "weight": 71.65,
          "weight_scaled": 0.3017751479289963
         },
         {
          "percentage": 12.706,
          "percentage_np": 12.370352470644896,
          "percentage_scaled": 0.41708788521115303,
          "percentage_tf": 12.356209100469334,
          "weight": 71.8,
          "weight_scaled": 0.3195266272189361
         },
         {
          "percentage": 12.355,
          "percentage_np": 12.176966284275466,
          "percentage_scaled": 0.35985651394097506,
          "percentage_tf": 12.177227625621148,
          "weight": 71.5,
          "weight_scaled": 0.2840236686390547
         },
         {
          "percentage": 12.280999999999999,
          "percentage_np": 12.209197315337036,
          "percentage_scaled": 0.3477906407956952,
          "percentage_tf": 12.207057871429171,
          "weight": 71.55,
          "weight_scaled": 0.2899408284023668
         },
         {
          "percentage": 12.32,
          "percentage_np": 11.854655973659746,
          "percentage_scaled": 0.3541496820479375,
          "percentage_tf": 11.87892516754083,
          "weight": 71,
          "weight_scaled": 0.22485207100591786
         },
         {
          "percentage": 12.802999999999999,
          "percentage_np": 12.048042160029176,
          "percentage_scaled": 0.4329039621718571,
          "percentage_tf": 12.057906642389018,
          "weight": 71.3,
          "weight_scaled": 0.26035502958579926
         },
         {
          "percentage": 12.484000000000002,
          "percentage_np": 12.015811128967606,
          "percentage_scaled": 0.3808902657753144,
          "percentage_tf": 12.028076396580984,
          "weight": 71.25,
          "weight_scaled": 0.2544378698224854
         },
         {
          "percentage": 12.328,
          "percentage_np": 12.015811128967606,
          "percentage_scaled": 0.3554541007663461,
          "percentage_tf": 12.028076396580984,
          "weight": 71.25,
          "weight_scaled": 0.2544378698224854
         },
         {
          "percentage": 12.456,
          "percentage_np": 11.661269787290315,
          "percentage_scaled": 0.3763248002608839,
          "percentage_tf": 11.699943692692642,
          "weight": 70.7,
          "weight_scaled": 0.18934911242603647
         },
         {
          "percentage": 11.993,
          "percentage_np": 11.886887004721316,
          "percentage_scaled": 0.30083156693298574,
          "percentage_tf": 11.908755413348862,
          "weight": 71.05,
          "weight_scaled": 0.23076923076923173
         },
         {
          "percentage": 12.341,
          "percentage_np": 11.822424942598175,
          "percentage_scaled": 0.35757378118376004,
          "percentage_tf": 11.849094921732798,
          "weight": 70.95,
          "weight_scaled": 0.218934911242604
         },
         {
          "percentage": 12.485,
          "percentage_np": 12.015811128967606,
          "percentage_scaled": 0.381053318115115,
          "percentage_tf": 12.028076396580984,
          "weight": 71.25,
          "weight_scaled": 0.2544378698224854
         },
         {
          "percentage": 12.713,
          "percentage_np": 11.983580097906035,
          "percentage_scaled": 0.4182292515897601,
          "percentage_tf": 11.99824615077296,
          "weight": 71.2,
          "weight_scaled": 0.2485207100591733
         },
         {
          "percentage": 12.649000000000001,
          "percentage_np": 12.176966284275466,
          "percentage_scaled": 0.40779390184249187,
          "percentage_tf": 12.177227625621148,
          "weight": 71.5,
          "weight_scaled": 0.2840236686390547
         },
         {
          "percentage": 12.645,
          "percentage_np": 12.467045563829615,
          "percentage_scaled": 0.40714169248328713,
          "percentage_tf": 12.445699837893425,
          "weight": 71.95,
          "weight_scaled": 0.3372781065088759
         },
         {
          "percentage": 12.444,
          "percentage_np": 12.209197315337036,
          "percentage_scaled": 0.374368172183271,
          "percentage_tf": 12.207057871429171,
          "weight": 71.55,
          "weight_scaled": 0.2899408284023668
         },
         {
          "percentage": 12.491,
          "percentage_np": 12.176966284275466,
          "percentage_scaled": 0.38203163215392144,
          "percentage_tf": 12.177227625621148,
          "weight": 71.5,
          "weight_scaled": 0.2840236686390547
         },
         {
          "percentage": 12.422,
          "percentage_np": 12.402583501706467,
          "percentage_scaled": 0.3707810207076474,
          "percentage_tf": 12.386039346277359,
          "weight": 71.85,
          "weight_scaled": 0.3254437869822482
         },
         {
          "percentage": 12.564,
          "percentage_np": 11.886887004721316,
          "percentage_scaled": 0.3939344529594002,
          "percentage_tf": 11.908755413348862,
          "weight": 71.05,
          "weight_scaled": 0.23076923076923173
         },
         {
          "percentage": 13.186,
          "percentage_np": 12.209197315337036,
          "percentage_scaled": 0.4953530083156694,
          "percentage_tf": 12.207057871429171,
          "weight": 71.55,
          "weight_scaled": 0.2899408284023668
         },
         {
          "percentage": 13.100999999999999,
          "percentage_np": 12.982742060814765,
          "percentage_scaled": 0.48149355943257777,
          "percentage_tf": 12.92298377082193,
          "weight": 72.75,
          "weight_scaled": 0.43195266272189414
         },
         {
          "percentage": 12.542,
          "percentage_np": 12.982742060814765,
          "percentage_scaled": 0.3903473014837766,
          "percentage_tf": 12.92298377082193,
          "weight": 72.75,
          "weight_scaled": 0.43195266272189414
         },
         {
          "percentage": 12.673,
          "percentage_np": 12.886048967630046,
          "percentage_scaled": 0.4117071579977176,
          "percentage_tf": 12.833493033397831,
          "weight": 72.6,
          "weight_scaled": 0.41420118343195256
         },
         {
          "percentage": 11.93,
          "percentage_np": 13.111666185061054,
          "percentage_scaled": 0.2905592695255177,
          "percentage_tf": 13.04230475405406,
          "weight": 72.95,
          "weight_scaled": 0.4556213017751496
         },
         {
          "percentage": 12.436,
          "percentage_np": 12.305890408521755,
          "percentage_scaled": 0.3730637534648624,
          "percentage_tf": 12.29654860885327,
          "weight": 71.7,
          "weight_scaled": 0.3076923076923084
         },
         {
          "percentage": 12.722999999999999,
          "percentage_np": 12.821586905506905,
          "percentage_scaled": 0.41985977498777083,
          "percentage_tf": 12.773832541781776,
          "weight": 72.5,
          "weight_scaled": 0.4023668639053266
         },
         {
          "percentage": 12.959000000000001,
          "percentage_np": 12.724893812322186,
          "percentage_scaled": 0.4583401271808254,
          "percentage_tf": 12.684341804357677,
          "weight": 72.35,
          "weight_scaled": 0.384615384615385
         },
         {
          "percentage": 13.174000000000001,
          "percentage_np": 12.692662781260616,
          "percentage_scaled": 0.493396380238057,
          "percentage_tf": 12.654511558549645,
          "weight": 72.3,
          "weight_scaled": 0.37869822485207116
         },
         {
          "percentage": 13.092,
          "percentage_np": 12.692662781260616,
          "percentage_scaled": 0.48002608837436855,
          "percentage_tf": 12.654511558549645,
          "weight": 72.3,
          "weight_scaled": 0.37869822485207116
         },
         {
          "percentage": 13.055,
          "percentage_np": 13.047204122937906,
          "percentage_scaled": 0.4739931518017284,
          "percentage_tf": 12.982644262437987,
          "weight": 72.85,
          "weight_scaled": 0.4437869822485201
         },
         {
          "percentage": 12.968,
          "percentage_np": 13.369514433553626,
          "percentage_scaled": 0.45980759823903505,
          "percentage_tf": 13.280946720518305,
          "weight": 73.35,
          "weight_scaled": 0.5029585798816569
         },
         {
          "percentage": 12.85,
          "percentage_np": 12.370352470644896,
          "percentage_scaled": 0.440567422142508,
          "percentage_tf": 12.356209100469334,
          "weight": 71.8,
          "weight_scaled": 0.3195266272189361
         },
         {
          "percentage": 11.933,
          "percentage_np": 12.563738657014326,
          "percentage_scaled": 0.2910484265449209,
          "percentage_tf": 12.535190575317515,
          "weight": 72.1,
          "weight_scaled": 0.3550295857988157
         },
         {
          "percentage": 13.088,
          "percentage_np": 13.079435153999484,
          "percentage_scaled": 0.4793738790151638,
          "percentage_tf": 13.012474508246028,
          "weight": 72.9,
          "weight_scaled": 0.44970414201183573
         },
         {
          "percentage": 12.892000000000001,
          "percentage_np": 12.821586905506905,
          "percentage_scaled": 0.4474156204141535,
          "percentage_tf": 12.773832541781776,
          "weight": 72.5,
          "weight_scaled": 0.4023668639053266
         },
         {
          "percentage": 13.329,
          "percentage_np": 12.789355874445334,
          "percentage_scaled": 0.5186694929072233,
          "percentage_tf": 12.744002295973743,
          "weight": 72.45,
          "weight_scaled": 0.39644970414201275
         },
         {
          "percentage": 13.302999999999999,
          "percentage_np": 12.628200719137475,
          "percentage_scaled": 0.5144301320723954,
          "percentage_tf": 12.594851066933588,
          "weight": 72.2,
          "weight_scaled": 0.3668639053254452
         },
         {
          "percentage": 13.265999999999998,
          "percentage_np": 12.918279998691624,
          "percentage_scaled": 0.5083971954997553,
          "percentage_tf": 12.863323279205874,
          "weight": 72.65,
          "weight_scaled": 0.4201183431952682
         },
         {
          "percentage": 12.959000000000001,
          "percentage_np": 13.208359278245766,
          "percentage_scaled": 0.4583401271808254,
          "percentage_tf": 13.13179549147815,
          "weight": 73.1,
          "weight_scaled": 0.4733727810650894
         },
         {
          "percentage": 13.082,
          "percentage_np": 12.789355874445334,
          "percentage_scaled": 0.4783955649763578,
          "percentage_tf": 12.744002295973743,
          "weight": 72.45,
          "weight_scaled": 0.39644970414201275
         },
         {
          "percentage": 13.378,
          "percentage_np": 12.918279998691624,
          "percentage_scaled": 0.5266590575574763,
          "percentage_tf": 12.863323279205874,
          "weight": 72.65,
          "weight_scaled": 0.4201183431952682
         },
         {
          "percentage": 13.231,
          "percentage_np": 13.079435153999484,
          "percentage_scaled": 0.5026903636067177,
          "percentage_tf": 13.012474508246028,
          "weight": 72.9,
          "weight_scaled": 0.44970414201183573
         },
         {
          "percentage": 13.33,
          "percentage_np": 13.562900619923063,
          "percentage_scaled": 0.5188325452470244,
          "percentage_tf": 13.459928195366501,
          "weight": 73.65,
          "weight_scaled": 0.5384615384615401
         },
         {
          "percentage": 13.114,
          "percentage_np": 13.337283402492055,
          "percentage_scaled": 0.48361323984999216,
          "percentage_tf": 13.251116474710273,
          "weight": 73.3,
          "weight_scaled": 0.49704142011834307
         },
         {
          "percentage": 13.202,
          "percentage_np": 13.369514433553626,
          "percentage_scaled": 0.4979618457524866,
          "percentage_tf": 13.280946720518305,
          "weight": 73.35,
          "weight_scaled": 0.5029585798816569
         },
         {
          "percentage": 13.145,
          "percentage_np": 13.369514433553626,
          "percentage_scaled": 0.4886678623838254,
          "percentage_tf": 13.280946720518305,
          "weight": 73.35,
          "weight_scaled": 0.5029585798816569
         },
         {
          "percentage": 13.392000000000001,
          "percentage_np": 13.240590309307343,
          "percentage_scaled": 0.5289417903146914,
          "percentage_tf": 13.161625737286183,
          "weight": 73.15,
          "weight_scaled": 0.47928994082840326
         },
         {
          "percentage": 13.901,
          "percentage_np": 13.433976495676774,
          "percentage_scaled": 0.6119354312734389,
          "percentage_tf": 13.34060721213437,
          "weight": 73.45,
          "weight_scaled": 0.5147928994082847
         },
         {
          "percentage": 13.994000000000002,
          "percentage_np": 13.079435153999484,
          "percentage_scaled": 0.6270992988749391,
          "percentage_tf": 13.012474508246028,
          "weight": 72.9,
          "weight_scaled": 0.44970414201183573
         },
         {
          "percentage": 13.52,
          "percentage_np": 13.369514433553626,
          "percentage_scaled": 0.5498124898092287,
          "percentage_tf": 13.280946720518305,
          "weight": 73.35,
          "weight_scaled": 0.5029585798816569
         },
         {
          "percentage": 13.984000000000002,
          "percentage_np": 13.401745464615203,
          "percentage_scaled": 0.6254687754769284,
          "percentage_tf": 13.310776966326346,
          "weight": 73.4,
          "weight_scaled": 0.5088757396449726
         },
         {
          "percentage": 13.470999999999998,
          "percentage_np": 13.466207526738344,
          "percentage_scaled": 0.5418229251589761,
          "percentage_tf": 13.370437457942403,
          "weight": 73.5,
          "weight_scaled": 0.5207100591715985
         },
         {
          "percentage": 13.171,
          "percentage_np": 13.305052371430484,
          "percentage_scaled": 0.4929072232186533,
          "percentage_tf": 13.221286228902247,
          "weight": 73.25,
          "weight_scaled": 0.491124260355031
         },
         {
          "percentage": 11.943,
          "percentage_np": 12.338121439583325,
          "percentage_scaled": 0.29267894994293164,
          "percentage_tf": 12.326378854661302,
          "weight": 71.75,
          "weight_scaled": 0.31360946745562224
         },
         {
          "percentage": 13.748,
          "percentage_np": 13.337283402492055,
          "percentage_scaled": 0.5869884232838742,
          "percentage_tf": 13.251116474710273,
          "weight": 73.3,
          "weight_scaled": 0.49704142011834307
         },
         {
          "percentage": 12.869000000000002,
          "percentage_np": 12.789355874445334,
          "percentage_scaled": 0.4436654165987284,
          "percentage_tf": 12.744002295973743,
          "weight": 72.45,
          "weight_scaled": 0.39644970414201275
         },
         {
          "percentage": 12.714,
          "percentage_np": 12.886048967630046,
          "percentage_scaled": 0.4183923039295616,
          "percentage_tf": 12.833493033397831,
          "weight": 72.6,
          "weight_scaled": 0.41420118343195256
         },
         {
          "percentage": 13.072000000000001,
          "percentage_np": 13.498438557799915,
          "percentage_scaled": 0.4767650415783471,
          "percentage_tf": 13.400267703750435,
          "weight": 73.55,
          "weight_scaled": 0.5266272189349124
         },
         {
          "percentage": 12.975999999999999,
          "percentage_np": 12.982742060814765,
          "percentage_scaled": 0.4611120169574432,
          "percentage_tf": 12.92298377082193,
          "weight": 72.75,
          "weight_scaled": 0.43195266272189414
         },
         {
          "percentage": 12.487,
          "percentage_np": 13.240590309307343,
          "percentage_scaled": 0.38137942279471715,
          "percentage_tf": 13.161625737286183,
          "weight": 73.15,
          "weight_scaled": 0.47928994082840326
         },
         {
          "percentage": 13.102,
          "percentage_np": 13.498438557799915,
          "percentage_scaled": 0.4816566117723793,
          "percentage_tf": 13.400267703750435,
          "weight": 73.55,
          "weight_scaled": 0.5266272189349124
         },
         {
          "percentage": 13.542,
          "percentage_np": 13.562900619923063,
          "percentage_scaled": 0.5533996412848528,
          "percentage_tf": 13.459928195366501,
          "weight": 73.65,
          "weight_scaled": 0.5384615384615401
         },
         {
          "percentage": 13.282,
          "percentage_np": 13.595131650984634,
          "percentage_scaled": 0.5110060329365729,
          "percentage_tf": 13.489758441174523,
          "weight": 73.7,
          "weight_scaled": 0.5443786982248522
         },
         {
          "percentage": 13.058,
          "percentage_np": 12.950511029753194,
          "percentage_scaled": 0.4744823088211316,
          "percentage_tf": 12.893153525013895,
          "weight": 72.7,
          "weight_scaled": 0.4260355029585803
         },
         {
          "percentage": 12.915999999999999,
          "percentage_np": 12.918279998691624,
          "percentage_scaled": 0.4513288765693788,
          "percentage_tf": 12.863323279205874,
          "weight": 72.65,
          "weight_scaled": 0.4201183431952682
         },
         {
          "percentage": 13.264000000000001,
          "percentage_np": 13.305052371430484,
          "percentage_scaled": 0.5080710908201536,
          "percentage_tf": 13.221286228902247,
          "weight": 73.25,
          "weight_scaled": 0.491124260355031
         },
         {
          "percentage": 13.077,
          "percentage_np": 13.530669588861485,
          "percentage_scaled": 0.477580303277352,
          "percentage_tf": 13.430097949558458,
          "weight": 73.6,
          "weight_scaled": 0.5325443786982245
         },
         {
          "percentage": 12.758,
          "percentage_np": 13.562900619923063,
          "percentage_scaled": 0.42556660688080883,
          "percentage_tf": 13.459928195366501,
          "weight": 73.65,
          "weight_scaled": 0.5384615384615401
         },
         {
          "percentage": 13.280999999999999,
          "percentage_np": 13.530669588861485,
          "percentage_scaled": 0.5108429805967714,
          "percentage_tf": 13.430097949558458,
          "weight": 73.6,
          "weight_scaled": 0.5325443786982245
         },
         {
          "percentage": 13.749,
          "percentage_np": 13.562900619923063,
          "percentage_scaled": 0.5871514756236753,
          "percentage_tf": 13.459928195366501,
          "weight": 73.65,
          "weight_scaled": 0.5384615384615401
         },
         {
          "percentage": 12.788,
          "percentage_np": 13.562900619923063,
          "percentage_scaled": 0.430458177074841,
          "percentage_tf": 13.459928195366501,
          "weight": 73.65,
          "weight_scaled": 0.5384615384615401
         },
         {
          "percentage": 13.56,
          "percentage_np": 13.820748868415635,
          "percentage_scaled": 0.5563345834012721,
          "percentage_tf": 13.698570161830744,
          "weight": 74.05,
          "weight_scaled": 0.5857988165680474
         },
         {
          "percentage": 13.472000000000001,
          "percentage_np": 13.852979899477198,
          "percentage_scaled": 0.5419859774987776,
          "percentage_tf": 13.728400407638777,
          "weight": 74.1,
          "weight_scaled": 0.5917159763313613
         },
         {
          "percentage": 13.802999999999999,
          "percentage_np": 13.498438557799915,
          "percentage_scaled": 0.5959563019729333,
          "percentage_tf": 13.400267703750435,
          "weight": 73.55,
          "weight_scaled": 0.5266272189349124
         },
         {
          "percentage": 13.79,
          "percentage_np": 13.691824744169338,
          "percentage_scaled": 0.5938366215555193,
          "percentage_tf": 13.579249178598614,
          "weight": 73.85,
          "weight_scaled": 0.562130177514792
         },
         {
          "percentage": 13.366,
          "percentage_np": 13.466207526738344,
          "percentage_scaled": 0.524702429479863,
          "percentage_tf": 13.370437457942403,
          "weight": 73.5,
          "weight_scaled": 0.5207100591715985
         },
         {
          "percentage": 13.84,
          "percentage_np": 14.143059179031347,
          "percentage_scaled": 0.6019892385455734,
          "percentage_tf": 13.996872619911063,
          "weight": 74.55,
          "weight_scaled": 0.6449704142011843
         },
         {
          "percentage": 13.809000000000001,
          "percentage_np": 14.465369489647067,
          "percentage_scaled": 0.5969346160117401,
          "percentage_tf": 14.295175077991372,
          "weight": 75.05,
          "weight_scaled": 0.7041420118343193
         },
         {
          "percentage": 13.29,
          "percentage_np": 14.336445365400778,
          "percentage_scaled": 0.5123104516549815,
          "percentage_tf": 14.175854094759249,
          "weight": 74.85,
          "weight_scaled": 0.6804733727810657
         },
         {
          "percentage": 12.959000000000001,
          "percentage_np": 13.014973091876335,
          "percentage_scaled": 0.4583401271808254,
          "percentage_tf": 12.952814016629961,
          "weight": 72.8,
          "weight_scaled": 0.437869822485208
         },
         {
          "percentage": 13.140999999999998,
          "percentage_np": 13.562900619923063,
          "percentage_scaled": 0.4880156530246207,
          "percentage_tf": 13.459928195366501,
          "weight": 73.65,
          "weight_scaled": 0.5384615384615401
         },
         {
          "percentage": 13.411,
          "percentage_np": 13.691824744169338,
          "percentage_scaled": 0.5320397847709117,
          "percentage_tf": 13.579249178598614,
          "weight": 73.85,
          "weight_scaled": 0.562130177514792
         },
         {
          "percentage": 13.637,
          "percentage_np": 13.562900619923063,
          "percentage_scaled": 0.5688896135659547,
          "percentage_tf": 13.459928195366501,
          "weight": 73.65,
          "weight_scaled": 0.5384615384615401
         },
         {
          "percentage": 13.690999999999999,
          "percentage_np": 14.110828147969784,
          "percentage_scaled": 0.5776944399152126,
          "percentage_tf": 13.96704237410303,
          "weight": 74.5,
          "weight_scaled": 0.6390532544378704
         },
         {
          "percentage": 13.762,
          "percentage_np": 13.659593713107775,
          "percentage_scaled": 0.5892711560410893,
          "percentage_tf": 13.549418932790589,
          "weight": 73.8,
          "weight_scaled": 0.5562130177514799
         },
         {
          "percentage": 13.749,
          "percentage_np": 14.497600520708637,
          "percentage_scaled": 0.5871514756236753,
          "percentage_tf": 14.325005323799404,
          "weight": 75.1,
          "weight_scaled": 0.7100591715976332
         },
         {
          "percentage": 13.565999999999999,
          "percentage_np": 13.852979899477198,
          "percentage_scaled": 0.5573128974400781,
          "percentage_tf": 13.728400407638777,
          "weight": 74.1,
          "weight_scaled": 0.5917159763313613
         },
         {
          "percentage": 14.04,
          "percentage_np": 13.820748868415635,
          "percentage_scaled": 0.6345997065057885,
          "percentage_tf": 13.698570161830744,
          "weight": 74.05,
          "weight_scaled": 0.5857988165680474
         },
         {
          "percentage": 14.205,
          "percentage_np": 14.078597116908213,
          "percentage_scaled": 0.661503342572966,
          "percentage_tf": 13.937212128294998,
          "weight": 74.45,
          "weight_scaled": 0.6331360946745566
         },
         {
          "percentage": 14.196,
          "percentage_np": 13.917441961600353,
          "percentage_scaled": 0.6600358715147563,
          "percentage_tf": 13.788060899254843,
          "weight": 74.2,
          "weight_scaled": 0.603550295857989
         },
         {
          "percentage": 14.09,
          "percentage_np": 14.594293613893356,
          "percentage_scaled": 0.6427523234958421,
          "percentage_tf": 14.414496061223502,
          "weight": 75.25,
          "weight_scaled": 0.7278106508875748
         },
         {
          "percentage": 14.247,
          "percentage_np": 14.529831551770222,
          "percentage_scaled": 0.6683515408446115,
          "percentage_tf": 14.354835569607436,
          "weight": 75.15,
          "weight_scaled": 0.7159763313609471
         },
         {
          "percentage": 14.508,
          "percentage_np": 14.078597116908213,
          "percentage_scaled": 0.710908201532692,
          "percentage_tf": 13.937212128294998,
          "weight": 74.45,
          "weight_scaled": 0.6331360946745566
         },
         {
          "percentage": 14.668,
          "percentage_np": 14.207521241154502,
          "percentage_scaled": 0.7369965759008641,
          "percentage_tf": 14.056533111527129,
          "weight": 74.65,
          "weight_scaled": 0.656804733727812
         },
         {
          "percentage": 14.807,
          "percentage_np": 14.562062582831786,
          "percentage_scaled": 0.7596608511332141,
          "percentage_tf": 14.384665815415469,
          "weight": 75.2,
          "weight_scaled": 0.7218934911242609
         },
         {
          "percentage": 14.463,
          "percentage_np": 14.787679800262787,
          "percentage_scaled": 0.7035708462416437,
          "percentage_tf": 14.59347753607169,
          "weight": 75.55,
          "weight_scaled": 0.7633136094674562
         },
         {
          "percentage": 14.682,
          "percentage_np": 14.497600520708637,
          "percentage_scaled": 0.7392793086580796,
          "percentage_tf": 14.325005323799404,
          "weight": 75.1,
          "weight_scaled": 0.7100591715976332
         },
         {
          "percentage": 13.484000000000002,
          "percentage_np": 15.109990110878506,
          "percentage_scaled": 0.5439426055763905,
          "percentage_tf": 14.891779994151998,
          "weight": 76.05,
          "weight_scaled": 0.8224852071005913
         },
         {
          "percentage": 13.248,
          "percentage_np": 14.948834955570646,
          "percentage_scaled": 0.505462253383336,
          "percentage_tf": 14.742628765111842,
          "weight": 75.8,
          "weight_scaled": 0.7928994082840237
         },
         {
          "percentage": 13.565999999999999,
          "percentage_np": 14.529831551770222,
          "percentage_scaled": 0.5573128974400781,
          "percentage_tf": 14.354835569607436,
          "weight": 75.15,
          "weight_scaled": 0.7159763313609471
         },
         {
          "percentage": 13.959000000000001,
          "percentage_np": 13.885210930538783,
          "percentage_scaled": 0.6213924669819015,
          "percentage_tf": 13.758230653446809,
          "weight": 74.15,
          "weight_scaled": 0.5976331360946752
         },
         {
          "percentage": 14.187999999999999,
          "percentage_np": 14.529831551770222,
          "percentage_scaled": 0.6587314527963477,
          "percentage_tf": 14.354835569607436,
          "weight": 75.15,
          "weight_scaled": 0.7159763313609471
         },
         {
          "percentage": 14.527999999999999,
          "percentage_np": 14.433138458585496,
          "percentage_scaled": 0.7141692483287134,
          "percentage_tf": 14.265344832183347,
          "weight": 75,
          "weight_scaled": 0.6982248520710073
         },
         {
          "percentage": 14.058,
          "percentage_np": 14.755448769201216,
          "percentage_scaled": 0.6375346486222078,
          "percentage_tf": 14.563647290263658,
          "weight": 75.5,
          "weight_scaled": 0.7573964497041423
         },
         {
          "percentage": 14.127,
          "percentage_np": 14.529831551770222,
          "percentage_scaled": 0.6487852600684823,
          "percentage_tf": 14.354835569607436,
          "weight": 75.15,
          "weight_scaled": 0.7159763313609471
         },
         {
          "percentage": 13.585,
          "percentage_np": 13.530669588861485,
          "percentage_scaled": 0.5604108918962989,
          "percentage_tf": 13.430097949558458,
          "weight": 73.6,
          "weight_scaled": 0.5325443786982245
         },
         {
          "percentage": 13.819,
          "percentage_np": 14.046366085846643,
          "percentage_scaled": 0.5985651394097509,
          "percentage_tf": 13.907381882486973,
          "weight": 74.4,
          "weight_scaled": 0.6272189349112445
         },
         {
          "percentage": 14.067,
          "percentage_np": 14.497600520708637,
          "percentage_scaled": 0.6390021196804174,
          "percentage_tf": 14.325005323799404,
          "weight": 75.1,
          "weight_scaled": 0.7100591715976332
         },
         {
          "percentage": 12.947000000000001,
          "percentage_np": 15.077759079816936,
          "percentage_scaled": 0.4563834991032125,
          "percentage_tf": 14.861949748343974,
          "weight": 76,
          "weight_scaled": 0.8165680473372792
         },
         {
          "percentage": 13.68,
          "percentage_np": 14.787679800262787,
          "percentage_scaled": 0.5759008641774013,
          "percentage_tf": 14.59347753607169,
          "weight": 75.55,
          "weight_scaled": 0.7633136094674562
         },
         {
          "percentage": 13.85,
          "percentage_np": 15.045528048755365,
          "percentage_scaled": 0.6036197619435841,
          "percentage_tf": 14.83211950253594,
          "weight": 75.95,
          "weight_scaled": 0.8106508875739653
         },
         {
          "percentage": 14.405999999999999,
          "percentage_np": 14.819910831324357,
          "percentage_scaled": 0.6942768628729821,
          "percentage_tf": 14.623307781879712,
          "weight": 75.6,
          "weight_scaled": 0.7692307692307683
         },
         {
          "percentage": 14.437000000000001,
          "percentage_np": 14.852141862385935,
          "percentage_scaled": 0.6993314854068158,
          "percentage_tf": 14.653138027687756,
          "weight": 75.65,
          "weight_scaled": 0.7751479289940839
         },
         {
          "percentage": 14.155,
          "percentage_np": 15.238914235124795,
          "percentage_scaled": 0.6533507255829123,
          "percentage_tf": 15.01110097738413,
          "weight": 76.25,
          "weight_scaled": 0.8461538461538467
         },
         {
          "percentage": 13.88,
          "percentage_np": 15.077759079816936,
          "percentage_scaled": 0.6085113321376163,
          "percentage_tf": 14.861949748343974,
          "weight": 76,
          "weight_scaled": 0.8165680473372792
         },
         {
          "percentage": 13.889000000000001,
          "percentage_np": 14.981065986632217,
          "percentage_scaled": 0.6099788031958264,
          "percentage_tf": 14.772459010919876,
          "weight": 75.85,
          "weight_scaled": 0.7988165680473376
         },
         {
          "percentage": 14.222999999999999,
          "percentage_np": 14.271983303277636,
          "percentage_scaled": 0.6644382846893853,
          "percentage_tf": 14.116193603143183,
          "weight": 74.75,
          "weight_scaled": 0.668639053254438
         },
         {
          "percentage": 14.661,
          "percentage_np": 14.594293613893356,
          "percentage_scaled": 0.7358552095222566,
          "percentage_tf": 14.414496061223502,
          "weight": 75.25,
          "weight_scaled": 0.7278106508875748
         },
         {
          "percentage": 14.819,
          "percentage_np": 14.787679800262787,
          "percentage_scaled": 0.761617479210827,
          "percentage_tf": 14.59347753607169,
          "weight": 75.55,
          "weight_scaled": 0.7633136094674562
         },
         {
          "percentage": 13.931,
          "percentage_np": 15.496762483617374,
          "percentage_scaled": 0.616827001467471,
          "percentage_tf": 15.249742943848382,
          "weight": 76.65,
          "weight_scaled": 0.8934911242603558
         },
         {
          "percentage": 13.73,
          "percentage_np": 15.722379701048375,
          "percentage_scaled": 0.5840534811674549,
          "percentage_tf": 15.4585546645046,
          "weight": 77,
          "weight_scaled": 0.9349112426035511
         },
         {
          "percentage": 14.199000000000002,
          "percentage_np": 15.142221141940077,
          "percentage_scaled": 0.66052502853416,
          "percentage_tf": 14.921610239960032,
          "weight": 76.1,
          "weight_scaled": 0.8284023668639051
         },
         {
          "percentage": 14.398,
          "percentage_np": 15.077759079816936,
          "percentage_scaled": 0.6929724441545739,
          "percentage_tf": 14.861949748343974,
          "weight": 76,
          "weight_scaled": 0.8165680473372792
         },
         {
          "percentage": 13.767000000000001,
          "percentage_np": 14.304214334339207,
          "percentage_scaled": 0.5900864177400951,
          "percentage_tf": 14.146023848951216,
          "weight": 74.8,
          "weight_scaled": 0.6745562130177518
         },
         {
          "percentage": 13.706,
          "percentage_np": 14.304214334339207,
          "percentage_scaled": 0.5801402250122292,
          "percentage_tf": 14.146023848951216,
          "weight": 74.8,
          "weight_scaled": 0.6745562130177518
         },
         {
          "percentage": 14.311,
          "percentage_np": 14.110828147969784,
          "percentage_scaled": 0.6787868905918801,
          "percentage_tf": 13.96704237410303,
          "weight": 74.5,
          "weight_scaled": 0.6390532544378704
         },
         {
          "percentage": 14.382,
          "percentage_np": 14.368676396462362,
          "percentage_scaled": 0.6903636067177563,
          "percentage_tf": 14.20568434056728,
          "weight": 74.9,
          "weight_scaled": 0.6863905325443795
         },
         {
          "percentage": 14.009,
          "percentage_np": 14.626524644954927,
          "percentage_scaled": 0.6295450839719552,
          "percentage_tf": 14.444326307031528,
          "weight": 75.3,
          "weight_scaled": 0.7337278106508869
         },
         {
          "percentage": 13.981,
          "percentage_np": 14.175290210092918,
          "percentage_scaled": 0.6249796184575251,
          "percentage_tf": 14.026702865719084,
          "weight": 74.6,
          "weight_scaled": 0.6508875739644964
         },
         {
          "percentage": 13.856,
          "percentage_np": 14.014135054785058,
          "percentage_scaled": 0.6045980759823906,
          "percentage_tf": 13.877551636678932,
          "weight": 74.35,
          "weight_scaled": 0.6213017751479288
         },
         {
          "percentage": 14.347000000000001,
          "percentage_np": 14.207521241154502,
          "percentage_scaled": 0.6846567748247192,
          "percentage_tf": 14.056533111527129,
          "weight": 74.65,
          "weight_scaled": 0.656804733727812
         },
         {
          "percentage": 14.982000000000001,
          "percentage_np": 14.884372893447505,
          "percentage_scaled": 0.7881950105984024,
          "percentage_tf": 14.682968273495788,
          "weight": 75.7,
          "weight_scaled": 0.7810650887573978
         },
         {
          "percentage": 13.39,
          "percentage_np": 14.562062582831786,
          "percentage_scaled": 0.5286156856350892,
          "percentage_tf": 14.384665815415469,
          "weight": 75.2,
          "weight_scaled": 0.7218934911242609
         },
         {
          "percentage": 14.542,
          "percentage_np": 14.594293613893356,
          "percentage_scaled": 0.7164519810859289,
          "percentage_tf": 14.414496061223502,
          "weight": 75.25,
          "weight_scaled": 0.7278106508875748
         },
         {
          "percentage": 14.324000000000002,
          "percentage_np": 14.433138458585496,
          "percentage_scaled": 0.6809065710092945,
          "percentage_tf": 14.265344832183347,
          "weight": 75,
          "weight_scaled": 0.6982248520710073
         },
         {
          "percentage": 14.261,
          "percentage_np": 14.336445365400778,
          "percentage_scaled": 0.670634273601826,
          "percentage_tf": 14.175854094759249,
          "weight": 74.85,
          "weight_scaled": 0.6804733727810657
         },
         {
          "percentage": 13.675999999999998,
          "percentage_np": 14.465369489647067,
          "percentage_scaled": 0.5752486548181965,
          "percentage_tf": 14.295175077991372,
          "weight": 75.05,
          "weight_scaled": 0.7041420118343193
         },
         {
          "percentage": 13.276,
          "percentage_np": 14.433138458585496,
          "percentage_scaled": 0.5100277188977664,
          "percentage_tf": 14.265344832183347,
          "weight": 75,
          "weight_scaled": 0.6982248520710073
         },
         {
          "percentage": 14.047,
          "percentage_np": 14.497600520708637,
          "percentage_scaled": 0.635741072884396,
          "percentage_tf": 14.325005323799404,
          "weight": 75.1,
          "weight_scaled": 0.7100591715976332
         },
         {
          "percentage": 14.172,
          "percentage_np": 14.433138458585496,
          "percentage_scaled": 0.6561226153595305,
          "percentage_tf": 14.265344832183347,
          "weight": 75,
          "weight_scaled": 0.6982248520710073
         },
         {
          "percentage": 13.222999999999999,
          "percentage_np": 14.271983303277636,
          "percentage_scaled": 0.5013859448883091,
          "percentage_tf": 14.116193603143183,
          "weight": 74.75,
          "weight_scaled": 0.668639053254438
         },
         {
          "percentage": 14.138,
          "percentage_np": 14.207521241154502,
          "percentage_scaled": 0.650578835806294,
          "percentage_tf": 14.056533111527129,
          "weight": 74.65,
          "weight_scaled": 0.656804733727812
         },
         {
          "percentage": 13.797,
          "percentage_np": 14.594293613893356,
          "percentage_scaled": 0.5949779879341273,
          "percentage_tf": 14.414496061223502,
          "weight": 75.25,
          "weight_scaled": 0.7278106508875748
         },
         {
          "percentage": 13.376,
          "percentage_np": 14.304214334339207,
          "percentage_scaled": 0.5263329528778737,
          "percentage_tf": 14.146023848951216,
          "weight": 74.8,
          "weight_scaled": 0.6745562130177518
         },
         {
          "percentage": 13.225,
          "percentage_np": 14.723217738139645,
          "percentage_scaled": 0.5017120495679113,
          "percentage_tf": 14.533817044455624,
          "weight": 75.45,
          "weight_scaled": 0.7514792899408285
         },
         {
          "percentage": 13.374,
          "percentage_np": 14.368676396462362,
          "percentage_scaled": 0.526006848198272,
          "percentage_tf": 14.20568434056728,
          "weight": 74.9,
          "weight_scaled": 0.6863905325443795
         },
         {
          "percentage": 13.744000000000002,
          "percentage_np": 14.078597116908213,
          "percentage_scaled": 0.5863362139246704,
          "percentage_tf": 13.937212128294998,
          "weight": 74.45,
          "weight_scaled": 0.6331360946745566
         },
         {
          "percentage": 13.719000000000001,
          "percentage_np": 13.562900619923063,
          "percentage_scaled": 0.5822599054296431,
          "percentage_tf": 13.459928195366501,
          "weight": 73.65,
          "weight_scaled": 0.5384615384615401
         },
         {
          "percentage": 13.183,
          "percentage_np": 12.821586905506905,
          "percentage_scaled": 0.4948638512962662,
          "percentage_tf": 12.773832541781776,
          "weight": 72.5,
          "weight_scaled": 0.4023668639053266
         },
         {
          "percentage": 13.448,
          "percentage_np": 13.433976495676774,
          "percentage_scaled": 0.5380727213435514,
          "percentage_tf": 13.34060721213437,
          "weight": 73.45,
          "weight_scaled": 0.5147928994082847
         },
         {
          "percentage": 13.624,
          "percentage_np": 14.014135054785058,
          "percentage_scaled": 0.5667699331485407,
          "percentage_tf": 13.877551636678932,
          "weight": 74.35,
          "weight_scaled": 0.6213017751479288
         },
         {
          "percentage": 13.409,
          "percentage_np": 13.756286806292493,
          "percentage_scaled": 0.5317136800913096,
          "percentage_tf": 13.638909670214687,
          "weight": 73.95,
          "weight_scaled": 0.5739644970414215
         },
         {
          "percentage": 13.828,
          "percentage_np": 13.852979899477198,
          "percentage_scaled": 0.6000326104679601,
          "percentage_tf": 13.728400407638777,
          "weight": 74.1,
          "weight_scaled": 0.5917159763313613
         },
         {
          "percentage": 13.286,
          "percentage_np": 13.595131650984634,
          "percentage_scaled": 0.5116582422957772,
          "percentage_tf": 13.489758441174523,
          "weight": 73.7,
          "weight_scaled": 0.5443786982248522
         },
         {
          "percentage": 13.026,
          "percentage_np": 13.788517837354064,
          "percentage_scaled": 0.4692646339474973,
          "percentage_tf": 13.66873991602271,
          "weight": 74,
          "weight_scaled": 0.5798816568047336
         },
         {
          "percentage": 13.187000000000001,
          "percentage_np": 13.369514433553626,
          "percentage_scaled": 0.49551606065547094,
          "percentage_tf": 13.280946720518305,
          "weight": 73.35,
          "weight_scaled": 0.5029585798816569
         },
         {
          "percentage": 13.325999999999999,
          "percentage_np": 13.981904023723487,
          "percentage_scaled": 0.5181803358878201,
          "percentage_tf": 13.8477213908709,
          "weight": 74.3,
          "weight_scaled": 0.615384615384615
         },
         {
          "percentage": 12.998,
          "percentage_np": 13.820748868415635,
          "percentage_scaled": 0.46469916843306724,
          "percentage_tf": 13.698570161830744,
          "weight": 74.05,
          "weight_scaled": 0.5857988165680474
         },
         {
          "percentage": 13.382,
          "percentage_np": 13.756286806292493,
          "percentage_scaled": 0.5273112669166802,
          "percentage_tf": 13.638909670214687,
          "weight": 73.95,
          "weight_scaled": 0.5739644970414215
         },
         {
          "percentage": 13.628,
          "percentage_np": 13.466207526738344,
          "percentage_scaled": 0.567422142507745,
          "percentage_tf": 13.370437457942403,
          "weight": 73.5,
          "weight_scaled": 0.5207100591715985
         },
         {
          "percentage": 13.61,
          "percentage_np": 13.272821340368914,
          "percentage_scaled": 0.5644872003913257,
          "percentage_tf": 13.191455983094215,
          "weight": 73.2,
          "weight_scaled": 0.4852071005917171
         },
         {
          "percentage": 13.527999999999999,
          "percentage_np": 13.305052371430484,
          "percentage_scaled": 0.5511169085276373,
          "percentage_tf": 13.221286228902247,
          "weight": 73.25,
          "weight_scaled": 0.491124260355031
         },
         {
          "percentage": 13.100999999999999,
          "percentage_np": 13.337283402492055,
          "percentage_scaled": 0.48149355943257777,
          "percentage_tf": 13.251116474710273,
          "weight": 73.3,
          "weight_scaled": 0.49704142011834307
         },
         {
          "percentage": 13.325,
          "percentage_np": 14.207521241154502,
          "percentage_scaled": 0.518017283548019,
          "percentage_tf": 14.056533111527129,
          "weight": 74.65,
          "weight_scaled": 0.656804733727812
         },
         {
          "percentage": 13.269,
          "percentage_np": 13.981904023723487,
          "percentage_scaled": 0.5088863525191589,
          "percentage_tf": 13.8477213908709,
          "weight": 74.3,
          "weight_scaled": 0.615384615384615
         },
         {
          "percentage": 13.440999999999999,
          "percentage_np": 13.691824744169338,
          "percentage_scaled": 0.5369313549649439,
          "percentage_tf": 13.579249178598614,
          "weight": 73.85,
          "weight_scaled": 0.562130177514792
         },
         {
          "percentage": 13.414000000000001,
          "percentage_np": 13.756286806292493,
          "percentage_scaled": 0.532528941790315,
          "percentage_tf": 13.638909670214687,
          "weight": 73.95,
          "weight_scaled": 0.5739644970414215
         },
         {
          "percentage": 13.162,
          "percentage_np": 13.369514433553626,
          "percentage_scaled": 0.49143975216044367,
          "percentage_tf": 13.280946720518305,
          "weight": 73.35,
          "weight_scaled": 0.5029585798816569
         },
         {
          "percentage": 13.282,
          "percentage_np": 13.433976495676774,
          "percentage_scaled": 0.5110060329365729,
          "percentage_tf": 13.34060721213437,
          "weight": 73.45,
          "weight_scaled": 0.5147928994082847
         },
         {
          "percentage": 13.625,
          "percentage_np": 13.820748868415635,
          "percentage_scaled": 0.5669329854883418,
          "percentage_tf": 13.698570161830744,
          "weight": 74.05,
          "weight_scaled": 0.5857988165680474
         },
         {
          "percentage": 12.972999999999999,
          "percentage_np": 13.885210930538783,
          "percentage_scaled": 0.46062285993804,
          "percentage_tf": 13.758230653446809,
          "weight": 74.15,
          "weight_scaled": 0.5976331360946752
         },
         {
          "percentage": 14.134,
          "percentage_np": 13.885210930538783,
          "percentage_scaled": 0.6499266264470898,
          "percentage_tf": 13.758230653446809,
          "weight": 74.15,
          "weight_scaled": 0.5976331360946752
         },
         {
          "percentage": 13.147,
          "percentage_np": 13.595131650984634,
          "percentage_scaled": 0.48899396706342757,
          "percentage_tf": 13.489758441174523,
          "weight": 73.7,
          "weight_scaled": 0.5443786982248522
         },
         {
          "percentage": 13.722000000000001,
          "percentage_np": 13.014973091876335,
          "percentage_scaled": 0.5827490624490463,
          "percentage_tf": 12.952814016629961,
          "weight": 72.8,
          "weight_scaled": 0.437869822485208
         },
         {
          "percentage": 13.228,
          "percentage_np": 13.111666185061054,
          "percentage_scaled": 0.5022012065873145,
          "percentage_tf": 13.04230475405406,
          "weight": 72.95,
          "weight_scaled": 0.4556213017751496
         },
         {
          "percentage": 13.45,
          "percentage_np": 13.337283402492055,
          "percentage_scaled": 0.5383988260231536,
          "percentage_tf": 13.251116474710273,
          "weight": 73.3,
          "weight_scaled": 0.49704142011834307
         },
         {
          "percentage": 13.515999999999998,
          "percentage_np": 13.433976495676774,
          "percentage_scaled": 0.5491602804500244,
          "percentage_tf": 13.34060721213437,
          "weight": 73.45,
          "weight_scaled": 0.5147928994082847
         },
         {
          "percentage": 13.574000000000002,
          "percentage_np": 13.433976495676774,
          "percentage_scaled": 0.5586173161584871,
          "percentage_tf": 13.34060721213437,
          "weight": 73.45,
          "weight_scaled": 0.5147928994082847
         },
         {
          "percentage": 13.488,
          "percentage_np": 13.433976495676774,
          "percentage_scaled": 0.5445948149355944,
          "percentage_tf": 13.34060721213437,
          "weight": 73.45,
          "weight_scaled": 0.5147928994082847
         },
         {
          "percentage": 13.164000000000001,
          "percentage_np": 13.014973091876335,
          "percentage_scaled": 0.49176585684004626,
          "percentage_tf": 12.952814016629961,
          "weight": 72.8,
          "weight_scaled": 0.437869822485208
         },
         {
          "percentage": 13.217,
          "percentage_np": 13.272821340368914,
          "percentage_scaled": 0.5004076308495031,
          "percentage_tf": 13.191455983094215,
          "weight": 73.2,
          "weight_scaled": 0.4852071005917171
         },
         {
          "percentage": 13.365,
          "percentage_np": 13.047204122937906,
          "percentage_scaled": 0.5245393771400619,
          "percentage_tf": 12.982644262437987,
          "weight": 72.85,
          "weight_scaled": 0.4437869822485201
         },
         {
          "percentage": 13.677999999999999,
          "percentage_np": 13.627362682046204,
          "percentage_scaled": 0.5755747594977987,
          "percentage_tf": 13.519588686982557,
          "weight": 73.75,
          "weight_scaled": 0.550295857988166
         },
         {
          "percentage": 14.3,
          "percentage_np": 13.691824744169338,
          "percentage_scaled": 0.6769933148540683,
          "percentage_tf": 13.579249178598614,
          "weight": 73.85,
          "weight_scaled": 0.562130177514792
         },
         {
          "percentage": 13.504000000000001,
          "percentage_np": 13.627362682046204,
          "percentage_scaled": 0.547203652372412,
          "percentage_tf": 13.519588686982557,
          "weight": 73.75,
          "weight_scaled": 0.550295857988166
         },
         {
          "percentage": 13.622,
          "percentage_np": 13.305052371430484,
          "percentage_scaled": 0.5664438284689386,
          "percentage_tf": 13.221286228902247,
          "weight": 73.25,
          "weight_scaled": 0.491124260355031
         },
         {
          "percentage": 13.587,
          "percentage_np": 13.014973091876335,
          "percentage_scaled": 0.560736996575901,
          "percentage_tf": 12.952814016629961,
          "weight": 72.8,
          "weight_scaled": 0.437869822485208
         },
         {
          "percentage": 13.634,
          "percentage_np": 13.885210930538783,
          "percentage_scaled": 0.5684004565465515,
          "percentage_tf": 13.758230653446809,
          "weight": 74.15,
          "weight_scaled": 0.5976331360946752
         },
         {
          "percentage": 13.860999999999999,
          "percentage_np": 13.691824744169338,
          "percentage_scaled": 0.6054133376813955,
          "percentage_tf": 13.579249178598614,
          "weight": 73.85,
          "weight_scaled": 0.562130177514792
         },
         {
          "percentage": 13.819,
          "percentage_np": 13.530669588861485,
          "percentage_scaled": 0.5985651394097509,
          "percentage_tf": 13.430097949558458,
          "weight": 73.6,
          "weight_scaled": 0.5325443786982245
         },
         {
          "percentage": 13.718,
          "percentage_np": 13.756286806292493,
          "percentage_scaled": 0.582096853089842,
          "percentage_tf": 13.638909670214687,
          "weight": 73.95,
          "weight_scaled": 0.5739644970414215
         },
         {
          "percentage": 13.424000000000001,
          "percentage_np": 13.756286806292493,
          "percentage_scaled": 0.5341594651883257,
          "percentage_tf": 13.638909670214687,
          "weight": 73.95,
          "weight_scaled": 0.5739644970414215
         },
         {
          "percentage": 13.652000000000001,
          "percentage_np": 13.627362682046204,
          "percentage_scaled": 0.5713353986629712,
          "percentage_tf": 13.519588686982557,
          "weight": 73.75,
          "weight_scaled": 0.550295857988166
         },
         {
          "percentage": 14.197000000000001,
          "percentage_np": 13.820748868415635,
          "percentage_scaled": 0.6601989238545578,
          "percentage_tf": 13.698570161830744,
          "weight": 74.05,
          "weight_scaled": 0.5857988165680474
         },
         {
          "percentage": 13.91,
          "percentage_np": 14.014135054785058,
          "percentage_scaled": 0.6134029023316485,
          "percentage_tf": 13.877551636678932,
          "weight": 74.35,
          "weight_scaled": 0.6213017751479288
         },
         {
          "percentage": 14.15,
          "percentage_np": 13.369514433553626,
          "percentage_scaled": 0.6525354638839069,
          "percentage_tf": 13.280946720518305,
          "weight": 73.35,
          "weight_scaled": 0.5029585798816569
         },
         {
          "percentage": 13.425999999999998,
          "percentage_np": 13.788517837354064,
          "percentage_scaled": 0.5344855698679274,
          "percentage_tf": 13.66873991602271,
          "weight": 74,
          "weight_scaled": 0.5798816568047336
         },
         {
          "percentage": 13.607999999999999,
          "percentage_np": 13.917441961600353,
          "percentage_scaled": 0.5641610957117236,
          "percentage_tf": 13.788060899254843,
          "weight": 74.2,
          "weight_scaled": 0.603550295857989
         },
         {
          "percentage": 13.914000000000001,
          "percentage_np": 14.110828147969784,
          "percentage_scaled": 0.6140551116908533,
          "percentage_tf": 13.96704237410303,
          "weight": 74.5,
          "weight_scaled": 0.6390532544378704
         },
         {
          "percentage": 13.914000000000001,
          "percentage_np": 14.465369489647067,
          "percentage_scaled": 0.6140551116908533,
          "percentage_tf": 14.295175077991372,
          "weight": 75.05,
          "weight_scaled": 0.7041420118343193
         },
         {
          "percentage": 13.754000000000001,
          "percentage_np": 13.820748868415635,
          "percentage_scaled": 0.5879667373226811,
          "percentage_tf": 13.698570161830744,
          "weight": 74.05,
          "weight_scaled": 0.5857988165680474
         },
         {
          "percentage": 13.918,
          "percentage_np": 13.627362682046204,
          "percentage_scaled": 0.6147073210500571,
          "percentage_tf": 13.519588686982557,
          "weight": 73.75,
          "weight_scaled": 0.550295857988166
         },
         {
          "percentage": 13.550999999999998,
          "percentage_np": 13.981904023723487,
          "percentage_scaled": 0.554867112343062,
          "percentage_tf": 13.8477213908709,
          "weight": 74.3,
          "weight_scaled": 0.615384615384615
         },
         {
          "percentage": 13.825999999999999,
          "percentage_np": 14.239752272216073,
          "percentage_scaled": 0.5997065057883579,
          "percentage_tf": 14.086363357335161,
          "weight": 74.7,
          "weight_scaled": 0.6627218934911259
         },
         {
          "percentage": 14.220999999999998,
          "percentage_np": 14.207521241154502,
          "percentage_scaled": 0.6641121800097831,
          "percentage_tf": 14.056533111527129,
          "weight": 74.65,
          "weight_scaled": 0.656804733727812
         },
         {
          "percentage": 14.224,
          "percentage_np": 14.271983303277636,
          "percentage_scaled": 0.6646013370291868,
          "percentage_tf": 14.116193603143183,
          "weight": 74.75,
          "weight_scaled": 0.668639053254438
         },
         {
          "percentage": 14.231,
          "percentage_np": 13.820748868415635,
          "percentage_scaled": 0.6657427034077938,
          "percentage_tf": 13.698570161830744,
          "weight": 74.05,
          "weight_scaled": 0.5857988165680474
         },
         {
          "percentage": 14.298,
          "percentage_np": 13.917441961600353,
          "percentage_scaled": 0.6766672101744662,
          "percentage_tf": 13.788060899254843,
          "weight": 74.2,
          "weight_scaled": 0.603550295857989
         },
         {
          "percentage": 13.792,
          "percentage_np": 13.949672992661924,
          "percentage_scaled": 0.5941627262351215,
          "percentage_tf": 13.817891145062875,
          "weight": 74.25,
          "weight_scaled": 0.6094674556213029
         },
         {
          "percentage": 14.227,
          "percentage_np": 14.465369489647067,
          "percentage_scaled": 0.66509049404859,
          "percentage_tf": 14.295175077991372,
          "weight": 75.05,
          "weight_scaled": 0.7041420118343193
         },
         {
          "percentage": 14.345,
          "percentage_np": 14.207521241154502,
          "percentage_scaled": 0.6843306701451171,
          "percentage_tf": 14.056533111527129,
          "weight": 74.65,
          "weight_scaled": 0.656804733727812
         },
         {
          "percentage": 13.857000000000001,
          "percentage_np": 14.433138458585496,
          "percentage_scaled": 0.6047611283221916,
          "percentage_tf": 14.265344832183347,
          "weight": 75,
          "weight_scaled": 0.6982248520710073
         },
         {
          "percentage": 13.856,
          "percentage_np": 14.497600520708637,
          "percentage_scaled": 0.6045980759823906,
          "percentage_tf": 14.325005323799404,
          "weight": 75.1,
          "weight_scaled": 0.7100591715976332
         },
         {
          "percentage": 14.286,
          "percentage_np": 14.239752272216073,
          "percentage_scaled": 0.6747105820968533,
          "percentage_tf": 14.086363357335161,
          "weight": 74.7,
          "weight_scaled": 0.6627218934911259
         },
         {
          "percentage": 13.339,
          "percentage_np": 14.336445365400778,
          "percentage_scaled": 0.520300016305234,
          "percentage_tf": 14.175854094759249,
          "weight": 74.85,
          "weight_scaled": 0.6804733727810657
         },
         {
          "percentage": 13.617,
          "percentage_np": 14.110828147969784,
          "percentage_scaled": 0.5656285667699332,
          "percentage_tf": 13.96704237410303,
          "weight": 74.5,
          "weight_scaled": 0.6390532544378704
         },
         {
          "percentage": 13.8,
          "percentage_np": 14.239752272216073,
          "percentage_scaled": 0.5954671449535305,
          "percentage_tf": 14.086363357335161,
          "weight": 74.7,
          "weight_scaled": 0.6627218934911259
         },
         {
          "percentage": 14.261,
          "percentage_np": 14.465369489647067,
          "percentage_scaled": 0.670634273601826,
          "percentage_tf": 14.295175077991372,
          "weight": 75.05,
          "weight_scaled": 0.7041420118343193
         },
         {
          "percentage": 14.107000000000001,
          "percentage_np": 14.400907427523933,
          "percentage_scaled": 0.6455242132724608,
          "percentage_tf": 14.235514586375315,
          "weight": 74.95,
          "weight_scaled": 0.6923076923076934
         },
         {
          "percentage": 13.845999999999998,
          "percentage_np": 13.756286806292493,
          "percentage_scaled": 0.6029675525843794,
          "percentage_tf": 13.638909670214687,
          "weight": 73.95,
          "weight_scaled": 0.5739644970414215
         },
         {
          "percentage": 13.767000000000001,
          "percentage_np": 13.981904023723487,
          "percentage_scaled": 0.5900864177400951,
          "percentage_tf": 13.8477213908709,
          "weight": 74.3,
          "weight_scaled": 0.615384615384615
         },
         {
          "percentage": 13.71,
          "percentage_np": 14.239752272216073,
          "percentage_scaled": 0.5807924343714335,
          "percentage_tf": 14.086363357335161,
          "weight": 74.7,
          "weight_scaled": 0.6627218934911259
         },
         {
          "percentage": 14.15,
          "percentage_np": 13.852979899477198,
          "percentage_scaled": 0.6525354638839069,
          "percentage_tf": 13.728400407638777,
          "weight": 74.1,
          "weight_scaled": 0.5917159763313613
         },
         {
          "percentage": 14.155999999999999,
          "percentage_np": 13.949672992661924,
          "percentage_scaled": 0.6535137779227134,
          "percentage_tf": 13.817891145062875,
          "weight": 74.25,
          "weight_scaled": 0.6094674556213029
         },
         {
          "percentage": 13.954,
          "percentage_np": 14.465369489647067,
          "percentage_scaled": 0.6205772052828962,
          "percentage_tf": 14.295175077991372,
          "weight": 75.05,
          "weight_scaled": 0.7041420118343193
         },
         {
          "percentage": 13.39,
          "percentage_np": 14.594293613893356,
          "percentage_scaled": 0.5286156856350892,
          "percentage_tf": 14.414496061223502,
          "weight": 75.25,
          "weight_scaled": 0.7278106508875748
         },
         {
          "percentage": 14.107999999999999,
          "percentage_np": 14.529831551770222,
          "percentage_scaled": 0.6456872656122614,
          "percentage_tf": 14.354835569607436,
          "weight": 75.15,
          "weight_scaled": 0.7159763313609471
         },
         {
          "percentage": 14.064,
          "percentage_np": 13.885210930538783,
          "percentage_scaled": 0.6385129626610142,
          "percentage_tf": 13.758230653446809,
          "weight": 74.15,
          "weight_scaled": 0.5976331360946752
         },
         {
          "percentage": 14.273,
          "percentage_np": 13.885210930538783,
          "percentage_scaled": 0.6725909016794394,
          "percentage_tf": 13.758230653446809,
          "weight": 74.15,
          "weight_scaled": 0.5976331360946752
         },
         {
          "percentage": 14.722000000000001,
          "percentage_np": 14.304214334339207,
          "percentage_scaled": 0.7458014022501225,
          "percentage_tf": 14.146023848951216,
          "weight": 74.8,
          "weight_scaled": 0.6745562130177518
         },
         {
          "percentage": 14.138,
          "percentage_np": 14.175290210092918,
          "percentage_scaled": 0.650578835806294,
          "percentage_tf": 14.026702865719084,
          "weight": 74.6,
          "weight_scaled": 0.6508875739644964
         },
         {
          "percentage": 14.414000000000001,
          "percentage_np": 14.239752272216073,
          "percentage_scaled": 0.6955812815913911,
          "percentage_tf": 14.086363357335161,
          "weight": 74.7,
          "weight_scaled": 0.6627218934911259
         },
         {
          "percentage": 14.503,
          "percentage_np": 14.175290210092918,
          "percentage_scaled": 0.7100929398336866,
          "percentage_tf": 14.026702865719084,
          "weight": 74.6,
          "weight_scaled": 0.6508875739644964
         },
         {
          "percentage": 14.534,
          "percentage_np": 14.175290210092918,
          "percentage_scaled": 0.7151475623675203,
          "percentage_tf": 14.026702865719084,
          "weight": 74.6,
          "weight_scaled": 0.6508875739644964
         },
         {
          "percentage": 14.638,
          "percentage_np": 13.949672992661924,
          "percentage_scaled": 0.7321050057068319,
          "percentage_tf": 13.817891145062875,
          "weight": 74.25,
          "weight_scaled": 0.6094674556213029
         },
         {
          "percentage": 14.931,
          "percentage_np": 14.207521241154502,
          "percentage_scaled": 0.7798793412685472,
          "percentage_tf": 14.056533111527129,
          "weight": 74.65,
          "weight_scaled": 0.656804733727812
         },
         {
          "percentage": 14.589,
          "percentage_np": 14.078597116908213,
          "percentage_scaled": 0.7241154410565793,
          "percentage_tf": 13.937212128294998,
          "weight": 74.45,
          "weight_scaled": 0.6331360946745566
         },
         {
          "percentage": 14.454,
          "percentage_np": 14.529831551770222,
          "percentage_scaled": 0.702103375183434,
          "percentage_tf": 14.354835569607436,
          "weight": 75.15,
          "weight_scaled": 0.7159763313609471
         },
         {
          "percentage": 13.96,
          "percentage_np": 14.336445365400778,
          "percentage_scaled": 0.6215555193217026,
          "percentage_tf": 14.175854094759249,
          "weight": 74.85,
          "weight_scaled": 0.6804733727810657
         },
         {
          "percentage": 14.318,
          "percentage_np": 14.948834955570646,
          "percentage_scaled": 0.6799282569704876,
          "percentage_tf": 14.742628765111842,
          "weight": 75.8,
          "weight_scaled": 0.7928994082840237
         },
         {
          "percentage": 14.504000000000001,
          "percentage_np": 14.143059179031347,
          "percentage_scaled": 0.7102559921734881,
          "percentage_tf": 13.996872619911063,
          "weight": 74.55,
          "weight_scaled": 0.6449704142011843
         },
         {
          "percentage": 15.034,
          "percentage_np": 14.336445365400778,
          "percentage_scaled": 0.7966737322680582,
          "percentage_tf": 14.175854094759249,
          "weight": 74.85,
          "weight_scaled": 0.6804733727810657
         },
         {
          "percentage": 15.334000000000001,
          "percentage_np": 14.723217738139645,
          "percentage_scaled": 0.8455894342083814,
          "percentage_tf": 14.533817044455624,
          "weight": 75.45,
          "weight_scaled": 0.7514792899408285
         },
         {
          "percentage": 14.989,
          "percentage_np": 14.723217738139645,
          "percentage_scaled": 0.7893363769770099,
          "percentage_tf": 14.533817044455624,
          "weight": 75.45,
          "weight_scaled": 0.7514792899408285
         },
         {
          "percentage": 15.117,
          "percentage_np": 14.884372893447505,
          "percentage_scaled": 0.8102070764715477,
          "percentage_tf": 14.682968273495788,
          "weight": 75.7,
          "weight_scaled": 0.7810650887573978
         },
         {
          "percentage": 14.612,
          "percentage_np": 14.690986707078082,
          "percentage_scaled": 0.727865644872004,
          "percentage_tf": 14.5039867986476,
          "weight": 75.4,
          "weight_scaled": 0.7455621301775164
         },
         {
          "percentage": 14.581,
          "percentage_np": 14.529831551770222,
          "percentage_scaled": 0.7228110223381707,
          "percentage_tf": 14.354835569607436,
          "weight": 75.15,
          "weight_scaled": 0.7159763313609471
         },
         {
          "percentage": 14.956,
          "percentage_np": 14.594293613893356,
          "percentage_scaled": 0.783955649763574,
          "percentage_tf": 14.414496061223502,
          "weight": 75.25,
          "weight_scaled": 0.7278106508875748
         },
         {
          "percentage": 14.148,
          "percentage_np": 14.400907427523933,
          "percentage_scaled": 0.6522093592043048,
          "percentage_tf": 14.235514586375315,
          "weight": 74.95,
          "weight_scaled": 0.6923076923076934
         },
         {
          "percentage": 14.392999999999999,
          "percentage_np": 14.336445365400778,
          "percentage_scaled": 0.6921571824555681,
          "percentage_tf": 14.175854094759249,
          "weight": 74.85,
          "weight_scaled": 0.6804733727810657
         },
         {
          "percentage": 14.489,
          "percentage_np": 14.529831551770222,
          "percentage_scaled": 0.707810207076472,
          "percentage_tf": 14.354835569607436,
          "weight": 75.15,
          "weight_scaled": 0.7159763313609471
         },
         {
          "percentage": 14.583,
          "percentage_np": 14.529831551770222,
          "percentage_scaled": 0.7231371270177729,
          "percentage_tf": 14.354835569607436,
          "weight": 75.15,
          "weight_scaled": 0.7159763313609471
         },
         {
          "percentage": 14.860999999999999,
          "percentage_np": 15.077759079816936,
          "percentage_scaled": 0.7684656774824721,
          "percentage_tf": 14.861949748343974,
          "weight": 76,
          "weight_scaled": 0.8165680473372792
         },
         {
          "percentage": 14.574000000000002,
          "percentage_np": 15.045528048755365,
          "percentage_scaled": 0.7216696559595637,
          "percentage_tf": 14.83211950253594,
          "weight": 75.95,
          "weight_scaled": 0.8106508875739653
         },
         {
          "percentage": 14.395,
          "percentage_np": 14.755448769201216,
          "percentage_scaled": 0.6924832871351707,
          "percentage_tf": 14.563647290263658,
          "weight": 75.5,
          "weight_scaled": 0.7573964497041423
         },
         {
          "percentage": 15.152000000000001,
          "percentage_np": 15.013297017693795,
          "percentage_scaled": 0.8159139083645852,
          "percentage_tf": 14.802289256727908,
          "weight": 75.9,
          "weight_scaled": 0.8047337278106514
         },
         {
          "percentage": 15.247,
          "percentage_np": 14.819910831324357,
          "percentage_scaled": 0.8314038806456876,
          "percentage_tf": 14.623307781879712,
          "weight": 75.6,
          "weight_scaled": 0.7692307692307683
         },
         {
          "percentage": 15.216,
          "percentage_np": 14.819910831324357,
          "percentage_scaled": 0.8263492581118539,
          "percentage_tf": 14.623307781879712,
          "weight": 75.6,
          "weight_scaled": 0.7692307692307683
         },
         {
          "percentage": 14.679,
          "percentage_np": 14.819910831324357,
          "percentage_scaled": 0.7387901516386763,
          "percentage_tf": 14.623307781879712,
          "weight": 75.6,
          "weight_scaled": 0.7692307692307683
         },
         {
          "percentage": 14.704,
          "percentage_np": 15.045528048755365,
          "percentage_scaled": 0.7428664601337032,
          "percentage_tf": 14.83211950253594,
          "weight": 75.95,
          "weight_scaled": 0.8106508875739653
         },
         {
          "percentage": 15.18,
          "percentage_np": 14.626524644954927,
          "percentage_scaled": 0.8204793738790153,
          "percentage_tf": 14.444326307031528,
          "weight": 75.3,
          "weight_scaled": 0.7337278106508869
         },
         {
          "percentage": 13.309000000000001,
          "percentage_np": 14.948834955570646,
          "percentage_scaled": 0.5154084461112018,
          "percentage_tf": 14.742628765111842,
          "weight": 75.8,
          "weight_scaled": 0.7928994082840237
         },
         {
          "percentage": 14.365,
          "percentage_np": 14.884372893447505,
          "percentage_scaled": 0.6875917169411385,
          "percentage_tf": 14.682968273495788,
          "weight": 75.7,
          "weight_scaled": 0.7810650887573978
         },
         {
          "percentage": 14.511,
          "percentage_np": 15.142221141940077,
          "percentage_scaled": 0.7113973585520952,
          "percentage_tf": 14.921610239960032,
          "weight": 76.1,
          "weight_scaled": 0.8284023668639051
         },
         {
          "percentage": 15.025,
          "percentage_np": 15.206683204063225,
          "percentage_scaled": 0.7952062612098485,
          "percentage_tf": 14.981270731576096,
          "weight": 76.2,
          "weight_scaled": 0.8402366863905328
         },
         {
          "percentage": 14.159,
          "percentage_np": 15.109990110878506,
          "percentage_scaled": 0.6540029349421166,
          "percentage_tf": 14.891779994151998,
          "weight": 76.05,
          "weight_scaled": 0.8224852071005913
         },
         {
          "percentage": 15.183,
          "percentage_np": 14.562062582831786,
          "percentage_scaled": 0.8209685308984185,
          "percentage_tf": 14.384665815415469,
          "weight": 75.2,
          "weight_scaled": 0.7218934911242609
         },
         {
          "percentage": 15.285,
          "percentage_np": 14.787679800262787,
          "percentage_scaled": 0.8375998695581284,
          "percentage_tf": 14.59347753607169,
          "weight": 75.55,
          "weight_scaled": 0.7633136094674562
         },
         {
          "percentage": 14.776,
          "percentage_np": 15.013297017693795,
          "percentage_scaled": 0.7546062285993804,
          "percentage_tf": 14.802289256727908,
          "weight": 75.9,
          "weight_scaled": 0.8047337278106514
         },
         {
          "percentage": 14.825999999999999,
          "percentage_np": 15.303376297247937,
          "percentage_scaled": 0.7627588455894341,
          "percentage_tf": 15.070761469000187,
          "weight": 76.35,
          "weight_scaled": 0.8579881656804726
         },
         {
          "percentage": 15.257,
          "percentage_np": 15.013297017693795,
          "percentage_scaled": 0.8330344040436983,
          "percentage_tf": 14.802289256727908,
          "weight": 75.9,
          "weight_scaled": 0.8047337278106514
         },
         {
          "percentage": 15.321,
          "percentage_np": 15.077759079816936,
          "percentage_scaled": 0.843469753790967,
          "percentage_tf": 14.861949748343974,
          "weight": 76,
          "weight_scaled": 0.8165680473372792
         },
         {
          "percentage": 15.162,
          "percentage_np": 14.884372893447505,
          "percentage_scaled": 0.817544431762596,
          "percentage_tf": 14.682968273495788,
          "weight": 75.7,
          "weight_scaled": 0.7810650887573978
         },
         {
          "percentage": 15.289000000000001,
          "percentage_np": 14.948834955570646,
          "percentage_scaled": 0.8382520789173331,
          "percentage_tf": 14.742628765111842,
          "weight": 75.8,
          "weight_scaled": 0.7928994082840237
         },
         {
          "percentage": 15.449000000000002,
          "percentage_np": 14.916603924509076,
          "percentage_scaled": 0.8643404532855052,
          "percentage_tf": 14.71279851930381,
          "weight": 75.75,
          "weight_scaled": 0.7869822485207099
         },
         {
          "percentage": 15.45,
          "percentage_np": 15.174452173001654,
          "percentage_scaled": 0.8645035056253059,
          "percentage_tf": 14.951440485768073,
          "weight": 76.15,
          "weight_scaled": 0.8343195266272208
         },
         {
          "percentage": 14.845,
          "percentage_np": 14.884372893447505,
          "percentage_scaled": 0.7658568400456549,
          "percentage_tf": 14.682968273495788,
          "weight": 75.7,
          "weight_scaled": 0.7810650887573978
         },
         {
          "percentage": 15.035,
          "percentage_np": 14.981065986632217,
          "percentage_scaled": 0.7968367846078592,
          "percentage_tf": 14.772459010919876,
          "weight": 75.85,
          "weight_scaled": 0.7988165680473376
         },
         {
          "percentage": 15.259,
          "percentage_np": 15.013297017693795,
          "percentage_scaled": 0.8333605087233005,
          "percentage_tf": 14.802289256727908,
          "weight": 75.9,
          "weight_scaled": 0.8047337278106514
         },
         {
          "percentage": 14.497,
          "percentage_np": 14.304214334339207,
          "percentage_scaled": 0.7091146257948802,
          "percentage_tf": 14.146023848951216,
          "weight": 74.8,
          "weight_scaled": 0.6745562130177518
         },
         {
          "percentage": 14.517999999999999,
          "percentage_np": 15.109990110878506,
          "percentage_scaled": 0.7125387249307027,
          "percentage_tf": 14.891779994151998,
          "weight": 76.05,
          "weight_scaled": 0.8224852071005913
         },
         {
          "percentage": 14.366,
          "percentage_np": 14.981065986632217,
          "percentage_scaled": 0.6877547692809391,
          "percentage_tf": 14.772459010919876,
          "weight": 75.85,
          "weight_scaled": 0.7988165680473376
         },
         {
          "percentage": 14.049000000000001,
          "percentage_np": 14.948834955570646,
          "percentage_scaled": 0.6360671775639986,
          "percentage_tf": 14.742628765111842,
          "weight": 75.8,
          "weight_scaled": 0.7928994082840237
         },
         {
          "percentage": 14.272,
          "percentage_np": 14.948834955570646,
          "percentage_scaled": 0.6724278493396383,
          "percentage_tf": 14.742628765111842,
          "weight": 75.8,
          "weight_scaled": 0.7928994082840237
         },
         {
          "percentage": 14.911,
          "percentage_np": 14.723217738139645,
          "percentage_scaled": 0.7766182944725257,
          "percentage_tf": 14.533817044455624,
          "weight": 75.45,
          "weight_scaled": 0.7514792899408285
         },
         {
          "percentage": 14.659,
          "percentage_np": 14.819910831324357,
          "percentage_scaled": 0.7355291048426549,
          "percentage_tf": 14.623307781879712,
          "weight": 75.6,
          "weight_scaled": 0.7692307692307683
         },
         {
          "percentage": 14.164000000000001,
          "percentage_np": 14.433138458585496,
          "percentage_scaled": 0.6548181966411224,
          "percentage_tf": 14.265344832183347,
          "weight": 75,
          "weight_scaled": 0.6982248520710073
         },
         {
          "percentage": 14.565,
          "percentage_np": 14.433138458585496,
          "percentage_scaled": 0.7202021849013536,
          "percentage_tf": 14.265344832183347,
          "weight": 75,
          "weight_scaled": 0.6982248520710073
         },
         {
          "percentage": 14.817,
          "percentage_np": 14.594293613893356,
          "percentage_scaled": 0.7612913745312249,
          "percentage_tf": 14.414496061223502,
          "weight": 75.25,
          "weight_scaled": 0.7278106508875748
         },
         {
          "percentage": 14.402000000000001,
          "percentage_np": 14.948834955570646,
          "percentage_scaled": 0.6936246535137782,
          "percentage_tf": 14.742628765111842,
          "weight": 75.8,
          "weight_scaled": 0.7928994082840237
         },
         {
          "percentage": 14.142999999999999,
          "percentage_np": 15.013297017693795,
          "percentage_scaled": 0.651394097505299,
          "percentage_tf": 14.802289256727908,
          "weight": 75.9,
          "weight_scaled": 0.8047337278106514
         },
         {
          "percentage": 14.296,
          "percentage_np": 15.109990110878506,
          "percentage_scaled": 0.676341105494864,
          "percentage_tf": 14.891779994151998,
          "weight": 76.05,
          "weight_scaled": 0.8224852071005913
         },
         {
          "percentage": 14.127,
          "percentage_np": 14.755448769201216,
          "percentage_scaled": 0.6487852600684823,
          "percentage_tf": 14.563647290263658,
          "weight": 75.5,
          "weight_scaled": 0.7573964497041423
         },
         {
          "percentage": 14.852,
          "percentage_np": 14.787679800262787,
          "percentage_scaled": 0.7669982064242624,
          "percentage_tf": 14.59347753607169,
          "weight": 75.55,
          "weight_scaled": 0.7633136094674562
         },
         {
          "percentage": 14.959000000000001,
          "percentage_np": 14.271983303277636,
          "percentage_scaled": 0.7844448067829777,
          "percentage_tf": 14.116193603143183,
          "weight": 74.75,
          "weight_scaled": 0.668639053254438
         },
         {
          "percentage": 15.28,
          "percentage_np": 14.465369489647067,
          "percentage_scaled": 0.836784607859123,
          "percentage_tf": 14.295175077991372,
          "weight": 75.05,
          "weight_scaled": 0.7041420118343193
         },
         {
          "percentage": 15.2,
          "percentage_np": 14.787679800262787,
          "percentage_scaled": 0.8237404206750367,
          "percentage_tf": 14.59347753607169,
          "weight": 75.55,
          "weight_scaled": 0.7633136094674562
         },
         {
          "percentage": 14.914000000000001,
          "percentage_np": 14.981065986632217,
          "percentage_scaled": 0.7771074514919294,
          "percentage_tf": 14.772459010919876,
          "weight": 75.85,
          "weight_scaled": 0.7988165680473376
         },
         {
          "percentage": 15.071,
          "percentage_np": 14.626524644954927,
          "percentage_scaled": 0.8027066688406979,
          "percentage_tf": 14.444326307031528,
          "weight": 75.3,
          "weight_scaled": 0.7337278106508869
         },
         {
          "percentage": 14.722000000000001,
          "percentage_np": 14.400907427523933,
          "percentage_scaled": 0.7458014022501225,
          "percentage_tf": 14.235514586375315,
          "weight": 74.95,
          "weight_scaled": 0.6923076923076934
         },
         {
          "percentage": 14.758,
          "percentage_np": 14.562062582831786,
          "percentage_scaled": 0.7516712864829611,
          "percentage_tf": 14.384665815415469,
          "weight": 75.2,
          "weight_scaled": 0.7218934911242609
         },
         {
          "percentage": 14.937999999999999,
          "percentage_np": 14.400907427523933,
          "percentage_scaled": 0.7810207076471547,
          "percentage_tf": 14.235514586375315,
          "weight": 74.95,
          "weight_scaled": 0.6923076923076934
         },
         {
          "percentage": 14.911,
          "percentage_np": 14.465369489647067,
          "percentage_scaled": 0.7766182944725257,
          "percentage_tf": 14.295175077991372,
          "weight": 75.05,
          "weight_scaled": 0.7041420118343193
         },
         {
          "percentage": 14.501,
          "percentage_np": 14.981065986632217,
          "percentage_scaled": 0.7097668351540845,
          "percentage_tf": 14.772459010919876,
          "weight": 75.85,
          "weight_scaled": 0.7988165680473376
         },
         {
          "percentage": 14.597000000000001,
          "percentage_np": 14.981065986632217,
          "percentage_scaled": 0.7254198597749884,
          "percentage_tf": 14.772459010919876,
          "weight": 75.85,
          "weight_scaled": 0.7988165680473376
         },
         {
          "percentage": 15.075,
          "percentage_np": 15.077759079816936,
          "percentage_scaled": 0.8033588781999021,
          "percentage_tf": 14.861949748343974,
          "weight": 76,
          "weight_scaled": 0.8165680473372792
         },
         {
          "percentage": 14.759,
          "percentage_np": 14.497600520708637,
          "percentage_scaled": 0.7518343388227622,
          "percentage_tf": 14.325005323799404,
          "weight": 75.1,
          "weight_scaled": 0.7100591715976332
         },
         {
          "percentage": 14.788,
          "percentage_np": 14.433138458585496,
          "percentage_scaled": 0.7565628566769937,
          "percentage_tf": 14.265344832183347,
          "weight": 75,
          "weight_scaled": 0.6982248520710073
         },
         {
          "percentage": 14.477,
          "percentage_np": 14.819910831324357,
          "percentage_scaled": 0.7058535789988587,
          "percentage_tf": 14.623307781879712,
          "weight": 75.6,
          "weight_scaled": 0.7692307692307683
         },
         {
          "percentage": 14.667,
          "percentage_np": 14.852141862385935,
          "percentage_scaled": 0.7368335235610635,
          "percentage_tf": 14.653138027687756,
          "weight": 75.65,
          "weight_scaled": 0.7751479289940839
         },
         {
          "percentage": 14.058,
          "percentage_np": 14.948834955570646,
          "percentage_scaled": 0.6375346486222078,
          "percentage_tf": 14.742628765111842,
          "weight": 75.8,
          "weight_scaled": 0.7928994082840237
         },
         {
          "percentage": 14.544,
          "percentage_np": 14.529831551770222,
          "percentage_scaled": 0.716778085765531,
          "percentage_tf": 14.354835569607436,
          "weight": 75.15,
          "weight_scaled": 0.7159763313609471
         },
         {
          "percentage": 14.637,
          "percentage_np": 14.529831551770222,
          "percentage_scaled": 0.7319419533670313,
          "percentage_tf": 14.354835569607436,
          "weight": 75.15,
          "weight_scaled": 0.7159763313609471
         },
         {
          "percentage": 14.91,
          "percentage_np": 14.368676396462362,
          "percentage_scaled": 0.7764552421327247,
          "percentage_tf": 14.20568434056728,
          "weight": 74.9,
          "weight_scaled": 0.6863905325443795
         },
         {
          "percentage": 15.259,
          "percentage_np": 14.529831551770222,
          "percentage_scaled": 0.8333605087233005,
          "percentage_tf": 14.354835569607436,
          "weight": 75.15,
          "weight_scaled": 0.7159763313609471
         },
         {
          "percentage": 13.999,
          "percentage_np": 14.916603924509076,
          "percentage_scaled": 0.6279145605739445,
          "percentage_tf": 14.71279851930381,
          "weight": 75.75,
          "weight_scaled": 0.7869822485207099
         },
         {
          "percentage": 14.859000000000002,
          "percentage_np": 14.852141862385935,
          "percentage_scaled": 0.7681395728028704,
          "percentage_tf": 14.653138027687756,
          "weight": 75.65,
          "weight_scaled": 0.7751479289940839
         },
         {
          "percentage": 14.542,
          "percentage_np": 14.336445365400778,
          "percentage_scaled": 0.7164519810859289,
          "percentage_tf": 14.175854094759249,
          "weight": 74.85,
          "weight_scaled": 0.6804733727810657
         },
         {
          "percentage": 15.112,
          "percentage_np": 14.723217738139645,
          "percentage_scaled": 0.8093918147725423,
          "percentage_tf": 14.533817044455624,
          "weight": 75.45,
          "weight_scaled": 0.7514792899408285
         },
         {
          "percentage": 14.45,
          "percentage_np": 14.336445365400778,
          "percentage_scaled": 0.7014511658242297,
          "percentage_tf": 14.175854094759249,
          "weight": 74.85,
          "weight_scaled": 0.6804733727810657
         },
         {
          "percentage": 14.294,
          "percentage_np": 14.207521241154502,
          "percentage_scaled": 0.6760150008152619,
          "percentage_tf": 14.056533111527129,
          "weight": 74.65,
          "weight_scaled": 0.656804733727812
         },
         {
          "percentage": 14.392000000000001,
          "percentage_np": 14.497600520708637,
          "percentage_scaled": 0.6919941301157675,
          "percentage_tf": 14.325005323799404,
          "weight": 75.1,
          "weight_scaled": 0.7100591715976332
         },
         {
          "percentage": 13.912,
          "percentage_np": 14.819910831324357,
          "percentage_scaled": 0.6137290070112511,
          "percentage_tf": 14.623307781879712,
          "weight": 75.6,
          "weight_scaled": 0.7692307692307683
         },
         {
          "percentage": 14.704,
          "percentage_np": 14.755448769201216,
          "percentage_scaled": 0.7428664601337032,
          "percentage_tf": 14.563647290263658,
          "weight": 75.5,
          "weight_scaled": 0.7573964497041423
         },
         {
          "percentage": 15.395,
          "percentage_np": 14.690986707078082,
          "percentage_scaled": 0.8555356269362469,
          "percentage_tf": 14.5039867986476,
          "weight": 75.4,
          "weight_scaled": 0.7455621301775164
         },
         {
          "percentage": 14.762,
          "percentage_np": 14.400907427523933,
          "percentage_scaled": 0.7523234958421654,
          "percentage_tf": 14.235514586375315,
          "weight": 74.95,
          "weight_scaled": 0.6923076923076934
         },
         {
          "percentage": 14.935,
          "percentage_np": 14.207521241154502,
          "percentage_scaled": 0.7805315506277519,
          "percentage_tf": 14.056533111527129,
          "weight": 74.65,
          "weight_scaled": 0.656804733727812
         },
         {
          "percentage": 15.25,
          "percentage_np": 14.336445365400778,
          "percentage_scaled": 0.8318930376650908,
          "percentage_tf": 14.175854094759249,
          "weight": 74.85,
          "weight_scaled": 0.6804733727810657
         },
         {
          "percentage": 15.115,
          "percentage_np": 14.755448769201216,
          "percentage_scaled": 0.8098809717919455,
          "percentage_tf": 14.563647290263658,
          "weight": 75.5,
          "weight_scaled": 0.7573964497041423
         },
         {
          "percentage": 15.212,
          "percentage_np": 15.045528048755365,
          "percentage_scaled": 0.8256970487526496,
          "percentage_tf": 14.83211950253594,
          "weight": 75.95,
          "weight_scaled": 0.8106508875739653
         },
         {
          "percentage": 14.675,
          "percentage_np": 14.755448769201216,
          "percentage_scaled": 0.738137942279472,
          "percentage_tf": 14.563647290263658,
          "weight": 75.5,
          "weight_scaled": 0.7573964497041423
         },
         {
          "percentage": 14.52,
          "percentage_np": 14.594293613893356,
          "percentage_scaled": 0.7128648296103048,
          "percentage_tf": 14.414496061223502,
          "weight": 75.25,
          "weight_scaled": 0.7278106508875748
         },
         {
          "percentage": 14.959000000000001,
          "percentage_np": 14.723217738139645,
          "percentage_scaled": 0.7844448067829777,
          "percentage_tf": 14.533817044455624,
          "weight": 75.45,
          "weight_scaled": 0.7514792899408285
         },
         {
          "percentage": 14.880999999999998,
          "percentage_np": 14.271983303277636,
          "percentage_scaled": 0.7717267242784935,
          "percentage_tf": 14.116193603143183,
          "weight": 74.75,
          "weight_scaled": 0.668639053254438
         },
         {
          "percentage": 14.595,
          "percentage_np": 14.078597116908213,
          "percentage_scaled": 0.7250937550953858,
          "percentage_tf": 13.937212128294998,
          "weight": 74.45,
          "weight_scaled": 0.6331360946745566
         },
         {
          "percentage": 15.109000000000002,
          "percentage_np": 14.497600520708637,
          "percentage_scaled": 0.8089026577531391,
          "percentage_tf": 14.325005323799404,
          "weight": 75.1,
          "weight_scaled": 0.7100591715976332
         },
         {
          "percentage": 14.767000000000001,
          "percentage_np": 14.433138458585496,
          "percentage_scaled": 0.7531387575411712,
          "percentage_tf": 14.265344832183347,
          "weight": 75,
          "weight_scaled": 0.6982248520710073
         },
         {
          "percentage": 14.704,
          "percentage_np": 14.981065986632217,
          "percentage_scaled": 0.7428664601337032,
          "percentage_tf": 14.772459010919876,
          "weight": 75.85,
          "weight_scaled": 0.7988165680473376
         },
         {
          "percentage": 14.520999999999999,
          "percentage_np": 14.465369489647067,
          "percentage_scaled": 0.7130278819501059,
          "percentage_tf": 14.295175077991372,
          "weight": 75.05,
          "weight_scaled": 0.7041420118343193
         },
         {
          "percentage": 14.583,
          "percentage_np": 14.465369489647067,
          "percentage_scaled": 0.7231371270177729,
          "percentage_tf": 14.295175077991372,
          "weight": 75.05,
          "weight_scaled": 0.7041420118343193
         },
         {
          "percentage": 14.584000000000001,
          "percentage_np": 14.497600520708637,
          "percentage_scaled": 0.7233001793575744,
          "percentage_tf": 14.325005323799404,
          "weight": 75.1,
          "weight_scaled": 0.7100591715976332
         },
         {
          "percentage": 15.15,
          "percentage_np": 14.175290210092918,
          "percentage_scaled": 0.8155878036849831,
          "percentage_tf": 14.026702865719084,
          "weight": 74.6,
          "weight_scaled": 0.6508875739644964
         },
         {
          "percentage": 14.602,
          "percentage_np": 14.143059179031347,
          "percentage_scaled": 0.7262351214739933,
          "percentage_tf": 13.996872619911063,
          "weight": 74.55,
          "weight_scaled": 0.6449704142011843
         },
         {
          "percentage": 14.322000000000001,
          "percentage_np": 14.981065986632217,
          "percentage_scaled": 0.6805804663296919,
          "percentage_tf": 14.772459010919876,
          "weight": 75.85,
          "weight_scaled": 0.7988165680473376
         },
         {
          "percentage": 14.616,
          "percentage_np": 14.787679800262787,
          "percentage_scaled": 0.7285178542312083,
          "percentage_tf": 14.59347753607169,
          "weight": 75.55,
          "weight_scaled": 0.7633136094674562
         },
         {
          "percentage": 14.805,
          "percentage_np": 14.884372893447505,
          "percentage_scaled": 0.7593347464536115,
          "percentage_tf": 14.682968273495788,
          "weight": 75.7,
          "weight_scaled": 0.7810650887573978
         },
         {
          "percentage": 14.773,
          "percentage_np": 14.529831551770222,
          "percentage_scaled": 0.7541170715799772,
          "percentage_tf": 14.354835569607436,
          "weight": 75.15,
          "weight_scaled": 0.7159763313609471
         },
         {
          "percentage": 14.765,
          "percentage_np": 14.304214334339207,
          "percentage_scaled": 0.7528126528615686,
          "percentage_tf": 14.146023848951216,
          "weight": 74.8,
          "weight_scaled": 0.6745562130177518
         },
         {
          "percentage": 15.219000000000001,
          "percentage_np": 14.239752272216073,
          "percentage_scaled": 0.8268384151312576,
          "percentage_tf": 14.086363357335161,
          "weight": 74.7,
          "weight_scaled": 0.6627218934911259
         },
         {
          "percentage": 15.017999999999999,
          "percentage_np": 14.433138458585496,
          "percentage_scaled": 0.794064894831241,
          "percentage_tf": 14.265344832183347,
          "weight": 75,
          "weight_scaled": 0.6982248520710073
         },
         {
          "percentage": 15.212,
          "percentage_np": 14.594293613893356,
          "percentage_scaled": 0.8256970487526496,
          "percentage_tf": 14.414496061223502,
          "weight": 75.25,
          "weight_scaled": 0.7278106508875748
         },
         {
          "percentage": 15.437999999999999,
          "percentage_np": 14.755448769201216,
          "percentage_scaled": 0.862546877547693,
          "percentage_tf": 14.563647290263658,
          "weight": 75.5,
          "weight_scaled": 0.7573964497041423
         },
         {
          "percentage": 15.242,
          "percentage_np": 14.562062582831786,
          "percentage_scaled": 0.8305886189466822,
          "percentage_tf": 14.384665815415469,
          "weight": 75.2,
          "weight_scaled": 0.7218934911242609
         },
         {
          "percentage": 15.123,
          "percentage_np": 14.175290210092918,
          "percentage_scaled": 0.8111853905103541,
          "percentage_tf": 14.026702865719084,
          "weight": 74.6,
          "weight_scaled": 0.6508875739644964
         },
         {
          "percentage": 14.54,
          "percentage_np": 13.724055775230923,
          "percentage_scaled": 0.7161258764063263,
          "percentage_tf": 13.609079424406653,
          "weight": 73.9,
          "weight_scaled": 0.5680473372781076
         },
         {
          "percentage": 14.329,
          "percentage_np": 14.046366085846643,
          "percentage_scaled": 0.6817218327082994,
          "percentage_tf": 13.907381882486973,
          "weight": 74.4,
          "weight_scaled": 0.6272189349112445
         },
         {
          "percentage": 14.739,
          "percentage_np": 13.917441961600353,
          "percentage_scaled": 0.7485732920267407,
          "percentage_tf": 13.788060899254843,
          "weight": 74.2,
          "weight_scaled": 0.603550295857989
         },
         {
          "percentage": 14.619000000000002,
          "percentage_np": 14.433138458585496,
          "percentage_scaled": 0.729007011250612,
          "percentage_tf": 14.265344832183347,
          "weight": 75,
          "weight_scaled": 0.6982248520710073
         },
         {
          "percentage": 14.776,
          "percentage_np": 14.497600520708637,
          "percentage_scaled": 0.7546062285993804,
          "percentage_tf": 14.325005323799404,
          "weight": 75.1,
          "weight_scaled": 0.7100591715976332
         },
         {
          "percentage": 13.79,
          "percentage_np": 14.207521241154502,
          "percentage_scaled": 0.5938366215555193,
          "percentage_tf": 14.056533111527129,
          "weight": 74.65,
          "weight_scaled": 0.656804733727812
         },
         {
          "percentage": 14.841,
          "percentage_np": 14.594293613893356,
          "percentage_scaled": 0.7652046306864506,
          "percentage_tf": 14.414496061223502,
          "weight": 75.25,
          "weight_scaled": 0.7278106508875748
         },
         {
          "percentage": 14.585999999999999,
          "percentage_np": 14.304214334339207,
          "percentage_scaled": 0.7236262840371757,
          "percentage_tf": 14.146023848951216,
          "weight": 74.8,
          "weight_scaled": 0.6745562130177518
         },
         {
          "percentage": 14.435,
          "percentage_np": 14.400907427523933,
          "percentage_scaled": 0.6990053807272136,
          "percentage_tf": 14.235514586375315,
          "weight": 74.95,
          "weight_scaled": 0.6923076923076934
         },
         {
          "percentage": 15.125,
          "percentage_np": 14.658755676016497,
          "percentage_scaled": 0.8115114951899562,
          "percentage_tf": 14.47415655283956,
          "weight": 75.35,
          "weight_scaled": 0.7396449704142007
         },
         {
          "percentage": 15.319,
          "percentage_np": 14.916603924509076,
          "percentage_scaled": 0.8431436491113649,
          "percentage_tf": 14.71279851930381,
          "weight": 75.75,
          "weight_scaled": 0.7869822485207099
         },
         {
          "percentage": 14.610999999999999,
          "percentage_np": 15.109990110878506,
          "percentage_scaled": 0.7277025925322029,
          "percentage_tf": 14.891779994151998,
          "weight": 76.05,
          "weight_scaled": 0.8224852071005913
         },
         {
          "percentage": 14.505,
          "percentage_np": 15.238914235124795,
          "percentage_scaled": 0.7104190445132892,
          "percentage_tf": 15.01110097738413,
          "weight": 76.25,
          "weight_scaled": 0.8461538461538467
         },
         {
          "percentage": 14.904000000000002,
          "percentage_np": 15.013297017693795,
          "percentage_scaled": 0.7754769280939187,
          "percentage_tf": 14.802289256727908,
          "weight": 75.9,
          "weight_scaled": 0.8047337278106514
         },
         {
          "percentage": 15.002,
          "percentage_np": 14.690986707078082,
          "percentage_scaled": 0.7914560573944238,
          "percentage_tf": 14.5039867986476,
          "weight": 75.4,
          "weight_scaled": 0.7455621301775164
         },
         {
          "percentage": 15.331,
          "percentage_np": 14.400907427523933,
          "percentage_scaled": 0.8451002771889777,
          "percentage_tf": 14.235514586375315,
          "weight": 74.95,
          "weight_scaled": 0.6923076923076934
         },
         {
          "percentage": 15.095999999999998,
          "percentage_np": 14.658755676016497,
          "percentage_scaled": 0.8067829773357247,
          "percentage_tf": 14.47415655283956,
          "weight": 75.35,
          "weight_scaled": 0.7396449704142007
         },
         {
          "percentage": 15.163,
          "percentage_np": 14.916603924509076,
          "percentage_scaled": 0.817707484102397,
          "percentage_tf": 14.71279851930381,
          "weight": 75.75,
          "weight_scaled": 0.7869822485207099
         },
         {
          "percentage": 14.387,
          "percentage_np": 15.464531452555796,
          "percentage_scaled": 0.6911788684167621,
          "percentage_tf": 15.21991269804035,
          "weight": 76.6,
          "weight_scaled": 0.887573964497042
         },
         {
          "percentage": 14.706,
          "percentage_np": 15.174452173001654,
          "percentage_scaled": 0.7431925648133053,
          "percentage_tf": 14.951440485768073,
          "weight": 76.15,
          "weight_scaled": 0.8343195266272208
         },
         {
          "percentage": 15.036,
          "percentage_np": 14.884372893447505,
          "percentage_scaled": 0.7969998369476603,
          "percentage_tf": 14.682968273495788,
          "weight": 75.7,
          "weight_scaled": 0.7810650887573978
         },
         {
          "percentage": 14.623,
          "percentage_np": 14.368676396462362,
          "percentage_scaled": 0.7296592206098158,
          "percentage_tf": 14.20568434056728,
          "weight": 74.9,
          "weight_scaled": 0.6863905325443795
         },
         {
          "percentage": 14.280999999999999,
          "percentage_np": 14.755448769201216,
          "percentage_scaled": 0.6738953203978475,
          "percentage_tf": 14.563647290263658,
          "weight": 75.5,
          "weight_scaled": 0.7573964497041423
         },
         {
          "percentage": 14.224,
          "percentage_np": 14.465369489647067,
          "percentage_scaled": 0.6646013370291868,
          "percentage_tf": 14.295175077991372,
          "weight": 75.05,
          "weight_scaled": 0.7041420118343193
         },
         {
          "percentage": 14.81,
          "percentage_np": 14.400907427523933,
          "percentage_scaled": 0.7601500081526174,
          "percentage_tf": 14.235514586375315,
          "weight": 74.95,
          "weight_scaled": 0.6923076923076934
         },
         {
          "percentage": 15.003,
          "percentage_np": 14.594293613893356,
          "percentage_scaled": 0.7916191097342249,
          "percentage_tf": 14.414496061223502,
          "weight": 75.25,
          "weight_scaled": 0.7278106508875748
         },
         {
          "percentage": 14.815,
          "percentage_np": 14.948834955570646,
          "percentage_scaled": 0.7609652698516223,
          "percentage_tf": 14.742628765111842,
          "weight": 75.8,
          "weight_scaled": 0.7928994082840237
         },
         {
          "percentage": 15.084000000000001,
          "percentage_np": 14.336445365400778,
          "percentage_scaled": 0.8048263492581123,
          "percentage_tf": 14.175854094759249,
          "weight": 74.85,
          "weight_scaled": 0.6804733727810657
         },
         {
          "percentage": 15.058,
          "percentage_np": 14.400907427523933,
          "percentage_scaled": 0.8005869884232839,
          "percentage_tf": 14.235514586375315,
          "weight": 74.95,
          "weight_scaled": 0.6923076923076934
         },
         {
          "percentage": 14.692,
          "percentage_np": 14.562062582831786,
          "percentage_scaled": 0.7409098320560903,
          "percentage_tf": 14.384665815415469,
          "weight": 75.2,
          "weight_scaled": 0.7218934911242609
         },
         {
          "percentage": 14.777999999999999,
          "percentage_np": 14.336445365400778,
          "percentage_scaled": 0.7549323332789826,
          "percentage_tf": 14.175854094759249,
          "weight": 74.85,
          "weight_scaled": 0.6804733727810657
         },
         {
          "percentage": 15.198,
          "percentage_np": 15.077759079816936,
          "percentage_scaled": 0.8234143159954346,
          "percentage_tf": 14.861949748343974,
          "weight": 76,
          "weight_scaled": 0.8165680473372792
         },
         {
          "percentage": 14.557,
          "percentage_np": 15.045528048755365,
          "percentage_scaled": 0.718897766182945,
          "percentage_tf": 14.83211950253594,
          "weight": 75.95,
          "weight_scaled": 0.8106508875739653
         },
         {
          "percentage": 14.527999999999999,
          "percentage_np": 14.981065986632217,
          "percentage_scaled": 0.7141692483287134,
          "percentage_tf": 14.772459010919876,
          "weight": 75.85,
          "weight_scaled": 0.7988165680473376
         },
         {
          "percentage": 14.372,
          "percentage_np": 14.916603924509076,
          "percentage_scaled": 0.6887330833197456,
          "percentage_tf": 14.71279851930381,
          "weight": 75.75,
          "weight_scaled": 0.7869822485207099
         },
         {
          "percentage": 15.136,
          "percentage_np": 14.981065986632217,
          "percentage_scaled": 0.813305070927768,
          "percentage_tf": 14.772459010919876,
          "weight": 75.85,
          "weight_scaled": 0.7988165680473376
         },
         {
          "percentage": 15.009,
          "percentage_np": 14.981065986632217,
          "percentage_scaled": 0.7925974237730313,
          "percentage_tf": 14.772459010919876,
          "weight": 75.85,
          "weight_scaled": 0.7988165680473376
         },
         {
          "percentage": 14.817,
          "percentage_np": 15.013297017693795,
          "percentage_scaled": 0.7612913745312249,
          "percentage_tf": 14.802289256727908,
          "weight": 75.9,
          "weight_scaled": 0.8047337278106514
         },
         {
          "percentage": 13.933,
          "percentage_np": 15.206683204063225,
          "percentage_scaled": 0.6171531061470732,
          "percentage_tf": 14.981270731576096,
          "weight": 76.2,
          "weight_scaled": 0.8402366863905328
         },
         {
          "percentage": 14.783,
          "percentage_np": 15.077759079816936,
          "percentage_scaled": 0.7557475949779879,
          "percentage_tf": 14.861949748343974,
          "weight": 76,
          "weight_scaled": 0.8165680473372792
         },
         {
          "percentage": 14.850999999999999,
          "percentage_np": 14.981065986632217,
          "percentage_scaled": 0.7668351540844613,
          "percentage_tf": 14.772459010919876,
          "weight": 75.85,
          "weight_scaled": 0.7988165680473376
         },
         {
          "percentage": 14.472999999999999,
          "percentage_np": 14.852141862385935,
          "percentage_scaled": 0.7052013696396544,
          "percentage_tf": 14.653138027687756,
          "weight": 75.65,
          "weight_scaled": 0.7751479289940839
         },
         {
          "percentage": 14.665999999999999,
          "percentage_np": 14.723217738139645,
          "percentage_scaled": 0.736670471221262,
          "percentage_tf": 14.533817044455624,
          "weight": 75.45,
          "weight_scaled": 0.7514792899408285
         },
         {
          "percentage": 14.383,
          "percentage_np": 14.304214334339207,
          "percentage_scaled": 0.6905266590575574,
          "percentage_tf": 14.146023848951216,
          "weight": 74.8,
          "weight_scaled": 0.6745562130177518
         },
         {
          "percentage": 15.075,
          "percentage_np": 14.690986707078082,
          "percentage_scaled": 0.8033588781999021,
          "percentage_tf": 14.5039867986476,
          "weight": 75.4,
          "weight_scaled": 0.7455621301775164
         },
         {
          "percentage": 14.161,
          "percentage_np": 14.787679800262787,
          "percentage_scaled": 0.6543290396217187,
          "percentage_tf": 14.59347753607169,
          "weight": 75.55,
          "weight_scaled": 0.7633136094674562
         },
         {
          "percentage": 14.592,
          "percentage_np": 15.077759079816936,
          "percentage_scaled": 0.7246045980759825,
          "percentage_tf": 14.861949748343974,
          "weight": 76,
          "weight_scaled": 0.8165680473372792
         },
         {
          "percentage": 14.981,
          "percentage_np": 14.658755676016497,
          "percentage_scaled": 0.7880319582586013,
          "percentage_tf": 14.47415655283956,
          "weight": 75.35,
          "weight_scaled": 0.7396449704142007
         },
         {
          "percentage": 15.046,
          "percentage_np": 14.819910831324357,
          "percentage_scaled": 0.798630360345671,
          "percentage_tf": 14.623307781879712,
          "weight": 75.6,
          "weight_scaled": 0.7692307692307683
         },
         {
          "percentage": 14.977,
          "percentage_np": 14.497600520708637,
          "percentage_scaled": 0.787379748899397,
          "percentage_tf": 14.325005323799404,
          "weight": 75.1,
          "weight_scaled": 0.7100591715976332
         },
         {
          "percentage": 15.12,
          "percentage_np": 14.304214334339207,
          "percentage_scaled": 0.8106962334909504,
          "percentage_tf": 14.146023848951216,
          "weight": 74.8,
          "weight_scaled": 0.6745562130177518
         },
         {
          "percentage": 15.004000000000001,
          "percentage_np": 14.400907427523933,
          "percentage_scaled": 0.791782162074026,
          "percentage_tf": 14.235514586375315,
          "weight": 74.95,
          "weight_scaled": 0.6923076923076934
         },
         {
          "percentage": 15.422,
          "percentage_np": 14.690986707078082,
          "percentage_scaled": 0.8599380401108758,
          "percentage_tf": 14.5039867986476,
          "weight": 75.4,
          "weight_scaled": 0.7455621301775164
         },
         {
          "percentage": 15.2,
          "percentage_np": 15.271145266186366,
          "percentage_scaled": 0.8237404206750367,
          "percentage_tf": 15.040931223192162,
          "weight": 76.3,
          "weight_scaled": 0.8520710059171606
         },
         {
          "percentage": 14.446,
          "percentage_np": 14.852141862385935,
          "percentage_scaled": 0.7007989564650254,
          "percentage_tf": 14.653138027687756,
          "weight": 75.65,
          "weight_scaled": 0.7751479289940839
         },
         {
          "percentage": 13.989,
          "percentage_np": 14.143059179031347,
          "percentage_scaled": 0.6262840371759337,
          "percentage_tf": 13.996872619911063,
          "weight": 74.55,
          "weight_scaled": 0.6449704142011843
         },
         {
          "percentage": 13.899000000000001,
          "percentage_np": 14.207521241154502,
          "percentage_scaled": 0.6116093265938367,
          "percentage_tf": 14.056533111527129,
          "weight": 74.65,
          "weight_scaled": 0.656804733727812
         },
         {
          "percentage": 14.83,
          "percentage_np": 14.755448769201216,
          "percentage_scaled": 0.7634110549486388,
          "percentage_tf": 14.563647290263658,
          "weight": 75.5,
          "weight_scaled": 0.7573964497041423
         },
         {
          "percentage": 15.04,
          "percentage_np": 14.433138458585496,
          "percentage_scaled": 0.7976520463068646,
          "percentage_tf": 14.265344832183347,
          "weight": 75,
          "weight_scaled": 0.6982248520710073
         },
         {
          "percentage": 14.594000000000001,
          "percentage_np": 15.142221141940077,
          "percentage_scaled": 0.7249307027555851,
          "percentage_tf": 14.921610239960032,
          "weight": 76.1,
          "weight_scaled": 0.8284023668639051
         },
         {
          "percentage": 14.925,
          "percentage_np": 14.852141862385935,
          "percentage_scaled": 0.7789010272297412,
          "percentage_tf": 14.653138027687756,
          "weight": 75.65,
          "weight_scaled": 0.7751479289940839
         },
         {
          "percentage": 15.174000000000001,
          "percentage_np": 14.626524644954927,
          "percentage_scaled": 0.8195010598402093,
          "percentage_tf": 14.444326307031528,
          "weight": 75.3,
          "weight_scaled": 0.7337278106508869
         },
         {
          "percentage": 15.079,
          "percentage_np": 14.562062582831786,
          "percentage_scaled": 0.8040110875591069,
          "percentage_tf": 14.384665815415469,
          "weight": 75.2,
          "weight_scaled": 0.7218934911242609
         },
         {
          "percentage": 14.925999999999998,
          "percentage_np": 14.723217738139645,
          "percentage_scaled": 0.7790640795695418,
          "percentage_tf": 14.533817044455624,
          "weight": 75.45,
          "weight_scaled": 0.7514792899408285
         },
         {
          "percentage": 15.05,
          "percentage_np": 14.626524644954927,
          "percentage_scaled": 0.7992825697048758,
          "percentage_tf": 14.444326307031528,
          "weight": 75.3,
          "weight_scaled": 0.7337278106508869
         },
         {
          "percentage": 14.882,
          "percentage_np": 14.304214334339207,
          "percentage_scaled": 0.7718897766182946,
          "percentage_tf": 14.146023848951216,
          "weight": 74.8,
          "weight_scaled": 0.6745562130177518
         },
         {
          "percentage": 15.167,
          "percentage_np": 14.433138458585496,
          "percentage_scaled": 0.8183596934616013,
          "percentage_tf": 14.265344832183347,
          "weight": 75,
          "weight_scaled": 0.6982248520710073
         },
         {
          "percentage": 15.169,
          "percentage_np": 14.465369489647067,
          "percentage_scaled": 0.8186857981412035,
          "percentage_tf": 14.295175077991372,
          "weight": 75.05,
          "weight_scaled": 0.7041420118343193
         },
         {
          "percentage": 14.96,
          "percentage_np": 14.787679800262787,
          "percentage_scaled": 0.7846078591227788,
          "percentage_tf": 14.59347753607169,
          "weight": 75.55,
          "weight_scaled": 0.7633136094674562
         },
         {
          "percentage": 15.245999999999999,
          "percentage_np": 14.948834955570646,
          "percentage_scaled": 0.8312408283058861,
          "percentage_tf": 14.742628765111842,
          "weight": 75.8,
          "weight_scaled": 0.7928994082840237
         },
         {
          "percentage": 14.821,
          "percentage_np": 14.271983303277636,
          "percentage_scaled": 0.7619435838904292,
          "percentage_tf": 14.116193603143183,
          "weight": 74.75,
          "weight_scaled": 0.668639053254438
         },
         {
          "percentage": 14.804,
          "percentage_np": 14.562062582831786,
          "percentage_scaled": 0.7591716941138109,
          "percentage_tf": 14.384665815415469,
          "weight": 75.2,
          "weight_scaled": 0.7218934911242609
         },
         {
          "percentage": 14.243,
          "percentage_np": 14.239752272216073,
          "percentage_scaled": 0.6676993314854072,
          "percentage_tf": 14.086363357335161,
          "weight": 74.7,
          "weight_scaled": 0.6627218934911259
         },
         {
          "percentage": 14.307,
          "percentage_np": 14.562062582831786,
          "percentage_scaled": 0.6781346812326758,
          "percentage_tf": 14.384665815415469,
          "weight": 75.2,
          "weight_scaled": 0.7218934911242609
         },
         {
          "percentage": 15.059000000000001,
          "percentage_np": 14.787679800262787,
          "percentage_scaled": 0.8007500407630854,
          "percentage_tf": 14.59347753607169,
          "weight": 75.55,
          "weight_scaled": 0.7633136094674562
         },
         {
          "percentage": 15.019,
          "percentage_np": 14.465369489647067,
          "percentage_scaled": 0.7942279471710421,
          "percentage_tf": 14.295175077991372,
          "weight": 75.05,
          "weight_scaled": 0.7041420118343193
         },
         {
          "percentage": 14.959000000000001,
          "percentage_np": 14.497600520708637,
          "percentage_scaled": 0.7844448067829777,
          "percentage_tf": 14.325005323799404,
          "weight": 75.1,
          "weight_scaled": 0.7100591715976332
         },
         {
          "percentage": 14.824000000000002,
          "percentage_np": 14.239752272216073,
          "percentage_scaled": 0.7624327409098324,
          "percentage_tf": 14.086363357335161,
          "weight": 74.7,
          "weight_scaled": 0.6627218934911259
         },
         {
          "percentage": 15.493,
          "percentage_np": 14.594293613893356,
          "percentage_scaled": 0.8715147562367525,
          "percentage_tf": 14.414496061223502,
          "weight": 75.25,
          "weight_scaled": 0.7278106508875748
         },
         {
          "percentage": 14.527000000000001,
          "percentage_np": 14.529831551770222,
          "percentage_scaled": 0.7140061959889128,
          "percentage_tf": 14.354835569607436,
          "weight": 75.15,
          "weight_scaled": 0.7159763313609471
         },
         {
          "percentage": 14.369000000000002,
          "percentage_np": 14.271983303277636,
          "percentage_scaled": 0.6882439263003428,
          "percentage_tf": 14.116193603143183,
          "weight": 74.75,
          "weight_scaled": 0.668639053254438
         },
         {
          "percentage": 14.277999999999999,
          "percentage_np": 14.304214334339207,
          "percentage_scaled": 0.6734061633784443,
          "percentage_tf": 14.146023848951216,
          "weight": 74.8,
          "weight_scaled": 0.6745562130177518
         },
         {
          "percentage": 14.527999999999999,
          "percentage_np": 14.594293613893356,
          "percentage_scaled": 0.7141692483287134,
          "percentage_tf": 14.414496061223502,
          "weight": 75.25,
          "weight_scaled": 0.7278106508875748
         },
         {
          "percentage": 14.883,
          "percentage_np": 14.175290210092918,
          "percentage_scaled": 0.7720528289580957,
          "percentage_tf": 14.026702865719084,
          "weight": 74.6,
          "weight_scaled": 0.6508875739644964
         },
         {
          "percentage": 14.832,
          "percentage_np": 14.336445365400778,
          "percentage_scaled": 0.763737159628241,
          "percentage_tf": 14.175854094759249,
          "weight": 74.85,
          "weight_scaled": 0.6804733727810657
         },
         {
          "percentage": 14.370999999999999,
          "percentage_np": 14.271983303277636,
          "percentage_scaled": 0.6885700309799445,
          "percentage_tf": 14.116193603143183,
          "weight": 74.75,
          "weight_scaled": 0.668639053254438
         },
         {
          "percentage": 14.978,
          "percentage_np": 14.207521241154502,
          "percentage_scaled": 0.7875428012391981,
          "percentage_tf": 14.056533111527129,
          "weight": 74.65,
          "weight_scaled": 0.656804733727812
         },
         {
          "percentage": 15.282,
          "percentage_np": 14.207521241154502,
          "percentage_scaled": 0.8371107125387252,
          "percentage_tf": 14.056533111527129,
          "weight": 74.65,
          "weight_scaled": 0.656804733727812
         },
         {
          "percentage": 15.288,
          "percentage_np": 14.271983303277636,
          "percentage_scaled": 0.8380890265775316,
          "percentage_tf": 14.116193603143183,
          "weight": 74.75,
          "weight_scaled": 0.668639053254438
         },
         {
          "percentage": 14.748,
          "percentage_np": 14.562062582831786,
          "percentage_scaled": 0.7500407630849504,
          "percentage_tf": 14.384665815415469,
          "weight": 75.2,
          "weight_scaled": 0.7218934911242609
         },
         {
          "percentage": 14.375,
          "percentage_np": 14.626524644954927,
          "percentage_scaled": 0.6892222403391493,
          "percentage_tf": 14.444326307031528,
          "weight": 75.3,
          "weight_scaled": 0.7337278106508869
         },
         {
          "percentage": 14.935,
          "percentage_np": 15.045528048755365,
          "percentage_scaled": 0.7805315506277519,
          "percentage_tf": 14.83211950253594,
          "weight": 75.95,
          "weight_scaled": 0.8106508875739653
         },
         {
          "percentage": 15.350999999999999,
          "percentage_np": 14.852141862385935,
          "percentage_scaled": 0.8483613239849992,
          "percentage_tf": 14.653138027687756,
          "weight": 75.65,
          "weight_scaled": 0.7751479289940839
         },
         {
          "percentage": 14.75,
          "percentage_np": 14.562062582831786,
          "percentage_scaled": 0.7503668677645525,
          "percentage_tf": 14.384665815415469,
          "weight": 75.2,
          "weight_scaled": 0.7218934911242609
         },
         {
          "percentage": 15.440999999999999,
          "percentage_np": 14.690986707078082,
          "percentage_scaled": 0.8630360345670962,
          "percentage_tf": 14.5039867986476,
          "weight": 75.4,
          "weight_scaled": 0.7455621301775164
         },
         {
          "percentage": 14.62,
          "percentage_np": 14.304214334339207,
          "percentage_scaled": 0.7291700635904126,
          "percentage_tf": 14.146023848951216,
          "weight": 74.8,
          "weight_scaled": 0.6745562130177518
         },
         {
          "percentage": 14.959000000000001,
          "percentage_np": 14.336445365400778,
          "percentage_scaled": 0.7844448067829777,
          "percentage_tf": 14.175854094759249,
          "weight": 74.85,
          "weight_scaled": 0.6804733727810657
         },
         {
          "percentage": 14.950999999999999,
          "percentage_np": 14.207521241154502,
          "percentage_scaled": 0.7831403880645686,
          "percentage_tf": 14.056533111527129,
          "weight": 74.65,
          "weight_scaled": 0.656804733727812
         },
         {
          "percentage": 15.231,
          "percentage_np": 14.271983303277636,
          "percentage_scaled": 0.8287950432088704,
          "percentage_tf": 14.116193603143183,
          "weight": 74.75,
          "weight_scaled": 0.668639053254438
         },
         {
          "percentage": 14.975,
          "percentage_np": 14.110828147969784,
          "percentage_scaled": 0.7870536442197948,
          "percentage_tf": 13.96704237410303,
          "weight": 74.5,
          "weight_scaled": 0.6390532544378704
         },
         {
          "percentage": 14.405,
          "percentage_np": 14.207521241154502,
          "percentage_scaled": 0.6941138105331814,
          "percentage_tf": 14.056533111527129,
          "weight": 74.65,
          "weight_scaled": 0.656804733727812
         },
         {
          "percentage": 14.615,
          "percentage_np": 14.143059179031347,
          "percentage_scaled": 0.7283548018914072,
          "percentage_tf": 13.996872619911063,
          "weight": 74.55,
          "weight_scaled": 0.6449704142011843
         },
         {
          "percentage": 14.89,
          "percentage_np": 13.852979899477198,
          "percentage_scaled": 0.7731941953367032,
          "percentage_tf": 13.728400407638777,
          "weight": 74.1,
          "weight_scaled": 0.5917159763313613
         },
         {
          "percentage": 14.712,
          "percentage_np": 13.852979899477198,
          "percentage_scaled": 0.7441708788521118,
          "percentage_tf": 13.728400407638777,
          "weight": 74.1,
          "weight_scaled": 0.5917159763313613
         },
         {
          "percentage": 14.874,
          "percentage_np": 13.981904023723487,
          "percentage_scaled": 0.770585357899886,
          "percentage_tf": 13.8477213908709,
          "weight": 74.3,
          "weight_scaled": 0.615384615384615
         },
         {
          "percentage": 14.433,
          "percentage_np": 14.110828147969784,
          "percentage_scaled": 0.6986792760476115,
          "percentage_tf": 13.96704237410303,
          "weight": 74.5,
          "weight_scaled": 0.6390532544378704
         },
         {
          "percentage": 14.472000000000001,
          "percentage_np": 14.336445365400778,
          "percentage_scaled": 0.7050383172998538,
          "percentage_tf": 14.175854094759249,
          "weight": 74.85,
          "weight_scaled": 0.6804733727810657
         },
         {
          "percentage": 14.747,
          "percentage_np": 14.304214334339207,
          "percentage_scaled": 0.7498777107451493,
          "percentage_tf": 14.146023848951216,
          "weight": 74.8,
          "weight_scaled": 0.6745562130177518
         },
         {
          "percentage": 14.59,
          "percentage_np": 14.207521241154502,
          "percentage_scaled": 0.7242784933963804,
          "percentage_tf": 14.056533111527129,
          "weight": 74.65,
          "weight_scaled": 0.656804733727812
         },
         {
          "percentage": 14.468,
          "percentage_np": 14.175290210092918,
          "percentage_scaled": 0.704386107940649,
          "percentage_tf": 14.026702865719084,
          "weight": 74.6,
          "weight_scaled": 0.6508875739644964
         },
         {
          "percentage": 15.036,
          "percentage_np": 14.078597116908213,
          "percentage_scaled": 0.7969998369476603,
          "percentage_tf": 13.937212128294998,
          "weight": 74.45,
          "weight_scaled": 0.6331360946745566
         },
         {
          "percentage": 14.863,
          "percentage_np": 14.175290210092918,
          "percentage_scaled": 0.7687917821620742,
          "percentage_tf": 14.026702865719084,
          "weight": 74.6,
          "weight_scaled": 0.6508875739644964
         },
         {
          "percentage": 14.308,
          "percentage_np": 13.981904023723487,
          "percentage_scaled": 0.6782977335724769,
          "percentage_tf": 13.8477213908709,
          "weight": 74.3,
          "weight_scaled": 0.615384615384615
         },
         {
          "percentage": 14.864,
          "percentage_np": 14.175290210092918,
          "percentage_scaled": 0.7689548345018753,
          "percentage_tf": 14.026702865719084,
          "weight": 74.6,
          "weight_scaled": 0.6508875739644964
         },
         {
          "percentage": 14.277999999999999,
          "percentage_np": 13.369514433553626,
          "percentage_scaled": 0.6734061633784443,
          "percentage_tf": 13.280946720518305,
          "weight": 73.35,
          "weight_scaled": 0.5029585798816569
         },
         {
          "percentage": 14.619000000000002,
          "percentage_np": 13.530669588861485,
          "percentage_scaled": 0.729007011250612,
          "percentage_tf": 13.430097949558458,
          "weight": 73.6,
          "weight_scaled": 0.5325443786982245
         },
         {
          "percentage": 14.056,
          "percentage_np": 13.433976495676774,
          "percentage_scaled": 0.6372085439426056,
          "percentage_tf": 13.34060721213437,
          "weight": 73.45,
          "weight_scaled": 0.5147928994082847
         },
         {
          "percentage": 14.255,
          "percentage_np": 13.659593713107775,
          "percentage_scaled": 0.66965595956302,
          "percentage_tf": 13.549418932790589,
          "weight": 73.8,
          "weight_scaled": 0.5562130177514799
         },
         {
          "percentage": 14.46,
          "percentage_np": 13.079435153999484,
          "percentage_scaled": 0.7030816892222405,
          "percentage_tf": 13.012474508246028,
          "weight": 72.9,
          "weight_scaled": 0.44970414201183573
         },
         {
          "percentage": 14.165,
          "percentage_np": 13.369514433553626,
          "percentage_scaled": 0.654981248980923,
          "percentage_tf": 13.280946720518305,
          "weight": 73.35,
          "weight_scaled": 0.5029585798816569
         },
         {
          "percentage": 13.68,
          "percentage_np": 13.401745464615203,
          "percentage_scaled": 0.5759008641774013,
          "percentage_tf": 13.310776966326346,
          "weight": 73.4,
          "weight_scaled": 0.5088757396449726
         },
         {
          "percentage": 13.753,
          "percentage_np": 13.047204122937906,
          "percentage_scaled": 0.5878036849828796,
          "percentage_tf": 12.982644262437987,
          "weight": 72.85,
          "weight_scaled": 0.4437869822485201
         },
         {
          "percentage": 14.102,
          "percentage_np": 13.562900619923063,
          "percentage_scaled": 0.6447089515734554,
          "percentage_tf": 13.459928195366501,
          "weight": 73.65,
          "weight_scaled": 0.5384615384615401
         },
         {
          "percentage": 14.651,
          "percentage_np": 13.337283402492055,
          "percentage_scaled": 0.7342246861242459,
          "percentage_tf": 13.251116474710273,
          "weight": 73.3,
          "weight_scaled": 0.49704142011834307
         },
         {
          "percentage": 13.940999999999999,
          "percentage_np": 13.401745464615203,
          "percentage_scaled": 0.6184575248654818,
          "percentage_tf": 13.310776966326346,
          "weight": 73.4,
          "weight_scaled": 0.5088757396449726
         },
         {
          "percentage": 13.946,
          "percentage_np": 13.014973091876335,
          "percentage_scaled": 0.6192727865644871,
          "percentage_tf": 12.952814016629961,
          "weight": 72.8,
          "weight_scaled": 0.437869822485208
         },
         {
          "percentage": 13.485,
          "percentage_np": 13.143897216122625,
          "percentage_scaled": 0.5441056579161911,
          "percentage_tf": 13.072134999862085,
          "weight": 73,
          "weight_scaled": 0.4615384615384617
         },
         {
          "percentage": 13.640999999999998,
          "percentage_np": 13.272821340368914,
          "percentage_scaled": 0.569541822925159,
          "percentage_tf": 13.191455983094215,
          "weight": 73.2,
          "weight_scaled": 0.4852071005917171
         },
         {
          "percentage": 14.09,
          "percentage_np": 13.433976495676774,
          "percentage_scaled": 0.6427523234958421,
          "percentage_tf": 13.34060721213437,
          "weight": 73.45,
          "weight_scaled": 0.5147928994082847
         },
         {
          "percentage": 14.341,
          "percentage_np": 13.369514433553626,
          "percentage_scaled": 0.6836784607859123,
          "percentage_tf": 13.280946720518305,
          "weight": 73.35,
          "weight_scaled": 0.5029585798816569
         },
         {
          "percentage": 13.975999999999999,
          "percentage_np": 13.014973091876335,
          "percentage_scaled": 0.6241643567585193,
          "percentage_tf": 12.952814016629961,
          "weight": 72.8,
          "weight_scaled": 0.437869822485208
         },
         {
          "percentage": 13.555,
          "percentage_np": 12.821586905506905,
          "percentage_scaled": 0.5555193217022667,
          "percentage_tf": 12.773832541781776,
          "weight": 72.5,
          "weight_scaled": 0.4023668639053266
         },
         {
          "percentage": 12.832,
          "percentage_np": 12.563738657014326,
          "percentage_scaled": 0.4376324800260887,
          "percentage_tf": 12.535190575317515,
          "weight": 72.1,
          "weight_scaled": 0.3550295857988157
         },
         {
          "percentage": 13.012,
          "percentage_np": 12.499276594891185,
          "percentage_scaled": 0.46698190119028227,
          "percentage_tf": 12.475530083701457,
          "weight": 72,
          "weight_scaled": 0.34319526627218977
         },
         {
          "percentage": 13.155999999999999,
          "percentage_np": 12.724893812322186,
          "percentage_scaled": 0.4904614381216368,
          "percentage_tf": 12.684341804357677,
          "weight": 72.35,
          "weight_scaled": 0.384615384615385
         },
         {
          "percentage": 13.747,
          "percentage_np": 13.176128247184195,
          "percentage_scaled": 0.5868253709440732,
          "percentage_tf": 13.101965245670117,
          "weight": 73.05,
          "weight_scaled": 0.46745562130177554
         },
         {
          "percentage": 13.67,
          "percentage_np": 13.240590309307343,
          "percentage_scaled": 0.5742703407793905,
          "percentage_tf": 13.161625737286183,
          "weight": 73.15,
          "weight_scaled": 0.47928994082840326
         },
         {
          "percentage": 14.163,
          "percentage_np": 13.111666185061054,
          "percentage_scaled": 0.6546551443013209,
          "percentage_tf": 13.04230475405406,
          "weight": 72.95,
          "weight_scaled": 0.4556213017751496
         },
         {
          "percentage": 13.450999999999999,
          "percentage_np": 12.821586905506905,
          "percentage_scaled": 0.5385618783629547,
          "percentage_tf": 12.773832541781776,
          "weight": 72.5,
          "weight_scaled": 0.4023668639053266
         },
         {
          "percentage": 13.163,
          "percentage_np": 12.950511029753194,
          "percentage_scaled": 0.49160280450024474,
          "percentage_tf": 12.893153525013895,
          "weight": 72.7,
          "weight_scaled": 0.4260355029585803
         },
         {
          "percentage": 13.398,
          "percentage_np": 13.047204122937906,
          "percentage_scaled": 0.5299201043534978,
          "percentage_tf": 12.982644262437987,
          "weight": 72.85,
          "weight_scaled": 0.4437869822485201
         },
         {
          "percentage": 13.599,
          "percentage_np": 13.337283402492055,
          "percentage_scaled": 0.5626936246535139,
          "percentage_tf": 13.251116474710273,
          "weight": 73.3,
          "weight_scaled": 0.49704142011834307
         },
         {
          "percentage": 13.584000000000001,
          "percentage_np": 13.498438557799915,
          "percentage_scaled": 0.5602478395564978,
          "percentage_tf": 13.400267703750435,
          "weight": 73.55,
          "weight_scaled": 0.5266272189349124
         },
         {
          "percentage": 13.831,
          "percentage_np": 13.691824744169338,
          "percentage_scaled": 0.6005217674873637,
          "percentage_tf": 13.579249178598614,
          "weight": 73.85,
          "weight_scaled": 0.562130177514792
         },
         {
          "percentage": 13.669,
          "percentage_np": 13.466207526738344,
          "percentage_scaled": 0.5741072884395895,
          "percentage_tf": 13.370437457942403,
          "weight": 73.5,
          "weight_scaled": 0.5207100591715985
         },
         {
          "percentage": 13.658,
          "percentage_np": 13.337283402492055,
          "percentage_scaled": 0.5723137127017772,
          "percentage_tf": 13.251116474710273,
          "weight": 73.3,
          "weight_scaled": 0.49704142011834307
         },
         {
          "percentage": 13.588,
          "percentage_np": 13.530669588861485,
          "percentage_scaled": 0.5609000489157021,
          "percentage_tf": 13.430097949558458,
          "weight": 73.6,
          "weight_scaled": 0.5325443786982245
         },
         {
          "percentage": 13.821,
          "percentage_np": 13.530669588861485,
          "percentage_scaled": 0.598891244089353,
          "percentage_tf": 13.430097949558458,
          "weight": 73.6,
          "weight_scaled": 0.5325443786982245
         },
         {
          "percentage": 13.561,
          "percentage_np": 13.208359278245766,
          "percentage_scaled": 0.5564976357410731,
          "percentage_tf": 13.13179549147815,
          "weight": 73.1,
          "weight_scaled": 0.4733727810650894
         },
         {
          "percentage": 13.652000000000001,
          "percentage_np": 13.595131650984634,
          "percentage_scaled": 0.5713353986629712,
          "percentage_tf": 13.489758441174523,
          "weight": 73.7,
          "weight_scaled": 0.5443786982248522
         },
         {
          "percentage": 13.547,
          "percentage_np": 14.046366085846643,
          "percentage_scaled": 0.5542149029838581,
          "percentage_tf": 13.907381882486973,
          "weight": 74.4,
          "weight_scaled": 0.6272189349112445
         },
         {
          "percentage": 14.047,
          "percentage_np": 13.788517837354064,
          "percentage_scaled": 0.635741072884396,
          "percentage_tf": 13.66873991602271,
          "weight": 74,
          "weight_scaled": 0.5798816568047336
         },
         {
          "percentage": 14.642000000000001,
          "percentage_np": 13.369514433553626,
          "percentage_scaled": 0.7327572150660366,
          "percentage_tf": 13.280946720518305,
          "weight": 73.35,
          "weight_scaled": 0.5029585798816569
         },
         {
          "percentage": 14.478,
          "percentage_np": 13.079435153999484,
          "percentage_scaled": 0.7060166313386598,
          "percentage_tf": 13.012474508246028,
          "weight": 72.9,
          "weight_scaled": 0.44970414201183573
         },
         {
          "percentage": 14.374,
          "percentage_np": 13.305052371430484,
          "percentage_scaled": 0.6890591879993482,
          "percentage_tf": 13.221286228902247,
          "weight": 73.25,
          "weight_scaled": 0.491124260355031
         },
         {
          "percentage": 13.642000000000001,
          "percentage_np": 13.433976495676774,
          "percentage_scaled": 0.5697048752649605,
          "percentage_tf": 13.34060721213437,
          "weight": 73.45,
          "weight_scaled": 0.5147928994082847
         },
         {
          "percentage": 14.065999999999999,
          "percentage_np": 13.627362682046204,
          "percentage_scaled": 0.6388390673406164,
          "percentage_tf": 13.519588686982557,
          "weight": 73.75,
          "weight_scaled": 0.550295857988166
         },
         {
          "percentage": 14.032,
          "percentage_np": 14.078597116908213,
          "percentage_scaled": 0.6332952877873799,
          "percentage_tf": 13.937212128294998,
          "weight": 74.45,
          "weight_scaled": 0.6331360946745566
         },
         {
          "percentage": 13.84,
          "percentage_np": 13.756286806292493,
          "percentage_scaled": 0.6019892385455734,
          "percentage_tf": 13.638909670214687,
          "weight": 73.95,
          "weight_scaled": 0.5739644970414215
         },
         {
          "percentage": 13.425,
          "percentage_np": 13.240590309307343,
          "percentage_scaled": 0.5343225175281268,
          "percentage_tf": 13.161625737286183,
          "weight": 73.15,
          "weight_scaled": 0.47928994082840326
         },
         {
          "percentage": 13.062999999999999,
          "percentage_np": 13.369514433553626,
          "percentage_scaled": 0.475297570520137,
          "percentage_tf": 13.280946720518305,
          "weight": 73.35,
          "weight_scaled": 0.5029585798816569
         },
         {
          "percentage": 13.115,
          "percentage_np": 13.272821340368914,
          "percentage_scaled": 0.48377629218979323,
          "percentage_tf": 13.191455983094215,
          "weight": 73.2,
          "weight_scaled": 0.4852071005917171
         },
         {
          "percentage": 13.133,
          "percentage_np": 13.885210930538783,
          "percentage_scaled": 0.4867112343062121,
          "percentage_tf": 13.758230653446809,
          "weight": 74.15,
          "weight_scaled": 0.5976331360946752
         },
         {
          "percentage": 13.613,
          "percentage_np": 13.401745464615203,
          "percentage_scaled": 0.5649763574107289,
          "percentage_tf": 13.310776966326346,
          "weight": 73.4,
          "weight_scaled": 0.5088757396449726
         },
         {
          "percentage": 13.325999999999999,
          "percentage_np": 13.401745464615203,
          "percentage_scaled": 0.5181803358878201,
          "percentage_tf": 13.310776966326346,
          "weight": 73.4,
          "weight_scaled": 0.5088757396449726
         },
         {
          "percentage": 13.468,
          "percentage_np": 13.369514433553626,
          "percentage_scaled": 0.5413337681395729,
          "percentage_tf": 13.280946720518305,
          "weight": 73.35,
          "weight_scaled": 0.5029585798816569
         },
         {
          "percentage": 13.889000000000001,
          "percentage_np": 13.562900619923063,
          "percentage_scaled": 0.6099788031958264,
          "percentage_tf": 13.459928195366501,
          "weight": 73.65,
          "weight_scaled": 0.5384615384615401
         },
         {
          "percentage": 13.665999999999999,
          "percentage_np": 13.337283402492055,
          "percentage_scaled": 0.5736181314201858,
          "percentage_tf": 13.251116474710273,
          "weight": 73.3,
          "weight_scaled": 0.49704142011834307
         },
         {
          "percentage": 13.788,
          "percentage_np": 13.401745464615203,
          "percentage_scaled": 0.5935105168759172,
          "percentage_tf": 13.310776966326346,
          "weight": 73.4,
          "weight_scaled": 0.5088757396449726
         },
         {
          "percentage": 13.509,
          "percentage_np": 13.530669588861485,
          "percentage_scaled": 0.5480189140714173,
          "percentage_tf": 13.430097949558458,
          "weight": 73.6,
          "weight_scaled": 0.5325443786982245
         },
         {
          "percentage": 13.478,
          "percentage_np": 13.498438557799915,
          "percentage_scaled": 0.5429642915375836,
          "percentage_tf": 13.400267703750435,
          "weight": 73.55,
          "weight_scaled": 0.5266272189349124
         },
         {
          "percentage": 13.456,
          "percentage_np": 13.627362682046204,
          "percentage_scaled": 0.53937714006196,
          "percentage_tf": 13.519588686982557,
          "weight": 73.75,
          "weight_scaled": 0.550295857988166
         },
         {
          "percentage": 13.878,
          "percentage_np": 12.982742060814765,
          "percentage_scaled": 0.6081852274580142,
          "percentage_tf": 12.92298377082193,
          "weight": 72.75,
          "weight_scaled": 0.43195266272189414
         },
         {
          "percentage": 13.315,
          "percentage_np": 12.950511029753194,
          "percentage_scaled": 0.5163867601500083,
          "percentage_tf": 12.893153525013895,
          "weight": 72.7,
          "weight_scaled": 0.4260355029585803
         },
         {
          "percentage": 12.93,
          "percentage_np": 13.014973091876335,
          "percentage_scaled": 0.45361160932659383,
          "percentage_tf": 12.952814016629961,
          "weight": 72.8,
          "weight_scaled": 0.437869822485208
         },
         {
          "percentage": 13.634,
          "percentage_np": 13.272821340368914,
          "percentage_scaled": 0.5684004565465515,
          "percentage_tf": 13.191455983094215,
          "weight": 73.2,
          "weight_scaled": 0.4852071005917171
         },
         {
          "percentage": 13.272,
          "percentage_np": 13.401745464615203,
          "percentage_scaled": 0.5093755095385621,
          "percentage_tf": 13.310776966326346,
          "weight": 73.4,
          "weight_scaled": 0.5088757396449726
         },
         {
          "percentage": 13.624,
          "percentage_np": 13.176128247184195,
          "percentage_scaled": 0.5667699331485407,
          "percentage_tf": 13.101965245670117,
          "weight": 73.05,
          "weight_scaled": 0.46745562130177554
         },
         {
          "percentage": 14.039000000000001,
          "percentage_np": 13.305052371430484,
          "percentage_scaled": 0.6344366541659878,
          "percentage_tf": 13.221286228902247,
          "weight": 73.25,
          "weight_scaled": 0.491124260355031
         },
         {
          "percentage": 14.087,
          "percentage_np": 13.466207526738344,
          "percentage_scaled": 0.6422631664764389,
          "percentage_tf": 13.370437457942403,
          "weight": 73.5,
          "weight_scaled": 0.5207100591715985
         },
         {
          "percentage": 13.76,
          "percentage_np": 13.369514433553626,
          "percentage_scaled": 0.5889450513614871,
          "percentage_tf": 13.280946720518305,
          "weight": 73.35,
          "weight_scaled": 0.5029585798816569
         },
         {
          "percentage": 13.642000000000001,
          "percentage_np": 13.337283402492055,
          "percentage_scaled": 0.5697048752649605,
          "percentage_tf": 13.251116474710273,
          "weight": 73.3,
          "weight_scaled": 0.49704142011834307
         },
         {
          "percentage": 13.562000000000001,
          "percentage_np": 13.401745464615203,
          "percentage_scaled": 0.5566606880808742,
          "percentage_tf": 13.310776966326346,
          "weight": 73.4,
          "weight_scaled": 0.5088757396449726
         },
         {
          "percentage": 13.407,
          "percentage_np": 13.820748868415635,
          "percentage_scaled": 0.5313875754117074,
          "percentage_tf": 13.698570161830744,
          "weight": 74.05,
          "weight_scaled": 0.5857988165680474
         },
         {
          "percentage": 13.731,
          "percentage_np": 13.756286806292493,
          "percentage_scaled": 0.584216533507256,
          "percentage_tf": 13.638909670214687,
          "weight": 73.95,
          "weight_scaled": 0.5739644970414215
         },
         {
          "percentage": 13.448,
          "percentage_np": 13.401745464615203,
          "percentage_scaled": 0.5380727213435514,
          "percentage_tf": 13.310776966326346,
          "weight": 73.4,
          "weight_scaled": 0.5088757396449726
         },
         {
          "percentage": 13.584000000000001,
          "percentage_np": 13.305052371430484,
          "percentage_scaled": 0.5602478395564978,
          "percentage_tf": 13.221286228902247,
          "weight": 73.25,
          "weight_scaled": 0.491124260355031
         },
         {
          "percentage": 14.144,
          "percentage_np": 13.433976495676774,
          "percentage_scaled": 0.6515571498451005,
          "percentage_tf": 13.34060721213437,
          "weight": 73.45,
          "weight_scaled": 0.5147928994082847
         },
         {
          "percentage": 14.017999999999999,
          "percentage_np": 13.627362682046204,
          "percentage_scaled": 0.6310125550301648,
          "percentage_tf": 13.519588686982557,
          "weight": 73.75,
          "weight_scaled": 0.550295857988166
         },
         {
          "percentage": 13.975,
          "percentage_np": 13.466207526738344,
          "percentage_scaled": 0.6240013044187187,
          "percentage_tf": 13.370437457942403,
          "weight": 73.5,
          "weight_scaled": 0.5207100591715985
         },
         {
          "percentage": 13.66,
          "percentage_np": 13.208359278245766,
          "percentage_scaled": 0.5726398173813798,
          "percentage_tf": 13.13179549147815,
          "weight": 73.1,
          "weight_scaled": 0.4733727810650894
         },
         {
          "percentage": 13.225,
          "percentage_np": 13.530669588861485,
          "percentage_scaled": 0.5017120495679113,
          "percentage_tf": 13.430097949558458,
          "weight": 73.6,
          "weight_scaled": 0.5325443786982245
         },
         {
          "percentage": 12.877,
          "percentage_np": 13.530669588861485,
          "percentage_scaled": 0.44496983531713696,
          "percentage_tf": 13.430097949558458,
          "weight": 73.6,
          "weight_scaled": 0.5325443786982245
         },
         {
          "percentage": 13.682,
          "percentage_np": 14.014135054785058,
          "percentage_scaled": 0.5762269688570034,
          "percentage_tf": 13.877551636678932,
          "weight": 74.35,
          "weight_scaled": 0.6213017751479288
         },
         {
          "percentage": 13.779000000000002,
          "percentage_np": 13.530669588861485,
          "percentage_scaled": 0.592043045817708,
          "percentage_tf": 13.430097949558458,
          "weight": 73.6,
          "weight_scaled": 0.5325443786982245
         },
         {
          "percentage": 13.509,
          "percentage_np": 13.401745464615203,
          "percentage_scaled": 0.5480189140714173,
          "percentage_tf": 13.310776966326346,
          "weight": 73.4,
          "weight_scaled": 0.5088757396449726
         },
         {
          "percentage": 13.645,
          "percentage_np": 13.724055775230923,
          "percentage_scaled": 0.5701940322843633,
          "percentage_tf": 13.609079424406653,
          "weight": 73.9,
          "weight_scaled": 0.5680473372781076
         },
         {
          "percentage": 14.379000000000001,
          "percentage_np": 14.110828147969784,
          "percentage_scaled": 0.6898744496983535,
          "percentage_tf": 13.96704237410303,
          "weight": 74.5,
          "weight_scaled": 0.6390532544378704
         },
         {
          "percentage": 13.59,
          "percentage_np": 13.820748868415635,
          "percentage_scaled": 0.5612261535953043,
          "percentage_tf": 13.698570161830744,
          "weight": 74.05,
          "weight_scaled": 0.5857988165680474
         },
         {
          "percentage": 14.013,
          "percentage_np": 13.530669588861485,
          "percentage_scaled": 0.6301972933311595,
          "percentage_tf": 13.430097949558458,
          "weight": 73.6,
          "weight_scaled": 0.5325443786982245
         },
         {
          "percentage": 14.414000000000001,
          "percentage_np": 13.272821340368914,
          "percentage_scaled": 0.6955812815913911,
          "percentage_tf": 13.191455983094215,
          "weight": 73.2,
          "weight_scaled": 0.4852071005917171
         },
         {
          "percentage": 13.998,
          "percentage_np": 13.691824744169338,
          "percentage_scaled": 0.6277515082341434,
          "percentage_tf": 13.579249178598614,
          "weight": 73.85,
          "weight_scaled": 0.562130177514792
         },
         {
          "percentage": 13.94,
          "percentage_np": 13.691824744169338,
          "percentage_scaled": 0.6182944725256807,
          "percentage_tf": 13.579249178598614,
          "weight": 73.85,
          "weight_scaled": 0.562130177514792
         },
         {
          "percentage": 14.36,
          "percentage_np": 13.788517837354064,
          "percentage_scaled": 0.6867764552421327,
          "percentage_tf": 13.66873991602271,
          "weight": 74,
          "weight_scaled": 0.5798816568047336
         },
         {
          "percentage": 14.196,
          "percentage_np": 14.014135054785058,
          "percentage_scaled": 0.6600358715147563,
          "percentage_tf": 13.877551636678932,
          "weight": 74.35,
          "weight_scaled": 0.6213017751479288
         },
         {
          "percentage": 14.013,
          "percentage_np": 13.917441961600353,
          "percentage_scaled": 0.6301972933311595,
          "percentage_tf": 13.788060899254843,
          "weight": 74.2,
          "weight_scaled": 0.603550295857989
         },
         {
          "percentage": 14.419,
          "percentage_np": 13.498438557799915,
          "percentage_scaled": 0.6963965432903965,
          "percentage_tf": 13.400267703750435,
          "weight": 73.55,
          "weight_scaled": 0.5266272189349124
         },
         {
          "percentage": 14.654000000000002,
          "percentage_np": 13.756286806292493,
          "percentage_scaled": 0.7347138431436495,
          "percentage_tf": 13.638909670214687,
          "weight": 73.95,
          "weight_scaled": 0.5739644970414215
         },
         {
          "percentage": 14.883,
          "percentage_np": 13.949672992661924,
          "percentage_scaled": 0.7720528289580957,
          "percentage_tf": 13.817891145062875,
          "weight": 74.25,
          "weight_scaled": 0.6094674556213029
         },
         {
          "percentage": 14.415999999999999,
          "percentage_np": 14.175290210092918,
          "percentage_scaled": 0.6959073862709928,
          "percentage_tf": 14.026702865719084,
          "weight": 74.6,
          "weight_scaled": 0.6508875739644964
         },
         {
          "percentage": 14.4,
          "percentage_np": 13.885210930538783,
          "percentage_scaled": 0.6932985488341761,
          "percentage_tf": 13.758230653446809,
          "weight": 74.15,
          "weight_scaled": 0.5976331360946752
         },
         {
          "percentage": 14.38,
          "percentage_np": 14.014135054785058,
          "percentage_scaled": 0.6900375020381546,
          "percentage_tf": 13.877551636678932,
          "weight": 74.35,
          "weight_scaled": 0.6213017751479288
         },
         {
          "percentage": 14.175,
          "percentage_np": 14.175290210092918,
          "percentage_scaled": 0.6566117723789338,
          "percentage_tf": 14.026702865719084,
          "weight": 74.6,
          "weight_scaled": 0.6508875739644964
         },
         {
          "percentage": 14.238,
          "percentage_np": 14.529831551770222,
          "percentage_scaled": 0.6668840697864014,
          "percentage_tf": 14.354835569607436,
          "weight": 75.15,
          "weight_scaled": 0.7159763313609471
         },
         {
          "percentage": 14.83,
          "percentage_np": 14.755448769201216,
          "percentage_scaled": 0.7634110549486388,
          "percentage_tf": 14.563647290263658,
          "weight": 75.5,
          "weight_scaled": 0.7573964497041423
         },
         {
          "percentage": 14.209000000000001,
          "percentage_np": 14.400907427523933,
          "percentage_scaled": 0.6621555519321707,
          "percentage_tf": 14.235514586375315,
          "weight": 74.95,
          "weight_scaled": 0.6923076923076934
         },
         {
          "percentage": 14.456,
          "percentage_np": 14.433138458585496,
          "percentage_scaled": 0.7024294798630362,
          "percentage_tf": 14.265344832183347,
          "weight": 75,
          "weight_scaled": 0.6982248520710073
         },
         {
          "percentage": 14.360999999999999,
          "percentage_np": 14.239752272216073,
          "percentage_scaled": 0.6869395075819338,
          "percentage_tf": 14.086363357335161,
          "weight": 74.7,
          "weight_scaled": 0.6627218934911259
         },
         {
          "percentage": 14.449000000000002,
          "percentage_np": 14.143059179031347,
          "percentage_scaled": 0.7012881134844291,
          "percentage_tf": 13.996872619911063,
          "weight": 74.55,
          "weight_scaled": 0.6449704142011843
         },
         {
          "percentage": 14.298,
          "percentage_np": 14.143059179031347,
          "percentage_scaled": 0.6766672101744662,
          "percentage_tf": 13.996872619911063,
          "weight": 74.55,
          "weight_scaled": 0.6449704142011843
         },
         {
          "percentage": 14.863,
          "percentage_np": 14.626524644954927,
          "percentage_scaled": 0.7687917821620742,
          "percentage_tf": 14.444326307031528,
          "weight": 75.3,
          "weight_scaled": 0.7337278106508869
         },
         {
          "percentage": 14.550999999999998,
          "percentage_np": 14.529831551770222,
          "percentage_scaled": 0.7179194521441381,
          "percentage_tf": 14.354835569607436,
          "weight": 75.15,
          "weight_scaled": 0.7159763313609471
         },
         {
          "percentage": 14.425,
          "percentage_np": 14.304214334339207,
          "percentage_scaled": 0.6973748573292029,
          "percentage_tf": 14.146023848951216,
          "weight": 74.8,
          "weight_scaled": 0.6745562130177518
         },
         {
          "percentage": 14.384,
          "percentage_np": 14.014135054785058,
          "percentage_scaled": 0.6906897113973589,
          "percentage_tf": 13.877551636678932,
          "weight": 74.35,
          "weight_scaled": 0.6213017751479288
         },
         {
          "percentage": 14.825999999999999,
          "percentage_np": 13.917441961600353,
          "percentage_scaled": 0.7627588455894341,
          "percentage_tf": 13.788060899254843,
          "weight": 74.2,
          "weight_scaled": 0.603550295857989
         },
         {
          "percentage": 15.1,
          "percentage_np": 14.304214334339207,
          "percentage_scaled": 0.8074351866949294,
          "percentage_tf": 14.146023848951216,
          "weight": 74.8,
          "weight_scaled": 0.6745562130177518
         },
         {
          "percentage": 14.925,
          "percentage_np": 14.014135054785058,
          "percentage_scaled": 0.7789010272297412,
          "percentage_tf": 13.877551636678932,
          "weight": 74.35,
          "weight_scaled": 0.6213017751479288
         },
         {
          "percentage": 14.640999999999998,
          "percentage_np": 14.304214334339207,
          "percentage_scaled": 0.7325941627262351,
          "percentage_tf": 14.146023848951216,
          "weight": 74.8,
          "weight_scaled": 0.6745562130177518
         },
         {
          "percentage": 14.429,
          "percentage_np": 14.497600520708637,
          "percentage_scaled": 0.6980270666884072,
          "percentage_tf": 14.325005323799404,
          "weight": 75.1,
          "weight_scaled": 0.7100591715976332
         },
         {
          "percentage": 14.709000000000001,
          "percentage_np": 14.529831551770222,
          "percentage_scaled": 0.7436817218327085,
          "percentage_tf": 14.354835569607436,
          "weight": 75.15,
          "weight_scaled": 0.7159763313609471
         },
         {
          "percentage": 14.06,
          "percentage_np": 14.207521241154502,
          "percentage_scaled": 0.6378607533018099,
          "percentage_tf": 14.056533111527129,
          "weight": 74.65,
          "weight_scaled": 0.656804733727812
         },
         {
          "percentage": 14.693,
          "percentage_np": 14.110828147969784,
          "percentage_scaled": 0.7410728843958914,
          "percentage_tf": 13.96704237410303,
          "weight": 74.5,
          "weight_scaled": 0.6390532544378704
         },
         {
          "percentage": 14.706,
          "percentage_np": 14.368676396462362,
          "percentage_scaled": 0.7431925648133053,
          "percentage_tf": 14.20568434056728,
          "weight": 74.9,
          "weight_scaled": 0.6863905325443795
         },
         {
          "percentage": 14.860999999999999,
          "percentage_np": 14.368676396462362,
          "percentage_scaled": 0.7684656774824721,
          "percentage_tf": 14.20568434056728,
          "weight": 74.9,
          "weight_scaled": 0.6863905325443795
         },
         {
          "percentage": 14.739,
          "percentage_np": 14.400907427523933,
          "percentage_scaled": 0.7485732920267407,
          "percentage_tf": 14.235514586375315,
          "weight": 74.95,
          "weight_scaled": 0.6923076923076934
         },
         {
          "percentage": 14.364,
          "percentage_np": 14.755448769201216,
          "percentage_scaled": 0.6874286646013374,
          "percentage_tf": 14.563647290263658,
          "weight": 75.5,
          "weight_scaled": 0.7573964497041423
         },
         {
          "percentage": 14.277000000000001,
          "percentage_np": 14.368676396462362,
          "percentage_scaled": 0.6732431110386436,
          "percentage_tf": 14.20568434056728,
          "weight": 74.9,
          "weight_scaled": 0.6863905325443795
         },
         {
          "percentage": 14.427,
          "percentage_np": 14.207521241154502,
          "percentage_scaled": 0.697700962008805,
          "percentage_tf": 14.056533111527129,
          "weight": 74.65,
          "weight_scaled": 0.656804733727812
         },
         {
          "percentage": 14.397,
          "percentage_np": 14.207521241154502,
          "percentage_scaled": 0.6928093918147729,
          "percentage_tf": 14.056533111527129,
          "weight": 74.65,
          "weight_scaled": 0.656804733727812
         },
         {
          "percentage": 14.588,
          "percentage_np": 14.497600520708637,
          "percentage_scaled": 0.7239523887167783,
          "percentage_tf": 14.325005323799404,
          "weight": 75.1,
          "weight_scaled": 0.7100591715976332
         },
         {
          "percentage": 14.556,
          "percentage_np": 14.400907427523933,
          "percentage_scaled": 0.7187347138431435,
          "percentage_tf": 14.235514586375315,
          "weight": 74.95,
          "weight_scaled": 0.6923076923076934
         },
         {
          "percentage": 15.123,
          "percentage_np": 14.787679800262787,
          "percentage_scaled": 0.8111853905103541,
          "percentage_tf": 14.59347753607169,
          "weight": 75.55,
          "weight_scaled": 0.7633136094674562
         },
         {
          "percentage": 14.745,
          "percentage_np": 14.562062582831786,
          "percentage_scaled": 0.7495516060655472,
          "percentage_tf": 14.384665815415469,
          "weight": 75.2,
          "weight_scaled": 0.7218934911242609
         },
         {
          "percentage": 14.557,
          "percentage_np": 14.690986707078082,
          "percentage_scaled": 0.718897766182945,
          "percentage_tf": 14.5039867986476,
          "weight": 75.4,
          "weight_scaled": 0.7455621301775164
         },
         {
          "percentage": 13.725999999999999,
          "percentage_np": 14.884372893447505,
          "percentage_scaled": 0.5834012718082506,
          "percentage_tf": 14.682968273495788,
          "weight": 75.7,
          "weight_scaled": 0.7810650887573978
         },
         {
          "percentage": 14.991,
          "percentage_np": 14.433138458585496,
          "percentage_scaled": 0.789662481656612,
          "percentage_tf": 14.265344832183347,
          "weight": 75,
          "weight_scaled": 0.6982248520710073
         },
         {
          "percentage": 14.458,
          "percentage_np": 14.884372893447505,
          "percentage_scaled": 0.7027555845426383,
          "percentage_tf": 14.682968273495788,
          "weight": 75.7,
          "weight_scaled": 0.7810650887573978
         },
         {
          "percentage": 14.731,
          "percentage_np": 15.174452173001654,
          "percentage_scaled": 0.7472688733083321,
          "percentage_tf": 14.951440485768073,
          "weight": 76.15,
          "weight_scaled": 0.8343195266272208
         },
         {
          "percentage": 14.204,
          "percentage_np": 15.271145266186366,
          "percentage_scaled": 0.6613402902331653,
          "percentage_tf": 15.040931223192162,
          "weight": 76.3,
          "weight_scaled": 0.8520710059171606
         },
         {
          "percentage": 15.062000000000001,
          "percentage_np": 14.916603924509076,
          "percentage_scaled": 0.8012391977824886,
          "percentage_tf": 14.71279851930381,
          "weight": 75.75,
          "weight_scaled": 0.7869822485207099
         },
         {
          "percentage": 14.047,
          "percentage_np": 14.884372893447505,
          "percentage_scaled": 0.635741072884396,
          "percentage_tf": 14.682968273495788,
          "weight": 75.7,
          "weight_scaled": 0.7810650887573978
         },
         {
          "percentage": 15.282,
          "percentage_np": 15.174452173001654,
          "percentage_scaled": 0.8371107125387252,
          "percentage_tf": 14.951440485768073,
          "weight": 76.15,
          "weight_scaled": 0.8343195266272208
         },
         {
          "percentage": 15.657,
          "percentage_np": 15.593455576802086,
          "percentage_scaled": 0.8982553399641289,
          "percentage_tf": 15.33923368127247,
          "weight": 76.8,
          "weight_scaled": 0.9112426035502956
         },
         {
          "percentage": 15.440999999999999,
          "percentage_np": 15.303376297247937,
          "percentage_scaled": 0.8630360345670962,
          "percentage_tf": 15.070761469000187,
          "weight": 76.35,
          "weight_scaled": 0.8579881656804726
         },
         {
          "percentage": 15.094000000000001,
          "percentage_np": 15.593455576802086,
          "percentage_scaled": 0.806456872656123,
          "percentage_tf": 15.33923368127247,
          "weight": 76.8,
          "weight_scaled": 0.9112426035502956
         },
         {
          "percentage": 15.375,
          "percentage_np": 15.335607328309514,
          "percentage_scaled": 0.8522745801402254,
          "percentage_tf": 15.100591714808226,
          "weight": 76.4,
          "weight_scaled": 0.8639053254437883
         },
         {
          "percentage": 15.38,
          "percentage_np": 15.754610732109946,
          "percentage_scaled": 0.8530898418392308,
          "percentage_tf": 15.488384910312625,
          "weight": 77.05,
          "weight_scaled": 0.9408284023668632
         },
         {
          "percentage": 14.398,
          "percentage_np": 15.593455576802086,
          "percentage_scaled": 0.6929724441545739,
          "percentage_tf": 15.33923368127247,
          "weight": 76.8,
          "weight_scaled": 0.9112426035502956
         },
         {
          "percentage": 14.888,
          "percentage_np": 15.303376297247937,
          "percentage_scaled": 0.772868090657101,
          "percentage_tf": 15.070761469000187,
          "weight": 76.35,
          "weight_scaled": 0.8579881656804726
         },
         {
          "percentage": 15.738,
          "percentage_np": 15.109990110878506,
          "percentage_scaled": 0.9114625794880158,
          "percentage_tf": 14.891779994151998,
          "weight": 76.05,
          "weight_scaled": 0.8224852071005913
         },
         {
          "percentage": 15.380999999999998,
          "percentage_np": 14.755448769201216,
          "percentage_scaled": 0.8532528941790314,
          "percentage_tf": 14.563647290263658,
          "weight": 75.5,
          "weight_scaled": 0.7573964497041423
         },
         {
          "percentage": 15.18,
          "percentage_np": 15.367838359371085,
          "percentage_scaled": 0.8204793738790153,
          "percentage_tf": 15.13042196061626,
          "weight": 76.45,
          "weight_scaled": 0.8698224852071021
         },
         {
          "percentage": 15.5,
          "percentage_np": 15.496762483617374,
          "percentage_scaled": 0.8726561226153595,
          "percentage_tf": 15.249742943848382,
          "weight": 76.65,
          "weight_scaled": 0.8934911242603558
         },
         {
          "percentage": 14.735,
          "percentage_np": 15.561224545740515,
          "percentage_scaled": 0.7479210826675364,
          "percentage_tf": 15.309403435464448,
          "weight": 76.75,
          "weight_scaled": 0.9053254437869835
         },
         {
          "percentage": 14.769,
          "percentage_np": 15.561224545740515,
          "percentage_scaled": 0.7534648622207729,
          "percentage_tf": 15.309403435464448,
          "weight": 76.75,
          "weight_scaled": 0.9053254437869835
         },
         {
          "percentage": 15.504000000000001,
          "percentage_np": 15.464531452555796,
          "percentage_scaled": 0.8733083319745643,
          "percentage_tf": 15.21991269804035,
          "weight": 76.6,
          "weight_scaled": 0.887573964497042
         },
         {
          "percentage": 15.522,
          "percentage_np": 15.690148669986804,
          "percentage_scaled": 0.8762432740909836,
          "percentage_tf": 15.428724418696568,
          "weight": 76.95,
          "weight_scaled": 0.9289940828402372
         },
         {
          "percentage": 15.800999999999998,
          "percentage_np": 15.432300421494226,
          "percentage_scaled": 0.9217348768954834,
          "percentage_tf": 15.190082452232318,
          "weight": 76.55,
          "weight_scaled": 0.8816568047337281
         },
         {
          "percentage": 15.369000000000002,
          "percentage_np": 15.528993514678945,
          "percentage_scaled": 0.851296266101419,
          "percentage_tf": 15.279573189656416,
          "weight": 76.7,
          "weight_scaled": 0.8994082840236697
         },
         {
          "percentage": 15.790999999999999,
          "percentage_np": 15.690148669986804,
          "percentage_scaled": 0.9201043534974727,
          "percentage_tf": 15.428724418696568,
          "weight": 76.95,
          "weight_scaled": 0.9289940828402372
         },
         {
          "percentage": 15.450999999999999,
          "percentage_np": 15.754610732109946,
          "percentage_scaled": 0.8646665579651069,
          "percentage_tf": 15.488384910312625,
          "weight": 77.05,
          "weight_scaled": 0.9408284023668632
         },
         {
          "percentage": 15.373,
          "percentage_np": 15.464531452555796,
          "percentage_scaled": 0.8519484754606228,
          "percentage_tf": 15.21991269804035,
          "weight": 76.6,
          "weight_scaled": 0.887573964497042
         },
         {
          "percentage": 15.402000000000001,
          "percentage_np": 15.915765887417805,
          "percentage_scaled": 0.8566769933148544,
          "percentage_tf": 15.63753613935279,
          "weight": 77.3,
          "weight_scaled": 0.9704142011834325
         },
         {
          "percentage": 15.232999999999999,
          "percentage_np": 15.915765887417805,
          "percentage_scaled": 0.8291211478884721,
          "percentage_tf": 15.63753613935279,
          "weight": 77.3,
          "weight_scaled": 0.9704142011834325
         },
         {
          "percentage": 16.027,
          "percentage_np": 15.657917638925234,
          "percentage_scaled": 0.9585847056905272,
          "percentage_tf": 15.398894172888536,
          "weight": 76.9,
          "weight_scaled": 0.9230769230769234
         },
         {
          "percentage": 15.41,
          "percentage_np": 15.851303825294664,
          "percentage_scaled": 0.857981412033263,
          "percentage_tf": 15.577875647736724,
          "weight": 77.2,
          "weight_scaled": 0.9585798816568047
         },
         {
          "percentage": 15.890999999999998,
          "percentage_np": 15.722379701048375,
          "percentage_scaled": 0.9364095874775804,
          "percentage_tf": 15.4585546645046,
          "weight": 77,
          "weight_scaled": 0.9349112426035511
         },
         {
          "percentage": 15.110999999999999,
          "percentage_np": 16.076921042725665,
          "percentage_scaled": 0.8092287624327408,
          "percentage_tf": 15.786687368392945,
          "weight": 77.55,
          "weight_scaled": 1
         },
         {
          "percentage": 15.591,
          "percentage_np": 15.722379701048375,
          "percentage_scaled": 0.8874938855372576,
          "percentage_tf": 15.4585546645046,
          "weight": 77,
          "weight_scaled": 0.9349112426035511
         },
         {
          "percentage": 15.799000000000001,
          "percentage_np": 15.593455576802086,
          "percentage_scaled": 0.9214087722158817,
          "percentage_tf": 15.33923368127247,
          "weight": 76.8,
          "weight_scaled": 0.9112426035502956
         },
         {
          "percentage": 15.745,
          "percentage_np": 15.109990110878506,
          "percentage_scaled": 0.9126039458666233,
          "percentage_tf": 14.891779994151998,
          "weight": 76.05,
          "weight_scaled": 0.8224852071005913
         },
         {
          "percentage": 15.732000000000001,
          "percentage_np": 15.625686607863656,
          "percentage_scaled": 0.9104842654492098,
          "percentage_tf": 15.369063927080504,
          "weight": 76.85,
          "weight_scaled": 0.9171597633136095
         },
         {
          "percentage": 16.147000000000002,
          "percentage_np": 15.947996918479376,
          "percentage_scaled": 0.9781509864666564,
          "percentage_tf": 15.667366385160813,
          "weight": 77.35,
          "weight_scaled": 0.9763313609467446
         },
         {
          "percentage": 16.067999999999998,
          "percentage_np": 15.496762483617374,
          "percentage_scaled": 0.9652698516223708,
          "percentage_tf": 15.249742943848382,
          "weight": 76.65,
          "weight_scaled": 0.8934911242603558
         },
         {
          "percentage": 15.543,
          "percentage_np": 15.464531452555796,
          "percentage_scaled": 0.8796673732268061,
          "percentage_tf": 15.21991269804035,
          "weight": 76.6,
          "weight_scaled": 0.887573964497042
         },
         {
          "percentage": 15.463,
          "percentage_np": 15.690148669986804,
          "percentage_scaled": 0.8666231860427198,
          "percentage_tf": 15.428724418696568,
          "weight": 76.95,
          "weight_scaled": 0.9289940828402372
         },
         {
          "percentage": 15.663,
          "percentage_np": 15.690148669986804,
          "percentage_scaled": 0.8992336540029353,
          "percentage_tf": 15.428724418696568,
          "weight": 76.95,
          "weight_scaled": 0.9289940828402372
         },
         {
          "percentage": 15.995999999999999,
          "percentage_np": 15.722379701048375,
          "percentage_scaled": 0.9535300831566931,
          "percentage_tf": 15.4585546645046,
          "weight": 77,
          "weight_scaled": 0.9349112426035511
         },
         {
          "percentage": 15.77,
          "percentage_np": 15.593455576802086,
          "percentage_scaled": 0.9166802543616501,
          "percentage_tf": 15.33923368127247,
          "weight": 76.8,
          "weight_scaled": 0.9112426035502956
         },
         {
          "percentage": 15.615,
          "percentage_np": 15.367838359371085,
          "percentage_scaled": 0.8914071416924834,
          "percentage_tf": 15.13042196061626,
          "weight": 76.45,
          "weight_scaled": 0.8698224852071021
         },
         {
          "percentage": 15.739,
          "percentage_np": 15.561224545740515,
          "percentage_scaled": 0.9116256318278169,
          "percentage_tf": 15.309403435464448,
          "weight": 76.75,
          "weight_scaled": 0.9053254437869835
         },
         {
          "percentage": 15.84,
          "percentage_np": 15.528993514678945,
          "percentage_scaled": 0.9280939181477257,
          "percentage_tf": 15.279573189656416,
          "weight": 76.7,
          "weight_scaled": 0.8994082840236697
         },
         {
          "percentage": 16.137999999999998,
          "percentage_np": 15.496762483617374,
          "percentage_scaled": 0.9766835154084459,
          "percentage_tf": 15.249742943848382,
          "weight": 76.65,
          "weight_scaled": 0.8934911242603558
         },
         {
          "percentage": 15.294,
          "percentage_np": 15.271145266186366,
          "percentage_scaled": 0.839067340616338,
          "percentage_tf": 15.040931223192162,
          "weight": 76.3,
          "weight_scaled": 0.8520710059171606
         },
         {
          "percentage": 15.943,
          "percentage_np": 15.077759079816936,
          "percentage_scaled": 0.9448883091472362,
          "percentage_tf": 14.861949748343974,
          "weight": 76,
          "weight_scaled": 0.8165680473372792
         },
         {
          "percentage": 15.455,
          "percentage_np": 15.335607328309514,
          "percentage_scaled": 0.8653187673243112,
          "percentage_tf": 15.100591714808226,
          "weight": 76.4,
          "weight_scaled": 0.8639053254437883
         },
         {
          "percentage": 15.493,
          "percentage_np": 15.174452173001654,
          "percentage_scaled": 0.8715147562367525,
          "percentage_tf": 14.951440485768073,
          "weight": 76.15,
          "weight_scaled": 0.8343195266272208
         },
         {
          "percentage": 14.715,
          "percentage_np": 15.561224545740515,
          "percentage_scaled": 0.744660035871515,
          "percentage_tf": 15.309403435464448,
          "weight": 76.75,
          "weight_scaled": 0.9053254437869835
         },
         {
          "percentage": 15.623,
          "percentage_np": 15.142221141940077,
          "percentage_scaled": 0.892711560410892,
          "percentage_tf": 14.921610239960032,
          "weight": 76.1,
          "weight_scaled": 0.8284023668639051
         },
         {
          "percentage": 15.254000000000001,
          "percentage_np": 15.432300421494226,
          "percentage_scaled": 0.8325452470242951,
          "percentage_tf": 15.190082452232318,
          "weight": 76.55,
          "weight_scaled": 0.8816568047337281
         },
         {
          "percentage": 16.11,
          "percentage_np": 15.400069390432655,
          "percentage_scaled": 0.9721180498940163,
          "percentage_tf": 15.160252206424286,
          "weight": 76.5,
          "weight_scaled": 0.8757396449704142
         },
         {
          "percentage": 15.686,
          "percentage_np": 15.335607328309514,
          "percentage_scaled": 0.90298385781836,
          "percentage_tf": 15.100591714808226,
          "weight": 76.4,
          "weight_scaled": 0.8639053254437883
         },
         {
          "percentage": 15.655999999999999,
          "percentage_np": 15.013297017693795,
          "percentage_scaled": 0.8980922876243274,
          "percentage_tf": 14.802289256727908,
          "weight": 75.9,
          "weight_scaled": 0.8047337278106514
         },
         {
          "percentage": 15.520999999999999,
          "percentage_np": 14.690986707078082,
          "percentage_scaled": 0.876080221751182,
          "percentage_tf": 14.5039867986476,
          "weight": 75.4,
          "weight_scaled": 0.7455621301775164
         },
         {
          "percentage": 15.75,
          "percentage_np": 14.916603924509076,
          "percentage_scaled": 0.9134192075656287,
          "percentage_tf": 14.71279851930381,
          "weight": 75.75,
          "weight_scaled": 0.7869822485207099
         },
         {
          "percentage": 15.561,
          "percentage_np": 15.013297017693795,
          "percentage_scaled": 0.8826023153432254,
          "percentage_tf": 14.802289256727908,
          "weight": 75.9,
          "weight_scaled": 0.8047337278106514
         },
         {
          "percentage": 15.4,
          "percentage_np": 15.077759079816936,
          "percentage_scaled": 0.8563508886352522,
          "percentage_tf": 14.861949748343974,
          "weight": 76,
          "weight_scaled": 0.8165680473372792
         },
         {
          "percentage": 15.651,
          "percentage_np": 15.432300421494226,
          "percentage_scaled": 0.897277025925322,
          "percentage_tf": 15.190082452232318,
          "weight": 76.55,
          "weight_scaled": 0.8816568047337281
         },
         {
          "percentage": 15.138,
          "percentage_np": 15.238914235124795,
          "percentage_scaled": 0.8136311756073702,
          "percentage_tf": 15.01110097738413,
          "weight": 76.25,
          "weight_scaled": 0.8461538461538467
         },
         {
          "percentage": 15.753,
          "percentage_np": 14.916603924509076,
          "percentage_scaled": 0.9139083645850319,
          "percentage_tf": 14.71279851930381,
          "weight": 75.75,
          "weight_scaled": 0.7869822485207099
         },
         {
          "percentage": 15.853,
          "percentage_np": 15.174452173001654,
          "percentage_scaled": 0.9302135985651396,
          "percentage_tf": 14.951440485768073,
          "weight": 76.15,
          "weight_scaled": 0.8343195266272208
         },
         {
          "percentage": 15.919,
          "percentage_np": 15.206683204063225,
          "percentage_scaled": 0.9409750529920109,
          "percentage_tf": 14.981270731576096,
          "weight": 76.2,
          "weight_scaled": 0.8402366863905328
         },
         {
          "percentage": 15.394,
          "percentage_np": 15.367838359371085,
          "percentage_scaled": 0.8553725745964458,
          "percentage_tf": 15.13042196061626,
          "weight": 76.45,
          "weight_scaled": 0.8698224852071021
         },
         {
          "percentage": 15.564,
          "percentage_np": 14.981065986632217,
          "percentage_scaled": 0.8830914723626286,
          "percentage_tf": 14.772459010919876,
          "weight": 75.85,
          "weight_scaled": 0.7988165680473376
         },
         {
          "percentage": 15.530999999999999,
          "percentage_np": 15.174452173001654,
          "percentage_scaled": 0.8777107451491928,
          "percentage_tf": 14.951440485768073,
          "weight": 76.15,
          "weight_scaled": 0.8343195266272208
         },
         {
          "percentage": 15.274000000000001,
          "percentage_np": 15.109990110878506,
          "percentage_scaled": 0.8358062938203166,
          "percentage_tf": 14.891779994151998,
          "weight": 76.05,
          "weight_scaled": 0.8224852071005913
         },
         {
          "percentage": 15.02,
          "percentage_np": 15.013297017693795,
          "percentage_scaled": 0.7943909995108431,
          "percentage_tf": 14.802289256727908,
          "weight": 75.9,
          "weight_scaled": 0.8047337278106514
         },
         {
          "percentage": 15.597000000000001,
          "percentage_np": 15.174452173001654,
          "percentage_scaled": 0.8884721995760645,
          "percentage_tf": 14.951440485768073,
          "weight": 76.15,
          "weight_scaled": 0.8343195266272208
         },
         {
          "percentage": 15.501,
          "percentage_np": 15.077759079816936,
          "percentage_scaled": 0.8728191749551606,
          "percentage_tf": 14.861949748343974,
          "weight": 76,
          "weight_scaled": 0.8165680473372792
         },
         {
          "percentage": 15.184000000000001,
          "percentage_np": 15.593455576802086,
          "percentage_scaled": 0.82113158323822,
          "percentage_tf": 15.33923368127247,
          "weight": 76.8,
          "weight_scaled": 0.9112426035502956
         },
         {
          "percentage": 15.727,
          "percentage_np": 15.142221141940077,
          "percentage_scaled": 0.909669003750204,
          "percentage_tf": 14.921610239960032,
          "weight": 76.1,
          "weight_scaled": 0.8284023668639051
         },
         {
          "percentage": 15.245999999999999,
          "percentage_np": 14.723217738139645,
          "percentage_scaled": 0.8312408283058861,
          "percentage_tf": 14.533817044455624,
          "weight": 75.45,
          "weight_scaled": 0.7514792899408285
         },
         {
          "percentage": 15.527999999999999,
          "percentage_np": 14.690986707078082,
          "percentage_scaled": 0.8772215881297896,
          "percentage_tf": 14.5039867986476,
          "weight": 75.4,
          "weight_scaled": 0.7455621301775164
         },
         {
          "percentage": 14.929,
          "percentage_np": 15.496762483617374,
          "percentage_scaled": 0.7795532365889455,
          "percentage_tf": 15.249742943848382,
          "weight": 76.65,
          "weight_scaled": 0.8934911242603558
         },
         {
          "percentage": 15.207,
          "percentage_np": 15.271145266186366,
          "percentage_scaled": 0.8248817870536447,
          "percentage_tf": 15.040931223192162,
          "weight": 76.3,
          "weight_scaled": 0.8520710059171606
         },
         {
          "percentage": 15.53,
          "percentage_np": 15.335607328309514,
          "percentage_scaled": 0.8775476928093917,
          "percentage_tf": 15.100591714808226,
          "weight": 76.4,
          "weight_scaled": 0.8639053254437883
         },
         {
          "percentage": 15.565,
          "percentage_np": 15.303376297247937,
          "percentage_scaled": 0.8832545247024297,
          "percentage_tf": 15.070761469000187,
          "weight": 76.35,
          "weight_scaled": 0.8579881656804726
         },
         {
          "percentage": 15.727,
          "percentage_np": 15.367838359371085,
          "percentage_scaled": 0.909669003750204,
          "percentage_tf": 15.13042196061626,
          "weight": 76.45,
          "weight_scaled": 0.8698224852071021
         },
         {
          "percentage": 15.857999999999999,
          "percentage_np": 15.271145266186366,
          "percentage_scaled": 0.931028860264145,
          "percentage_tf": 15.040931223192162,
          "weight": 76.3,
          "weight_scaled": 0.8520710059171606
         },
         {
          "percentage": 15.535,
          "percentage_np": 14.852141862385935,
          "percentage_scaled": 0.8783629545083975,
          "percentage_tf": 14.653138027687756,
          "weight": 75.65,
          "weight_scaled": 0.7751479289940839
         },
         {
          "percentage": 15.185,
          "percentage_np": 14.981065986632217,
          "percentage_scaled": 0.8212946355780206,
          "percentage_tf": 14.772459010919876,
          "weight": 75.85,
          "weight_scaled": 0.7988165680473376
         },
         {
          "percentage": 15.785,
          "percentage_np": 15.593455576802086,
          "percentage_scaled": 0.9191260394586667,
          "percentage_tf": 15.33923368127247,
          "weight": 76.8,
          "weight_scaled": 0.9112426035502956
         },
         {
          "percentage": 15.892999999999999,
          "percentage_np": 15.271145266186366,
          "percentage_scaled": 0.9367356921571826,
          "percentage_tf": 15.040931223192162,
          "weight": 76.3,
          "weight_scaled": 0.8520710059171606
         },
         {
          "percentage": 15.859000000000002,
          "percentage_np": 15.400069390432655,
          "percentage_scaled": 0.9311919126039465,
          "percentage_tf": 15.160252206424286,
          "weight": 76.5,
          "weight_scaled": 0.8757396449704142
         },
         {
          "percentage": 16.281,
          "percentage_np": 15.142221141940077,
          "percentage_scaled": 1.0000000000000002,
          "percentage_tf": 14.921610239960032,
          "weight": 76.1,
          "weight_scaled": 0.8284023668639051
         },
         {
          "percentage": 15.959000000000001,
          "percentage_np": 15.206683204063225,
          "percentage_scaled": 0.9474971465840538,
          "percentage_tf": 14.981270731576096,
          "weight": 76.2,
          "weight_scaled": 0.8402366863905328
         },
         {
          "percentage": 15.828,
          "percentage_np": 15.303376297247937,
          "percentage_scaled": 0.9261372900701128,
          "percentage_tf": 15.070761469000187,
          "weight": 76.35,
          "weight_scaled": 0.8579881656804726
         },
         {
          "percentage": 15.267000000000001,
          "percentage_np": 15.432300421494226,
          "percentage_scaled": 0.8346649274417091,
          "percentage_tf": 15.190082452232318,
          "weight": 76.55,
          "weight_scaled": 0.8816568047337281
         },
         {
          "percentage": 15.44,
          "percentage_np": 15.238914235124795,
          "percentage_scaled": 0.8628729822272951,
          "percentage_tf": 15.01110097738413,
          "weight": 76.25,
          "weight_scaled": 0.8461538461538467
         },
         {
          "percentage": 15.061,
          "percentage_np": 14.981065986632217,
          "percentage_scaled": 0.8010761454426871,
          "percentage_tf": 14.772459010919876,
          "weight": 75.85,
          "weight_scaled": 0.7988165680473376
         },
         {
          "percentage": 14.835,
          "percentage_np": 15.496762483617374,
          "percentage_scaled": 0.7642263166476442,
          "percentage_tf": 15.249742943848382,
          "weight": 76.65,
          "weight_scaled": 0.8934911242603558
         },
         {
          "percentage": 15.181,
          "percentage_np": 15.690148669986804,
          "percentage_scaled": 0.8206424262188163,
          "percentage_tf": 15.428724418696568,
          "weight": 76.95,
          "weight_scaled": 0.9289940828402372
         },
         {
          "percentage": 15.209000000000001,
          "percentage_np": 15.335607328309514,
          "percentage_scaled": 0.8252078917332468,
          "percentage_tf": 15.100591714808226,
          "weight": 76.4,
          "weight_scaled": 0.8639053254437883
         },
         {
          "percentage": 15.606,
          "percentage_np": 15.013297017693795,
          "percentage_scaled": 0.8899396706342737,
          "percentage_tf": 14.802289256727908,
          "weight": 75.9,
          "weight_scaled": 0.8047337278106514
         },
         {
          "percentage": 16.054000000000002,
          "percentage_np": 15.013297017693795,
          "percentage_scaled": 0.9629871188651562,
          "percentage_tf": 14.802289256727908,
          "weight": 75.9,
          "weight_scaled": 0.8047337278106514
         },
         {
          "percentage": 15.607000000000001,
          "percentage_np": 15.109990110878506,
          "percentage_scaled": 0.8901027229740752,
          "percentage_tf": 14.891779994151998,
          "weight": 76.05,
          "weight_scaled": 0.8224852071005913
         },
         {
          "percentage": 15.7,
          "percentage_np": 15.335607328309514,
          "percentage_scaled": 0.905266590575575,
          "percentage_tf": 15.100591714808226,
          "weight": 76.4,
          "weight_scaled": 0.8639053254437883
         },
         {
          "percentage": 15.012,
          "percentage_np": 15.367838359371085,
          "percentage_scaled": 0.7930865807924345,
          "percentage_tf": 15.13042196061626,
          "weight": 76.45,
          "weight_scaled": 0.8698224852071021
         },
         {
          "percentage": 14.225999999999999,
          "percentage_np": 15.625686607863656,
          "percentage_scaled": 0.6649274417087885,
          "percentage_tf": 15.369063927080504,
          "weight": 76.85,
          "weight_scaled": 0.9171597633136095
         },
         {
          "percentage": 15.489,
          "percentage_np": 15.657917638925234,
          "percentage_scaled": 0.8708625468775482,
          "percentage_tf": 15.398894172888536,
          "weight": 76.9,
          "weight_scaled": 0.9230769230769234
         },
         {
          "percentage": 15.1,
          "percentage_np": 15.528993514678945,
          "percentage_scaled": 0.8074351866949294,
          "percentage_tf": 15.279573189656416,
          "weight": 76.7,
          "weight_scaled": 0.8994082840236697
         },
         {
          "percentage": 16.061,
          "percentage_np": 15.496762483617374,
          "percentage_scaled": 0.9641284852437633,
          "percentage_tf": 15.249742943848382,
          "weight": 76.65,
          "weight_scaled": 0.8934911242603558
         },
         {
          "percentage": 15.427,
          "percentage_np": 15.947996918479376,
          "percentage_scaled": 0.8607533018098812,
          "percentage_tf": 15.667366385160813,
          "weight": 77.35,
          "weight_scaled": 0.9763313609467446
         },
         {
          "percentage": 15.459000000000001,
          "percentage_np": 15.625686607863656,
          "percentage_scaled": 0.865970976683516,
          "percentage_tf": 15.369063927080504,
          "weight": 76.85,
          "weight_scaled": 0.9171597633136095
         },
         {
          "percentage": 15.572000000000001,
          "percentage_np": 15.367838359371085,
          "percentage_scaled": 0.8843958910810372,
          "percentage_tf": 15.13042196061626,
          "weight": 76.45,
          "weight_scaled": 0.8698224852071021
         },
         {
          "percentage": 15.675,
          "percentage_np": 15.077759079816936,
          "percentage_scaled": 0.9011902820805482,
          "percentage_tf": 14.861949748343974,
          "weight": 76,
          "weight_scaled": 0.8165680473372792
         },
         {
          "percentage": 14.526,
          "percentage_np": 15.367838359371085,
          "percentage_scaled": 0.7138431436491117,
          "percentage_tf": 15.13042196061626,
          "weight": 76.45,
          "weight_scaled": 0.8698224852071021
         },
         {
          "percentage": 14.6,
          "percentage_np": 15.271145266186366,
          "percentage_scaled": 0.7259090167943911,
          "percentage_tf": 15.040931223192162,
          "weight": 76.3,
          "weight_scaled": 0.8520710059171606
         },
         {
          "percentage": 14.975,
          "percentage_np": 14.819910831324357,
          "percentage_scaled": 0.7870536442197948,
          "percentage_tf": 14.623307781879712,
          "weight": 75.6,
          "weight_scaled": 0.7692307692307683
         },
         {
          "percentage": 15.293,
          "percentage_np": 14.852141862385935,
          "percentage_scaled": 0.838904288276537,
          "percentage_tf": 14.653138027687756,
          "weight": 75.65,
          "weight_scaled": 0.7751479289940839
         },
         {
          "percentage": 15.834000000000001,
          "percentage_np": 14.884372893447505,
          "percentage_scaled": 0.9271156041089192,
          "percentage_tf": 14.682968273495788,
          "weight": 75.7,
          "weight_scaled": 0.7810650887573978
         },
         {
          "percentage": 16.24,
          "percentage_np": 14.787679800262787,
          "percentage_scaled": 0.9933148540681558,
          "percentage_tf": 14.59347753607169,
          "weight": 75.55,
          "weight_scaled": 0.7633136094674562
         },
         {
          "percentage": 15.385,
          "percentage_np": 14.690986707078082,
          "percentage_scaled": 0.8539051035382361,
          "percentage_tf": 14.5039867986476,
          "weight": 75.4,
          "weight_scaled": 0.7455621301775164
         },
         {
          "percentage": 15.072000000000001,
          "percentage_np": 14.787679800262787,
          "percentage_scaled": 0.8028697211804994,
          "percentage_tf": 14.59347753607169,
          "weight": 75.55,
          "weight_scaled": 0.7633136094674562
         },
         {
          "percentage": 14.784,
          "percentage_np": 14.948834955570646,
          "percentage_scaled": 0.7559106473177895,
          "percentage_tf": 14.742628765111842,
          "weight": 75.8,
          "weight_scaled": 0.7928994082840237
         },
         {
          "percentage": 15.324000000000002,
          "percentage_np": 14.723217738139645,
          "percentage_scaled": 0.8439589108103707,
          "percentage_tf": 14.533817044455624,
          "weight": 75.45,
          "weight_scaled": 0.7514792899408285
         },
         {
          "percentage": 14.915,
          "percentage_np": 14.852141862385935,
          "percentage_scaled": 0.77727050383173,
          "percentage_tf": 14.653138027687756,
          "weight": 75.65,
          "weight_scaled": 0.7751479289940839
         },
         {
          "percentage": 14.724,
          "percentage_np": 14.400907427523933,
          "percentage_scaled": 0.7461275069297246,
          "percentage_tf": 14.235514586375315,
          "weight": 74.95,
          "weight_scaled": 0.6923076923076934
         },
         {
          "percentage": 15.557,
          "percentage_np": 14.400907427523933,
          "percentage_scaled": 0.8819501059840211,
          "percentage_tf": 14.235514586375315,
          "weight": 74.95,
          "weight_scaled": 0.6923076923076934
         },
         {
          "percentage": 15.167,
          "percentage_np": 14.690986707078082,
          "percentage_scaled": 0.8183596934616013,
          "percentage_tf": 14.5039867986476,
          "weight": 75.4,
          "weight_scaled": 0.7455621301775164
         },
         {
          "percentage": 14.885,
          "percentage_np": 14.658755676016497,
          "percentage_scaled": 0.7723789336376978,
          "percentage_tf": 14.47415655283956,
          "weight": 75.35,
          "weight_scaled": 0.7396449704142007
         },
         {
          "percentage": 15.1,
          "percentage_np": 14.497600520708637,
          "percentage_scaled": 0.8074351866949294,
          "percentage_tf": 14.325005323799404,
          "weight": 75.1,
          "weight_scaled": 0.7100591715976332
         },
         {
          "percentage": 14.636,
          "percentage_np": 14.658755676016497,
          "percentage_scaled": 0.7317789010272298,
          "percentage_tf": 14.47415655283956,
          "weight": 75.35,
          "weight_scaled": 0.7396449704142007
         },
         {
          "percentage": 15.344000000000001,
          "percentage_np": 14.400907427523933,
          "percentage_scaled": 0.8472199576063921,
          "percentage_tf": 14.235514586375315,
          "weight": 74.95,
          "weight_scaled": 0.6923076923076934
         },
         {
          "percentage": 15.209000000000001,
          "percentage_np": 14.239752272216073,
          "percentage_scaled": 0.8252078917332468,
          "percentage_tf": 14.086363357335161,
          "weight": 74.7,
          "weight_scaled": 0.6627218934911259
         },
         {
          "percentage": 15.755,
          "percentage_np": 14.207521241154502,
          "percentage_scaled": 0.9142344692646345,
          "percentage_tf": 14.056533111527129,
          "weight": 74.65,
          "weight_scaled": 0.656804733727812
         },
         {
          "percentage": 14.887,
          "percentage_np": 14.787679800262787,
          "percentage_scaled": 0.7727050383173,
          "percentage_tf": 14.59347753607169,
          "weight": 75.55,
          "weight_scaled": 0.7633136094674562
         },
         {
          "percentage": 15.011,
          "percentage_np": 14.562062582831786,
          "percentage_scaled": 0.7929235284526335,
          "percentage_tf": 14.384665815415469,
          "weight": 75.2,
          "weight_scaled": 0.7218934911242609
         },
         {
          "percentage": 14.544,
          "percentage_np": 14.433138458585496,
          "percentage_scaled": 0.716778085765531,
          "percentage_tf": 14.265344832183347,
          "weight": 75,
          "weight_scaled": 0.6982248520710073
         },
         {
          "percentage": 15.032,
          "percentage_np": 14.304214334339207,
          "percentage_scaled": 0.796347627588456,
          "percentage_tf": 14.146023848951216,
          "weight": 74.8,
          "weight_scaled": 0.6745562130177518
         },
         {
          "percentage": 15.602,
          "percentage_np": 14.529831551770222,
          "percentage_scaled": 0.8892874612750694,
          "percentage_tf": 14.354835569607436,
          "weight": 75.15,
          "weight_scaled": 0.7159763313609471
         },
         {
          "percentage": 15.5,
          "percentage_np": 14.400907427523933,
          "percentage_scaled": 0.8726561226153595,
          "percentage_tf": 14.235514586375315,
          "weight": 74.95,
          "weight_scaled": 0.6923076923076934
         },
         {
          "percentage": 15.448,
          "percentage_np": 14.562062582831786,
          "percentage_scaled": 0.8641774009457037,
          "percentage_tf": 14.384665815415469,
          "weight": 75.2,
          "weight_scaled": 0.7218934911242609
         },
         {
          "percentage": 15.204,
          "percentage_np": 15.013297017693795,
          "percentage_scaled": 0.8243926300342415,
          "percentage_tf": 14.802289256727908,
          "weight": 75.9,
          "weight_scaled": 0.8047337278106514
         },
         {
          "percentage": 15.294,
          "percentage_np": 14.562062582831786,
          "percentage_scaled": 0.839067340616338,
          "percentage_tf": 14.384665815415469,
          "weight": 75.2,
          "weight_scaled": 0.7218934911242609
         },
         {
          "percentage": 14.854000000000001,
          "percentage_np": 14.336445365400778,
          "percentage_scaled": 0.7673243111038646,
          "percentage_tf": 14.175854094759249,
          "weight": 74.85,
          "weight_scaled": 0.6804733727810657
         },
         {
          "percentage": 14.753,
          "percentage_np": 14.143059179031347,
          "percentage_scaled": 0.7508560247839557,
          "percentage_tf": 13.996872619911063,
          "weight": 74.55,
          "weight_scaled": 0.6449704142011843
         },
         {
          "percentage": 15.422,
          "percentage_np": 14.562062582831786,
          "percentage_scaled": 0.8599380401108758,
          "percentage_tf": 14.384665815415469,
          "weight": 75.2,
          "weight_scaled": 0.7218934911242609
         },
         {
          "percentage": 15.273,
          "percentage_np": 14.852141862385935,
          "percentage_scaled": 0.8356432414805155,
          "percentage_tf": 14.653138027687756,
          "weight": 75.65,
          "weight_scaled": 0.7751479289940839
         },
         {
          "percentage": 15.238,
          "percentage_np": 14.658755676016497,
          "percentage_scaled": 0.8299364095874775,
          "percentage_tf": 14.47415655283956,
          "weight": 75.35,
          "weight_scaled": 0.7396449704142007
         },
         {
          "percentage": 14.737,
          "percentage_np": 14.626524644954927,
          "percentage_scaled": 0.7482471873471386,
          "percentage_tf": 14.444326307031528,
          "weight": 75.3,
          "weight_scaled": 0.7337278106508869
         },
         {
          "percentage": 14.136,
          "percentage_np": 14.787679800262787,
          "percentage_scaled": 0.6502527311266919,
          "percentage_tf": 14.59347753607169,
          "weight": 75.55,
          "weight_scaled": 0.7633136094674562
         },
         {
          "percentage": 14.48,
          "percentage_np": 14.884372893447505,
          "percentage_scaled": 0.7063427360182619,
          "percentage_tf": 14.682968273495788,
          "weight": 75.7,
          "weight_scaled": 0.7810650887573978
         },
         {
          "percentage": 14.989,
          "percentage_np": 14.852141862385935,
          "percentage_scaled": 0.7893363769770099,
          "percentage_tf": 14.653138027687756,
          "weight": 75.65,
          "weight_scaled": 0.7751479289940839
         },
         {
          "percentage": 14.298,
          "percentage_np": 14.690986707078082,
          "percentage_scaled": 0.6766672101744662,
          "percentage_tf": 14.5039867986476,
          "weight": 75.4,
          "weight_scaled": 0.7455621301775164
         },
         {
          "percentage": 14.583,
          "percentage_np": 14.529831551770222,
          "percentage_scaled": 0.7231371270177729,
          "percentage_tf": 14.354835569607436,
          "weight": 75.15,
          "weight_scaled": 0.7159763313609471
         },
         {
          "percentage": 14.800999999999998,
          "percentage_np": 14.594293613893356,
          "percentage_scaled": 0.7586825370944072,
          "percentage_tf": 14.414496061223502,
          "weight": 75.25,
          "weight_scaled": 0.7278106508875748
         },
         {
          "percentage": 15.275,
          "percentage_np": 15.013297017693795,
          "percentage_scaled": 0.8359693461601176,
          "percentage_tf": 14.802289256727908,
          "weight": 75.9,
          "weight_scaled": 0.8047337278106514
         },
         {
          "percentage": 14.987,
          "percentage_np": 14.981065986632217,
          "percentage_scaled": 0.7890102722974077,
          "percentage_tf": 14.772459010919876,
          "weight": 75.85,
          "weight_scaled": 0.7988165680473376
         },
         {
          "percentage": 14.385,
          "percentage_np": 14.916603924509076,
          "percentage_scaled": 0.69085276373716,
          "percentage_tf": 14.71279851930381,
          "weight": 75.75,
          "weight_scaled": 0.7869822485207099
         },
         {
          "percentage": 14.487,
          "percentage_np": 14.787679800262787,
          "percentage_scaled": 0.7074841023968694,
          "percentage_tf": 14.59347753607169,
          "weight": 75.55,
          "weight_scaled": 0.7633136094674562
         },
         {
          "percentage": 15.144,
          "percentage_np": 14.497600520708637,
          "percentage_scaled": 0.8146094896461766,
          "percentage_tf": 14.325005323799404,
          "weight": 75.1,
          "weight_scaled": 0.7100591715976332
         },
         {
          "percentage": 15.270999999999999,
          "percentage_np": 14.562062582831786,
          "percentage_scaled": 0.8353171368009129,
          "percentage_tf": 14.384665815415469,
          "weight": 75.2,
          "weight_scaled": 0.7218934911242609
         },
         {
          "percentage": 14.866,
          "percentage_np": 14.497600520708637,
          "percentage_scaled": 0.7692809391814774,
          "percentage_tf": 14.325005323799404,
          "weight": 75.1,
          "weight_scaled": 0.7100591715976332
         },
         {
          "percentage": 15.087,
          "percentage_np": 14.755448769201216,
          "percentage_scaled": 0.805315506277515,
          "percentage_tf": 14.563647290263658,
          "weight": 75.5,
          "weight_scaled": 0.7573964497041423
         },
         {
          "percentage": 14.206,
          "percentage_np": 15.174452173001654,
          "percentage_scaled": 0.661666394912767,
          "percentage_tf": 14.951440485768073,
          "weight": 76.15,
          "weight_scaled": 0.8343195266272208
         },
         {
          "percentage": 14.741,
          "percentage_np": 14.787679800262787,
          "percentage_scaled": 0.7488993967063429,
          "percentage_tf": 14.59347753607169,
          "weight": 75.55,
          "weight_scaled": 0.7633136094674562
         },
         {
          "percentage": 14.092,
          "percentage_np": 14.497600520708637,
          "percentage_scaled": 0.6430784281754447,
          "percentage_tf": 14.325005323799404,
          "weight": 75.1,
          "weight_scaled": 0.7100591715976332
         },
         {
          "percentage": 14.65,
          "percentage_np": 14.497600520708637,
          "percentage_scaled": 0.7340616337844452,
          "percentage_tf": 14.325005323799404,
          "weight": 75.1,
          "weight_scaled": 0.7100591715976332
         },
         {
          "percentage": 14.308,
          "percentage_np": 14.594293613893356,
          "percentage_scaled": 0.6782977335724769,
          "percentage_tf": 14.414496061223502,
          "weight": 75.25,
          "weight_scaled": 0.7278106508875748
         },
         {
          "percentage": 15.09,
          "percentage_np": 14.884372893447505,
          "percentage_scaled": 0.8058046632969187,
          "percentage_tf": 14.682968273495788,
          "weight": 75.7,
          "weight_scaled": 0.7810650887573978
         },
         {
          "percentage": 15.054,
          "percentage_np": 15.077759079816936,
          "percentage_scaled": 0.7999347790640796,
          "percentage_tf": 14.861949748343974,
          "weight": 76,
          "weight_scaled": 0.8165680473372792
         },
         {
          "percentage": 15.502,
          "percentage_np": 14.787679800262787,
          "percentage_scaled": 0.8729822272949621,
          "percentage_tf": 14.59347753607169,
          "weight": 75.55,
          "weight_scaled": 0.7633136094674562
         },
         {
          "percentage": 15.625,
          "percentage_np": 14.690986707078082,
          "percentage_scaled": 0.8930376650904941,
          "percentage_tf": 14.5039867986476,
          "weight": 75.4,
          "weight_scaled": 0.7455621301775164
         },
         {
          "percentage": 14.802999999999999,
          "percentage_np": 14.336445365400778,
          "percentage_scaled": 0.7590086417740094,
          "percentage_tf": 14.175854094759249,
          "weight": 74.85,
          "weight_scaled": 0.6804733727810657
         },
         {
          "percentage": 13.9,
          "percentage_np": 14.658755676016497,
          "percentage_scaled": 0.6117723789336378,
          "percentage_tf": 14.47415655283956,
          "weight": 75.35,
          "weight_scaled": 0.7396449704142007
         },
         {
          "percentage": 13.719000000000001,
          "percentage_np": 14.562062582831786,
          "percentage_scaled": 0.5822599054296431,
          "percentage_tf": 14.384665815415469,
          "weight": 75.2,
          "weight_scaled": 0.7218934911242609
         },
         {
          "percentage": 14.777999999999999,
          "percentage_np": 14.497600520708637,
          "percentage_scaled": 0.7549323332789826,
          "percentage_tf": 14.325005323799404,
          "weight": 75.1,
          "weight_scaled": 0.7100591715976332
         },
         {
          "percentage": 13.673,
          "percentage_np": 14.175290210092918,
          "percentage_scaled": 0.5747594977987938,
          "percentage_tf": 14.026702865719084,
          "weight": 74.6,
          "weight_scaled": 0.6508875739644964
         },
         {
          "percentage": 13.524000000000001,
          "percentage_np": 13.917441961600353,
          "percentage_scaled": 0.5504646991684334,
          "percentage_tf": 13.788060899254843,
          "weight": 74.2,
          "weight_scaled": 0.603550295857989
         },
         {
          "percentage": 14.335999999999999,
          "percentage_np": 14.014135054785058,
          "percentage_scaled": 0.682863199086907,
          "percentage_tf": 13.877551636678932,
          "weight": 74.35,
          "weight_scaled": 0.6213017751479288
         },
         {
          "percentage": 14.802999999999999,
          "percentage_np": 14.271983303277636,
          "percentage_scaled": 0.7590086417740094,
          "percentage_tf": 14.116193603143183,
          "weight": 74.75,
          "weight_scaled": 0.668639053254438
         },
         {
          "percentage": 14.655,
          "percentage_np": 14.433138458585496,
          "percentage_scaled": 0.7348768954834501,
          "percentage_tf": 14.265344832183347,
          "weight": 75,
          "weight_scaled": 0.6982248520710073
         },
         {
          "percentage": 14.809000000000001,
          "percentage_np": 14.400907427523933,
          "percentage_scaled": 0.7599869558128163,
          "percentage_tf": 14.235514586375315,
          "weight": 74.95,
          "weight_scaled": 0.6923076923076934
         },
         {
          "percentage": 14.776,
          "percentage_np": 14.336445365400778,
          "percentage_scaled": 0.7546062285993804,
          "percentage_tf": 14.175854094759249,
          "weight": 74.85,
          "weight_scaled": 0.6804733727810657
         },
         {
          "percentage": 14.870999999999999,
          "percentage_np": 14.400907427523933,
          "percentage_scaled": 0.7700962008804828,
          "percentage_tf": 14.235514586375315,
          "weight": 74.95,
          "weight_scaled": 0.6923076923076934
         },
         {
          "percentage": 15.116,
          "percentage_np": 14.368676396462362,
          "percentage_scaled": 0.8100440241317466,
          "percentage_tf": 14.20568434056728,
          "weight": 74.9,
          "weight_scaled": 0.6863905325443795
         },
         {
          "percentage": 14.502,
          "percentage_np": 14.529831551770222,
          "percentage_scaled": 0.709929887493886,
          "percentage_tf": 14.354835569607436,
          "weight": 75.15,
          "weight_scaled": 0.7159763313609471
         },
         {
          "percentage": 14.627,
          "percentage_np": 14.594293613893356,
          "percentage_scaled": 0.7303114299690205,
          "percentage_tf": 14.414496061223502,
          "weight": 75.25,
          "weight_scaled": 0.7278106508875748
         },
         {
          "percentage": 14.748,
          "percentage_np": 14.884372893447505,
          "percentage_scaled": 0.7500407630849504,
          "percentage_tf": 14.682968273495788,
          "weight": 75.7,
          "weight_scaled": 0.7810650887573978
         },
         {
          "percentage": 13.902000000000001,
          "percentage_np": 14.723217738139645,
          "percentage_scaled": 0.6120984836132404,
          "percentage_tf": 14.533817044455624,
          "weight": 75.45,
          "weight_scaled": 0.7514792899408285
         },
         {
          "percentage": 15.175,
          "percentage_np": 14.304214334339207,
          "percentage_scaled": 0.8196641121800099,
          "percentage_tf": 14.146023848951216,
          "weight": 74.8,
          "weight_scaled": 0.6745562130177518
         },
         {
          "percentage": 14.533,
          "percentage_np": 14.336445365400778,
          "percentage_scaled": 0.7149845100277188,
          "percentage_tf": 14.175854094759249,
          "weight": 74.85,
          "weight_scaled": 0.6804733727810657
         },
         {
          "percentage": 14.626,
          "percentage_np": 14.368676396462362,
          "percentage_scaled": 0.730148377629219,
          "percentage_tf": 14.20568434056728,
          "weight": 74.9,
          "weight_scaled": 0.6863905325443795
         },
         {
          "percentage": 15.128,
          "percentage_np": 14.594293613893356,
          "percentage_scaled": 0.8120006522093595,
          "percentage_tf": 14.414496061223502,
          "weight": 75.25,
          "weight_scaled": 0.7278106508875748
         },
         {
          "percentage": 14.692,
          "percentage_np": 14.626524644954927,
          "percentage_scaled": 0.7409098320560903,
          "percentage_tf": 14.444326307031528,
          "weight": 75.3,
          "weight_scaled": 0.7337278106508869
         },
         {
          "percentage": 14.911,
          "percentage_np": 14.787679800262787,
          "percentage_scaled": 0.7766182944725257,
          "percentage_tf": 14.59347753607169,
          "weight": 75.55,
          "weight_scaled": 0.7633136094674562
         },
         {
          "percentage": 14.595999999999998,
          "percentage_np": 14.787679800262787,
          "percentage_scaled": 0.7252568074351864,
          "percentage_tf": 14.59347753607169,
          "weight": 75.55,
          "weight_scaled": 0.7633136094674562
         },
         {
          "percentage": 14.722999999999999,
          "percentage_np": 14.755448769201216,
          "percentage_scaled": 0.7459644545899236,
          "percentage_tf": 14.563647290263658,
          "weight": 75.5,
          "weight_scaled": 0.7573964497041423
         },
         {
          "percentage": 15.321,
          "percentage_np": 14.723217738139645,
          "percentage_scaled": 0.843469753790967,
          "percentage_tf": 14.533817044455624,
          "weight": 75.45,
          "weight_scaled": 0.7514792899408285
         },
         {
          "percentage": 15.452,
          "percentage_np": 14.884372893447505,
          "percentage_scaled": 0.864829610304908,
          "percentage_tf": 14.682968273495788,
          "weight": 75.7,
          "weight_scaled": 0.7810650887573978
         },
         {
          "percentage": 15.292,
          "percentage_np": 15.013297017693795,
          "percentage_scaled": 0.8387412359367359,
          "percentage_tf": 14.802289256727908,
          "weight": 75.9,
          "weight_scaled": 0.8047337278106514
         },
         {
          "percentage": 15.225999999999999,
          "percentage_np": 14.626524644954927,
          "percentage_scaled": 0.8279797815098646,
          "percentage_tf": 14.444326307031528,
          "weight": 75.3,
          "weight_scaled": 0.7337278106508869
         },
         {
          "percentage": 15.447000000000001,
          "percentage_np": 14.658755676016497,
          "percentage_scaled": 0.8640143486059026,
          "percentage_tf": 14.47415655283956,
          "weight": 75.35,
          "weight_scaled": 0.7396449704142007
         },
         {
          "percentage": 14.965,
          "percentage_np": 14.271983303277636,
          "percentage_scaled": 0.7854231208217841,
          "percentage_tf": 14.116193603143183,
          "weight": 74.75,
          "weight_scaled": 0.668639053254438
         },
         {
          "percentage": 15.354000000000001,
          "percentage_np": 14.690986707078082,
          "percentage_scaled": 0.8488504810044029,
          "percentage_tf": 14.5039867986476,
          "weight": 75.4,
          "weight_scaled": 0.7455621301775164
         },
         {
          "percentage": 15.167,
          "percentage_np": 14.916603924509076,
          "percentage_scaled": 0.8183596934616013,
          "percentage_tf": 14.71279851930381,
          "weight": 75.75,
          "weight_scaled": 0.7869822485207099
         },
         {
          "percentage": 14.79,
          "percentage_np": 14.626524644954927,
          "percentage_scaled": 0.7568889613565954,
          "percentage_tf": 14.444326307031528,
          "weight": 75.3,
          "weight_scaled": 0.7337278106508869
         },
         {
          "percentage": 15.042,
          "percentage_np": 14.723217738139645,
          "percentage_scaled": 0.7979781509864667,
          "percentage_tf": 14.533817044455624,
          "weight": 75.45,
          "weight_scaled": 0.7514792899408285
         },
         {
          "percentage": 14.356,
          "percentage_np": 14.304214334339207,
          "percentage_scaled": 0.6861242458829284,
          "percentage_tf": 14.146023848951216,
          "weight": 74.8,
          "weight_scaled": 0.6745562130177518
         },
         {
          "percentage": 14.761,
          "percentage_np": 14.626524644954927,
          "percentage_scaled": 0.7521604435023643,
          "percentage_tf": 14.444326307031528,
          "weight": 75.3,
          "weight_scaled": 0.7337278106508869
         },
         {
          "percentage": 14.934000000000001,
          "percentage_np": 14.239752272216073,
          "percentage_scaled": 0.7803684982879509,
          "percentage_tf": 14.086363357335161,
          "weight": 74.7,
          "weight_scaled": 0.6627218934911259
         },
         {
          "percentage": 15.102,
          "percentage_np": 14.046366085846643,
          "percentage_scaled": 0.8077612913745316,
          "percentage_tf": 13.907381882486973,
          "weight": 74.4,
          "weight_scaled": 0.6272189349112445
         },
         {
          "percentage": 14.315999999999999,
          "percentage_np": 13.595131650984634,
          "percentage_scaled": 0.6796021522908855,
          "percentage_tf": 13.489758441174523,
          "weight": 73.7,
          "weight_scaled": 0.5443786982248522
         },
         {
          "percentage": 14.644,
          "percentage_np": 13.240590309307343,
          "percentage_scaled": 0.7330833197456383,
          "percentage_tf": 13.161625737286183,
          "weight": 73.15,
          "weight_scaled": 0.47928994082840326
         },
         {
          "percentage": 14.671,
          "percentage_np": 13.627362682046204,
          "percentage_scaled": 0.7374857329202673,
          "percentage_tf": 13.519588686982557,
          "weight": 73.75,
          "weight_scaled": 0.550295857988166
         },
         {
          "percentage": 14.437999999999999,
          "percentage_np": 13.627362682046204,
          "percentage_scaled": 0.6994945377466169,
          "percentage_tf": 13.519588686982557,
          "weight": 73.75,
          "weight_scaled": 0.550295857988166
         },
         {
          "percentage": 16.038,
          "percentage_np": 13.305052371430484,
          "percentage_scaled": 0.9603782814283386,
          "percentage_tf": 13.221286228902247,
          "weight": 73.25,
          "weight_scaled": 0.491124260355031
         },
         {
          "percentage": 15.718,
          "percentage_np": 13.466207526738344,
          "percentage_scaled": 0.9082015326919943,
          "percentage_tf": 13.370437457942403,
          "weight": 73.5,
          "weight_scaled": 0.5207100591715985
         },
         {
          "percentage": 15.652000000000001,
          "percentage_np": 13.820748868415635,
          "percentage_scaled": 0.8974400782651235,
          "percentage_tf": 13.698570161830744,
          "weight": 74.05,
          "weight_scaled": 0.5857988165680474
         },
         {
          "percentage": 15.499,
          "percentage_np": 13.433976495676774,
          "percentage_scaled": 0.8724930702755589,
          "percentage_tf": 13.34060721213437,
          "weight": 73.45,
          "weight_scaled": 0.5147928994082847
         },
         {
          "percentage": 15.927999999999999,
          "percentage_np": 13.691824744169338,
          "percentage_scaled": 0.9424425240502201,
          "percentage_tf": 13.579249178598614,
          "weight": 73.85,
          "weight_scaled": 0.562130177514792
         },
         {
          "percentage": 15.258,
          "percentage_np": 13.530669588861485,
          "percentage_scaled": 0.833197456383499,
          "percentage_tf": 13.430097949558458,
          "weight": 73.6,
          "weight_scaled": 0.5325443786982245
         },
         {
          "percentage": 15.360999999999999,
          "percentage_np": 13.014973091876335,
          "percentage_scaled": 0.8499918473830099,
          "percentage_tf": 12.952814016629961,
          "weight": 72.8,
          "weight_scaled": 0.437869822485208
         },
         {
          "percentage": 15.165999999999999,
          "percentage_np": 13.143897216122625,
          "percentage_scaled": 0.8181966411218002,
          "percentage_tf": 13.072134999862085,
          "weight": 73,
          "weight_scaled": 0.4615384615384617
         },
         {
          "percentage": 15.27,
          "percentage_np": 13.272821340368914,
          "percentage_scaled": 0.8351540844611123,
          "percentage_tf": 13.191455983094215,
          "weight": 73.2,
          "weight_scaled": 0.4852071005917171
         }
        ]
       },
       "layer": [
        {
         "data": {
          "name": "data-407bab02fab6fb2925ca0e20e467bbe8"
         },
         "encoding": {
          "x": {
           "field": "weight",
           "scale": {
            "zero": false
           },
           "type": "quantitative"
          },
          "y": {
           "axis": {
            "title": "percentage"
           },
           "field": "percentage",
           "scale": {
            "zero": false
           },
           "type": "quantitative"
          }
         },
         "mark": {
          "opacity": 0.5,
          "type": "point"
         },
         "selection": {
          "selector001": {
           "bind": "scales",
           "encodings": [
            "x",
            "y"
           ],
           "mark": {
            "fill": "#333",
            "fillOpacity": 0.125,
            "stroke": "white"
           },
           "on": "[mousedown, window:mouseup] > window:mousemove!",
           "resolve": "global",
           "translate": "[mousedown, window:mouseup] > window:mousemove!",
           "type": "interval",
           "zoom": "wheel!"
          }
         }
        },
        {
         "data": {
          "name": "data-407bab02fab6fb2925ca0e20e467bbe8"
         },
         "encoding": {
          "x": {
           "field": "weight",
           "scale": {
            "zero": false
           },
           "type": "quantitative"
          },
          "y": {
           "field": "percentage_tf",
           "type": "quantitative"
          }
         },
         "mark": {
          "color": "red",
          "type": "line"
         }
        },
        {
         "data": {
          "name": "data-407bab02fab6fb2925ca0e20e467bbe8"
         },
         "encoding": {
          "x": {
           "field": "weight",
           "scale": {
            "zero": false
           },
           "type": "quantitative"
          },
          "y": {
           "field": "percentage_np",
           "type": "quantitative"
          }
         },
         "mark": {
          "color": "black",
          "type": "line"
         }
        }
       ]
      },
      "image/png": "[encoded data removed]",
      "text/plain": [
       "<VegaLite 2 object>\n",
       "\n",
       "If you see this message, it means the renderer has not been properly enabled\n",
       "for the frontend that you are using. For more information, see\n",
       "https://altair-viz.github.io/user_guide/troubleshooting.html\n"
      ]
     },
     "execution_count": 7,
     "metadata": {},
     "output_type": "execute_result"
    }
   ],
   "source": [
    "chart = alt.Chart(df).encode(alt.X('weight', scale = alt.Scale(zero = False)), alt.Y('bar'))\n",
    "alt.layer(\n",
    "    chart.mark_point(opacity = 0.5).encode(alt.Y('percentage', scale = alt.Scale(zero = False), axis=alt.Axis(title = 'percentage'))),\n",
    "    chart.mark_line(color = 'red').encode(y = 'percentage_tf'),\n",
    "    chart.mark_line(color = 'black').encode(y = 'percentage_np')\n",
    ").interactive()"
   ]
  },
  {
   "cell_type": "code",
   "execution_count": null,
   "metadata": {},
   "outputs": [],
   "source": []
  }
 ],
 "metadata": {
  "kernelspec": {
   "display_name": "Python 3",
   "language": "python",
   "name": "python3"
  },
  "language_info": {
   "codemirror_mode": {
    "name": "ipython",
    "version": 3
   },
   "file_extension": ".py",
   "mimetype": "text/x-python",
   "name": "python",
   "nbconvert_exporter": "python",
   "pygments_lexer": "ipython3",
   "version": "3.6.6"
  }
 },
 "nbformat": 4,
 "nbformat_minor": 2
}
